{
 "cells": [
  {
   "cell_type": "markdown",
   "id": "c79d4d26",
   "metadata": {},
   "source": [
    "### Regular Expression Assignment"
   ]
  },
  {
   "cell_type": "markdown",
   "id": "3024e77a",
   "metadata": {},
   "source": [
    "###### Question 1- Write a Python program to check that a string contains only a certain set of characters (in this case a-z, A-Z and 0-9)."
   ]
  },
  {
   "cell_type": "code",
   "execution_count": 1,
   "id": "f772a152",
   "metadata": {},
   "outputs": [],
   "source": [
    "import regex as re "
   ]
  },
  {
   "cell_type": "code",
   "execution_count": 2,
   "id": "6d03b509",
   "metadata": {},
   "outputs": [
    {
     "name": "stdout",
     "output_type": "stream",
     "text": [
      "['Python', 'is', 'a', 'good', 'language', 'for', 'Data', 'Science', 'and', 'date', 'is', '10', '07', '2023']\n"
     ]
    }
   ],
   "source": [
    "string = \"Python is a good language for Data Science and date is 10/07/2023\"\n",
    "pattern = r'[a-zA-Z0-9]+'\n",
    "match = re.findall(pattern,string)\n",
    "print(match)"
   ]
  },
  {
   "cell_type": "markdown",
   "id": "57377733",
   "metadata": {},
   "source": [
    "##### Question 2- Create a function in python that matches a string that has an a followed by zero or more b's"
   ]
  },
  {
   "cell_type": "code",
   "execution_count": 3,
   "id": "174d055c",
   "metadata": {},
   "outputs": [],
   "source": [
    "def match(string2):\n",
    "    pattern = '^a(b*)'\n",
    "    matches = re.search(pattern, string2)\n",
    "    print(matches)"
   ]
  },
  {
   "cell_type": "code",
   "execution_count": 4,
   "id": "bfb6614b",
   "metadata": {},
   "outputs": [
    {
     "name": "stdout",
     "output_type": "stream",
     "text": [
      "<regex.Match object; span=(0, 2), match='ab'>\n"
     ]
    }
   ],
   "source": [
    "string2 = \"abcd Aabbbb abbbb abcdefghijkl\"\n",
    "match(string2)"
   ]
  },
  {
   "cell_type": "markdown",
   "id": "2c435a0b",
   "metadata": {},
   "source": [
    "##### Question 3-  Create a function in python that matches a string that has an a followed by one or more b's"
   ]
  },
  {
   "cell_type": "code",
   "execution_count": 5,
   "id": "51faa803",
   "metadata": {},
   "outputs": [],
   "source": [
    "def match1(string3):\n",
    "    pattern = r'^a(b+)'\n",
    "    matches = re.search(pattern, string3)\n",
    "    return matches"
   ]
  },
  {
   "cell_type": "code",
   "execution_count": 6,
   "id": "09909e5c",
   "metadata": {},
   "outputs": [
    {
     "data": {
      "text/plain": [
       "<regex.Match object; span=(0, 2), match='ab'>"
      ]
     },
     "execution_count": 6,
     "metadata": {},
     "output_type": "execute_result"
    }
   ],
   "source": [
    "string3 = \"abnormal abandend\"\n",
    "match1(string3)"
   ]
  },
  {
   "cell_type": "markdown",
   "id": "7162b8ae",
   "metadata": {},
   "source": [
    "##### Question 4- Create a function in Python and use RegEx that matches a string that has an a followed by zero or one 'b'."
   ]
  },
  {
   "cell_type": "code",
   "execution_count": 7,
   "id": "523caf44",
   "metadata": {},
   "outputs": [],
   "source": [
    "def match4(string4):\n",
    "    pattern = r'(ab?)'\n",
    "    matches = re.search(pattern, string4)\n",
    "    print(matches)"
   ]
  },
  {
   "cell_type": "code",
   "execution_count": 8,
   "id": "865bc212",
   "metadata": {},
   "outputs": [
    {
     "name": "stdout",
     "output_type": "stream",
     "text": [
      "<regex.Match object; span=(0, 2), match='ab'>\n"
     ]
    }
   ],
   "source": [
    "string4 = \"abnormal abandend apple abcd Aabbbb abbbb abcdefghijkl\"\n",
    "match4(string4)"
   ]
  },
  {
   "cell_type": "markdown",
   "id": "164b50c3",
   "metadata": {},
   "source": [
    "###### Question 5- Write a Python program that matches a string that has an a followed by three 'b'."
   ]
  },
  {
   "cell_type": "code",
   "execution_count": 9,
   "id": "0c153740",
   "metadata": {},
   "outputs": [
    {
     "name": "stdout",
     "output_type": "stream",
     "text": [
      "['abbb', 'abbb']\n"
     ]
    }
   ],
   "source": [
    "patterns = r'ab{3}'\n",
    "text = \"abnormal abandend apple abcd Aabbbbb abbbb abcdefghijkl\"\n",
    "result = re.findall(patterns,text)\n",
    "print(result)"
   ]
  },
  {
   "cell_type": "markdown",
   "id": "28de99ad",
   "metadata": {},
   "source": [
    "###### Question 6- Write a regular expression in Python to split a string into uppercase letters. Sample text: “ImportanceOfRegularExpressionsInPython” Output: [‘Importance’, ‘Of’, ‘Regular’, ‘Expression’, ‘In’, ‘Python’]\n"
   ]
  },
  {
   "cell_type": "code",
   "execution_count": 10,
   "id": "34ab4b8a",
   "metadata": {},
   "outputs": [
    {
     "name": "stdout",
     "output_type": "stream",
     "text": [
      "['Importance', 'Of', 'Regular', 'Expressions', 'In', 'Python']\n"
     ]
    }
   ],
   "source": [
    "sample_text = \"ImportanceOfRegularExpressionsInPython\"\n",
    "pattern = r'[A-Z]'\n",
    "result = re.sub(pattern, lambda x: \" \" + x.group(0), sample_text).split()\n",
    "print(result)"
   ]
  },
  {
   "cell_type": "markdown",
   "id": "81e8820a",
   "metadata": {},
   "source": [
    "###### Question 7- Write a Python program that matches a string that has an a followed by two to three 'b'."
   ]
  },
  {
   "cell_type": "code",
   "execution_count": 11,
   "id": "9b7c86d3",
   "metadata": {},
   "outputs": [
    {
     "name": "stdout",
     "output_type": "stream",
     "text": [
      "['abb', 'abbb', 'abbb']\n"
     ]
    }
   ],
   "source": [
    "pat = r'ab{2,3}'\n",
    "texts = \"abnormal abandend apple abcd abb Aabbbbb abbbb abcdefghijkl\"\n",
    "results = re.findall(pat,texts)\n",
    "print(results)"
   ]
  },
  {
   "cell_type": "markdown",
   "id": "387e3289",
   "metadata": {},
   "source": [
    "###### Question 8- Write a Python program to find sequences of lowercase letters joined with a underscore."
   ]
  },
  {
   "cell_type": "code",
   "execution_count": 12,
   "id": "82c8ab56",
   "metadata": {},
   "outputs": [
    {
     "name": "stdout",
     "output_type": "stream",
     "text": [
      "['this_is', 'a_string', 'with_lowercase']\n"
     ]
    }
   ],
   "source": [
    "txt = 'this_is_a_string_with_lowercase_letters'\n",
    "patt = '[a-z]+_[a-z]+'\n",
    "res = re.findall(patt, txt)\n",
    "print(res)"
   ]
  },
  {
   "cell_type": "markdown",
   "id": "7ace7599",
   "metadata": {},
   "source": [
    "###### Question 9- Write a Python program that matches a string that has an 'a' followed by anything, ending in 'b'."
   ]
  },
  {
   "cell_type": "code",
   "execution_count": 13,
   "id": "38f4de57",
   "metadata": {},
   "outputs": [
    {
     "name": "stdout",
     "output_type": "stream",
     "text": [
      "['apple is a fruit liked by bob']\n"
     ]
    }
   ],
   "source": [
    "strings = 'apple is a fruit liked by bob'\n",
    "pattern1 = r'a.*b$'\n",
    "res = re.findall(pattern1, strings)\n",
    "print(res)"
   ]
  },
  {
   "cell_type": "markdown",
   "id": "c42993b1",
   "metadata": {},
   "source": [
    "###### Question 10- Write a Python program that matches a word at the beginning of a string."
   ]
  },
  {
   "cell_type": "code",
   "execution_count": 14,
   "id": "8f38b4d7",
   "metadata": {},
   "outputs": [
    {
     "name": "stdout",
     "output_type": "stream",
     "text": [
      "['this']\n"
     ]
    }
   ],
   "source": [
    "word = \"this is a word nothing \"\n",
    "pattern = r'^\\w+'\n",
    "resu = re.findall(pattern,word)\n",
    "print(resu)"
   ]
  },
  {
   "cell_type": "markdown",
   "id": "2303990e",
   "metadata": {},
   "source": [
    "###### Question 11- Write a Python program to match a string that contains only upper and lowercase letters, numbers, and underscores."
   ]
  },
  {
   "cell_type": "code",
   "execution_count": 15,
   "id": "2b6bc578",
   "metadata": {},
   "outputs": [
    {
     "name": "stdout",
     "output_type": "stream",
     "text": [
      "['This', 'is', 'a', 'word', 'Nothing']\n"
     ]
    }
   ],
   "source": [
    "string11 = \"This is a word Nothing \"\n",
    "pattern11 = r'\\w+'\n",
    "resu11 = re.findall(pattern11,string11)\n",
    "print(resu11)"
   ]
  },
  {
   "cell_type": "markdown",
   "id": "5142ac65",
   "metadata": {},
   "source": [
    "###### Question 12- Write a Python program where a string will start with a specific number. "
   ]
  },
  {
   "cell_type": "code",
   "execution_count": 16,
   "id": "dff98e09",
   "metadata": {},
   "outputs": [
    {
     "name": "stdout",
     "output_type": "stream",
     "text": [
      "['16 december 2000 is my Birth date']\n"
     ]
    }
   ],
   "source": [
    "str12 = '16 december 2000 is my Birth date'\n",
    "pat12 = r'(^\\d+.*)'\n",
    "res12 = re.findall(pat12,str12)\n",
    "print(res12)"
   ]
  },
  {
   "cell_type": "markdown",
   "id": "d67aafc5",
   "metadata": {},
   "source": [
    "###### Question 13- Write a Python program to remove leading zeros from an IP address"
   ]
  },
  {
   "cell_type": "code",
   "execution_count": 17,
   "id": "29940488",
   "metadata": {},
   "outputs": [
    {
     "name": "stdout",
     "output_type": "stream",
     "text": [
      "124570863\n"
     ]
    }
   ],
   "source": [
    "ip = \"000000124570863\"\n",
    "pattern13 = r'^0*'\n",
    "res13 = re.sub(pattern13,\"\",ip)\n",
    "print(res13)"
   ]
  },
  {
   "cell_type": "markdown",
   "id": "7d5665af",
   "metadata": {},
   "source": [
    "###### Question 14- Write a regular expression in python to match a date string in the form of Month name followed by day number and year stored in a text file. \n"
   ]
  },
  {
   "cell_type": "markdown",
   "id": "1eeeaba5",
   "metadata": {},
   "source": [
    "###### Sample text : ' On August 15th 1947 that India was declared independent from British colonialism, and the reins of control were handed over to the leaders of the Country’. "
   ]
  },
  {
   "cell_type": "markdown",
   "id": "11523906",
   "metadata": {},
   "source": [
    "###### Output- August 15th 1947 Hint- Use re.match() method here"
   ]
  },
  {
   "cell_type": "code",
   "execution_count": 18,
   "id": "6c8a5d7a",
   "metadata": {},
   "outputs": [
    {
     "name": "stdout",
     "output_type": "stream",
     "text": [
      "August 15th 1947\n"
     ]
    }
   ],
   "source": [
    "st = 'On August 15th 1947 that India was declared independent from British colonialism, and the reins of control were handed over to the leaders of the Country'\n",
    "pattern14 = r'([A-Za-z]+ \\d{2}\\w{2} \\d{4})'\n",
    "date = re.search(pattern14,st)\n",
    "print(date.group())"
   ]
  },
  {
   "cell_type": "markdown",
   "id": "a62a172d",
   "metadata": {},
   "source": [
    "###### Question 15- Write a Python program to search some literals strings in a string. Go to the editor\n",
    "###### Sample text : 'The quick brown fox jumps over the lazy dog.'\n",
    "###### Searched words : 'fox', 'dog', 'horse'\n"
   ]
  },
  {
   "cell_type": "code",
   "execution_count": 19,
   "id": "5056fc79",
   "metadata": {},
   "outputs": [
    {
     "name": "stdout",
     "output_type": "stream",
     "text": [
      "fox word found in a literal.\n",
      "dog word found in a literal.\n",
      "horse word found in a literal.\n"
     ]
    }
   ],
   "source": [
    "ltrl = \"fox is a wild animal, everyons loves dog, the horse can run fast.\"\n",
    "srch_word = [\"fox\",\"dog\",\"horse\"]\n",
    "for m in srch_word:\n",
    "    match = re.search(m,ltrl)\n",
    "    if match:\n",
    "        print(match.group(),\"word found in a literal.\")\n",
    "    else:\n",
    "        print(m ,\"Word does not exist.\")"
   ]
  },
  {
   "cell_type": "markdown",
   "id": "38081099",
   "metadata": {},
   "source": [
    "###### Question 16- Write a Python program to search a literals string in a string and also find the location within the original string where the pattern occurs\n",
    "###### Sample text : 'The quick brown fox jumps over the lazy dog.'\n",
    "###### Searched words : 'fox'\n"
   ]
  },
  {
   "cell_type": "code",
   "execution_count": 20,
   "id": "a5829b47",
   "metadata": {},
   "outputs": [
    {
     "name": "stdout",
     "output_type": "stream",
     "text": [
      "The word fox found in a literal and its location in the strind is (16, 19)\n"
     ]
    }
   ],
   "source": [
    "text16 = \"The quick brown fox jumps over the lazy dog.\"\n",
    "\n",
    "Search_word = 'fox'\n",
    "\n",
    "res16 = re.search(Search_word,text16)\n",
    "print(\"The word\",Search_word, \"found in a literal and its location in the strind is\",res16.span())\n"
   ]
  },
  {
   "cell_type": "markdown",
   "id": "eed61064",
   "metadata": {},
   "source": [
    "###### Question 17- Write a Python program to find the substrings within a string.\n",
    "###### Sample text : 'Python exercises, PHP exercises, C# exercises'\n",
    "###### Pattern : 'exercises'.\n"
   ]
  },
  {
   "cell_type": "code",
   "execution_count": 21,
   "id": "ee713535",
   "metadata": {},
   "outputs": [
    {
     "name": "stdout",
     "output_type": "stream",
     "text": [
      "['exercises', 'exercises', 'exercises']\n"
     ]
    }
   ],
   "source": [
    "s_text = 'Python exercises, PHP exercises, C# exercises'\n",
    "ptrn17 = 'exercises'\n",
    "mt = re.findall(ptrn17,s_text)\n",
    "print(mt)"
   ]
  },
  {
   "cell_type": "markdown",
   "id": "6fdbbb7b",
   "metadata": {},
   "source": [
    "###### Question 18- Write a Python program to find the occurrence and position of the substrings within a string.\n"
   ]
  },
  {
   "cell_type": "code",
   "execution_count": 22,
   "id": "20030788",
   "metadata": {},
   "outputs": [
    {
     "name": "stdout",
     "output_type": "stream",
     "text": [
      "Position (7, 16) Occurrence exercises\n",
      "Position (22, 31) Occurrence exercises\n",
      "Position (36, 45) Occurrence exercises\n"
     ]
    }
   ],
   "source": [
    "s_texts18 = 'Python exercises, PHP exercises, C# exercises'\n",
    "ptrn18 = re.compile('exercises')\n",
    "for i in ptrn18.finditer(s_texts18): #to capture multiple grps we can use finditer()\n",
    "    print(\"Position\" ,i.span(),\"Occurrence\",i.group())"
   ]
  },
  {
   "cell_type": "markdown",
   "id": "da19b8e7",
   "metadata": {},
   "source": [
    "###### Question 19- Write a Python program to convert a date of yyyy-mm-dd format to dd-mm-yyyy format."
   ]
  },
  {
   "cell_type": "code",
   "execution_count": 23,
   "id": "6e86f4b8",
   "metadata": {},
   "outputs": [
    {
     "name": "stdout",
     "output_type": "stream",
     "text": [
      "yyyy-mm-dd =  2000-12-16\n",
      "dd-mm-yyyy =  16-12-2000\n"
     ]
    }
   ],
   "source": [
    "date = \"2000-12-16\"\n",
    "pattern19 = r'(\\d{4})-(\\d{2})-(\\d{2})'\n",
    "new_date = re.sub(pattern19,r'\\3-\\2-\\1', date) #here r'\\3-\\2-\\1' is the captured group\n",
    "print(\"yyyy-mm-dd = \",date)\n",
    "print(\"dd-mm-yyyy = \",new_date)"
   ]
  },
  {
   "cell_type": "markdown",
   "id": "09ba9ffa",
   "metadata": {},
   "source": [
    "###### Question 20- Write a Python program to find all words starting with 'a' or 'e' in a given string."
   ]
  },
  {
   "cell_type": "code",
   "execution_count": 24,
   "id": "438fcd1c",
   "metadata": {},
   "outputs": [
    {
     "name": "stdout",
     "output_type": "stream",
     "text": [
      "['apple', 'elephant', 'avoid', 'except', 'analog']\n"
     ]
    }
   ],
   "source": [
    "str20 = \"apple banana city dog elephant avoid except analog grapes jackfriuuit\"\n",
    "ptrn20 = r'\\b[a|e]\\w+'\n",
    "match20 = re.findall(ptrn20,str20)\n",
    "print(match20)"
   ]
  },
  {
   "cell_type": "markdown",
   "id": "833f8dbd",
   "metadata": {},
   "source": [
    "###### Question 21- Write a Python program to separate and print the numbers and their position of a given string."
   ]
  },
  {
   "cell_type": "code",
   "execution_count": 25,
   "id": "52a15cc3",
   "metadata": {},
   "outputs": [
    {
     "name": "stdout",
     "output_type": "stream",
     "text": [
      "16 is the number on the position of  (0, 2)\n",
      "2000 is the number on the position of  (12, 16)\n"
     ]
    }
   ],
   "source": [
    "g_string = \"16 December 2000 is my birth date\"\n",
    "p = r'\\d+'\n",
    "mtch = re.finditer(p,g_string)\n",
    "for i in mtch:\n",
    "    print(i.group(),\"is the number on the position of \",i.span())"
   ]
  },
  {
   "cell_type": "markdown",
   "id": "914c2f96",
   "metadata": {},
   "source": [
    "###### Question 22- Write a regular expression in python program to extract maximum numeric value from a string"
   ]
  },
  {
   "cell_type": "code",
   "execution_count": 26,
   "id": "5e373321",
   "metadata": {},
   "outputs": [
    {
     "name": "stdout",
     "output_type": "stream",
     "text": [
      "The maximum numerical value is :  432000\n"
     ]
    }
   ],
   "source": [
    "text22 = 'The age of the Kalayuga is 432000 years and 5000 years of Kalayuga are completed.'\n",
    "pattern22 = r'\\d+'\n",
    "match22 = re.findall(pattern22,text22)\n",
    "list1= []\n",
    "for i in match22:\n",
    "    list1.append(int(i))\n",
    "print(\"The maximum numerical value is : \",max(list1))"
   ]
  },
  {
   "cell_type": "markdown",
   "id": "550c247c",
   "metadata": {},
   "source": [
    "###### Question 23- Write a Regex in Python to put spaces between words starting with capital letters"
   ]
  },
  {
   "cell_type": "code",
   "execution_count": 27,
   "id": "898dd3a1",
   "metadata": {},
   "outputs": [
    {
     "name": "stdout",
     "output_type": "stream",
     "text": [
      "Importance Of Regular Expressions In Python\n"
     ]
    }
   ],
   "source": [
    "sample_text = \"ImportanceOfRegularExpressionsInPython\"\n",
    "ptrn23= r'[A-Z][a-z]*'\n",
    "\n",
    "space = re.findall(ptrn23,sample_text)\n",
    "print( ' '.join(space))"
   ]
  },
  {
   "cell_type": "markdown",
   "id": "9f039dd9",
   "metadata": {},
   "source": [
    "##### Question 24- Python regex to find sequences of one upper case letter followed by lower case letters"
   ]
  },
  {
   "cell_type": "code",
   "execution_count": 28,
   "id": "8eaecdd7",
   "metadata": {},
   "outputs": [
    {
     "name": "stdout",
     "output_type": "stream",
     "text": [
      "['Python', 'Upper', 'Followed']\n"
     ]
    }
   ],
   "source": [
    "string24 = \"Python regex to find sequences of one Upper case letter Followed by lower case letters\"\n",
    "pattern24 = r'[A-Z][a-z]+'\n",
    "match24 = re.findall(pattern24,string24)\n",
    "print(match24)"
   ]
  },
  {
   "cell_type": "markdown",
   "id": "45abfcc8",
   "metadata": {},
   "source": [
    "###### Question 25- Write a Python program to remove duplicate words from Sentence using Regular Expression\n"
   ]
  },
  {
   "cell_type": "code",
   "execution_count": 29,
   "id": "e4e1e0fd",
   "metadata": {},
   "outputs": [
    {
     "name": "stdout",
     "output_type": "stream",
     "text": [
      "['e', 'd', 'u', 'R', 't', 'S', 'h', 'P', 'v', 'n', 'w', 'r', 'a', 'p', 'l', 'c', 'g', 'W', 'i', 'm', 'x', 's', 'y', 'f', 'E', 'o']\n"
     ]
    }
   ],
   "source": [
    "words = \"Write a Python program to remove duplicate words from Sentence using Regular Expression\"\n",
    "pattern25 = r'\\w' \n",
    "dup = re.findall(pattern25,words)\n",
    "op = set(dup) # Bcz set does not contain duplicate values\n",
    "print(list(op)) #converted it in list as required output"
   ]
  },
  {
   "cell_type": "markdown",
   "id": "174a1f5b",
   "metadata": {},
   "source": [
    "###### Question 26-  Write a python program using RegEx to accept string ending with alphanumeric character"
   ]
  },
  {
   "cell_type": "code",
   "execution_count": 30,
   "id": "dc85cda3",
   "metadata": {},
   "outputs": [
    {
     "name": "stdout",
     "output_type": "stream",
     "text": [
      "['December16']\n"
     ]
    }
   ],
   "source": [
    "string26 = \"wish me on December16\"\n",
    "pattern26 = r'[A-Za-z0-9]+$'\n",
    "srch = re.findall(pattern26,string26)\n",
    "print(srch)"
   ]
  },
  {
   "cell_type": "markdown",
   "id": "d82fb267",
   "metadata": {},
   "source": [
    "##### Question 27-Write a python program using RegEx to extract the hashtags.\n",
    "##### Sample Text: text = \"\"\"RT @kapil_kausik: #Doltiwal I mean #xyzabc is \"hurt\" by #Demonetization as the same has rendered USELESS <ed><U+00A0><U+00BD><ed><U+00B1><U+0089> \"acquired funds\" No wo\"\"\"\n",
    "##### Output: ['#Doltiwal', '#xyzabc', '#Demonetization']\n"
   ]
  },
  {
   "cell_type": "code",
   "execution_count": 31,
   "id": "d6fd8607",
   "metadata": {},
   "outputs": [
    {
     "name": "stdout",
     "output_type": "stream",
     "text": [
      "['#Doltiwal', '#xyzabc', '#Demonetization']\n"
     ]
    }
   ],
   "source": [
    "text27 = \"\"\"RT @kapil_kausik: #Doltiwal I mean #xyzabc is \"hurt\" by #Demonetization as the same has rendered USELESS <ed><U+00A0><U+00BD><ed><U+00B1><U+0089> \"acquired funds\" No wo\"\"\"\n",
    "pattern27 = r'(#\\w+)'\n",
    "match27 = re.findall(pattern27,text27)\n",
    "print(match27)"
   ]
  },
  {
   "cell_type": "markdown",
   "id": "e9235573",
   "metadata": {},
   "source": [
    "###### Question 28- Write a python program using RegEx to remove <U+..> like symbols\n",
    "###### Check the below sample text, there are strange symbols something of the sort <U+..> all over the place. You need to come up with a general Regex expression that will cover all such symbols.\n",
    "###### Sample Text: \"@Jags123456 Bharat band on 28??<ed><U+00A0><U+00BD><ed><U+00B8><U+0082>Those who  are protesting #demonetization  are all different party leaders\"\n",
    "###### Output: @Jags123456 Bharat band on 28??<ed><ed>Those who  are protesting #demonetization  are all different party leaders\n"
   ]
  },
  {
   "cell_type": "code",
   "execution_count": 32,
   "id": "1d917de9",
   "metadata": {},
   "outputs": [
    {
     "name": "stdout",
     "output_type": "stream",
     "text": [
      "@Jags123456 Bharat band on 28??Those who are protesting #demonetization  are all different party leaders\n"
     ]
    }
   ],
   "source": [
    "sample_text28 = \"@Jags123456 Bharat band on 28??<ed><U+00A0><U+00BD><ed><U+00B8><U+0082>Those who are protesting #demonetization  are all different party leaders\"\n",
    "pattern28 = r'<(.*)>'\n",
    "output = re.sub(pattern28,\"\",sample_text28)\n",
    "print(output)"
   ]
  },
  {
   "cell_type": "markdown",
   "id": "9d0ddbe3",
   "metadata": {},
   "source": [
    "###### Question 29- Write a python program to extract dates from the text stored in the text file.\n",
    "###### Sample Text: Ron was born on 12-09-1992 and he was admitted to school 15-12-1999.\n",
    "###### Store this sample text in the file and then extract dates.\n"
   ]
  },
  {
   "cell_type": "code",
   "execution_count": 33,
   "id": "2e1f00b9",
   "metadata": {},
   "outputs": [],
   "source": [
    "file = open('C:\\\\Users\\\\tusha\\\\text_file.txt','w')\n",
    "file.write(\"Ron was born on 12-09-1992 and he was admitted to school 15-12-1999.\")\n",
    "file.close()"
   ]
  },
  {
   "cell_type": "code",
   "execution_count": 34,
   "id": "17708d88",
   "metadata": {},
   "outputs": [],
   "source": [
    "read_file = open('C:\\\\Users\\\\tusha\\\\text_file.txt','r')\n",
    "sample_text29 = read_file.read()"
   ]
  },
  {
   "cell_type": "code",
   "execution_count": 35,
   "id": "73832df3",
   "metadata": {},
   "outputs": [
    {
     "data": {
      "text/plain": [
       "'Ron was born on 12-09-1992 and he was admitted to school 15-12-1999.'"
      ]
     },
     "execution_count": 35,
     "metadata": {},
     "output_type": "execute_result"
    }
   ],
   "source": [
    "sample_text29"
   ]
  },
  {
   "cell_type": "code",
   "execution_count": 36,
   "id": "fbcbc4ed",
   "metadata": {},
   "outputs": [
    {
     "name": "stdout",
     "output_type": "stream",
     "text": [
      "['12-09-1992', '15-12-1999']\n"
     ]
    }
   ],
   "source": [
    "pattern29 = r'\\d{2}-\\d{2}-\\d{4}'\n",
    "res29 = re.findall(pattern29,sample_text29)\n",
    "store = str(res29)\n",
    "print(store)\n",
    "file29 = open('C:\\\\Users\\\\tusha\\\\res29_file.txt','w')\n",
    "file29.write(store)\n",
    "file29.close()\n"
   ]
  },
  {
   "cell_type": "code",
   "execution_count": 37,
   "id": "1bf5d11a",
   "metadata": {},
   "outputs": [
    {
     "name": "stdout",
     "output_type": "stream",
     "text": [
      "['12-09-1992', '15-12-1999']\n"
     ]
    }
   ],
   "source": [
    "file29 = open('C:\\\\Users\\\\tusha\\\\res29_file.txt','r')\n",
    "print(file29.read())\n",
    "file29.close()"
   ]
  },
  {
   "cell_type": "markdown",
   "id": "a7450d89",
   "metadata": {},
   "source": [
    "###### Question 30- Write a Python program to replace all occurrences of a space, comma, or dot with a colon.\n",
    "###### Sample Text- 'Python Exercises, PHP exercises.'\n",
    "###### Output: Python:Exercises::PHP:exercises:\n"
   ]
  },
  {
   "cell_type": "code",
   "execution_count": 38,
   "id": "d3970ca3",
   "metadata": {},
   "outputs": [
    {
     "name": "stdout",
     "output_type": "stream",
     "text": [
      "Python:Exercises::PHP:exercises:\n"
     ]
    }
   ],
   "source": [
    "Sample_Text30 = 'Python Exercises, PHP exercises.'\n",
    "pattern30 = r'[. \\.,]'\n",
    "res30 = re.sub(pattern30,':',Sample_Text30)\n",
    "print(res30)"
   ]
  },
  {
   "cell_type": "code",
   "execution_count": null,
   "id": "67d660dd",
   "metadata": {},
   "outputs": [],
   "source": []
  },
  {
   "cell_type": "code",
   "execution_count": null,
   "id": "690b9d8c",
   "metadata": {},
   "outputs": [],
   "source": []
  }
 ],
 "metadata": {
  "kernelspec": {
   "display_name": "Python 3 (ipykernel)",
   "language": "python",
   "name": "python3"
  },
  "language_info": {
   "codemirror_mode": {
    "name": "ipython",
    "version": 3
   },
   "file_extension": ".py",
   "mimetype": "text/x-python",
   "name": "python",
   "nbconvert_exporter": "python",
   "pygments_lexer": "ipython3",
   "version": "3.9.13"
  }
 },
 "nbformat": 4,
 "nbformat_minor": 5
}
