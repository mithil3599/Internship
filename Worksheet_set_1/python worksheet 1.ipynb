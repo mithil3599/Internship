{
 "cells": [
  {
   "cell_type": "code",
   "execution_count": 1,
   "id": "cee5de83",
   "metadata": {},
   "outputs": [],
   "source": [
    "# Write a python program to find the factorial of a number."
   ]
  },
  {
   "cell_type": "code",
   "execution_count": 2,
   "id": "73ef2f35",
   "metadata": {},
   "outputs": [
    {
     "name": "stdout",
     "output_type": "stream",
     "text": [
      "Please enter any Value : 7\n",
      "The Result of  7 = 5040\n"
     ]
    }
   ],
   "source": [
    "value = int(input(\"Please enter any Value : \"))\n",
    "fact = 1\n",
    "i = 1\n",
    "\n",
    "while(i <= value):\n",
    "    fact = fact * i\n",
    "    i = i + 1\n",
    "\n",
    "print('The Result of ',value, '=' ,fact)"
   ]
  },
  {
   "cell_type": "code",
   "execution_count": 3,
   "id": "381e9149",
   "metadata": {},
   "outputs": [],
   "source": [
    "#  Write a python program to find whether a number is prime or composite."
   ]
  },
  {
   "cell_type": "code",
   "execution_count": 4,
   "id": "afeb41fd",
   "metadata": {},
   "outputs": [
    {
     "name": "stdout",
     "output_type": "stream",
     "text": [
      "Enter any number : 31\n",
      "31 is a PRIME number\n"
     ]
    }
   ],
   "source": [
    "num = int(input(\"Enter any number : \"))\n",
    "if num > 1:\n",
    "    for i in range(2, num):\n",
    "        if (num % i) == 0:\n",
    "            print(num, \"is NOT a prime number\")\n",
    "            break\n",
    "    else:\n",
    "        print(num, \"is a PRIME number\")\n",
    "elif num == 0 or 1:\n",
    "    print(num, \"is a neither prime NOR composite number\")\n",
    "else:\n",
    "    print(num, \"is NOT a prime number it is a COMPOSITE number\")"
   ]
  },
  {
   "cell_type": "code",
   "execution_count": 5,
   "id": "3d1ed172",
   "metadata": {},
   "outputs": [],
   "source": [
    "# Write a python program to check whether a given string is palindrome or not."
   ]
  },
  {
   "cell_type": "code",
   "execution_count": 6,
   "id": "05e7d7de",
   "metadata": {},
   "outputs": [
    {
     "name": "stdout",
     "output_type": "stream",
     "text": [
      "Enter any text: hello python \n",
      "This is Not the palindrome string\n"
     ]
    }
   ],
   "source": [
    "string = input(\"Enter any text: \")\n",
    "\n",
    "string = string.lower().replace(' ','') \n",
    "\n",
    "rev_string =''.join(reversed(string))\n",
    "\n",
    "if string == rev_string:\n",
    "    print(\"This is a Palindrome String\")\n",
    "else:\n",
    "    print(\"This is Not the palindrome string\")"
   ]
  },
  {
   "cell_type": "code",
   "execution_count": 7,
   "id": "9d4ecef1",
   "metadata": {},
   "outputs": [],
   "source": [
    "# Write a Python program to get the third side of right-angled triangle from two given sides."
   ]
  },
  {
   "cell_type": "code",
   "execution_count": 8,
   "id": "45aea38f",
   "metadata": {},
   "outputs": [
    {
     "name": "stdout",
     "output_type": "stream",
     "text": [
      "Enter the first side of the triangle a : 6\n",
      "Enter the second side of the triangle b : 8\n",
      "The third side of the triangle c :  10.0\n"
     ]
    }
   ],
   "source": [
    "a = float(input(\"Enter the first side of the triangle a : \"))\n",
    "b = float(input(\"Enter the second side of the triangle b : \"))\n",
    "\n",
    "def thirt_side(a,b):\n",
    "    c=((a**2+b**2))**0.5\n",
    "    return c\n",
    "\n",
    "print(\"The third side of the triangle c : \",thirt_side(a,b))"
   ]
  },
  {
   "cell_type": "code",
   "execution_count": 9,
   "id": "c6a934b9",
   "metadata": {},
   "outputs": [],
   "source": [
    "#  Write a python program to print the frequency of each of the characters present in a given string."
   ]
  },
  {
   "cell_type": "code",
   "execution_count": 13,
   "id": "5795b52f",
   "metadata": {},
   "outputs": [
    {
     "name": "stdout",
     "output_type": "stream",
     "text": [
      "Enter any text : hello python\n",
      "{'h': 2, 'e': 1, 'l': 2, 'o': 2, ' ': 1, 'p': 1, 'y': 1, 't': 1, 'n': 1}\n"
     ]
    }
   ],
   "source": [
    "n_string = input(\"Enter any text : \")\n",
    "n_string = n_string.lower()\n",
    "def char_freq(n_string): \n",
    "    freq = {}\n",
    "    for char in n_string:\n",
    "        if char in freq:\n",
    "            freq[char] += 1\n",
    "        else:\n",
    "            freq[char] = 1\n",
    "    return freq\n",
    "\n",
    "print(char_freq(n_string))"
   ]
  },
  {
   "cell_type": "code",
   "execution_count": null,
   "id": "706c9afd",
   "metadata": {},
   "outputs": [],
   "source": []
  },
  {
   "cell_type": "code",
   "execution_count": null,
   "id": "e1f5dc5f",
   "metadata": {},
   "outputs": [],
   "source": []
  }
 ],
 "metadata": {
  "kernelspec": {
   "display_name": "Python 3 (ipykernel)",
   "language": "python",
   "name": "python3"
  },
  "language_info": {
   "codemirror_mode": {
    "name": "ipython",
    "version": 3
   },
   "file_extension": ".py",
   "mimetype": "text/x-python",
   "name": "python",
   "nbconvert_exporter": "python",
   "pygments_lexer": "ipython3",
   "version": "3.9.13"
  }
 },
 "nbformat": 4,
 "nbformat_minor": 5
}
