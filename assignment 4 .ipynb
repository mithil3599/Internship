{
 "cells": [
  {
   "cell_type": "markdown",
   "id": "41b36d32",
   "metadata": {},
   "source": [
    "## Q1"
   ]
  },
  {
   "cell_type": "markdown",
   "id": "21021fa8",
   "metadata": {},
   "source": [
    "Scrape the details of most viewed videos on YouTube from Wikipedia. Url = https://en.wikipedia.org/wiki/List_of_most-viewed_YouTube_videos You need to find following details:\n",
    "A) Rank\n",
    "B) Name\n",
    "C) Artist\n",
    "D) Upload date\n",
    "E) Views"
   ]
  },
  {
   "cell_type": "code",
   "execution_count": 1,
   "id": "0827f063",
   "metadata": {},
   "outputs": [],
   "source": [
    "import pandas as pd \n",
    "import requests\n",
    "from bs4 import BeautifulSoup\n",
    "import selenium\n",
    "from selenium import webdriver\n",
    "from selenium.webdriver.common.by import By\n",
    "from selenium.common.exceptions import StaleElementReferenceException, NoSuchElementException, ElementNotInteractableException \n",
    "from selenium.webdriver.support.ui import WebDriverWait \n",
    "from selenium.webdriver.support import expected_conditions as EC\n",
    "import time\n",
    "import warnings\n",
    "warnings.filterwarnings(\"ignore\")"
   ]
  },
  {
   "cell_type": "code",
   "execution_count": 3,
   "id": "226dea19",
   "metadata": {},
   "outputs": [],
   "source": [
    "d1 = webdriver.Chrome(r'chromedriver.exe')"
   ]
  },
  {
   "cell_type": "code",
   "execution_count": 4,
   "id": "baf89b23",
   "metadata": {},
   "outputs": [],
   "source": [
    "p1 = d1.get(\"https://en.wikipedia.org/wiki/List_of_most-viewed_YouTube_videos\")"
   ]
  },
  {
   "cell_type": "code",
   "execution_count": 5,
   "id": "baec01fd",
   "metadata": {},
   "outputs": [],
   "source": [
    "rank = []"
   ]
  },
  {
   "cell_type": "code",
   "execution_count": 6,
   "id": "963c0cb9",
   "metadata": {},
   "outputs": [],
   "source": [
    "try:\n",
    "    ranks = d1.find_elements(By.XPATH,'//div[@class=\"mw-parser-output\"]/table[2]/tbody/tr/td[1]')\n",
    "    for i in ranks:\n",
    "        rank.append(i.text)\n",
    "except NoSuchElementException as e :   #the element is not found\n",
    "    print(e)\n",
    "    rank.append(\"-\")\n",
    "    "
   ]
  },
  {
   "cell_type": "code",
   "execution_count": 8,
   "id": "b59178af",
   "metadata": {},
   "outputs": [
    {
     "name": "stdout",
     "output_type": "stream",
     "text": [
      "['1.', '2.', '3.', '4.', '5.', '6.', '7.', '8.', '9.', '10.', '11.', '12.', '13.', '14.', '15.', '16.', '17.', '18.', '19.', '20.', '21.', '22.', '23.', '24.', '25.', '26.', '27.', '28.', '29.', '30.']\n"
     ]
    }
   ],
   "source": [
    "print(rank)"
   ]
  },
  {
   "cell_type": "code",
   "execution_count": 12,
   "id": "d260cea6",
   "metadata": {},
   "outputs": [],
   "source": [
    "name = []"
   ]
  },
  {
   "cell_type": "code",
   "execution_count": 13,
   "id": "86d71664",
   "metadata": {},
   "outputs": [],
   "source": [
    "try:\n",
    "    names = d1.find_elements(By.XPATH,'//div[@class=\"mw-parser-output\"]/table[2]/tbody/tr/td[2]')\n",
    "    for i in names:\n",
    "        name.append(i.text)\n",
    "except NoSuchElementException as e :   #the element is not found\n",
    "    print(e)\n",
    "    name.append(\"-\")"
   ]
  },
  {
   "cell_type": "code",
   "execution_count": 14,
   "id": "3dfe1c0d",
   "metadata": {},
   "outputs": [
    {
     "name": "stdout",
     "output_type": "stream",
     "text": [
      "['\"Baby Shark Dance\"[4]', '\"Despacito\"[7]', '\"Johny Johny Yes Papa\"[14]', '\"Bath Song\"[15]', '\"Shape of You\"[16]', '\"See You Again\"[19]', '\"Phonics Song with Two Words\"[24]', '\"Wheels on the Bus\"[25]', '\"Uptown Funk\"[26]', '\"Learning Colors – Colorful Eggs on a Farm\"[27]', '\"Gangnam Style\"[28]', '\"Masha and the Bear – Recipe for Disaster\"[33]', '\"Dame Tu Cosita\"[34]', '\"Axel F\"[35]', '\"Sugar\"[36]', '\"Roar\"[37]', '\"Counting Stars\"[38]', '\"Sorry\"[39]', '\"Baa Baa Black Sheep\"[40]', '\"Thinking Out Loud\"[41]', '\"Waka Waka (This Time for Africa)\"[42]', '\"Dark Horse\"[43]', '\"Lakdi Ki Kathi\"[44]', '\"Faded\"[45]', '\"Perfect\"[46]', '\"Let Her Go\"[47]', '\"Girls Like You\"[48]', '\"Humpty the train on a fruits ride\"[49]', '\"Lean On\"[50]', '\"Bailando\"[51]']\n"
     ]
    }
   ],
   "source": [
    "print(name)"
   ]
  },
  {
   "cell_type": "code",
   "execution_count": 15,
   "id": "6d6cfb14",
   "metadata": {},
   "outputs": [],
   "source": [
    "uploader = []"
   ]
  },
  {
   "cell_type": "code",
   "execution_count": 16,
   "id": "641b15d2",
   "metadata": {},
   "outputs": [],
   "source": [
    "try:\n",
    "    uploaders = d1.find_elements(By.XPATH,'//div[@class=\"mw-parser-output\"]/table[2]/tbody/tr/td[3]')\n",
    "    for i in uploaders:\n",
    "        uploader.append(i.text)\n",
    "except NoSuchElementException as e :   #the element is not found\n",
    "    print(e)\n",
    "    uploader.append(\"-\")"
   ]
  },
  {
   "cell_type": "code",
   "execution_count": 17,
   "id": "2213eae8",
   "metadata": {},
   "outputs": [
    {
     "name": "stdout",
     "output_type": "stream",
     "text": [
      "[\"Pinkfong Baby Shark - Kids' Songs & Stories\", 'Luis Fonsi', 'LooLoo Kids', 'Cocomelon – Nursery Rhymes', 'Ed Sheeran', 'Wiz Khalifa', 'ChuChu TV', 'Cocomelon – Nursery Rhymes', 'Mark Ronson', 'Miroshka TV', 'Psy', 'Get Movies', 'El Chombo', 'Crazy Frog', 'Maroon 5', 'Katy Perry', 'OneRepublic', 'Justin Bieber', 'Cocomelon – Nursery Rhymes', 'Ed Sheeran', 'Shakira', 'Katy Perry', 'Jingle Toons', 'Alan Walker', 'Ed Sheeran', 'Passenger', 'Maroon 5', 'Kiddiestv Hindi – Nursery Rhymes & Kids Songs', 'Major Lazer', 'Enrique Iglesias']\n"
     ]
    }
   ],
   "source": [
    "print(uploader)"
   ]
  },
  {
   "cell_type": "code",
   "execution_count": 18,
   "id": "da2a0d48",
   "metadata": {},
   "outputs": [],
   "source": [
    "view = []\n",
    "try:\n",
    "    views = d1.find_elements(By.XPATH,'//div[@class=\"mw-parser-output\"]/table[2]/tbody/tr/td[4]')\n",
    "    for i in views:\n",
    "        view.append(i.text)\n",
    "except NoSuchElementException as e :   #the element is not found\n",
    "    print(e)\n",
    "    view.append(\"-\")"
   ]
  },
  {
   "cell_type": "code",
   "execution_count": 19,
   "id": "5f9f14dc",
   "metadata": {},
   "outputs": [
    {
     "name": "stdout",
     "output_type": "stream",
     "text": [
      "['12.85', '8.16', '6.70', '6.20', '6.00', '5.89', '5.30', '5.24', '4.92', '4.89', '4.80', '4.55', '4.35', '3.91', '3.87', '3.80', '3.79', '3.66', '3.64', '3.60', '3.59', '3.52', '3.48', '3.45', '3.45', '3.44', '3.42', '3.41', '3.38', '3.38']\n"
     ]
    }
   ],
   "source": [
    "print(view)"
   ]
  },
  {
   "cell_type": "code",
   "execution_count": 22,
   "id": "a93bd8b8",
   "metadata": {},
   "outputs": [],
   "source": [
    "publication = []\n",
    "try:\n",
    "    publications = d1.find_elements(By.XPATH,'//div[@class=\"mw-parser-output\"]/table[2]/tbody/tr/td[5]')\n",
    "    for i in publications:\n",
    "        publication.append(i.text)\n",
    "except NoSuchElementException as e :   #the element is not found\n",
    "    print(e)\n",
    "    publication.append(\"-\")"
   ]
  },
  {
   "cell_type": "code",
   "execution_count": 23,
   "id": "deffedec",
   "metadata": {},
   "outputs": [
    {
     "name": "stdout",
     "output_type": "stream",
     "text": [
      "['June 17, 2016', 'January 12, 2017', 'October 8, 2016', 'May 2, 2018', 'January 30, 2017', 'April 6, 2015', 'March 6, 2014', 'May 24, 2018', 'November 19, 2014', 'February 27, 2018', 'July 15, 2012', 'January 31, 2012', 'April 5, 2018', 'June 16, 2009', 'January 14, 2015', 'September 5, 2013', 'May 31, 2013', 'October 22, 2015', 'June 25, 2018', 'October 7, 2014', 'June 4, 2010', 'February 20, 2014', 'June 14, 2018', 'December 3, 2015', 'November 9, 2017', 'July 25, 2012', 'May 31, 2018', 'January 26, 2018', 'March 22, 2015', 'April 11, 2014']\n"
     ]
    }
   ],
   "source": [
    "print(publication)"
   ]
  },
  {
   "cell_type": "markdown",
   "id": "52c1f05a",
   "metadata": {},
   "source": [
    "### most viewed videos on YouTube from Wikipedia"
   ]
  },
  {
   "cell_type": "code",
   "execution_count": 24,
   "id": "076bdc1d",
   "metadata": {},
   "outputs": [
    {
     "data": {
      "text/html": [
       "<div>\n",
       "<style scoped>\n",
       "    .dataframe tbody tr th:only-of-type {\n",
       "        vertical-align: middle;\n",
       "    }\n",
       "\n",
       "    .dataframe tbody tr th {\n",
       "        vertical-align: top;\n",
       "    }\n",
       "\n",
       "    .dataframe thead th {\n",
       "        text-align: right;\n",
       "    }\n",
       "</style>\n",
       "<table border=\"1\" class=\"dataframe\">\n",
       "  <thead>\n",
       "    <tr style=\"text-align: right;\">\n",
       "      <th></th>\n",
       "      <th>Rank</th>\n",
       "      <th>Name</th>\n",
       "      <th>Artist</th>\n",
       "      <th>upload Date</th>\n",
       "      <th>Views</th>\n",
       "    </tr>\n",
       "  </thead>\n",
       "  <tbody>\n",
       "    <tr>\n",
       "      <th>0</th>\n",
       "      <td>1.</td>\n",
       "      <td>\"Baby Shark Dance\"[4]</td>\n",
       "      <td>Pinkfong Baby Shark - Kids' Songs &amp; Stories</td>\n",
       "      <td>June 17, 2016</td>\n",
       "      <td>12.85</td>\n",
       "    </tr>\n",
       "    <tr>\n",
       "      <th>1</th>\n",
       "      <td>2.</td>\n",
       "      <td>\"Despacito\"[7]</td>\n",
       "      <td>Luis Fonsi</td>\n",
       "      <td>January 12, 2017</td>\n",
       "      <td>8.16</td>\n",
       "    </tr>\n",
       "    <tr>\n",
       "      <th>2</th>\n",
       "      <td>3.</td>\n",
       "      <td>\"Johny Johny Yes Papa\"[14]</td>\n",
       "      <td>LooLoo Kids</td>\n",
       "      <td>October 8, 2016</td>\n",
       "      <td>6.70</td>\n",
       "    </tr>\n",
       "    <tr>\n",
       "      <th>3</th>\n",
       "      <td>4.</td>\n",
       "      <td>\"Bath Song\"[15]</td>\n",
       "      <td>Cocomelon – Nursery Rhymes</td>\n",
       "      <td>May 2, 2018</td>\n",
       "      <td>6.20</td>\n",
       "    </tr>\n",
       "    <tr>\n",
       "      <th>4</th>\n",
       "      <td>5.</td>\n",
       "      <td>\"Shape of You\"[16]</td>\n",
       "      <td>Ed Sheeran</td>\n",
       "      <td>January 30, 2017</td>\n",
       "      <td>6.00</td>\n",
       "    </tr>\n",
       "    <tr>\n",
       "      <th>5</th>\n",
       "      <td>6.</td>\n",
       "      <td>\"See You Again\"[19]</td>\n",
       "      <td>Wiz Khalifa</td>\n",
       "      <td>April 6, 2015</td>\n",
       "      <td>5.89</td>\n",
       "    </tr>\n",
       "    <tr>\n",
       "      <th>6</th>\n",
       "      <td>7.</td>\n",
       "      <td>\"Phonics Song with Two Words\"[24]</td>\n",
       "      <td>ChuChu TV</td>\n",
       "      <td>March 6, 2014</td>\n",
       "      <td>5.30</td>\n",
       "    </tr>\n",
       "    <tr>\n",
       "      <th>7</th>\n",
       "      <td>8.</td>\n",
       "      <td>\"Wheels on the Bus\"[25]</td>\n",
       "      <td>Cocomelon – Nursery Rhymes</td>\n",
       "      <td>May 24, 2018</td>\n",
       "      <td>5.24</td>\n",
       "    </tr>\n",
       "    <tr>\n",
       "      <th>8</th>\n",
       "      <td>9.</td>\n",
       "      <td>\"Uptown Funk\"[26]</td>\n",
       "      <td>Mark Ronson</td>\n",
       "      <td>November 19, 2014</td>\n",
       "      <td>4.92</td>\n",
       "    </tr>\n",
       "    <tr>\n",
       "      <th>9</th>\n",
       "      <td>10.</td>\n",
       "      <td>\"Learning Colors – Colorful Eggs on a Farm\"[27]</td>\n",
       "      <td>Miroshka TV</td>\n",
       "      <td>February 27, 2018</td>\n",
       "      <td>4.89</td>\n",
       "    </tr>\n",
       "    <tr>\n",
       "      <th>10</th>\n",
       "      <td>11.</td>\n",
       "      <td>\"Gangnam Style\"[28]</td>\n",
       "      <td>Psy</td>\n",
       "      <td>July 15, 2012</td>\n",
       "      <td>4.80</td>\n",
       "    </tr>\n",
       "    <tr>\n",
       "      <th>11</th>\n",
       "      <td>12.</td>\n",
       "      <td>\"Masha and the Bear – Recipe for Disaster\"[33]</td>\n",
       "      <td>Get Movies</td>\n",
       "      <td>January 31, 2012</td>\n",
       "      <td>4.55</td>\n",
       "    </tr>\n",
       "    <tr>\n",
       "      <th>12</th>\n",
       "      <td>13.</td>\n",
       "      <td>\"Dame Tu Cosita\"[34]</td>\n",
       "      <td>El Chombo</td>\n",
       "      <td>April 5, 2018</td>\n",
       "      <td>4.35</td>\n",
       "    </tr>\n",
       "    <tr>\n",
       "      <th>13</th>\n",
       "      <td>14.</td>\n",
       "      <td>\"Axel F\"[35]</td>\n",
       "      <td>Crazy Frog</td>\n",
       "      <td>June 16, 2009</td>\n",
       "      <td>3.91</td>\n",
       "    </tr>\n",
       "    <tr>\n",
       "      <th>14</th>\n",
       "      <td>15.</td>\n",
       "      <td>\"Sugar\"[36]</td>\n",
       "      <td>Maroon 5</td>\n",
       "      <td>January 14, 2015</td>\n",
       "      <td>3.87</td>\n",
       "    </tr>\n",
       "    <tr>\n",
       "      <th>15</th>\n",
       "      <td>16.</td>\n",
       "      <td>\"Roar\"[37]</td>\n",
       "      <td>Katy Perry</td>\n",
       "      <td>September 5, 2013</td>\n",
       "      <td>3.80</td>\n",
       "    </tr>\n",
       "    <tr>\n",
       "      <th>16</th>\n",
       "      <td>17.</td>\n",
       "      <td>\"Counting Stars\"[38]</td>\n",
       "      <td>OneRepublic</td>\n",
       "      <td>May 31, 2013</td>\n",
       "      <td>3.79</td>\n",
       "    </tr>\n",
       "    <tr>\n",
       "      <th>17</th>\n",
       "      <td>18.</td>\n",
       "      <td>\"Sorry\"[39]</td>\n",
       "      <td>Justin Bieber</td>\n",
       "      <td>October 22, 2015</td>\n",
       "      <td>3.66</td>\n",
       "    </tr>\n",
       "    <tr>\n",
       "      <th>18</th>\n",
       "      <td>19.</td>\n",
       "      <td>\"Baa Baa Black Sheep\"[40]</td>\n",
       "      <td>Cocomelon – Nursery Rhymes</td>\n",
       "      <td>June 25, 2018</td>\n",
       "      <td>3.64</td>\n",
       "    </tr>\n",
       "    <tr>\n",
       "      <th>19</th>\n",
       "      <td>20.</td>\n",
       "      <td>\"Thinking Out Loud\"[41]</td>\n",
       "      <td>Ed Sheeran</td>\n",
       "      <td>October 7, 2014</td>\n",
       "      <td>3.60</td>\n",
       "    </tr>\n",
       "    <tr>\n",
       "      <th>20</th>\n",
       "      <td>21.</td>\n",
       "      <td>\"Waka Waka (This Time for Africa)\"[42]</td>\n",
       "      <td>Shakira</td>\n",
       "      <td>June 4, 2010</td>\n",
       "      <td>3.59</td>\n",
       "    </tr>\n",
       "    <tr>\n",
       "      <th>21</th>\n",
       "      <td>22.</td>\n",
       "      <td>\"Dark Horse\"[43]</td>\n",
       "      <td>Katy Perry</td>\n",
       "      <td>February 20, 2014</td>\n",
       "      <td>3.52</td>\n",
       "    </tr>\n",
       "    <tr>\n",
       "      <th>22</th>\n",
       "      <td>23.</td>\n",
       "      <td>\"Lakdi Ki Kathi\"[44]</td>\n",
       "      <td>Jingle Toons</td>\n",
       "      <td>June 14, 2018</td>\n",
       "      <td>3.48</td>\n",
       "    </tr>\n",
       "    <tr>\n",
       "      <th>23</th>\n",
       "      <td>24.</td>\n",
       "      <td>\"Faded\"[45]</td>\n",
       "      <td>Alan Walker</td>\n",
       "      <td>December 3, 2015</td>\n",
       "      <td>3.45</td>\n",
       "    </tr>\n",
       "    <tr>\n",
       "      <th>24</th>\n",
       "      <td>25.</td>\n",
       "      <td>\"Perfect\"[46]</td>\n",
       "      <td>Ed Sheeran</td>\n",
       "      <td>November 9, 2017</td>\n",
       "      <td>3.45</td>\n",
       "    </tr>\n",
       "    <tr>\n",
       "      <th>25</th>\n",
       "      <td>26.</td>\n",
       "      <td>\"Let Her Go\"[47]</td>\n",
       "      <td>Passenger</td>\n",
       "      <td>July 25, 2012</td>\n",
       "      <td>3.44</td>\n",
       "    </tr>\n",
       "    <tr>\n",
       "      <th>26</th>\n",
       "      <td>27.</td>\n",
       "      <td>\"Girls Like You\"[48]</td>\n",
       "      <td>Maroon 5</td>\n",
       "      <td>May 31, 2018</td>\n",
       "      <td>3.42</td>\n",
       "    </tr>\n",
       "    <tr>\n",
       "      <th>27</th>\n",
       "      <td>28.</td>\n",
       "      <td>\"Humpty the train on a fruits ride\"[49]</td>\n",
       "      <td>Kiddiestv Hindi – Nursery Rhymes &amp; Kids Songs</td>\n",
       "      <td>January 26, 2018</td>\n",
       "      <td>3.41</td>\n",
       "    </tr>\n",
       "    <tr>\n",
       "      <th>28</th>\n",
       "      <td>29.</td>\n",
       "      <td>\"Lean On\"[50]</td>\n",
       "      <td>Major Lazer</td>\n",
       "      <td>March 22, 2015</td>\n",
       "      <td>3.38</td>\n",
       "    </tr>\n",
       "    <tr>\n",
       "      <th>29</th>\n",
       "      <td>30.</td>\n",
       "      <td>\"Bailando\"[51]</td>\n",
       "      <td>Enrique Iglesias</td>\n",
       "      <td>April 11, 2014</td>\n",
       "      <td>3.38</td>\n",
       "    </tr>\n",
       "  </tbody>\n",
       "</table>\n",
       "</div>"
      ],
      "text/plain": [
       "   Rank                                             Name  \\\n",
       "0    1.                            \"Baby Shark Dance\"[4]   \n",
       "1    2.                                   \"Despacito\"[7]   \n",
       "2    3.                       \"Johny Johny Yes Papa\"[14]   \n",
       "3    4.                                  \"Bath Song\"[15]   \n",
       "4    5.                               \"Shape of You\"[16]   \n",
       "5    6.                              \"See You Again\"[19]   \n",
       "6    7.                \"Phonics Song with Two Words\"[24]   \n",
       "7    8.                          \"Wheels on the Bus\"[25]   \n",
       "8    9.                                \"Uptown Funk\"[26]   \n",
       "9   10.  \"Learning Colors – Colorful Eggs on a Farm\"[27]   \n",
       "10  11.                              \"Gangnam Style\"[28]   \n",
       "11  12.   \"Masha and the Bear – Recipe for Disaster\"[33]   \n",
       "12  13.                             \"Dame Tu Cosita\"[34]   \n",
       "13  14.                                     \"Axel F\"[35]   \n",
       "14  15.                                      \"Sugar\"[36]   \n",
       "15  16.                                       \"Roar\"[37]   \n",
       "16  17.                             \"Counting Stars\"[38]   \n",
       "17  18.                                      \"Sorry\"[39]   \n",
       "18  19.                        \"Baa Baa Black Sheep\"[40]   \n",
       "19  20.                          \"Thinking Out Loud\"[41]   \n",
       "20  21.           \"Waka Waka (This Time for Africa)\"[42]   \n",
       "21  22.                                 \"Dark Horse\"[43]   \n",
       "22  23.                             \"Lakdi Ki Kathi\"[44]   \n",
       "23  24.                                      \"Faded\"[45]   \n",
       "24  25.                                    \"Perfect\"[46]   \n",
       "25  26.                                 \"Let Her Go\"[47]   \n",
       "26  27.                             \"Girls Like You\"[48]   \n",
       "27  28.          \"Humpty the train on a fruits ride\"[49]   \n",
       "28  29.                                    \"Lean On\"[50]   \n",
       "29  30.                                   \"Bailando\"[51]   \n",
       "\n",
       "                                           Artist        upload Date  Views  \n",
       "0     Pinkfong Baby Shark - Kids' Songs & Stories      June 17, 2016  12.85  \n",
       "1                                      Luis Fonsi   January 12, 2017   8.16  \n",
       "2                                     LooLoo Kids    October 8, 2016   6.70  \n",
       "3                      Cocomelon – Nursery Rhymes        May 2, 2018   6.20  \n",
       "4                                      Ed Sheeran   January 30, 2017   6.00  \n",
       "5                                     Wiz Khalifa      April 6, 2015   5.89  \n",
       "6                                       ChuChu TV      March 6, 2014   5.30  \n",
       "7                      Cocomelon – Nursery Rhymes       May 24, 2018   5.24  \n",
       "8                                     Mark Ronson  November 19, 2014   4.92  \n",
       "9                                     Miroshka TV  February 27, 2018   4.89  \n",
       "10                                            Psy      July 15, 2012   4.80  \n",
       "11                                     Get Movies   January 31, 2012   4.55  \n",
       "12                                      El Chombo      April 5, 2018   4.35  \n",
       "13                                     Crazy Frog      June 16, 2009   3.91  \n",
       "14                                       Maroon 5   January 14, 2015   3.87  \n",
       "15                                     Katy Perry  September 5, 2013   3.80  \n",
       "16                                    OneRepublic       May 31, 2013   3.79  \n",
       "17                                  Justin Bieber   October 22, 2015   3.66  \n",
       "18                     Cocomelon – Nursery Rhymes      June 25, 2018   3.64  \n",
       "19                                     Ed Sheeran    October 7, 2014   3.60  \n",
       "20                                        Shakira       June 4, 2010   3.59  \n",
       "21                                     Katy Perry  February 20, 2014   3.52  \n",
       "22                                   Jingle Toons      June 14, 2018   3.48  \n",
       "23                                    Alan Walker   December 3, 2015   3.45  \n",
       "24                                     Ed Sheeran   November 9, 2017   3.45  \n",
       "25                                      Passenger      July 25, 2012   3.44  \n",
       "26                                       Maroon 5       May 31, 2018   3.42  \n",
       "27  Kiddiestv Hindi – Nursery Rhymes & Kids Songs   January 26, 2018   3.41  \n",
       "28                                    Major Lazer     March 22, 2015   3.38  \n",
       "29                               Enrique Iglesias     April 11, 2014   3.38  "
      ]
     },
     "execution_count": 24,
     "metadata": {},
     "output_type": "execute_result"
    }
   ],
   "source": [
    "df = pd.DataFrame({\"Rank\":rank, \"Name\":name, \"Artist\":uploader,\"upload Date\":publication, \"Views\":view})\n",
    "df"
   ]
  },
  {
   "cell_type": "code",
   "execution_count": 25,
   "id": "117f6440",
   "metadata": {},
   "outputs": [],
   "source": [
    "d1.close()"
   ]
  },
  {
   "cell_type": "markdown",
   "id": "a638ffad",
   "metadata": {},
   "source": [
    "## Q2"
   ]
  },
  {
   "cell_type": "markdown",
   "id": "5c090fae",
   "metadata": {},
   "source": [
    "Scrape the details team India’s international fixtures from bcci.tv.\n",
    "Url = https://www.bcci.tv/.\n",
    "You need to find following details:\n",
    "A) Match title (I.e. 1st ODI)\n",
    "B) Series\n",
    "C) Place\n",
    "D) Date\n",
    "E) Time"
   ]
  },
  {
   "cell_type": "code",
   "execution_count": 26,
   "id": "7e0bc73a",
   "metadata": {},
   "outputs": [],
   "source": [
    "d2 = webdriver.Chrome(r'chromedriver.exe')"
   ]
  },
  {
   "cell_type": "code",
   "execution_count": 27,
   "id": "b8ddec94",
   "metadata": {},
   "outputs": [],
   "source": [
    "p2 = d2.get(\"https://www.bcci.tv/\")"
   ]
  },
  {
   "cell_type": "code",
   "execution_count": 28,
   "id": "136f2991",
   "metadata": {},
   "outputs": [],
   "source": [
    "menu = d2.find_element(By.XPATH,'//button[@class=\"navbar-toggler menu-btn menu-icon collapsed\"]')\n",
    "menu.click()"
   ]
  },
  {
   "cell_type": "code",
   "execution_count": 29,
   "id": "06f9d50f",
   "metadata": {},
   "outputs": [],
   "source": [
    "international = d2.find_element(By.XPATH,'//div[@class=\"navbar-collapse collapse show\"]/ul/li[2]')\n",
    "international.click()"
   ]
  },
  {
   "cell_type": "code",
   "execution_count": 30,
   "id": "75a07e30",
   "metadata": {},
   "outputs": [],
   "source": [
    "odi = d2.find_element(By.XPATH,'//div[@class=\"row\"]/div[3]/div/div[2]/div[3]')\n",
    "odi.click()"
   ]
  },
  {
   "cell_type": "code",
   "execution_count": 31,
   "id": "69f9ab22",
   "metadata": {},
   "outputs": [],
   "source": [
    "ind = d2.find_element(By.XPATH,'//div[@class=\"row\"]/div[4]/div/div/div[3]')\n",
    "ind.click()"
   ]
  },
  {
   "cell_type": "code",
   "execution_count": 37,
   "id": "496595d9",
   "metadata": {},
   "outputs": [],
   "source": [
    "series = []"
   ]
  },
  {
   "cell_type": "code",
   "execution_count": 40,
   "id": "1d0bc238",
   "metadata": {},
   "outputs": [],
   "source": [
    "try:\n",
    "    series1 = d2.find_elements(By.XPATH,'//h5[@class=\"match-tournament-name ng-binding\"]')\n",
    "    for i in series1:\n",
    "        series.append(i.text)\n",
    "except StaleElementReferenceException as e:\n",
    "    print(\"The erroe is \",e)\n",
    "    print(\"No matches available \")\n",
    "    series.append(\"-\")"
   ]
  },
  {
   "cell_type": "code",
   "execution_count": 41,
   "id": "2ed45694",
   "metadata": {},
   "outputs": [
    {
     "name": "stdout",
     "output_type": "stream",
     "text": [
      "['INDIA TOUR OF WEST INDIES 2023', 'INDIA TOUR OF WEST INDIES 2023', 'INDIA TOUR OF WEST INDIES 2023']\n"
     ]
    }
   ],
   "source": [
    "print(series)"
   ]
  },
  {
   "cell_type": "code",
   "execution_count": 93,
   "id": "3fd21f54",
   "metadata": {},
   "outputs": [],
   "source": [
    "title = []"
   ]
  },
  {
   "cell_type": "code",
   "execution_count": 94,
   "id": "143914be",
   "metadata": {},
   "outputs": [],
   "source": [
    "try:\n",
    "    titles = d2.find_elements(By.XPATH,'//span[@class=\"matchOrderText ng-binding ng-scope\"]')\n",
    "    for i in titles:\n",
    "        title.append((i.text).split(\"-\")[0])\n",
    "except StaleElementReferenceException as e:\n",
    "    print(\"The erroe is \",e)\n",
    "    print(\"No matches available \")\n",
    "    title.append(\"-\")"
   ]
  },
  {
   "cell_type": "code",
   "execution_count": 95,
   "id": "70c00160",
   "metadata": {},
   "outputs": [
    {
     "data": {
      "text/plain": [
       "['1st ODI ', '2nd ODI ', '3rd ODI ']"
      ]
     },
     "execution_count": 95,
     "metadata": {},
     "output_type": "execute_result"
    }
   ],
   "source": [
    "title"
   ]
  },
  {
   "cell_type": "code",
   "execution_count": 101,
   "id": "579e6754",
   "metadata": {},
   "outputs": [],
   "source": [
    "place = []"
   ]
  },
  {
   "cell_type": "code",
   "execution_count": 102,
   "id": "248d7e98",
   "metadata": {},
   "outputs": [],
   "source": [
    "try:\n",
    "    places = d2.find_elements(By.XPATH,'//div[@class=\"match-place ng-scope\"]')\n",
    "    for i in places:\n",
    "        place.append((i.text).split(\"-\")[1])\n",
    "except StaleElementReferenceException as e:\n",
    "    print(\"The erroe is \",e)\n",
    "    print(\"No matches available \")\n",
    "    place.append(\"-\")"
   ]
  },
  {
   "cell_type": "code",
   "execution_count": 103,
   "id": "186a8ba0",
   "metadata": {},
   "outputs": [
    {
     "name": "stdout",
     "output_type": "stream",
     "text": [
      "[' Kensington Oval, Barbados', ' Kensington Oval, Barbados', ' Brian Lara Stadium, Trinidad']\n"
     ]
    }
   ],
   "source": [
    "print(place)"
   ]
  },
  {
   "cell_type": "code",
   "execution_count": 115,
   "id": "d9ea6b01",
   "metadata": {},
   "outputs": [],
   "source": [
    "date = []"
   ]
  },
  {
   "cell_type": "code",
   "execution_count": 116,
   "id": "508e707e",
   "metadata": {},
   "outputs": [],
   "source": [
    "try:\n",
    "    dt = d2.find_elements(By.XPATH,'//div[@class=\"match-dates ng-binding\"]')\n",
    "    for i in dt:\n",
    "        date.append(i.text)\n",
    "except StaleElementReferenceException as e:\n",
    "    print(\"The erroe is \",e)\n",
    "    print(\"No matches available \")\n",
    "    date.append(\"-\")"
   ]
  },
  {
   "cell_type": "code",
   "execution_count": 117,
   "id": "8f002592",
   "metadata": {},
   "outputs": [
    {
     "data": {
      "text/plain": [
       "['27 JUL 2023', '29 JUL 2023', '1 AUG 2023']"
      ]
     },
     "execution_count": 117,
     "metadata": {},
     "output_type": "execute_result"
    }
   ],
   "source": [
    "date"
   ]
  },
  {
   "cell_type": "code",
   "execution_count": 118,
   "id": "0d03eecb",
   "metadata": {},
   "outputs": [],
   "source": [
    "time = []"
   ]
  },
  {
   "cell_type": "code",
   "execution_count": 119,
   "id": "900dc9ac",
   "metadata": {},
   "outputs": [],
   "source": [
    "try:\n",
    "    tm = d2.find_elements(By.XPATH,'//div[@class=\"match-time no-margin ng-binding\"]')\n",
    "    for i in tm:\n",
    "        time.append(i.text)\n",
    "except StaleElementReferenceException as e:\n",
    "    print(\"The erroe is \",e)\n",
    "    print(\"No matches available \")\n",
    "    time.append(\"-\")"
   ]
  },
  {
   "cell_type": "code",
   "execution_count": 120,
   "id": "0858a016",
   "metadata": {},
   "outputs": [
    {
     "name": "stdout",
     "output_type": "stream",
     "text": [
      "['7:00 PM IST', '7:00 PM IST', '7:00 PM IST']\n"
     ]
    }
   ],
   "source": [
    "print(time)"
   ]
  },
  {
   "cell_type": "markdown",
   "id": "300a63fd",
   "metadata": {},
   "source": [
    "\n",
    "    "
   ]
  },
  {
   "cell_type": "code",
   "execution_count": 125,
   "id": "ca70d481",
   "metadata": {},
   "outputs": [
    {
     "data": {
      "text/html": [
       "<div>\n",
       "<style scoped>\n",
       "    .dataframe tbody tr th:only-of-type {\n",
       "        vertical-align: middle;\n",
       "    }\n",
       "\n",
       "    .dataframe tbody tr th {\n",
       "        vertical-align: top;\n",
       "    }\n",
       "\n",
       "    .dataframe thead th {\n",
       "        text-align: right;\n",
       "    }\n",
       "</style>\n",
       "<table border=\"1\" class=\"dataframe\">\n",
       "  <thead>\n",
       "    <tr style=\"text-align: right;\">\n",
       "      <th></th>\n",
       "      <th>Match Title</th>\n",
       "      <th>Series</th>\n",
       "      <th>Place</th>\n",
       "      <th>Date</th>\n",
       "      <th>Time</th>\n",
       "    </tr>\n",
       "  </thead>\n",
       "  <tbody>\n",
       "    <tr>\n",
       "      <th>0</th>\n",
       "      <td>1st ODI</td>\n",
       "      <td>INDIA TOUR OF WEST INDIES 2023</td>\n",
       "      <td>Kensington Oval, Barbados</td>\n",
       "      <td>27 JUL 2023</td>\n",
       "      <td>7:00 PM IST</td>\n",
       "    </tr>\n",
       "    <tr>\n",
       "      <th>1</th>\n",
       "      <td>2nd ODI</td>\n",
       "      <td>INDIA TOUR OF WEST INDIES 2023</td>\n",
       "      <td>Kensington Oval, Barbados</td>\n",
       "      <td>29 JUL 2023</td>\n",
       "      <td>7:00 PM IST</td>\n",
       "    </tr>\n",
       "    <tr>\n",
       "      <th>2</th>\n",
       "      <td>3rd ODI</td>\n",
       "      <td>INDIA TOUR OF WEST INDIES 2023</td>\n",
       "      <td>Brian Lara Stadium, Trinidad</td>\n",
       "      <td>1 AUG 2023</td>\n",
       "      <td>7:00 PM IST</td>\n",
       "    </tr>\n",
       "  </tbody>\n",
       "</table>\n",
       "</div>"
      ],
      "text/plain": [
       "  Match Title                          Series                          Place  \\\n",
       "0    1st ODI   INDIA TOUR OF WEST INDIES 2023      Kensington Oval, Barbados   \n",
       "1    2nd ODI   INDIA TOUR OF WEST INDIES 2023      Kensington Oval, Barbados   \n",
       "2    3rd ODI   INDIA TOUR OF WEST INDIES 2023   Brian Lara Stadium, Trinidad   \n",
       "\n",
       "          Date         Time  \n",
       "0  27 JUL 2023  7:00 PM IST  \n",
       "1  29 JUL 2023  7:00 PM IST  \n",
       "2   1 AUG 2023  7:00 PM IST  "
      ]
     },
     "execution_count": 125,
     "metadata": {},
     "output_type": "execute_result"
    }
   ],
   "source": [
    "match = pd.DataFrame({\"Match Title\": title ,\"Series\":series ,\"Place\":place, \"Date\":date,\"Time\":time})\n",
    "match"
   ]
  },
  {
   "cell_type": "code",
   "execution_count": 129,
   "id": "150235f2",
   "metadata": {},
   "outputs": [],
   "source": [
    "d2.close()"
   ]
  },
  {
   "cell_type": "markdown",
   "id": "63389598",
   "metadata": {},
   "source": [
    "## Q3"
   ]
  },
  {
   "cell_type": "markdown",
   "id": "f433bab7",
   "metadata": {},
   "source": [
    "Scrape the details of State-wise GDP of India from statisticstime.com. Url = http://statisticstimes.com/\n",
    "\n",
    "You have to find following details:\n",
    "\n",
    "A) Rank\n",
    "\n",
    "B) State\n",
    "\n",
    "C) GSDP(18-19)- at current prices\n",
    "\n",
    "D) GSDP(19-20)- at current prices\n",
    "\n",
    "E) Share(18-19)\n",
    "\n",
    "F) GDP($ billion)\n"
   ]
  },
  {
   "cell_type": "code",
   "execution_count": 2,
   "id": "8a21e8bf",
   "metadata": {},
   "outputs": [],
   "source": [
    "d3 = webdriver.Chrome(r'chremedriver.exe')"
   ]
  },
  {
   "cell_type": "code",
   "execution_count": 3,
   "id": "6916cea3",
   "metadata": {},
   "outputs": [],
   "source": [
    "p3 = d3.get(\"http://statisticstimes.com/\")"
   ]
  },
  {
   "cell_type": "code",
   "execution_count": 27,
   "id": "cb729e7a",
   "metadata": {},
   "outputs": [
    {
     "name": "stdout",
     "output_type": "stream",
     "text": [
      "link :  https://www.statisticstimes.com/economy/india-statistics.php\n"
     ]
    }
   ],
   "source": [
    "try:\n",
    "    eco = d3.find_element(By.XPATH,'/html/body/div[2]/div[1]/div[2]/div[2]/button')\n",
    "    eco.click()\n",
    "    ind = d3.find_element(By.XPATH,'/html/body/div[2]/div[1]/div[2]/div[2]/div/a[3]')\n",
    "    a = ind.get_attribute(\"href\")\n",
    "    print(\"link : \", a)\n",
    "    d3.get(a)\n",
    "except ElementNotInteractableException as e:\n",
    "    print(e)\n",
    "    ind = d3.find_element(By.XPATH,'/html/body/div[2]/div[1]/div[2]/div[2]/div/a[3]')\n",
    "    a = ind.get_attribute(\"href\")\n",
    "    print(a)"
   ]
  },
  {
   "cell_type": "code",
   "execution_count": 28,
   "id": "e7259fec",
   "metadata": {},
   "outputs": [],
   "source": [
    "state_gdp = d3.find_element(By.XPATH,'/html/body/div[2]/div[2]/div[2]/ul/li[1]/a')\n",
    "state_gdp.click()"
   ]
  },
  {
   "cell_type": "code",
   "execution_count": 29,
   "id": "1ccd7a73",
   "metadata": {},
   "outputs": [],
   "source": [
    "rank = []"
   ]
  },
  {
   "cell_type": "code",
   "execution_count": 30,
   "id": "05ea4d63",
   "metadata": {},
   "outputs": [],
   "source": [
    "try:\n",
    "    rnk = d3.find_elements(By.XPATH,'//*[@id=\"main\"]/div[5]/div[1]/div/table/tbody/tr/td[1]')\n",
    "    for i in rnk:\n",
    "        rank.append(i.text)\n",
    "except NoSuchElementException as e:\n",
    "    rank.append(\"-\")"
   ]
  },
  {
   "cell_type": "code",
   "execution_count": 31,
   "id": "d1ca952c",
   "metadata": {},
   "outputs": [
    {
     "name": "stdout",
     "output_type": "stream",
     "text": [
      "['1', '2', '3', '4', '5', '6', '7', '8', '9', '10', '11', '12', '13', '14', '15', '16', '17', '18', '19', '20', '21', '22', '23', '24', '25', '26', '27', '28', '29', '30', '31', '32', '33']\n"
     ]
    }
   ],
   "source": [
    "print(rank)"
   ]
  },
  {
   "cell_type": "code",
   "execution_count": 32,
   "id": "2c5f3d50",
   "metadata": {},
   "outputs": [],
   "source": [
    "state = []"
   ]
  },
  {
   "cell_type": "code",
   "execution_count": 35,
   "id": "159ee6be",
   "metadata": {},
   "outputs": [],
   "source": [
    "try:\n",
    "    st = d3.find_elements(By.XPATH,'//*[@id=\"main\"]/div[5]/div[1]/div/table/tbody/tr/td[2]')\n",
    "    for i in st:\n",
    "        state.append(i.text)\n",
    "except NoSuchElementException as e:\n",
    "    state.append(\"-\")"
   ]
  },
  {
   "cell_type": "code",
   "execution_count": 36,
   "id": "dd1c72fc",
   "metadata": {},
   "outputs": [
    {
     "name": "stdout",
     "output_type": "stream",
     "text": [
      "['Maharashtra', 'Tamil Nadu', 'Uttar Pradesh', 'Gujarat', 'Karnataka', 'West Bengal', 'Rajasthan', 'Andhra Pradesh', 'Telangana', 'Madhya Pradesh', 'Kerala', 'Delhi', 'Haryana', 'Bihar', 'Punjab', 'Odisha', 'Assam', 'Chhattisgarh', 'Jharkhand', 'Uttarakhand', 'Jammu & Kashmir', 'Himachal Pradesh', 'Goa', 'Tripura', 'Chandigarh', 'Puducherry', 'Meghalaya', 'Sikkim', 'Manipur', 'Nagaland', 'Arunachal Pradesh', 'Mizoram', 'Andaman & Nicobar Islands']\n"
     ]
    }
   ],
   "source": [
    "print(state)"
   ]
  },
  {
   "cell_type": "code",
   "execution_count": 37,
   "id": "bf0c72d0",
   "metadata": {},
   "outputs": [],
   "source": [
    "gsd18_19 =[]"
   ]
  },
  {
   "cell_type": "code",
   "execution_count": 39,
   "id": "26636c8b",
   "metadata": {},
   "outputs": [],
   "source": [
    "try:\n",
    "    gd1 = d3.find_elements(By.XPATH,'//*[@id=\"main\"]/div[5]/div[1]/div/table/tbody/tr/td[3]')\n",
    "    for i in gd1:\n",
    "        gsd18_19.append(i.text)\n",
    "except NoSuchElementException as e:\n",
    "    gsd18_19.append(\"-\")"
   ]
  },
  {
   "cell_type": "code",
   "execution_count": 40,
   "id": "8f45c887",
   "metadata": {},
   "outputs": [
    {
     "name": "stdout",
     "output_type": "stream",
     "text": [
      "['-', '1,845,853', '1,687,818', '-', '1,631,977', '1,253,832', '1,020,989', '972,782', '969,604', '906,672', '-', '856,112', '831,610', '611,804', '574,760', '521,275', '-', '329,180', '328,598', '-', '-', '165,472', '80,449', '55,984', '-', '38,253', '36,572', '32,496', '31,790', '-', '-', '26,503', '-']\n"
     ]
    }
   ],
   "source": [
    "print(gsd18_19)"
   ]
  },
  {
   "cell_type": "code",
   "execution_count": 41,
   "id": "6c17c922",
   "metadata": {},
   "outputs": [],
   "source": [
    "gsd19_20 = []"
   ]
  },
  {
   "cell_type": "code",
   "execution_count": 42,
   "id": "bae0abc8",
   "metadata": {},
   "outputs": [],
   "source": [
    "try:\n",
    "    gd2 = d3.find_elements(By.XPATH,'//*[@id=\"main\"]/div[5]/div[1]/div/table/tbody/tr/td[4]')\n",
    "    for i in gd2:\n",
    "        gsd19_20.append(i.text)\n",
    "except NoSuchElementException as e:\n",
    "    gsd19_20.append(\"-\")"
   ]
  },
  {
   "cell_type": "code",
   "execution_count": 43,
   "id": "470edb5e",
   "metadata": {},
   "outputs": [
    {
     "name": "stdout",
     "output_type": "stream",
     "text": [
      "['2,632,792', '1,630,208', '1,584,764', '1,502,899', '1,493,127', '1,089,898', '942,586', '862,957', '861,031', '809,592', '781,653', '774,870', '734,163', '530,363', '526,376', '487,805', '315,881', '304,063', '297,204', '245,895', '155,956', '153,845', '73,170', '49,845', '42,114', '34,433', '33,481', '28,723', '27,870', '27,283', '24,603', '22,287', '-']\n"
     ]
    }
   ],
   "source": [
    "print(gsd19_20)"
   ]
  },
  {
   "cell_type": "code",
   "execution_count": 44,
   "id": "b97ad4f2",
   "metadata": {},
   "outputs": [],
   "source": [
    "share = []"
   ]
  },
  {
   "cell_type": "code",
   "execution_count": 45,
   "id": "4db0d300",
   "metadata": {},
   "outputs": [],
   "source": [
    "try:\n",
    "    sh = d3.find_elements(By.XPATH,'//*[@id=\"main\"]/div[5]/div[1]/div/table/tbody/tr/td[5]')\n",
    "    for i in sh:\n",
    "        share.append(i.text)\n",
    "except NoSuchElementException as e:\n",
    "    share.append(\"-\")"
   ]
  },
  {
   "cell_type": "code",
   "execution_count": 46,
   "id": "d7c8f287",
   "metadata": {},
   "outputs": [
    {
     "name": "stdout",
     "output_type": "stream",
     "text": [
      "['13.94%', '8.63%', '8.39%', '7.96%', '7.91%', '5.77%', '4.99%', '4.57%', '4.56%', '4.29%', '4.14%', '4.10%', '3.89%', '2.81%', '2.79%', '2.58%', '1.67%', '1.61%', '1.57%', '1.30%', '0.83%', '0.81%', '0.39%', '0.26%', '0.22%', '0.18%', '0.18%', '0.15%', '0.15%', '0.14%', '0.13%', '0.12%', '-']\n"
     ]
    }
   ],
   "source": [
    "print(share)"
   ]
  },
  {
   "cell_type": "code",
   "execution_count": 47,
   "id": "3941bdf2",
   "metadata": {},
   "outputs": [],
   "source": [
    "gdp = []"
   ]
  },
  {
   "cell_type": "code",
   "execution_count": 48,
   "id": "45cc977c",
   "metadata": {},
   "outputs": [],
   "source": [
    "try:\n",
    "    good = d3.find_elements(By.XPATH,'//*[@id=\"main\"]/div[5]/div[1]/div/table/tbody/tr/td[6]')\n",
    "    for i in good:\n",
    "        gdp.append(i.text)\n",
    "except NoSuchElementException as e:\n",
    "    gdp.append(\"-\")"
   ]
  },
  {
   "cell_type": "code",
   "execution_count": 49,
   "id": "c23b4876",
   "metadata": {},
   "outputs": [
    {
     "name": "stdout",
     "output_type": "stream",
     "text": [
      "['399.921', '247.629', '240.726', '228.290', '226.806', '165.556', '143.179', '131.083', '130.791', '122.977', '118.733', '117.703', '111.519', '80.562', '79.957', '74.098', '47.982', '46.187', '45.145', '37.351', '23.690', '23.369', '11.115', '7.571', '6.397', '5.230', '5.086', '4.363', '4.233', '4.144', '3.737', '3.385', '-']\n"
     ]
    }
   ],
   "source": [
    "print(gdp)"
   ]
  },
  {
   "cell_type": "code",
   "execution_count": 50,
   "id": "c53a18d9",
   "metadata": {},
   "outputs": [
    {
     "data": {
      "text/html": [
       "<div>\n",
       "<style scoped>\n",
       "    .dataframe tbody tr th:only-of-type {\n",
       "        vertical-align: middle;\n",
       "    }\n",
       "\n",
       "    .dataframe tbody tr th {\n",
       "        vertical-align: top;\n",
       "    }\n",
       "\n",
       "    .dataframe thead th {\n",
       "        text-align: right;\n",
       "    }\n",
       "</style>\n",
       "<table border=\"1\" class=\"dataframe\">\n",
       "  <thead>\n",
       "    <tr style=\"text-align: right;\">\n",
       "      <th></th>\n",
       "      <th>Rank</th>\n",
       "      <th>State</th>\n",
       "      <th>GSDP(18-19)- at current prices</th>\n",
       "      <th>GSDP(19-20)- at current prices</th>\n",
       "      <th>Share(18-19)</th>\n",
       "      <th>GDP($ billion)</th>\n",
       "    </tr>\n",
       "  </thead>\n",
       "  <tbody>\n",
       "    <tr>\n",
       "      <th>0</th>\n",
       "      <td>1</td>\n",
       "      <td>Maharashtra</td>\n",
       "      <td>-</td>\n",
       "      <td>2,632,792</td>\n",
       "      <td>13.94%</td>\n",
       "      <td>399.921</td>\n",
       "    </tr>\n",
       "    <tr>\n",
       "      <th>1</th>\n",
       "      <td>2</td>\n",
       "      <td>Tamil Nadu</td>\n",
       "      <td>1,845,853</td>\n",
       "      <td>1,630,208</td>\n",
       "      <td>8.63%</td>\n",
       "      <td>247.629</td>\n",
       "    </tr>\n",
       "    <tr>\n",
       "      <th>2</th>\n",
       "      <td>3</td>\n",
       "      <td>Uttar Pradesh</td>\n",
       "      <td>1,687,818</td>\n",
       "      <td>1,584,764</td>\n",
       "      <td>8.39%</td>\n",
       "      <td>240.726</td>\n",
       "    </tr>\n",
       "    <tr>\n",
       "      <th>3</th>\n",
       "      <td>4</td>\n",
       "      <td>Gujarat</td>\n",
       "      <td>-</td>\n",
       "      <td>1,502,899</td>\n",
       "      <td>7.96%</td>\n",
       "      <td>228.290</td>\n",
       "    </tr>\n",
       "    <tr>\n",
       "      <th>4</th>\n",
       "      <td>5</td>\n",
       "      <td>Karnataka</td>\n",
       "      <td>1,631,977</td>\n",
       "      <td>1,493,127</td>\n",
       "      <td>7.91%</td>\n",
       "      <td>226.806</td>\n",
       "    </tr>\n",
       "    <tr>\n",
       "      <th>5</th>\n",
       "      <td>6</td>\n",
       "      <td>West Bengal</td>\n",
       "      <td>1,253,832</td>\n",
       "      <td>1,089,898</td>\n",
       "      <td>5.77%</td>\n",
       "      <td>165.556</td>\n",
       "    </tr>\n",
       "    <tr>\n",
       "      <th>6</th>\n",
       "      <td>7</td>\n",
       "      <td>Rajasthan</td>\n",
       "      <td>1,020,989</td>\n",
       "      <td>942,586</td>\n",
       "      <td>4.99%</td>\n",
       "      <td>143.179</td>\n",
       "    </tr>\n",
       "    <tr>\n",
       "      <th>7</th>\n",
       "      <td>8</td>\n",
       "      <td>Andhra Pradesh</td>\n",
       "      <td>972,782</td>\n",
       "      <td>862,957</td>\n",
       "      <td>4.57%</td>\n",
       "      <td>131.083</td>\n",
       "    </tr>\n",
       "    <tr>\n",
       "      <th>8</th>\n",
       "      <td>9</td>\n",
       "      <td>Telangana</td>\n",
       "      <td>969,604</td>\n",
       "      <td>861,031</td>\n",
       "      <td>4.56%</td>\n",
       "      <td>130.791</td>\n",
       "    </tr>\n",
       "    <tr>\n",
       "      <th>9</th>\n",
       "      <td>10</td>\n",
       "      <td>Madhya Pradesh</td>\n",
       "      <td>906,672</td>\n",
       "      <td>809,592</td>\n",
       "      <td>4.29%</td>\n",
       "      <td>122.977</td>\n",
       "    </tr>\n",
       "    <tr>\n",
       "      <th>10</th>\n",
       "      <td>11</td>\n",
       "      <td>Kerala</td>\n",
       "      <td>-</td>\n",
       "      <td>781,653</td>\n",
       "      <td>4.14%</td>\n",
       "      <td>118.733</td>\n",
       "    </tr>\n",
       "    <tr>\n",
       "      <th>11</th>\n",
       "      <td>12</td>\n",
       "      <td>Delhi</td>\n",
       "      <td>856,112</td>\n",
       "      <td>774,870</td>\n",
       "      <td>4.10%</td>\n",
       "      <td>117.703</td>\n",
       "    </tr>\n",
       "    <tr>\n",
       "      <th>12</th>\n",
       "      <td>13</td>\n",
       "      <td>Haryana</td>\n",
       "      <td>831,610</td>\n",
       "      <td>734,163</td>\n",
       "      <td>3.89%</td>\n",
       "      <td>111.519</td>\n",
       "    </tr>\n",
       "    <tr>\n",
       "      <th>13</th>\n",
       "      <td>14</td>\n",
       "      <td>Bihar</td>\n",
       "      <td>611,804</td>\n",
       "      <td>530,363</td>\n",
       "      <td>2.81%</td>\n",
       "      <td>80.562</td>\n",
       "    </tr>\n",
       "    <tr>\n",
       "      <th>14</th>\n",
       "      <td>15</td>\n",
       "      <td>Punjab</td>\n",
       "      <td>574,760</td>\n",
       "      <td>526,376</td>\n",
       "      <td>2.79%</td>\n",
       "      <td>79.957</td>\n",
       "    </tr>\n",
       "    <tr>\n",
       "      <th>15</th>\n",
       "      <td>16</td>\n",
       "      <td>Odisha</td>\n",
       "      <td>521,275</td>\n",
       "      <td>487,805</td>\n",
       "      <td>2.58%</td>\n",
       "      <td>74.098</td>\n",
       "    </tr>\n",
       "    <tr>\n",
       "      <th>16</th>\n",
       "      <td>17</td>\n",
       "      <td>Assam</td>\n",
       "      <td>-</td>\n",
       "      <td>315,881</td>\n",
       "      <td>1.67%</td>\n",
       "      <td>47.982</td>\n",
       "    </tr>\n",
       "    <tr>\n",
       "      <th>17</th>\n",
       "      <td>18</td>\n",
       "      <td>Chhattisgarh</td>\n",
       "      <td>329,180</td>\n",
       "      <td>304,063</td>\n",
       "      <td>1.61%</td>\n",
       "      <td>46.187</td>\n",
       "    </tr>\n",
       "    <tr>\n",
       "      <th>18</th>\n",
       "      <td>19</td>\n",
       "      <td>Jharkhand</td>\n",
       "      <td>328,598</td>\n",
       "      <td>297,204</td>\n",
       "      <td>1.57%</td>\n",
       "      <td>45.145</td>\n",
       "    </tr>\n",
       "    <tr>\n",
       "      <th>19</th>\n",
       "      <td>20</td>\n",
       "      <td>Uttarakhand</td>\n",
       "      <td>-</td>\n",
       "      <td>245,895</td>\n",
       "      <td>1.30%</td>\n",
       "      <td>37.351</td>\n",
       "    </tr>\n",
       "    <tr>\n",
       "      <th>20</th>\n",
       "      <td>21</td>\n",
       "      <td>Jammu &amp; Kashmir</td>\n",
       "      <td>-</td>\n",
       "      <td>155,956</td>\n",
       "      <td>0.83%</td>\n",
       "      <td>23.690</td>\n",
       "    </tr>\n",
       "    <tr>\n",
       "      <th>21</th>\n",
       "      <td>22</td>\n",
       "      <td>Himachal Pradesh</td>\n",
       "      <td>165,472</td>\n",
       "      <td>153,845</td>\n",
       "      <td>0.81%</td>\n",
       "      <td>23.369</td>\n",
       "    </tr>\n",
       "    <tr>\n",
       "      <th>22</th>\n",
       "      <td>23</td>\n",
       "      <td>Goa</td>\n",
       "      <td>80,449</td>\n",
       "      <td>73,170</td>\n",
       "      <td>0.39%</td>\n",
       "      <td>11.115</td>\n",
       "    </tr>\n",
       "    <tr>\n",
       "      <th>23</th>\n",
       "      <td>24</td>\n",
       "      <td>Tripura</td>\n",
       "      <td>55,984</td>\n",
       "      <td>49,845</td>\n",
       "      <td>0.26%</td>\n",
       "      <td>7.571</td>\n",
       "    </tr>\n",
       "    <tr>\n",
       "      <th>24</th>\n",
       "      <td>25</td>\n",
       "      <td>Chandigarh</td>\n",
       "      <td>-</td>\n",
       "      <td>42,114</td>\n",
       "      <td>0.22%</td>\n",
       "      <td>6.397</td>\n",
       "    </tr>\n",
       "    <tr>\n",
       "      <th>25</th>\n",
       "      <td>26</td>\n",
       "      <td>Puducherry</td>\n",
       "      <td>38,253</td>\n",
       "      <td>34,433</td>\n",
       "      <td>0.18%</td>\n",
       "      <td>5.230</td>\n",
       "    </tr>\n",
       "    <tr>\n",
       "      <th>26</th>\n",
       "      <td>27</td>\n",
       "      <td>Meghalaya</td>\n",
       "      <td>36,572</td>\n",
       "      <td>33,481</td>\n",
       "      <td>0.18%</td>\n",
       "      <td>5.086</td>\n",
       "    </tr>\n",
       "    <tr>\n",
       "      <th>27</th>\n",
       "      <td>28</td>\n",
       "      <td>Sikkim</td>\n",
       "      <td>32,496</td>\n",
       "      <td>28,723</td>\n",
       "      <td>0.15%</td>\n",
       "      <td>4.363</td>\n",
       "    </tr>\n",
       "    <tr>\n",
       "      <th>28</th>\n",
       "      <td>29</td>\n",
       "      <td>Manipur</td>\n",
       "      <td>31,790</td>\n",
       "      <td>27,870</td>\n",
       "      <td>0.15%</td>\n",
       "      <td>4.233</td>\n",
       "    </tr>\n",
       "    <tr>\n",
       "      <th>29</th>\n",
       "      <td>30</td>\n",
       "      <td>Nagaland</td>\n",
       "      <td>-</td>\n",
       "      <td>27,283</td>\n",
       "      <td>0.14%</td>\n",
       "      <td>4.144</td>\n",
       "    </tr>\n",
       "    <tr>\n",
       "      <th>30</th>\n",
       "      <td>31</td>\n",
       "      <td>Arunachal Pradesh</td>\n",
       "      <td>-</td>\n",
       "      <td>24,603</td>\n",
       "      <td>0.13%</td>\n",
       "      <td>3.737</td>\n",
       "    </tr>\n",
       "    <tr>\n",
       "      <th>31</th>\n",
       "      <td>32</td>\n",
       "      <td>Mizoram</td>\n",
       "      <td>26,503</td>\n",
       "      <td>22,287</td>\n",
       "      <td>0.12%</td>\n",
       "      <td>3.385</td>\n",
       "    </tr>\n",
       "    <tr>\n",
       "      <th>32</th>\n",
       "      <td>33</td>\n",
       "      <td>Andaman &amp; Nicobar Islands</td>\n",
       "      <td>-</td>\n",
       "      <td>-</td>\n",
       "      <td>-</td>\n",
       "      <td>-</td>\n",
       "    </tr>\n",
       "  </tbody>\n",
       "</table>\n",
       "</div>"
      ],
      "text/plain": [
       "   Rank                      State GSDP(18-19)- at current prices  \\\n",
       "0     1                Maharashtra                              -   \n",
       "1     2                 Tamil Nadu                      1,845,853   \n",
       "2     3              Uttar Pradesh                      1,687,818   \n",
       "3     4                    Gujarat                              -   \n",
       "4     5                  Karnataka                      1,631,977   \n",
       "5     6                West Bengal                      1,253,832   \n",
       "6     7                  Rajasthan                      1,020,989   \n",
       "7     8             Andhra Pradesh                        972,782   \n",
       "8     9                  Telangana                        969,604   \n",
       "9    10             Madhya Pradesh                        906,672   \n",
       "10   11                     Kerala                              -   \n",
       "11   12                      Delhi                        856,112   \n",
       "12   13                    Haryana                        831,610   \n",
       "13   14                      Bihar                        611,804   \n",
       "14   15                     Punjab                        574,760   \n",
       "15   16                     Odisha                        521,275   \n",
       "16   17                      Assam                              -   \n",
       "17   18               Chhattisgarh                        329,180   \n",
       "18   19                  Jharkhand                        328,598   \n",
       "19   20                Uttarakhand                              -   \n",
       "20   21            Jammu & Kashmir                              -   \n",
       "21   22           Himachal Pradesh                        165,472   \n",
       "22   23                        Goa                         80,449   \n",
       "23   24                    Tripura                         55,984   \n",
       "24   25                 Chandigarh                              -   \n",
       "25   26                 Puducherry                         38,253   \n",
       "26   27                  Meghalaya                         36,572   \n",
       "27   28                     Sikkim                         32,496   \n",
       "28   29                    Manipur                         31,790   \n",
       "29   30                   Nagaland                              -   \n",
       "30   31          Arunachal Pradesh                              -   \n",
       "31   32                    Mizoram                         26,503   \n",
       "32   33  Andaman & Nicobar Islands                              -   \n",
       "\n",
       "   GSDP(19-20)- at current prices Share(18-19) GDP($ billion)  \n",
       "0                       2,632,792       13.94%        399.921  \n",
       "1                       1,630,208        8.63%        247.629  \n",
       "2                       1,584,764        8.39%        240.726  \n",
       "3                       1,502,899        7.96%        228.290  \n",
       "4                       1,493,127        7.91%        226.806  \n",
       "5                       1,089,898        5.77%        165.556  \n",
       "6                         942,586        4.99%        143.179  \n",
       "7                         862,957        4.57%        131.083  \n",
       "8                         861,031        4.56%        130.791  \n",
       "9                         809,592        4.29%        122.977  \n",
       "10                        781,653        4.14%        118.733  \n",
       "11                        774,870        4.10%        117.703  \n",
       "12                        734,163        3.89%        111.519  \n",
       "13                        530,363        2.81%         80.562  \n",
       "14                        526,376        2.79%         79.957  \n",
       "15                        487,805        2.58%         74.098  \n",
       "16                        315,881        1.67%         47.982  \n",
       "17                        304,063        1.61%         46.187  \n",
       "18                        297,204        1.57%         45.145  \n",
       "19                        245,895        1.30%         37.351  \n",
       "20                        155,956        0.83%         23.690  \n",
       "21                        153,845        0.81%         23.369  \n",
       "22                         73,170        0.39%         11.115  \n",
       "23                         49,845        0.26%          7.571  \n",
       "24                         42,114        0.22%          6.397  \n",
       "25                         34,433        0.18%          5.230  \n",
       "26                         33,481        0.18%          5.086  \n",
       "27                         28,723        0.15%          4.363  \n",
       "28                         27,870        0.15%          4.233  \n",
       "29                         27,283        0.14%          4.144  \n",
       "30                         24,603        0.13%          3.737  \n",
       "31                         22,287        0.12%          3.385  \n",
       "32                              -            -              -  "
      ]
     },
     "execution_count": 50,
     "metadata": {},
     "output_type": "execute_result"
    }
   ],
   "source": [
    "data = pd.DataFrame({\"Rank\":rank, \"State\":state, \"GSDP(18-19)- at current prices\":gsd18_19, \"GSDP(19-20)- at current prices\":gsd19_20, \"Share(18-19)\":share, \"GDP($ billion)\":gdp})\n",
    "data"
   ]
  },
  {
   "cell_type": "code",
   "execution_count": 51,
   "id": "bb67ef39",
   "metadata": {},
   "outputs": [],
   "source": [
    "d3.close()"
   ]
  },
  {
   "cell_type": "markdown",
   "id": "4e708afc",
   "metadata": {},
   "source": [
    "## Q4"
   ]
  },
  {
   "cell_type": "markdown",
   "id": "887de12a",
   "metadata": {},
   "source": [
    "Scrape the details of trending repositories on Github.com.\n",
    "Url = https://github.com/\n",
    "You have to find the following details:\n",
    "\n",
    "A) Repository title\n",
    "\n",
    "B) Repository description\n",
    "\n",
    "C) Contributors count\n",
    "\n",
    "D) Language used\n"
   ]
  },
  {
   "cell_type": "code",
   "execution_count": 87,
   "id": "160a67fe",
   "metadata": {},
   "outputs": [],
   "source": [
    "d4 = webdriver.Chrome(r'chromedriver.exe')"
   ]
  },
  {
   "cell_type": "code",
   "execution_count": 88,
   "id": "bce7745b",
   "metadata": {},
   "outputs": [],
   "source": [
    "p4 = d4.get(\"https://github.com/\")"
   ]
  },
  {
   "cell_type": "code",
   "execution_count": null,
   "id": "e9b5a5ba",
   "metadata": {},
   "outputs": [],
   "source": [
    "#open_source = d4.find_element(By.XPATH,'/html/body/div[1]/div[1]/header/div/div[2]/div/nav/ul/li[3]')\n",
    "#open_source.click()\n",
    "#time.sleep(2)\n",
    "#trending = d4.find_element(By.XPATH,'/html/body/div[1]/div[1]/header/div/div[2]/div/nav/ul/li[3]/div/div[3]/ul/li[2]/a')\n",
    "#trending.click()"
   ]
  },
  {
   "cell_type": "code",
   "execution_count": 89,
   "id": "590cda6a",
   "metadata": {},
   "outputs": [
    {
     "name": "stdout",
     "output_type": "stream",
     "text": [
      "https://github.com/trending\n"
     ]
    }
   ],
   "source": [
    "#or we can use this code too\n",
    "try:\n",
    "    open_source = d4.find_element(By.XPATH,'/html/body/div[1]/div[1]/header/div/div[2]/div/nav/ul/li[3]')\n",
    "    open_source.click()\n",
    "    time.sleep(2)\n",
    "    trending = d4.find_element(By.XPATH,'/html/body/div[1]/div[1]/header/div/div[2]/div/nav/ul/li[3]/div/div[3]/ul/li[2]/a')\n",
    "    links = trending.get_attribute(\"href\")\n",
    "    print(links)\n",
    "    d4.get(links)\n",
    "except NoSuchElementException as e:\n",
    "    print(e)\n",
    "    "
   ]
  },
  {
   "cell_type": "code",
   "execution_count": 90,
   "id": "658bd6b3",
   "metadata": {},
   "outputs": [],
   "source": [
    "title = []"
   ]
  },
  {
   "cell_type": "code",
   "execution_count": 91,
   "id": "edb69bea",
   "metadata": {},
   "outputs": [],
   "source": [
    "try:\n",
    "    titles = d4.find_elements(By.XPATH,'//h2[@class=\"h3 lh-condensed\"]')\n",
    "    for i in titles:\n",
    "        title.append(i.text)\n",
    "except NoSuchElementException as e:\n",
    "    print(e)\n"
   ]
  },
  {
   "cell_type": "code",
   "execution_count": 92,
   "id": "7e61673d",
   "metadata": {},
   "outputs": [
    {
     "name": "stdout",
     "output_type": "stream",
     "text": [
      "['Stability-AI / generative-models', 'sveltejs / svelte', 'ykdojo / kaguya', 'chat2db / Chat2DB', 'a16z-infra / ai-getting-started', 'techleadhd / chatgpt-retrieval', 'prisma / prisma', 'sindresorhus / awesome', 'scikit-learn / scikit-learn', 'codecrafters-io / build-your-own-x', 'refinedev / refine', 'google / googletest', 'geohot / tinygrad', 'CASIA-IVA-Lab / FastSAM', 'unifyai / ivy', 'coollabsio / coolify', 'Linen-dev / linen.dev', 'eslint / eslint', 'terraform-aws-modules / terraform-aws-eks', 'MustardChef / WSABuilds', 'joamag / boytacean', 'angular / angular', 'sveltejs / kit', 'ventoy / Ventoy', 'sebastianbergmann / phpunit']\n"
     ]
    }
   ],
   "source": [
    "print(title)"
   ]
  },
  {
   "cell_type": "code",
   "execution_count": 93,
   "id": "e0d89912",
   "metadata": {},
   "outputs": [],
   "source": [
    "urls = []"
   ]
  },
  {
   "cell_type": "code",
   "execution_count": 94,
   "id": "4fdf6c9c",
   "metadata": {},
   "outputs": [],
   "source": [
    "try:\n",
    "    url = d4.find_elements(By.XPATH,'//h2[@class=\"h3 lh-condensed\"]/a')\n",
    "    for i in url:\n",
    "        urls.append(i.get_attribute(\"href\"))\n",
    "except NoSuchElementException as e:\n",
    "    urls.append(\"-\")"
   ]
  },
  {
   "cell_type": "code",
   "execution_count": 95,
   "id": "ab0eae59",
   "metadata": {},
   "outputs": [
    {
     "name": "stdout",
     "output_type": "stream",
     "text": [
      "['https://github.com/Stability-AI/generative-models', 'https://github.com/sveltejs/svelte', 'https://github.com/ykdojo/kaguya', 'https://github.com/chat2db/Chat2DB', 'https://github.com/a16z-infra/ai-getting-started', 'https://github.com/techleadhd/chatgpt-retrieval', 'https://github.com/prisma/prisma', 'https://github.com/sindresorhus/awesome', 'https://github.com/scikit-learn/scikit-learn', 'https://github.com/codecrafters-io/build-your-own-x', 'https://github.com/refinedev/refine', 'https://github.com/google/googletest', 'https://github.com/geohot/tinygrad', 'https://github.com/CASIA-IVA-Lab/FastSAM', 'https://github.com/unifyai/ivy', 'https://github.com/coollabsio/coolify', 'https://github.com/Linen-dev/linen.dev', 'https://github.com/eslint/eslint', 'https://github.com/terraform-aws-modules/terraform-aws-eks', 'https://github.com/MustardChef/WSABuilds', 'https://github.com/joamag/boytacean', 'https://github.com/angular/angular', 'https://github.com/sveltejs/kit', 'https://github.com/ventoy/Ventoy', 'https://github.com/sebastianbergmann/phpunit']\n"
     ]
    }
   ],
   "source": [
    "print(urls)"
   ]
  },
  {
   "cell_type": "code",
   "execution_count": 103,
   "id": "5a953464",
   "metadata": {},
   "outputs": [],
   "source": [
    "contribute = [] #//div[@class=\"BorderGrid BorderGrid--spacious\"]/div[4]/div/h2/a/span\n",
    "# //a[@class=\"Link--primary no-underline d-flex flex-items-center\"]/span"
   ]
  },
  {
   "cell_type": "code",
   "execution_count": 104,
   "id": "1e06390f",
   "metadata": {},
   "outputs": [],
   "source": [
    "for i in urls:\n",
    "    d4.get(i)\n",
    "    time.sleep(4)\n",
    "    try:\n",
    "        cont = d4.find_element(By.XPATH,'//div[@class=\"BorderGrid BorderGrid--spacious\"]/div[4]/div/h2/a/span')\n",
    "        contribute.append(cont.text)\n",
    "    except NoSuchElementException as e :\n",
    "        contribute.append(\"-\")"
   ]
  },
  {
   "cell_type": "code",
   "execution_count": 98,
   "id": "1d1118d9",
   "metadata": {},
   "outputs": [],
   "source": [
    "#contribute1 = []\n",
    "#for i in urls:\n",
    "#    d4.get(i)\n",
    "#    time.sleep(4)\n",
    "#    try:\n",
    "#       cont1 = d4.find_element(By.XPATH,'//a[@class=\"Link--primary no-underline d-flex flex-items-center\"]/span')\n",
    "#        contribute1.append(cont1.text)\n",
    "#    except NoSuchElementException as e :\n",
    "#        contribute1.append(\"-\")"
   ]
  },
  {
   "cell_type": "code",
   "execution_count": 106,
   "id": "a762e802",
   "metadata": {},
   "outputs": [
    {
     "name": "stdout",
     "output_type": "stream",
     "text": [
      "['5', '', '3', '7', '-', '-', '210', '565', '', '2', '1.5k', '399', '17', '-', '', '25.8k', '-', '', '', '', '-', '2.9m', '72.9k', '', '427']\n"
     ]
    }
   ],
   "source": [
    "print(contribute)"
   ]
  },
  {
   "cell_type": "code",
   "execution_count": 78,
   "id": "06c8fe38",
   "metadata": {},
   "outputs": [],
   "source": [
    "discp = []  "
   ]
  },
  {
   "cell_type": "code",
   "execution_count": 79,
   "id": "fddf79b4",
   "metadata": {},
   "outputs": [],
   "source": [
    "for i in urls:\n",
    "    d4.get(i)\n",
    "    time.sleep(4)\n",
    "    try:\n",
    "        dsp = d4.find_element(By.XPATH,'//p[@class=\"f4 my-3\"]')\n",
    "        discp.append(dsp.text)\n",
    "    except NoSuchElementException as e :\n",
    "        discp.append(\"-\")"
   ]
  },
  {
   "cell_type": "code",
   "execution_count": 105,
   "id": "a4f64155",
   "metadata": {},
   "outputs": [
    {
     "name": "stdout",
     "output_type": "stream",
     "text": [
      "['Generative Models by Stability AI', 'Cybernetically enhanced web apps', 'A ChatGPT plugin that allows you to load and edit your local files in a controlled way, as well as run any Python, JavaScript, and bash script.', '🔥 🔥 🔥 An intelligent and versatile general-purpose SQL client and reporting tool for databases which integrates ChatGPT capabilities.(智能的通用数据库SQL客户端和报表工具)', 'A Javascript AI getting started stack for weekend projects, including image/text models, vector stores, auth, and deployment configs', '-', 'Next-generation ORM for Node.js & TypeScript | PostgreSQL, MySQL, MariaDB, SQL Server, SQLite, MongoDB and CockroachDB', '😎 Awesome lists about all kinds of interesting topics', 'scikit-learn: machine learning in Python', 'Master programming by recreating your favorite technologies from scratch.', 'Build your React-based CRUD applications, without constraints. 🌟 Star to support our work!', 'GoogleTest - Google Testing and Mocking Framework', 'You like pytorch? You like micrograd? You love tinygrad! ❤️', 'Fast Segment Anything', 'Unified AI', 'An open-source & self-hostable Heroku / Netlify alternative.', 'Lightweight Google-searchable Slack alternative for Communities', 'Find and fix problems in your JavaScript code.', 'Terraform module to create an Elastic Kubernetes (EKS) cluster and associated resources 🇺🇦', 'Run Windows Subsystem For Android on your Windows 10 and Windows 11 PC using prebuilt binaries with Google Play Store (OpenGApps/ MindTheGapps) and/or Magisk or KernelSU (root solutions) built in.', 'A GB emulator that is written in Rust 🦀!', 'The modern web developer’s platform', 'web development, streamlined', 'A new bootable USB solution.', 'The PHP Unit Testing framework.']\n"
     ]
    }
   ],
   "source": [
    "print(discp)"
   ]
  },
  {
   "cell_type": "code",
   "execution_count": 112,
   "id": "0610ed36",
   "metadata": {},
   "outputs": [],
   "source": [
    "language = []"
   ]
  },
  {
   "cell_type": "code",
   "execution_count": 114,
   "id": "18b4064d",
   "metadata": {},
   "outputs": [],
   "source": [
    "for i in urls:\n",
    "    d4.get(i)\n",
    "    time.sleep(4)\n",
    "    try:\n",
    "        lng = d4.find_element(By.XPATH,'//span[@class=\"color-fg-default text-bold mr-1\"]')\n",
    "        language.append(lng.text)\n",
    "    except NoSuchElementException as e :\n",
    "        language.append(\"-\")"
   ]
  },
  {
   "cell_type": "code",
   "execution_count": 117,
   "id": "91e82fc4",
   "metadata": {},
   "outputs": [
    {
     "name": "stdout",
     "output_type": "stream",
     "text": [
      "['Python', 'JavaScript', 'JavaScript', 'Java', 'TypeScript', 'Python', 'TypeScript', '-', 'Python', '-', 'TypeScript', 'C++', 'Python', 'Python', 'Python', 'PHP', 'TypeScript', 'JavaScript', 'HCL', 'Shell', 'Rust', 'TypeScript', 'JavaScript', 'C', 'PHP']\n"
     ]
    }
   ],
   "source": [
    "print(language)"
   ]
  },
  {
   "cell_type": "code",
   "execution_count": 116,
   "id": "dc752238",
   "metadata": {},
   "outputs": [
    {
     "data": {
      "text/html": [
       "<div>\n",
       "<style scoped>\n",
       "    .dataframe tbody tr th:only-of-type {\n",
       "        vertical-align: middle;\n",
       "    }\n",
       "\n",
       "    .dataframe tbody tr th {\n",
       "        vertical-align: top;\n",
       "    }\n",
       "\n",
       "    .dataframe thead th {\n",
       "        text-align: right;\n",
       "    }\n",
       "</style>\n",
       "<table border=\"1\" class=\"dataframe\">\n",
       "  <thead>\n",
       "    <tr style=\"text-align: right;\">\n",
       "      <th></th>\n",
       "      <th>Repository title</th>\n",
       "      <th>Repository description</th>\n",
       "      <th>Contributors count</th>\n",
       "      <th>Language Used</th>\n",
       "    </tr>\n",
       "  </thead>\n",
       "  <tbody>\n",
       "    <tr>\n",
       "      <th>0</th>\n",
       "      <td>Stability-AI / generative-models</td>\n",
       "      <td>Generative Models by Stability AI</td>\n",
       "      <td>5</td>\n",
       "      <td>Python</td>\n",
       "    </tr>\n",
       "    <tr>\n",
       "      <th>1</th>\n",
       "      <td>sveltejs / svelte</td>\n",
       "      <td>Cybernetically enhanced web apps</td>\n",
       "      <td></td>\n",
       "      <td>JavaScript</td>\n",
       "    </tr>\n",
       "    <tr>\n",
       "      <th>2</th>\n",
       "      <td>ykdojo / kaguya</td>\n",
       "      <td>A ChatGPT plugin that allows you to load and e...</td>\n",
       "      <td>3</td>\n",
       "      <td>JavaScript</td>\n",
       "    </tr>\n",
       "    <tr>\n",
       "      <th>3</th>\n",
       "      <td>chat2db / Chat2DB</td>\n",
       "      <td>🔥 🔥 🔥 An intelligent and versatile general-pur...</td>\n",
       "      <td>7</td>\n",
       "      <td>Java</td>\n",
       "    </tr>\n",
       "    <tr>\n",
       "      <th>4</th>\n",
       "      <td>a16z-infra / ai-getting-started</td>\n",
       "      <td>A Javascript AI getting started stack for week...</td>\n",
       "      <td>-</td>\n",
       "      <td>TypeScript</td>\n",
       "    </tr>\n",
       "    <tr>\n",
       "      <th>5</th>\n",
       "      <td>techleadhd / chatgpt-retrieval</td>\n",
       "      <td>-</td>\n",
       "      <td>-</td>\n",
       "      <td>Python</td>\n",
       "    </tr>\n",
       "    <tr>\n",
       "      <th>6</th>\n",
       "      <td>prisma / prisma</td>\n",
       "      <td>Next-generation ORM for Node.js &amp; TypeScript |...</td>\n",
       "      <td>210</td>\n",
       "      <td>TypeScript</td>\n",
       "    </tr>\n",
       "    <tr>\n",
       "      <th>7</th>\n",
       "      <td>sindresorhus / awesome</td>\n",
       "      <td>😎 Awesome lists about all kinds of interesting...</td>\n",
       "      <td>565</td>\n",
       "      <td>-</td>\n",
       "    </tr>\n",
       "    <tr>\n",
       "      <th>8</th>\n",
       "      <td>scikit-learn / scikit-learn</td>\n",
       "      <td>scikit-learn: machine learning in Python</td>\n",
       "      <td></td>\n",
       "      <td>Python</td>\n",
       "    </tr>\n",
       "    <tr>\n",
       "      <th>9</th>\n",
       "      <td>codecrafters-io / build-your-own-x</td>\n",
       "      <td>Master programming by recreating your favorite...</td>\n",
       "      <td>2</td>\n",
       "      <td>-</td>\n",
       "    </tr>\n",
       "    <tr>\n",
       "      <th>10</th>\n",
       "      <td>refinedev / refine</td>\n",
       "      <td>Build your React-based CRUD applications, with...</td>\n",
       "      <td>1.5k</td>\n",
       "      <td>TypeScript</td>\n",
       "    </tr>\n",
       "    <tr>\n",
       "      <th>11</th>\n",
       "      <td>google / googletest</td>\n",
       "      <td>GoogleTest - Google Testing and Mocking Framework</td>\n",
       "      <td>399</td>\n",
       "      <td>C++</td>\n",
       "    </tr>\n",
       "    <tr>\n",
       "      <th>12</th>\n",
       "      <td>geohot / tinygrad</td>\n",
       "      <td>You like pytorch? You like micrograd? You love...</td>\n",
       "      <td>17</td>\n",
       "      <td>Python</td>\n",
       "    </tr>\n",
       "    <tr>\n",
       "      <th>13</th>\n",
       "      <td>CASIA-IVA-Lab / FastSAM</td>\n",
       "      <td>Fast Segment Anything</td>\n",
       "      <td>-</td>\n",
       "      <td>Python</td>\n",
       "    </tr>\n",
       "    <tr>\n",
       "      <th>14</th>\n",
       "      <td>unifyai / ivy</td>\n",
       "      <td>Unified AI</td>\n",
       "      <td></td>\n",
       "      <td>Python</td>\n",
       "    </tr>\n",
       "    <tr>\n",
       "      <th>15</th>\n",
       "      <td>coollabsio / coolify</td>\n",
       "      <td>An open-source &amp; self-hostable Heroku / Netlif...</td>\n",
       "      <td>25.8k</td>\n",
       "      <td>PHP</td>\n",
       "    </tr>\n",
       "    <tr>\n",
       "      <th>16</th>\n",
       "      <td>Linen-dev / linen.dev</td>\n",
       "      <td>Lightweight Google-searchable Slack alternativ...</td>\n",
       "      <td>-</td>\n",
       "      <td>TypeScript</td>\n",
       "    </tr>\n",
       "    <tr>\n",
       "      <th>17</th>\n",
       "      <td>eslint / eslint</td>\n",
       "      <td>Find and fix problems in your JavaScript code.</td>\n",
       "      <td></td>\n",
       "      <td>JavaScript</td>\n",
       "    </tr>\n",
       "    <tr>\n",
       "      <th>18</th>\n",
       "      <td>terraform-aws-modules / terraform-aws-eks</td>\n",
       "      <td>Terraform module to create an Elastic Kubernet...</td>\n",
       "      <td></td>\n",
       "      <td>HCL</td>\n",
       "    </tr>\n",
       "    <tr>\n",
       "      <th>19</th>\n",
       "      <td>MustardChef / WSABuilds</td>\n",
       "      <td>Run Windows Subsystem For Android on your Wind...</td>\n",
       "      <td></td>\n",
       "      <td>Shell</td>\n",
       "    </tr>\n",
       "    <tr>\n",
       "      <th>20</th>\n",
       "      <td>joamag / boytacean</td>\n",
       "      <td>A GB emulator that is written in Rust 🦀!</td>\n",
       "      <td>-</td>\n",
       "      <td>Rust</td>\n",
       "    </tr>\n",
       "    <tr>\n",
       "      <th>21</th>\n",
       "      <td>angular / angular</td>\n",
       "      <td>The modern web developer’s platform</td>\n",
       "      <td>2.9m</td>\n",
       "      <td>TypeScript</td>\n",
       "    </tr>\n",
       "    <tr>\n",
       "      <th>22</th>\n",
       "      <td>sveltejs / kit</td>\n",
       "      <td>web development, streamlined</td>\n",
       "      <td>72.9k</td>\n",
       "      <td>JavaScript</td>\n",
       "    </tr>\n",
       "    <tr>\n",
       "      <th>23</th>\n",
       "      <td>ventoy / Ventoy</td>\n",
       "      <td>A new bootable USB solution.</td>\n",
       "      <td></td>\n",
       "      <td>C</td>\n",
       "    </tr>\n",
       "    <tr>\n",
       "      <th>24</th>\n",
       "      <td>sebastianbergmann / phpunit</td>\n",
       "      <td>The PHP Unit Testing framework.</td>\n",
       "      <td>427</td>\n",
       "      <td>PHP</td>\n",
       "    </tr>\n",
       "  </tbody>\n",
       "</table>\n",
       "</div>"
      ],
      "text/plain": [
       "                             Repository title  \\\n",
       "0            Stability-AI / generative-models   \n",
       "1                           sveltejs / svelte   \n",
       "2                             ykdojo / kaguya   \n",
       "3                           chat2db / Chat2DB   \n",
       "4             a16z-infra / ai-getting-started   \n",
       "5              techleadhd / chatgpt-retrieval   \n",
       "6                             prisma / prisma   \n",
       "7                      sindresorhus / awesome   \n",
       "8                 scikit-learn / scikit-learn   \n",
       "9          codecrafters-io / build-your-own-x   \n",
       "10                         refinedev / refine   \n",
       "11                        google / googletest   \n",
       "12                          geohot / tinygrad   \n",
       "13                    CASIA-IVA-Lab / FastSAM   \n",
       "14                              unifyai / ivy   \n",
       "15                       coollabsio / coolify   \n",
       "16                      Linen-dev / linen.dev   \n",
       "17                            eslint / eslint   \n",
       "18  terraform-aws-modules / terraform-aws-eks   \n",
       "19                    MustardChef / WSABuilds   \n",
       "20                         joamag / boytacean   \n",
       "21                          angular / angular   \n",
       "22                             sveltejs / kit   \n",
       "23                            ventoy / Ventoy   \n",
       "24                sebastianbergmann / phpunit   \n",
       "\n",
       "                               Repository description Contributors count  \\\n",
       "0                   Generative Models by Stability AI                  5   \n",
       "1                    Cybernetically enhanced web apps                      \n",
       "2   A ChatGPT plugin that allows you to load and e...                  3   \n",
       "3   🔥 🔥 🔥 An intelligent and versatile general-pur...                  7   \n",
       "4   A Javascript AI getting started stack for week...                  -   \n",
       "5                                                   -                  -   \n",
       "6   Next-generation ORM for Node.js & TypeScript |...                210   \n",
       "7   😎 Awesome lists about all kinds of interesting...                565   \n",
       "8            scikit-learn: machine learning in Python                      \n",
       "9   Master programming by recreating your favorite...                  2   \n",
       "10  Build your React-based CRUD applications, with...               1.5k   \n",
       "11  GoogleTest - Google Testing and Mocking Framework                399   \n",
       "12  You like pytorch? You like micrograd? You love...                 17   \n",
       "13                              Fast Segment Anything                  -   \n",
       "14                                         Unified AI                      \n",
       "15  An open-source & self-hostable Heroku / Netlif...              25.8k   \n",
       "16  Lightweight Google-searchable Slack alternativ...                  -   \n",
       "17     Find and fix problems in your JavaScript code.                      \n",
       "18  Terraform module to create an Elastic Kubernet...                      \n",
       "19  Run Windows Subsystem For Android on your Wind...                      \n",
       "20           A GB emulator that is written in Rust 🦀!                  -   \n",
       "21                The modern web developer’s platform               2.9m   \n",
       "22                       web development, streamlined              72.9k   \n",
       "23                       A new bootable USB solution.                      \n",
       "24                    The PHP Unit Testing framework.                427   \n",
       "\n",
       "   Language Used  \n",
       "0         Python  \n",
       "1     JavaScript  \n",
       "2     JavaScript  \n",
       "3           Java  \n",
       "4     TypeScript  \n",
       "5         Python  \n",
       "6     TypeScript  \n",
       "7              -  \n",
       "8         Python  \n",
       "9              -  \n",
       "10    TypeScript  \n",
       "11           C++  \n",
       "12        Python  \n",
       "13        Python  \n",
       "14        Python  \n",
       "15           PHP  \n",
       "16    TypeScript  \n",
       "17    JavaScript  \n",
       "18           HCL  \n",
       "19         Shell  \n",
       "20          Rust  \n",
       "21    TypeScript  \n",
       "22    JavaScript  \n",
       "23             C  \n",
       "24           PHP  "
      ]
     },
     "execution_count": 116,
     "metadata": {},
     "output_type": "execute_result"
    }
   ],
   "source": [
    "data_ = pd.DataFrame({\"Repository title\":title, \"Repository description\":discp, \"Contributors count\":contribute, \"Language Used\":language})\n",
    "data_"
   ]
  },
  {
   "cell_type": "code",
   "execution_count": 125,
   "id": "6870d839",
   "metadata": {},
   "outputs": [],
   "source": [
    "d4.close()"
   ]
  },
  {
   "cell_type": "markdown",
   "id": "7443e5ab",
   "metadata": {},
   "source": [
    "## Q5"
   ]
  },
  {
   "cell_type": "markdown",
   "id": "35ea7886",
   "metadata": {},
   "source": [
    "Scrape the details of top 100 songs on billiboard.com.\n",
    "Url = https:/www.billboard.com/\n",
    "You have to find the following details:\n",
    "A) Song name\n",
    "\n",
    "B) Artist name\n",
    "\n",
    "C) Last week rank\n",
    "\n",
    "D) Peak rank\n",
    "\n",
    "E) Weeks on board\n"
   ]
  },
  {
   "cell_type": "code",
   "execution_count": 2,
   "id": "e85d8159",
   "metadata": {},
   "outputs": [],
   "source": [
    "d5 = webdriver.Chrome(r'chromedriver.exe')"
   ]
  },
  {
   "cell_type": "code",
   "execution_count": 3,
   "id": "70d3d76c",
   "metadata": {},
   "outputs": [],
   "source": [
    "p5 = d5.get(\"http://www.billboard.com/\")"
   ]
  },
  {
   "cell_type": "code",
   "execution_count": 4,
   "id": "0bc305da",
   "metadata": {},
   "outputs": [],
   "source": [
    "chart = d5.find_element(By.XPATH,'/html/body/div[3]/header/div/div[2]/div/div/div[2]/div[2]/div/div/nav/ul/li[1]/a')\n",
    "chart.click()"
   ]
  },
  {
   "cell_type": "code",
   "execution_count": 5,
   "id": "7eda08b2",
   "metadata": {},
   "outputs": [],
   "source": [
    "view_chart = d5.find_element(By.XPATH,'//div[@class=\"lrv-u-flex lrv-u-justify-content-center\"]')\n",
    "view_chart.click()"
   ]
  },
  {
   "cell_type": "code",
   "execution_count": 7,
   "id": "497b3e71",
   "metadata": {},
   "outputs": [],
   "source": [
    "a_name = []\n",
    "try:\n",
    "    name = d5.find_elements(By.XPATH,'//div[@class=\"chart-results-list // lrv-u-padding-t-150 lrv-u-padding-t-050@mobile-max\"]/div/ul/li[4]/ul[1]/li[1]/span')\n",
    "    for i in name:\n",
    "        a_name.append(i.text)\n",
    "except NoSuchElementException :\n",
    "    a_name.append(\"-\") "
   ]
  },
  {
   "cell_type": "code",
   "execution_count": 8,
   "id": "9e65930b",
   "metadata": {},
   "outputs": [
    {
     "name": "stdout",
     "output_type": "stream",
     "text": [
      "['Morgan Wallen', 'Miley Cyrus', 'Luke Combs', 'Rema & Selena Gomez', 'Lil Durk Featuring J. Cole', 'Toosii', 'SZA', 'Metro Boomin, The Weeknd & 21 Savage', 'Taylor Swift Featuring Ice Spice', 'Eslabon Armado X Peso Pluma', 'Miguel', 'Taylor Swift', 'The Weeknd & Ariana Grande', 'Zach Bryan', 'SZA', 'Yng Lvcas x Peso Pluma', 'Bad Bunny', 'Grupo Frontera X Bad Bunny', 'Jelly Roll', 'Drake', 'Morgan Wallen', 'Morgan Wallen', 'Post Malone', 'Fifty Fifty', 'Bailey Zimmerman', 'Ed Sheeran', 'PinkPantheress & Ice Spice', 'Jordan Davis', 'Latto Featuring Cardi B', 'Morgan Wallen', 'David Guetta & Bebe Rexha', 'Dua Lipa', 'Kali', 'Tyler Hubbard', 'Morgan Wallen', 'Old Dominion', 'Bizarrap & Peso Pluma', 'Megan Moroney', 'Taylor Swift', 'Fuerza Regida', 'Lil Durk Featuring Morgan Wallen', 'Bailey Zimmerman', 'Noah Kahan', 'Chris Brown', 'Coi Leray', 'Metro Boomin, Swae Lee & NAV Featuring A Boogie Wit da Hoodie', 'Metro Boomin, Swae Lee, Lil Wayne & Offset', 'BTS', 'Luke Combs', 'Kane Brown With Katelyn Brown', 'Metro Boomin, A$AP Rocky & Roisee', 'Ice Spice & Nicki Minaj', 'Peso Pluma', 'Metro Boomin & Coi Leray', 'Scotty McCreery', 'David Kushner', 'Peso Pluma X Natanael Cano', 'Peso Pluma', 'Post Malone', 'Doechii Featuring Kodak Black', 'Tyler, The Creator Featuring Kali Uchis', 'Karol G x Shakira', 'Junior H x Peso Pluma', 'Kane Brown', 'Jonas Brothers', 'Justin Moore & Priscilla Block', 'Jon Pardi', 'El Alfa x Peso Pluma', 'Morgan Wallen Featuring ERNEST', 'Coco Jones', 'David Guetta, Anne-Marie & Coi Leray', 'The Weeknd, Playboi Carti & Madonna', 'NLE Choppa', 'Young Nudy Featuring 21 Savage', 'Beyonce Featuring Kendrick Lamar', 'Rod Wave', 'Morgan Wallen', 'DaBaby', 'Becky G & Peso Pluma', 'Libianca', 'Gunna', 'P!nk', 'Yahritza y Su Esencia x Grupo Frontera', 'Taylor Swift', 'Miley Cyrus', 'Sexyy Red & Tay Keith & Nicki Minaj', 'Lil Baby', 'Moneybagg Yo', 'HARDY', 'Kali Uchis', 'Metro Boomin, Travis Scott & Young Thug', 'Metro Boomin, Future & Lil Uzi Vert', 'Baby Keem & Kendrick Lamar', 'Chino Pacas', 'Metro Boomin Featuring Don Toliver & Future', 'Jelly Roll With Lainey Wilson', 'Yandel & Feid', 'Rosalia & Rauw Alejandro', 'Morgan Wallen', 'Metro Boomin & James Blake']\n"
     ]
    }
   ],
   "source": [
    "print(a_name)"
   ]
  },
  {
   "cell_type": "code",
   "execution_count": 9,
   "id": "f1d22646",
   "metadata": {},
   "outputs": [],
   "source": [
    "last = []\n",
    "try:\n",
    "    lw = d5.find_elements(By.XPATH,'//div[@class=\"chart-results-list // lrv-u-padding-t-150 lrv-u-padding-t-050@mobile-max\"]/div/ul/li[4]/ul[1]/li[4]')\n",
    "    for i in lw:\n",
    "        last.append(i.text)\n",
    "except NoSuchElementException:\n",
    "    last.append(\"-\")"
   ]
  },
  {
   "cell_type": "code",
   "execution_count": 10,
   "id": "ba363998",
   "metadata": {},
   "outputs": [
    {
     "name": "stdout",
     "output_type": "stream",
     "text": [
      "['1', '2', '4', '3', '5', '7', '6', '9', '10', '8', '12', '11', '14', '15', '19', '23', '16', '17', '20', '18', '22', '24', '25', '21', '27', '33', '26', '38', '13', '32', '29', '35', '37', '36', '30', '42', '31', '45', '47', '34', '28', '50', '-', '46', '39', '41', '44', '-', '52', '40', '51', '53', '54', '62', '49', '56', '55', '57', '58', '73', '60', '63', '64', '77', '74', '72', '80', '-', '76', '75', '82', '43', '67', '92', '66', '81', '83', '85', '78', '91', '48', '100', '88', '65', '98', '68', '89', '69', '-', '97', '96', '61', '-', '93', '-', '86', '-', '94', '-', '90']\n"
     ]
    }
   ],
   "source": [
    "print(last)"
   ]
  },
  {
   "cell_type": "code",
   "execution_count": 11,
   "id": "bd3d46ce",
   "metadata": {},
   "outputs": [],
   "source": [
    "peak = []\n",
    "try:\n",
    "    pk = d5.find_elements(By.XPATH,'//div[@class=\"chart-results-list // lrv-u-padding-t-150 lrv-u-padding-t-050@mobile-max\"]/div/ul/li[4]/ul[1]/li[5]')\n",
    "    for m in pk:\n",
    "        peak.append(m.text)\n",
    "except NoSuchElementException :\n",
    "    peak.append(\"-\")"
   ]
  },
  {
   "cell_type": "code",
   "execution_count": 12,
   "id": "2acbb867",
   "metadata": {},
   "outputs": [
    {
     "name": "stdout",
     "output_type": "stream",
     "text": [
      "['1', '1', '3', '3', '2', '5', '1', '3', '2', '4', '11', '1', '1', '10', '15', '11', '8', '5', '19', '2', '5', '9', '13', '17', '10', '19', '3', '28', '13', '7', '4', '32', '33', '23', '10', '36', '31', '30', '29', '34', '22', '40', '43', '12', '9', '41', '44', '48', '15', '13', '51', '4', '53', '54', '49', '47', '33', '28', '36', '60', '44', '7', '55', '64', '57', '66', '67', '68', '40', '63', '71', '43', '28', '74', '38', '16', '11', '69', '55', '80', '48', '82', '69', '27', '56', '66', '50', '69', '89', '80', '42', '61', '93', '58', '22', '86', '71', '52', '18', '90']\n"
     ]
    }
   ],
   "source": [
    "print(peak)"
   ]
  },
  {
   "cell_type": "code",
   "execution_count": 13,
   "id": "c4951804",
   "metadata": {},
   "outputs": [],
   "source": [
    "wob = []\n",
    "try:\n",
    "    w = d5.find_elements(By.XPATH,'//div[@class=\"chart-results-list // lrv-u-padding-t-150 lrv-u-padding-t-050@mobile-max\"]/div/ul/li[4]/ul[1]/li[6]')\n",
    "    for n in w:\n",
    "        wob.append(n.text)\n",
    "except NoSuchElementException :\n",
    "    wob.append(\"-\")"
   ]
  },
  {
   "cell_type": "code",
   "execution_count": 14,
   "id": "57efeb3b",
   "metadata": {},
   "outputs": [
    {
     "name": "stdout",
     "output_type": "stream",
     "text": [
      "['20', '22', '12', '41', '5', '17', '27', '28', '14', '13', '46', '34', '46', '60', '27', '13', '4', '9', '11', '10', '57', '15', '9', '13', '53', '12', '19', '21', '2', '44', '42', '3', '6', '17', '28', '11', '2', '27', '6', '4', '3', '6', '1', '40', '24', '2', '2', '1', '18', '40', '2', '9', '3', '2', '9', '9', '18', '14', '4', '6', '9', '16', '10', '5', '7', '6', '5', '1', '15', '13', '4', '2', '13', '2', '5', '11', '15', '6', '9', '7', '2', '3', '8', '3', '5', '3', '13', '2', '1', '10', '19', '2', '1', '13', '13', '2', '17', '12', '19', '2']\n"
     ]
    }
   ],
   "source": [
    "print(wob)"
   ]
  },
  {
   "cell_type": "code",
   "execution_count": 15,
   "id": "519f7416",
   "metadata": {},
   "outputs": [],
   "source": [
    "songs = []\n",
    "try:\n",
    "    sng = d5.find_elements(By.XPATH,'//div[@class=\"chart-results-list // lrv-u-padding-t-150 lrv-u-padding-t-050@mobile-max\"]/div/ul/li[4]/ul[1]/li[1]/h3')\n",
    "    for s in sng:\n",
    "        songs.append(s.text)\n",
    "except NoSuchElementException :\n",
    "    songs.append(\"-\")"
   ]
  },
  {
   "cell_type": "code",
   "execution_count": 16,
   "id": "a0fe4a48",
   "metadata": {},
   "outputs": [
    {
     "name": "stdout",
     "output_type": "stream",
     "text": [
      "['Last Night', 'Flowers', 'Fast Car', 'Calm Down', 'All My Life', 'Favorite Song', 'Kill Bill', \"Creepin'\", 'Karma', 'Ella Baila Sola', 'Sure Thing', 'Anti-Hero', 'Die For You', 'Something In The Orange', 'Snooze', 'La Bebe', 'Where She Goes', 'Un x100to', 'Need A Favor', 'Search & Rescue', 'You Proof', \"Thinkin' Bout Me\", 'Chemical', 'Cupid', 'Rock And A Hard Place', 'Eyes Closed', \"Boy's A Liar, Pt. 2\", 'Next Thing You Know', 'Put It On Da Floor Again', 'Thought You Should Know', \"I'm Good (Blue)\", 'Dance The Night', 'Area Codes', \"Dancin' In The Country\", 'One Thing At A Time', 'Memory Lane', 'Bzrp Music Sessions, Vol. 55', 'Tennessee Orange', 'Cruel Summer', 'TQM', 'Stand By Me', 'Religiously', 'Dial Drunk', 'Under The Influence', 'Players', 'Calling', 'Annihilate', 'Take Two', 'Love You Anyway', 'Thank God', 'Am I Dreaming', 'Princess Diana', 'Bye', 'Self Love', 'It Matters To Her', 'Daylight', 'PRC', 'Por Las Noches', 'Mourning', 'What It Is (Block Boy)', 'See You Again', 'TQG', 'El Azul', 'Bury Me In Georgia', 'Waffle House', 'You, Me, & Whiskey', 'Your Heart Or Mine', 'Plebada', 'Cowgirls', 'ICU', \"Baby Don't Hurt Me\", 'Popular', 'Slut Me Out', 'Peaches & Eggplants', 'America Has A Problem', 'Fight The Feeling', \"Ain't That Some\", 'Shake Sumn', 'Chanel', 'People', 'Bread & Butter', 'Trustfall', 'Fragil', 'Hits Different', 'Jaded', 'Pound Town 2', 'Low Down', 'Ocean Spray', 'Truck Bed', 'Moonlight', 'Trance', 'All The Way Live', 'The Hillbillies', 'El Gordo Trae El Mando', 'Too Many Nights', 'Save Me', 'Yandel 150', 'Beso', 'I Wrote The Book', 'Hummingbird']\n"
     ]
    }
   ],
   "source": [
    "print(songs)"
   ]
  },
  {
   "cell_type": "code",
   "execution_count": 18,
   "id": "4a33bbe3",
   "metadata": {},
   "outputs": [
    {
     "data": {
      "text/html": [
       "<div>\n",
       "<style scoped>\n",
       "    .dataframe tbody tr th:only-of-type {\n",
       "        vertical-align: middle;\n",
       "    }\n",
       "\n",
       "    .dataframe tbody tr th {\n",
       "        vertical-align: top;\n",
       "    }\n",
       "\n",
       "    .dataframe thead th {\n",
       "        text-align: right;\n",
       "    }\n",
       "</style>\n",
       "<table border=\"1\" class=\"dataframe\">\n",
       "  <thead>\n",
       "    <tr style=\"text-align: right;\">\n",
       "      <th></th>\n",
       "      <th>Song Name</th>\n",
       "      <th>Artist Name</th>\n",
       "      <th>Last Week Rank</th>\n",
       "      <th>Peak Rank</th>\n",
       "      <th>Weeks on board</th>\n",
       "    </tr>\n",
       "  </thead>\n",
       "  <tbody>\n",
       "    <tr>\n",
       "      <th>0</th>\n",
       "      <td>Last Night</td>\n",
       "      <td>Morgan Wallen</td>\n",
       "      <td>1</td>\n",
       "      <td>1</td>\n",
       "      <td>20</td>\n",
       "    </tr>\n",
       "    <tr>\n",
       "      <th>1</th>\n",
       "      <td>Flowers</td>\n",
       "      <td>Miley Cyrus</td>\n",
       "      <td>2</td>\n",
       "      <td>1</td>\n",
       "      <td>22</td>\n",
       "    </tr>\n",
       "    <tr>\n",
       "      <th>2</th>\n",
       "      <td>Fast Car</td>\n",
       "      <td>Luke Combs</td>\n",
       "      <td>4</td>\n",
       "      <td>3</td>\n",
       "      <td>12</td>\n",
       "    </tr>\n",
       "    <tr>\n",
       "      <th>3</th>\n",
       "      <td>Calm Down</td>\n",
       "      <td>Rema &amp; Selena Gomez</td>\n",
       "      <td>3</td>\n",
       "      <td>3</td>\n",
       "      <td>41</td>\n",
       "    </tr>\n",
       "    <tr>\n",
       "      <th>4</th>\n",
       "      <td>All My Life</td>\n",
       "      <td>Lil Durk Featuring J. Cole</td>\n",
       "      <td>5</td>\n",
       "      <td>2</td>\n",
       "      <td>5</td>\n",
       "    </tr>\n",
       "    <tr>\n",
       "      <th>...</th>\n",
       "      <td>...</td>\n",
       "      <td>...</td>\n",
       "      <td>...</td>\n",
       "      <td>...</td>\n",
       "      <td>...</td>\n",
       "    </tr>\n",
       "    <tr>\n",
       "      <th>95</th>\n",
       "      <td>Save Me</td>\n",
       "      <td>Jelly Roll With Lainey Wilson</td>\n",
       "      <td>86</td>\n",
       "      <td>86</td>\n",
       "      <td>2</td>\n",
       "    </tr>\n",
       "    <tr>\n",
       "      <th>96</th>\n",
       "      <td>Yandel 150</td>\n",
       "      <td>Yandel &amp; Feid</td>\n",
       "      <td>-</td>\n",
       "      <td>71</td>\n",
       "      <td>17</td>\n",
       "    </tr>\n",
       "    <tr>\n",
       "      <th>97</th>\n",
       "      <td>Beso</td>\n",
       "      <td>Rosalia &amp; Rauw Alejandro</td>\n",
       "      <td>94</td>\n",
       "      <td>52</td>\n",
       "      <td>12</td>\n",
       "    </tr>\n",
       "    <tr>\n",
       "      <th>98</th>\n",
       "      <td>I Wrote The Book</td>\n",
       "      <td>Morgan Wallen</td>\n",
       "      <td>-</td>\n",
       "      <td>18</td>\n",
       "      <td>19</td>\n",
       "    </tr>\n",
       "    <tr>\n",
       "      <th>99</th>\n",
       "      <td>Hummingbird</td>\n",
       "      <td>Metro Boomin &amp; James Blake</td>\n",
       "      <td>90</td>\n",
       "      <td>90</td>\n",
       "      <td>2</td>\n",
       "    </tr>\n",
       "  </tbody>\n",
       "</table>\n",
       "<p>100 rows × 5 columns</p>\n",
       "</div>"
      ],
      "text/plain": [
       "           Song Name                    Artist Name Last Week Rank Peak Rank  \\\n",
       "0         Last Night                  Morgan Wallen              1         1   \n",
       "1            Flowers                    Miley Cyrus              2         1   \n",
       "2           Fast Car                     Luke Combs              4         3   \n",
       "3          Calm Down            Rema & Selena Gomez              3         3   \n",
       "4        All My Life     Lil Durk Featuring J. Cole              5         2   \n",
       "..               ...                            ...            ...       ...   \n",
       "95           Save Me  Jelly Roll With Lainey Wilson             86        86   \n",
       "96        Yandel 150                  Yandel & Feid              -        71   \n",
       "97              Beso       Rosalia & Rauw Alejandro             94        52   \n",
       "98  I Wrote The Book                  Morgan Wallen              -        18   \n",
       "99       Hummingbird     Metro Boomin & James Blake             90        90   \n",
       "\n",
       "   Weeks on board  \n",
       "0              20  \n",
       "1              22  \n",
       "2              12  \n",
       "3              41  \n",
       "4               5  \n",
       "..            ...  \n",
       "95              2  \n",
       "96             17  \n",
       "97             12  \n",
       "98             19  \n",
       "99              2  \n",
       "\n",
       "[100 rows x 5 columns]"
      ]
     },
     "execution_count": 18,
     "metadata": {},
     "output_type": "execute_result"
    }
   ],
   "source": [
    "billboard = pd.DataFrame({\"Song Name\":songs, \"Artist Name\": a_name, \"Last Week Rank\":last, \"Peak Rank\":peak, \"Weeks on board\":wob})\n",
    "billboard"
   ]
  },
  {
   "cell_type": "code",
   "execution_count": 19,
   "id": "8fefcc51",
   "metadata": {},
   "outputs": [],
   "source": [
    "d5.close()"
   ]
  },
  {
   "cell_type": "markdown",
   "id": "6e8cc7fc",
   "metadata": {},
   "source": [
    "## Q6"
   ]
  },
  {
   "cell_type": "markdown",
   "id": "e5233607",
   "metadata": {},
   "source": [
    "Scrape the details of Highest sellingnovels.\n",
    "\n",
    "Url = https://www.theguardian.com/news/datablog/2012/aug/09/best-selling-books-all-time-fifty-shades-grey-compare\n",
    "You have to find the following details:\n",
    "    \n",
    "A) Book name\n",
    "\n",
    "B) Author name\n",
    "\n",
    "C) Volumes sold\n",
    "\n",
    "D) Publisher\n",
    "\n",
    "E) Genre\n"
   ]
  },
  {
   "cell_type": "code",
   "execution_count": 20,
   "id": "b9e4cae7",
   "metadata": {},
   "outputs": [],
   "source": [
    "d6 = webdriver.Chrome(r'chromedriver.exe')"
   ]
  },
  {
   "cell_type": "code",
   "execution_count": 21,
   "id": "df811461",
   "metadata": {},
   "outputs": [],
   "source": [
    "p6 = d6.get(\"https://www.theguardian.com/news/datablog/2012/aug/09/best-selling-books-all-time-fifty-shades-grey-compare\")\n",
    "p6"
   ]
  },
  {
   "cell_type": "code",
   "execution_count": 22,
   "id": "34aef1c8",
   "metadata": {},
   "outputs": [],
   "source": [
    "b_rank = []\n",
    "try :\n",
    "    rnk = d6.find_elements(By.XPATH,'//div[@class=\"embed block\"]/table/tbody/tr/td[1]')\n",
    "    for i in rnk:\n",
    "        b_rank.append(i.text)\n",
    "except NoSuchElementException :\n",
    "    b_rank.append(\"-\")"
   ]
  },
  {
   "cell_type": "code",
   "execution_count": 23,
   "id": "0018d607",
   "metadata": {},
   "outputs": [
    {
     "name": "stdout",
     "output_type": "stream",
     "text": [
      "['1', '2', '3', '4', '5', '6', '7', '8', '9', '10', '11', '12', '13', '14', '15', '16', '17', '18', '19', '20', '21', '22', '23', '24', '25', '26', '27', '28', '29', '30', '31', '32', '33', '34', '35', '36', '37', '38', '39', '40', '41', '42', '43', '44', '45', '46', '47', '48', '49', '50', '51', '52', '53', '54', '55', '56', '57', '58', '59', '60', '61', '62', '63', '64', '65', '66', '67', '68', '69', '70', '71', '72', '73', '74', '75', '76', '77', '78', '79', '80', '81', '82', '83', '84', '85', '86', '87', '88', '89', '90', '91', '92', '93', '94', '95', '96', '97', '98', '99', '100']\n"
     ]
    }
   ],
   "source": [
    "print(b_rank)"
   ]
  },
  {
   "cell_type": "code",
   "execution_count": 24,
   "id": "58849e1e",
   "metadata": {},
   "outputs": [],
   "source": [
    "b_title = []\n",
    "try :\n",
    "    b_t = d6.find_elements(By.XPATH,'//div[@class=\"embed block\"]/table/tbody/tr/td[2]')\n",
    "    for i in b_t:\n",
    "        b_title.append(i.text)\n",
    "except NoSuchElementException :\n",
    "    b_title.append(\"-\")"
   ]
  },
  {
   "cell_type": "code",
   "execution_count": 25,
   "id": "29f8d548",
   "metadata": {},
   "outputs": [
    {
     "name": "stdout",
     "output_type": "stream",
     "text": [
      "['Da Vinci Code,The', 'Harry Potter and the Deathly Hallows', \"Harry Potter and the Philosopher's Stone\", 'Harry Potter and the Order of the Phoenix', 'Fifty Shades of Grey', 'Harry Potter and the Goblet of Fire', 'Harry Potter and the Chamber of Secrets', 'Harry Potter and the Prisoner of Azkaban', 'Angels and Demons', \"Harry Potter and the Half-blood Prince:Children's Edition\", 'Fifty Shades Darker', 'Twilight', 'Girl with the Dragon Tattoo,The:Millennium Trilogy', 'Fifty Shades Freed', 'Lost Symbol,The', 'New Moon', 'Deception Point', 'Eclipse', 'Lovely Bones,The', 'Curious Incident of the Dog in the Night-time,The', 'Digital Fortress', 'Short History of Nearly Everything,A', 'Girl Who Played with Fire,The:Millennium Trilogy', 'Breaking Dawn', 'Very Hungry Caterpillar,The:The Very Hungry Caterpillar', 'Gruffalo,The', \"Jamie's 30-Minute Meals\", 'Kite Runner,The', 'One Day', 'Thousand Splendid Suns,A', \"Girl Who Kicked the Hornets' Nest,The:Millennium Trilogy\", \"Time Traveler's Wife,The\", 'Atonement', \"Bridget Jones's Diary:A Novel\", 'World According to Clarkson,The', \"Captain Corelli's Mandolin\", 'Sound of Laughter,The', 'Life of Pi', 'Billy Connolly', 'Child Called It,A', \"Gruffalo's Child,The\", \"Angela's Ashes:A Memoir of a Childhood\", 'Birdsong', 'Northern Lights:His Dark Materials S.', 'Labyrinth', 'Harry Potter and the Half-blood Prince', 'Help,The', 'Man and Boy', 'Memoirs of a Geisha', \"No.1 Ladies' Detective Agency,The:No.1 Ladies' Detective Agency S.\", 'Island,The', 'PS, I Love You', 'You are What You Eat:The Plan That Will Change Your Life', 'Shadow of the Wind,The', 'Tales of Beedle the Bard,The', 'Broker,The', \"Dr. Atkins' New Diet Revolution:The No-hunger, Luxurious Weight Loss P\", 'Subtle Knife,The:His Dark Materials S.', 'Eats, Shoots and Leaves:The Zero Tolerance Approach to Punctuation', \"Delia's How to Cook:(Bk.1)\", 'Chocolat', 'Boy in the Striped Pyjamas,The', \"My Sister's Keeper\", 'Amber Spyglass,The:His Dark Materials S.', 'To Kill a Mockingbird', 'Men are from Mars, Women are from Venus:A Practical Guide for Improvin', 'Dear Fatty', 'Short History of Tractors in Ukrainian,A', 'Hannibal', 'Lord of the Rings,The', 'Stupid White Men:...and Other Sorry Excuses for the State of the Natio', 'Interpretation of Murder,The', 'Sharon Osbourne Extreme:My Autobiography', 'Alchemist,The:A Fable About Following Your Dream', \"At My Mother's Knee ...:and Other Low Joints\", 'Notes from a Small Island', 'Return of the Naked Chef,The', 'Bridget Jones: The Edge of Reason', \"Jamie's Italy\", 'I Can Make You Thin', 'Down Under', 'Summons,The', 'Small Island', 'Nigella Express', 'Brick Lane', \"Memory Keeper's Daughter,The\", 'Room on the Broom', 'About a Boy', 'My Booky Wook', 'God Delusion,The', '\"Beano\" Annual,The', 'White Teeth', 'House at Riverton,The', 'Book Thief,The', 'Nights of Rain and Stars', 'Ghost,The', 'Happy Days with the Naked Chef', 'Hunger Games,The:Hunger Games Trilogy', \"Lost Boy,The:A Foster Child's Search for the Love of a Family\", \"Jamie's Ministry of Food:Anyone Can Learn to Cook in 24 Hours\"]\n"
     ]
    }
   ],
   "source": [
    "print(b_title)"
   ]
  },
  {
   "cell_type": "code",
   "execution_count": 26,
   "id": "da905fcf",
   "metadata": {},
   "outputs": [],
   "source": [
    "b_author = []\n",
    "try :\n",
    "    b_at = d6.find_elements(By.XPATH,'//div[@class=\"embed block\"]/table/tbody/tr/td[3]')\n",
    "    for i in b_at:\n",
    "        b_author.append(i.text)\n",
    "except NoSuchElementException :\n",
    "    b_author.append(\"-\")"
   ]
  },
  {
   "cell_type": "code",
   "execution_count": 27,
   "id": "ae06ff7c",
   "metadata": {},
   "outputs": [
    {
     "name": "stdout",
     "output_type": "stream",
     "text": [
      "['Brown, Dan', 'Rowling, J.K.', 'Rowling, J.K.', 'Rowling, J.K.', 'James, E. L.', 'Rowling, J.K.', 'Rowling, J.K.', 'Rowling, J.K.', 'Brown, Dan', 'Rowling, J.K.', 'James, E. L.', 'Meyer, Stephenie', 'Larsson, Stieg', 'James, E. L.', 'Brown, Dan', 'Meyer, Stephenie', 'Brown, Dan', 'Meyer, Stephenie', 'Sebold, Alice', 'Haddon, Mark', 'Brown, Dan', 'Bryson, Bill', 'Larsson, Stieg', 'Meyer, Stephenie', 'Carle, Eric', 'Donaldson, Julia', 'Oliver, Jamie', 'Hosseini, Khaled', 'Nicholls, David', 'Hosseini, Khaled', 'Larsson, Stieg', 'Niffenegger, Audrey', 'McEwan, Ian', 'Fielding, Helen', 'Clarkson, Jeremy', 'Bernieres, Louis de', 'Kay, Peter', 'Martel, Yann', 'Stephenson, Pamela', 'Pelzer, Dave', 'Donaldson, Julia', 'McCourt, Frank', 'Faulks, Sebastian', 'Pullman, Philip', 'Mosse, Kate', 'Rowling, J.K.', 'Stockett, Kathryn', 'Parsons, Tony', 'Golden, Arthur', 'McCall Smith, Alexander', 'Hislop, Victoria', 'Ahern, Cecelia', 'McKeith, Gillian', 'Zafon, Carlos Ruiz', 'Rowling, J.K.', 'Grisham, John', 'Atkins, Robert C.', 'Pullman, Philip', 'Truss, Lynne', 'Smith, Delia', 'Harris, Joanne', 'Boyne, John', 'Picoult, Jodi', 'Pullman, Philip', 'Lee, Harper', 'Gray, John', 'French, Dawn', 'Lewycka, Marina', 'Harris, Thomas', 'Tolkien, J. R. R.', 'Moore, Michael', 'Rubenfeld, Jed', 'Osbourne, Sharon', 'Coelho, Paulo', \"O'Grady, Paul\", 'Bryson, Bill', 'Oliver, Jamie', 'Fielding, Helen', 'Oliver, Jamie', 'McKenna, Paul', 'Bryson, Bill', 'Grisham, John', 'Levy, Andrea', 'Lawson, Nigella', 'Ali, Monica', 'Edwards, Kim', 'Donaldson, Julia', 'Hornby, Nick', 'Brand, Russell', 'Dawkins, Richard', '0', 'Smith, Zadie', 'Morton, Kate', 'Zusak, Markus', 'Binchy, Maeve', 'Harris, Robert', 'Oliver, Jamie', 'Collins, Suzanne', 'Pelzer, Dave', 'Oliver, Jamie']\n"
     ]
    }
   ],
   "source": [
    "print(b_author)"
   ]
  },
  {
   "cell_type": "code",
   "execution_count": 28,
   "id": "91d8c8dc",
   "metadata": {},
   "outputs": [],
   "source": [
    "b_vol_sell = []\n",
    "try :\n",
    "    b_v_s = d6.find_elements(By.XPATH,'//div[@class=\"embed block\"]/table/tbody/tr/td[4]')\n",
    "    for i in b_v_s:\n",
    "        b_vol_sell.append(i.text)\n",
    "except NoSuchElementException :\n",
    "    b_vol_sell.append(\"-\")"
   ]
  },
  {
   "cell_type": "code",
   "execution_count": 29,
   "id": "f5200371",
   "metadata": {},
   "outputs": [
    {
     "name": "stdout",
     "output_type": "stream",
     "text": [
      "['5,094,805', '4,475,152', '4,200,654', '4,179,479', '3,758,936', '3,583,215', '3,484,047', '3,377,906', '3,193,946', '2,950,264', '2,479,784', '2,315,405', '2,233,570', '2,193,928', '2,183,031', '2,152,737', '2,062,145', '2,052,876', '2,005,598', '1,979,552', '1,928,900', '1,852,919', '1,814,784', '1,787,118', '1,783,535', '1,781,269', '1,743,266', '1,629,119', '1,616,068', '1,583,992', '1,555,135', '1,546,886', '1,539,428', '1,508,205', '1,489,403', '1,352,318', '1,310,207', '1,310,176', '1,231,957', '1,217,712', '1,208,711', '1,204,058', '1,184,967', '1,181,503', '1,181,093', '1,153,181', '1,132,336', '1,130,802', '1,126,337', '1,115,549', '1,108,328', '1,107,379', '1,104,403', '1,092,349', '1,090,847', '1,087,262', '1,054,196', '1,037,160', '1,023,688', '1,015,956', '1,009,873', '1,004,414', '1,003,780', '1,002,314', '998,213', '992,846', '986,753', '986,115', '970,509', '967,466', '963,353', '962,515', '959,496', '956,114', '945,640', '931,312', '925,425', '924,695', '906,968', '905,086', '890,847', '869,671', '869,659', '862,602', '856,540', '845,858', '842,535', '828,215', '820,563', '816,907', '816,585', '815,586', '814,370', '809,641', '808,900', '807,311', '794,201', '792,187', '791,507', '791,095']\n"
     ]
    }
   ],
   "source": [
    "print(b_vol_sell)"
   ]
  },
  {
   "cell_type": "code",
   "execution_count": 30,
   "id": "076924d9",
   "metadata": {},
   "outputs": [],
   "source": [
    "b_publisher = []\n",
    "try :\n",
    "    publisher = d6.find_elements(By.XPATH,'//div[@class=\"embed block\"]/table/tbody/tr/td[5]')\n",
    "    for i in publisher:\n",
    "        b_publisher.append(i.text)\n",
    "except NoSuchElementException :\n",
    "    b_publisher.append(\"-\")"
   ]
  },
  {
   "cell_type": "code",
   "execution_count": 31,
   "id": "d013ab2b",
   "metadata": {},
   "outputs": [
    {
     "name": "stdout",
     "output_type": "stream",
     "text": [
      "['Transworld', 'Bloomsbury', 'Bloomsbury', 'Bloomsbury', 'Random House', 'Bloomsbury', 'Bloomsbury', 'Bloomsbury', 'Transworld', 'Bloomsbury', 'Random House', 'Little, Brown Book', 'Quercus', 'Random House', 'Transworld', 'Little, Brown Book', 'Transworld', 'Little, Brown Book', 'Pan Macmillan', 'Random House', 'Transworld', 'Transworld', 'Quercus', 'Little, Brown Book', 'Penguin', 'Pan Macmillan', 'Penguin', 'Bloomsbury', 'Hodder & Stoughton', 'Bloomsbury', 'Quercus', 'Random House', 'Random House', 'Pan Macmillan', 'Penguin', 'Random House', 'Random House', 'Canongate', 'HarperCollins', 'Orion', 'Pan Macmillan', 'HarperCollins', 'Random House', 'Scholastic Ltd.', 'Orion', 'Bloomsbury', 'Penguin', 'HarperCollins', 'Random House', 'Little, Brown Book', 'Headline', 'HarperCollins', 'Penguin', 'Orion', 'Bloomsbury', 'Random House', 'Random House', 'Scholastic Ltd.', 'Profile Books Group', 'Random House', 'Transworld', 'Random House Childrens Books G', 'Hodder & Stoughton', 'Scholastic Ltd.', 'Random House', 'HarperCollins', 'Random House', 'Penguin', 'Random House', 'HarperCollins', 'Penguin', 'Headline', 'Little, Brown Book', 'HarperCollins', 'Transworld', 'Transworld', 'Penguin', 'Pan Macmillan', 'Penguin', 'Transworld', 'Transworld', 'Random House', 'Headline', 'Random House', 'Transworld', 'Penguin', 'Pan Macmillan', 'Penguin', 'Hodder & Stoughton', 'Transworld', 'D.C. Thomson', 'Penguin', 'Pan Macmillan', 'Transworld', 'Orion', 'Random House', 'Penguin', 'Scholastic Ltd.', 'Orion', 'Penguin']\n"
     ]
    }
   ],
   "source": [
    "print(b_publisher)"
   ]
  },
  {
   "cell_type": "code",
   "execution_count": 32,
   "id": "c5c79841",
   "metadata": {},
   "outputs": [],
   "source": [
    "b_genre = []\n",
    "try :\n",
    "    gnr = d6.find_elements(By.XPATH,'//div[@class=\"embed block\"]/table/tbody/tr/td[6]')\n",
    "    for i in gnr:\n",
    "        b_genre.append(i.text)\n",
    "except NoSuchElementException :\n",
    "    b_genre.append(\"-\")"
   ]
  },
  {
   "cell_type": "code",
   "execution_count": 33,
   "id": "ee1f0b5c",
   "metadata": {},
   "outputs": [
    {
     "name": "stdout",
     "output_type": "stream",
     "text": [
      "['Crime, Thriller & Adventure', \"Children's Fiction\", \"Children's Fiction\", \"Children's Fiction\", 'Romance & Sagas', \"Children's Fiction\", \"Children's Fiction\", \"Children's Fiction\", 'Crime, Thriller & Adventure', \"Children's Fiction\", 'Romance & Sagas', 'Young Adult Fiction', 'Crime, Thriller & Adventure', 'Romance & Sagas', 'Crime, Thriller & Adventure', 'Young Adult Fiction', 'Crime, Thriller & Adventure', 'Young Adult Fiction', 'General & Literary Fiction', 'General & Literary Fiction', 'Crime, Thriller & Adventure', 'Popular Science', 'Crime, Thriller & Adventure', 'Young Adult Fiction', 'Picture Books', 'Picture Books', 'Food & Drink: General', 'General & Literary Fiction', 'General & Literary Fiction', 'General & Literary Fiction', 'Crime, Thriller & Adventure', 'General & Literary Fiction', 'General & Literary Fiction', 'General & Literary Fiction', 'Humour: Collections & General', 'General & Literary Fiction', 'Autobiography: General', 'General & Literary Fiction', 'Biography: The Arts', 'Autobiography: General', 'Picture Books', 'Autobiography: General', 'General & Literary Fiction', 'Young Adult Fiction', 'General & Literary Fiction', 'Science Fiction & Fantasy', 'General & Literary Fiction', 'General & Literary Fiction', 'General & Literary Fiction', 'Crime, Thriller & Adventure', 'General & Literary Fiction', 'General & Literary Fiction', 'Fitness & Diet', 'General & Literary Fiction', \"Children's Fiction\", 'Crime, Thriller & Adventure', 'Fitness & Diet', 'Young Adult Fiction', 'Usage & Writing Guides', 'Food & Drink: General', 'General & Literary Fiction', 'Young Adult Fiction', 'General & Literary Fiction', 'Young Adult Fiction', 'General & Literary Fiction', 'Popular Culture & Media: General Interest', 'Autobiography: The Arts', 'General & Literary Fiction', 'Crime, Thriller & Adventure', 'Science Fiction & Fantasy', 'Current Affairs & Issues', 'Crime, Thriller & Adventure', 'Autobiography: The Arts', 'General & Literary Fiction', 'Autobiography: The Arts', 'Travel Writing', 'Food & Drink: General', 'General & Literary Fiction', 'National & Regional Cuisine', 'Fitness & Diet', 'Travel Writing', 'Crime, Thriller & Adventure', 'General & Literary Fiction', 'Food & Drink: General', 'General & Literary Fiction', 'General & Literary Fiction', 'Picture Books', 'General & Literary Fiction', 'Autobiography: The Arts', 'Popular Science', \"Children's Annuals\", 'General & Literary Fiction', 'General & Literary Fiction', 'General & Literary Fiction', 'General & Literary Fiction', 'General & Literary Fiction', 'Food & Drink: General', 'Young Adult Fiction', 'Biography: General', 'Food & Drink: General']\n"
     ]
    }
   ],
   "source": [
    "print(b_genre)"
   ]
  },
  {
   "cell_type": "code",
   "execution_count": 36,
   "id": "2f013dc3",
   "metadata": {
    "scrolled": false
   },
   "outputs": [
    {
     "data": {
      "text/html": [
       "<div>\n",
       "<style scoped>\n",
       "    .dataframe tbody tr th:only-of-type {\n",
       "        vertical-align: middle;\n",
       "    }\n",
       "\n",
       "    .dataframe tbody tr th {\n",
       "        vertical-align: top;\n",
       "    }\n",
       "\n",
       "    .dataframe thead th {\n",
       "        text-align: right;\n",
       "    }\n",
       "</style>\n",
       "<table border=\"1\" class=\"dataframe\">\n",
       "  <thead>\n",
       "    <tr style=\"text-align: right;\">\n",
       "      <th></th>\n",
       "      <th>Rank</th>\n",
       "      <th>Book Name</th>\n",
       "      <th>Author Name</th>\n",
       "      <th>Volumes sold</th>\n",
       "      <th>Publisher</th>\n",
       "      <th>Genre</th>\n",
       "    </tr>\n",
       "  </thead>\n",
       "  <tbody>\n",
       "    <tr>\n",
       "      <th>0</th>\n",
       "      <td>1</td>\n",
       "      <td>Da Vinci Code,The</td>\n",
       "      <td>Brown, Dan</td>\n",
       "      <td>5,094,805</td>\n",
       "      <td>Transworld</td>\n",
       "      <td>Crime, Thriller &amp; Adventure</td>\n",
       "    </tr>\n",
       "    <tr>\n",
       "      <th>1</th>\n",
       "      <td>2</td>\n",
       "      <td>Harry Potter and the Deathly Hallows</td>\n",
       "      <td>Rowling, J.K.</td>\n",
       "      <td>4,475,152</td>\n",
       "      <td>Bloomsbury</td>\n",
       "      <td>Children's Fiction</td>\n",
       "    </tr>\n",
       "    <tr>\n",
       "      <th>2</th>\n",
       "      <td>3</td>\n",
       "      <td>Harry Potter and the Philosopher's Stone</td>\n",
       "      <td>Rowling, J.K.</td>\n",
       "      <td>4,200,654</td>\n",
       "      <td>Bloomsbury</td>\n",
       "      <td>Children's Fiction</td>\n",
       "    </tr>\n",
       "    <tr>\n",
       "      <th>3</th>\n",
       "      <td>4</td>\n",
       "      <td>Harry Potter and the Order of the Phoenix</td>\n",
       "      <td>Rowling, J.K.</td>\n",
       "      <td>4,179,479</td>\n",
       "      <td>Bloomsbury</td>\n",
       "      <td>Children's Fiction</td>\n",
       "    </tr>\n",
       "    <tr>\n",
       "      <th>4</th>\n",
       "      <td>5</td>\n",
       "      <td>Fifty Shades of Grey</td>\n",
       "      <td>James, E. L.</td>\n",
       "      <td>3,758,936</td>\n",
       "      <td>Random House</td>\n",
       "      <td>Romance &amp; Sagas</td>\n",
       "    </tr>\n",
       "    <tr>\n",
       "      <th>...</th>\n",
       "      <td>...</td>\n",
       "      <td>...</td>\n",
       "      <td>...</td>\n",
       "      <td>...</td>\n",
       "      <td>...</td>\n",
       "      <td>...</td>\n",
       "    </tr>\n",
       "    <tr>\n",
       "      <th>95</th>\n",
       "      <td>96</td>\n",
       "      <td>Ghost,The</td>\n",
       "      <td>Harris, Robert</td>\n",
       "      <td>807,311</td>\n",
       "      <td>Random House</td>\n",
       "      <td>General &amp; Literary Fiction</td>\n",
       "    </tr>\n",
       "    <tr>\n",
       "      <th>96</th>\n",
       "      <td>97</td>\n",
       "      <td>Happy Days with the Naked Chef</td>\n",
       "      <td>Oliver, Jamie</td>\n",
       "      <td>794,201</td>\n",
       "      <td>Penguin</td>\n",
       "      <td>Food &amp; Drink: General</td>\n",
       "    </tr>\n",
       "    <tr>\n",
       "      <th>97</th>\n",
       "      <td>98</td>\n",
       "      <td>Hunger Games,The:Hunger Games Trilogy</td>\n",
       "      <td>Collins, Suzanne</td>\n",
       "      <td>792,187</td>\n",
       "      <td>Scholastic Ltd.</td>\n",
       "      <td>Young Adult Fiction</td>\n",
       "    </tr>\n",
       "    <tr>\n",
       "      <th>98</th>\n",
       "      <td>99</td>\n",
       "      <td>Lost Boy,The:A Foster Child's Search for the L...</td>\n",
       "      <td>Pelzer, Dave</td>\n",
       "      <td>791,507</td>\n",
       "      <td>Orion</td>\n",
       "      <td>Biography: General</td>\n",
       "    </tr>\n",
       "    <tr>\n",
       "      <th>99</th>\n",
       "      <td>100</td>\n",
       "      <td>Jamie's Ministry of Food:Anyone Can Learn to C...</td>\n",
       "      <td>Oliver, Jamie</td>\n",
       "      <td>791,095</td>\n",
       "      <td>Penguin</td>\n",
       "      <td>Food &amp; Drink: General</td>\n",
       "    </tr>\n",
       "  </tbody>\n",
       "</table>\n",
       "<p>100 rows × 6 columns</p>\n",
       "</div>"
      ],
      "text/plain": [
       "   Rank                                          Book Name       Author Name  \\\n",
       "0     1                                  Da Vinci Code,The        Brown, Dan   \n",
       "1     2               Harry Potter and the Deathly Hallows     Rowling, J.K.   \n",
       "2     3           Harry Potter and the Philosopher's Stone     Rowling, J.K.   \n",
       "3     4          Harry Potter and the Order of the Phoenix     Rowling, J.K.   \n",
       "4     5                               Fifty Shades of Grey      James, E. L.   \n",
       "..  ...                                                ...               ...   \n",
       "95   96                                          Ghost,The    Harris, Robert   \n",
       "96   97                     Happy Days with the Naked Chef     Oliver, Jamie   \n",
       "97   98              Hunger Games,The:Hunger Games Trilogy  Collins, Suzanne   \n",
       "98   99  Lost Boy,The:A Foster Child's Search for the L...      Pelzer, Dave   \n",
       "99  100  Jamie's Ministry of Food:Anyone Can Learn to C...     Oliver, Jamie   \n",
       "\n",
       "   Volumes sold        Publisher                        Genre  \n",
       "0     5,094,805       Transworld  Crime, Thriller & Adventure  \n",
       "1     4,475,152       Bloomsbury           Children's Fiction  \n",
       "2     4,200,654       Bloomsbury           Children's Fiction  \n",
       "3     4,179,479       Bloomsbury           Children's Fiction  \n",
       "4     3,758,936     Random House              Romance & Sagas  \n",
       "..          ...              ...                          ...  \n",
       "95      807,311     Random House   General & Literary Fiction  \n",
       "96      794,201          Penguin        Food & Drink: General  \n",
       "97      792,187  Scholastic Ltd.          Young Adult Fiction  \n",
       "98      791,507            Orion           Biography: General  \n",
       "99      791,095          Penguin        Food & Drink: General  \n",
       "\n",
       "[100 rows x 6 columns]"
      ]
     },
     "execution_count": 36,
     "metadata": {},
     "output_type": "execute_result"
    }
   ],
   "source": [
    "books = pd.DataFrame({\"Rank\":b_rank, \"Book Name\":b_title, \"Author Name\":b_author, \"Volumes sold\":b_vol_sell, \"Publisher\":b_publisher, \"Genre\":b_genre})\n",
    "books"
   ]
  },
  {
   "cell_type": "markdown",
   "id": "cbd9f521",
   "metadata": {},
   "source": [
    "## Q7"
   ]
  },
  {
   "cell_type": "markdown",
   "id": "f933e4a3",
   "metadata": {},
   "source": [
    "Scrape the details most watched tv series of all time from imdb.com.\n",
    "\n",
    "Url = https://www.imdb.com/list/ls095964455/\n",
    "    \n",
    "You have to find the following details:\n",
    "    \n",
    "A) Name\n",
    "\n",
    "B) Year span\n",
    "\n",
    "C) Genre\n",
    "\n",
    "D) Run time\n",
    "\n",
    "E) Ratings\n",
    "\n",
    "F) Votes\n"
   ]
  },
  {
   "cell_type": "code",
   "execution_count": 38,
   "id": "5394b32d",
   "metadata": {},
   "outputs": [],
   "source": [
    "d7 = webdriver.Chrome(r'chromedriver.exe')"
   ]
  },
  {
   "cell_type": "code",
   "execution_count": 39,
   "id": "14a014b6",
   "metadata": {},
   "outputs": [],
   "source": [
    "p7 = d7.get(\"https://www.imdb.com/list/ls095964455/\")"
   ]
  },
  {
   "cell_type": "code",
   "execution_count": 40,
   "id": "d9603bda",
   "metadata": {},
   "outputs": [],
   "source": [
    "i_name = []\n",
    "try:\n",
    "    nm = d7.find_elements(By.XPATH,'//div[@class=\"lister-list\"]/div/div[2]/h3/a[1]')\n",
    "    for i in nm:\n",
    "        i_name.append(i.text)\n",
    "except NoSuchElementException :\n",
    "    i_name.append(\"-\")"
   ]
  },
  {
   "cell_type": "code",
   "execution_count": 41,
   "id": "239b957b",
   "metadata": {},
   "outputs": [
    {
     "name": "stdout",
     "output_type": "stream",
     "text": [
      "['Game of Thrones', 'Stranger Things', 'The Walking Dead', '13 Reasons Why', 'The 100', 'Orange Is the New Black', 'Riverdale', \"Grey's Anatomy\", 'The Flash', 'Arrow', 'Money Heist', 'The Big Bang Theory', 'Black Mirror', 'Sherlock', 'Vikings', 'Pretty Little Liars', 'The Vampire Diaries', 'American Horror Story', 'Breaking Bad', 'Lucifer', 'Supernatural', 'Prison Break', 'How to Get Away with Murder', 'Teen Wolf', 'The Simpsons', 'Once Upon a Time', 'Narcos', 'Daredevil', 'Friends', 'How I Met Your Mother', 'Suits', 'Mr. Robot', 'The Originals', 'Supergirl', 'Gossip Girl', 'Sense8', 'Gotham', 'Westworld', 'Jessica Jones', 'Modern Family', 'Rick and Morty', 'Shadowhunters', 'The End of the F***ing World', 'House of Cards', 'Dark', 'Elite', 'Sex Education', 'Shameless', 'New Girl', 'Agents of S.H.I.E.L.D.', 'You', 'Dexter', 'Fear the Walking Dead', 'Family Guy', 'The Blacklist', 'Lost', 'Peaky Blinders', 'House', 'Quantico', 'Orphan Black', 'Homeland', 'Blindspot', \"DC's Legends of Tomorrow\", \"The Handmaid's Tale\", 'Chilling Adventures of Sabrina', 'The Good Doctor', 'Jane the Virgin', 'Glee', 'South Park', 'Brooklyn Nine-Nine', 'Under the Dome', 'The Umbrella Academy', 'True Detective', 'The OA', 'Desperate Housewives', 'Better Call Saul', 'Bates Motel', 'The Punisher', 'Atypical', 'Dynasty', 'This Is Us', 'The Good Place', 'Iron Fist', 'The Rain', 'Mindhunter', 'Revenge', 'Luke Cage', 'Scandal', 'The Defenders', 'Big Little Lies', 'Insatiable', 'The Mentalist', 'The Crown', 'Chernobyl', 'iZombie', 'Reign', 'A Series of Unfortunate Events', 'Criminal Minds', 'Scream: The TV Series', 'The Haunting of Hill House']\n"
     ]
    }
   ],
   "source": [
    "print(i_name)"
   ]
  },
  {
   "cell_type": "code",
   "execution_count": 42,
   "id": "b30e5381",
   "metadata": {},
   "outputs": [],
   "source": [
    "i_year = []\n",
    "try:\n",
    "    ys = d7.find_elements(By.XPATH,'//div[@class=\"lister-list\"]/div/div[2]/h3/span[2]')\n",
    "    for i in ys:\n",
    "        i_year.append(i.text)\n",
    "except NoSuchElementException :\n",
    "    i_year.append(\"-\")"
   ]
  },
  {
   "cell_type": "code",
   "execution_count": 43,
   "id": "276e68af",
   "metadata": {},
   "outputs": [
    {
     "name": "stdout",
     "output_type": "stream",
     "text": [
      "['(2011–2019)', '(2016–2024)', '(2010–2022)', '(2017–2020)', '(2014–2020)', '(2013–2019)', '(2017–2023)', '(2005– )', '(2014–2023)', '(2012–2020)', '(2017–2021)', '(2007–2019)', '(2011– )', '(2010–2017)', '(2013–2020)', '(2010–2017)', '(2009–2017)', '(2011– )', '(2008–2013)', '(2016–2021)', '(2005–2020)', '(2005–2017)', '(2014–2020)', '(2011–2017)', '(1989– )', '(2011–2018)', '(2015–2017)', '(2015–2018)', '(1994–2004)', '(2005–2014)', '(2011–2019)', '(2015–2019)', '(2013–2018)', '(2015–2021)', '(2007–2012)', '(2015–2018)', '(2014–2019)', '(2016–2022)', '(2015–2019)', '(2009–2020)', '(2013– )', '(2016–2019)', '(2017–2019)', '(2013–2018)', '(2017–2020)', '(2018– )', '(2019– )', '(2011–2021)', '(2011–2018)', '(2013–2020)', '(2018–2024)', '(2006–2013)', '(2015–2023)', '(1999– )', '(2013–2023)', '(2004–2010)', '(2013–2022)', '(2004–2012)', '(2015–2018)', '(2013–2017)', '(2011–2020)', '(2015–2020)', '(2016–2022)', '(2017– )', '(2018–2020)', '(2017– )', '(2014–2019)', '(2009–2015)', '(1997– )', '(2013–2021)', '(2013–2015)', '(2019–2023)', '(2014– )', '(2016–2019)', '(2004–2012)', '(2015–2022)', '(2013–2017)', '(2017–2019)', '(2017–2021)', '(2017–2022)', '(2016–2022)', '(2016–2020)', '(2017–2018)', '(2018–2020)', '(2017–2019)', '(2011–2015)', '(2016–2018)', '(2012–2018)', '(2017)', '(2017–2019)', '(2018–2019)', '(2008–2015)', '(2016–2023)', '(2019)', '(2015–2019)', '(2013–2017)', '(2017–2019)', '(2005– )', '(2015–2019)', '(2018)']\n"
     ]
    }
   ],
   "source": [
    "print(i_year)"
   ]
  },
  {
   "cell_type": "code",
   "execution_count": 44,
   "id": "e906627c",
   "metadata": {},
   "outputs": [],
   "source": [
    "i_genre = []\n",
    "try:\n",
    "    ig = d7.find_elements(By.XPATH,'//div[@class=\"lister-list\"]/div/div[2]/p[1]/span[5]')\n",
    "    for i in ig:\n",
    "        i_genre.append(i.text)\n",
    "except NoSuchElementException :\n",
    "    i_genre.append(\"-\")"
   ]
  },
  {
   "cell_type": "code",
   "execution_count": 45,
   "id": "e1e94d0c",
   "metadata": {},
   "outputs": [
    {
     "name": "stdout",
     "output_type": "stream",
     "text": [
      "['Action, Adventure, Drama', 'Drama, Fantasy, Horror', 'Drama, Horror, Thriller', 'Drama, Mystery, Thriller', 'Drama, Mystery, Sci-Fi', 'Comedy, Crime, Drama', 'Crime, Drama, Mystery', 'Drama, Romance', 'Action, Adventure, Drama', 'Action, Adventure, Crime', 'Action, Crime, Drama', 'Comedy, Romance', 'Drama, Mystery, Sci-Fi', 'Crime, Drama, Mystery', 'Action, Adventure, Drama', 'Drama, Mystery, Romance', 'Drama, Fantasy, Horror', 'Drama, Horror, Sci-Fi', 'Crime, Drama, Thriller', 'Crime, Drama, Fantasy', 'Drama, Fantasy, Horror', 'Action, Crime, Drama', 'Crime, Drama, Mystery', 'Action, Drama, Fantasy', 'Animation, Comedy', 'Adventure, Fantasy, Romance', 'Biography, Crime, Drama', 'Action, Crime, Drama', 'Comedy, Romance', 'Comedy, Drama, Romance', 'Comedy, Drama', 'Crime, Drama, Thriller', 'Drama, Fantasy, Horror', 'Action, Adventure, Drama', 'Drama, Romance', 'Drama, Mystery, Sci-Fi', 'Action, Crime, Drama', 'Drama, Mystery, Sci-Fi', 'Action, Crime, Drama', 'Comedy, Drama, Romance', 'Animation, Adventure, Comedy', 'Action, Drama, Fantasy', 'Adventure, Comedy, Crime', 'Drama', 'Crime, Drama, Mystery', 'Crime, Drama, Thriller', 'Comedy, Drama', 'Comedy, Drama', 'Comedy, Romance', 'Action, Adventure, Drama', 'Crime, Drama, Romance', 'Crime, Drama, Mystery', 'Drama, Horror, Sci-Fi', 'Animation, Comedy', 'Crime, Drama, Mystery', 'Adventure, Drama, Fantasy', 'Crime, Drama', 'Drama, Mystery', 'Crime, Drama, Mystery', 'Drama, Sci-Fi, Thriller', 'Crime, Drama, Mystery', 'Action, Crime, Drama', 'Action, Adventure, Drama', 'Drama, Sci-Fi, Thriller', 'Drama, Fantasy, Horror', 'Drama', 'Comedy', 'Comedy, Drama, Music', 'Animation, Comedy', 'Comedy, Crime', 'Drama, Mystery, Sci-Fi', 'Action, Adventure, Comedy', 'Crime, Drama, Mystery', 'Drama, Fantasy, Mystery', 'Comedy, Drama, Mystery', 'Crime, Drama', 'Drama, Horror, Mystery', 'Action, Crime, Drama', 'Comedy, Drama', 'Drama', 'Comedy, Drama, Romance', 'Comedy, Drama, Fantasy', 'Action, Adventure, Crime', 'Drama, Sci-Fi, Thriller', 'Crime, Drama, Mystery', 'Drama, Mystery, Thriller', 'Action, Crime, Drama', 'Drama, Thriller', 'Action, Adventure, Crime', 'Crime, Drama, Mystery', 'Comedy, Drama, Thriller', 'Crime, Drama, Mystery', 'Biography, Drama, History', 'Drama, History, Thriller', 'Comedy, Crime, Drama', 'Drama', 'Adventure, Comedy, Drama', 'Crime, Drama, Mystery', 'Comedy, Crime, Drama', 'Drama, Horror, Mystery']\n"
     ]
    }
   ],
   "source": [
    "print(i_genre)"
   ]
  },
  {
   "cell_type": "code",
   "execution_count": 46,
   "id": "47f8f118",
   "metadata": {},
   "outputs": [],
   "source": [
    "i_runtime = []\n",
    "try:\n",
    "    irt = d7.find_elements(By.XPATH,'//div[@class=\"lister-list\"]/div/div[2]/p[1]/span[3]')\n",
    "    for i in irt:\n",
    "        i_runtime.append(i.text)\n",
    "except NoSuchElementException :\n",
    "    i_runtime.append(\"-\")"
   ]
  },
  {
   "cell_type": "code",
   "execution_count": 47,
   "id": "e7ea2e6b",
   "metadata": {},
   "outputs": [
    {
     "name": "stdout",
     "output_type": "stream",
     "text": [
      "['57 min', '51 min', '44 min', '60 min', '43 min', '59 min', '45 min', '41 min', '43 min', '42 min', '70 min', '22 min', '60 min', '88 min', '44 min', '44 min', '43 min', '60 min', '49 min', '42 min', '44 min', '44 min', '43 min', '41 min', '22 min', '60 min', '49 min', '54 min', '22 min', '22 min', '44 min', '49 min', '45 min', '43 min', '42 min', '60 min', '42 min', '62 min', '56 min', '22 min', '23 min', '42 min', '25 min', '51 min', '60 min', '60 min', '45 min', '46 min', '22 min', '45 min', '45 min', '53 min', '44 min', '22 min', '43 min', '44 min', '60 min', '44 min', '42 min', '44 min', '55 min', '42 min', '42 min', '60 min', '60 min', '41 min', '60 min', '44 min', '22 min', '22 min', '43 min', '60 min', '55 min', '60 min', '45 min', '46 min', '45 min', '53 min', '30 min', '42 min', '45 min', '22 min', '55 min', '45 min', '60 min', '44 min', '55 min', '43 min', '50 min', '60 min', '45 min', '43 min', '58 min', '330 min', '42 min', '42 min', '50 min', '42 min', '45 min', '572 min']\n"
     ]
    }
   ],
   "source": [
    "print(i_runtime)"
   ]
  },
  {
   "cell_type": "code",
   "execution_count": 48,
   "id": "7304ea91",
   "metadata": {},
   "outputs": [],
   "source": [
    "i_ratings = []\n",
    "try:\n",
    "    i_rate = d7.find_elements(By.XPATH,'//div[@class=\"lister-list\"]/div/div[2]/div[1]/div[1]/span[2]')\n",
    "    for i in i_rate:\n",
    "        i_ratings.append(i.text)\n",
    "except NoSuchElementException :\n",
    "    i_ratings.append(\"-\")"
   ]
  },
  {
   "cell_type": "code",
   "execution_count": 49,
   "id": "de3d24d7",
   "metadata": {},
   "outputs": [
    {
     "name": "stdout",
     "output_type": "stream",
     "text": [
      "['9.2', '8.7', '8.1', '7.5', '7.6', '8.1', '6.6', '7.6', '7.5', '7.5', '8.2', '8.2', '8.8', '9.1', '8.5', '7.4', '7.7', '8', '9.5', '8.1', '8.4', '8.3', '8.1', '7.7', '8.7', '7.7', '8.8', '8.6', '8.9', '8.3', '8.4', '8.5', '8.3', '6.2', '7.5', '8.2', '7.8', '8.5', '7.9', '8.5', '9.1', '6.5', '8', '8.7', '8.7', '7.3', '8.3', '8.6', '7.8', '7.5', '7.7', '8.7', '6.8', '8.2', '8', '8.3', '8.8', '8.7', '6.7', '8.3', '8.3', '7.3', '6.8', '8.4', '7.4', '8', '7.9', '6.8', '8.7', '8.4', '6.5', '7.9', '8.9', '7.8', '7.6', '9', '8.1', '8.5', '8.2', '7.3', '8.7', '8.2', '6.4', '6.3', '8.6', '7.8', '7.3', '7.7', '7.2', '8.5', '6.5', '8.2', '8.6', '9.4', '7.8', '7.4', '7.8', '8.1', '7.1', '8.6']\n"
     ]
    }
   ],
   "source": [
    "print(i_ratings)"
   ]
  },
  {
   "cell_type": "code",
   "execution_count": 50,
   "id": "0c1ae109",
   "metadata": {},
   "outputs": [],
   "source": [
    "i_votes = []\n",
    "try:\n",
    "    i_vt = d7.find_elements(By.XPATH,'//div[@class=\"lister-list\"]/div/div[2]/p[4]/span[2]')\n",
    "    for i in i_vt:\n",
    "        i_votes.append(i.text)\n",
    "except NoSuchElementException :\n",
    "    i_votes.append(\"-\")"
   ]
  },
  {
   "cell_type": "code",
   "execution_count": 51,
   "id": "bc80e8d1",
   "metadata": {},
   "outputs": [
    {
     "name": "stdout",
     "output_type": "stream",
     "text": [
      "['2,172,573', '1,250,568', '1,031,929', '303,425', '262,623', '310,548', '149,435', '323,626', '359,417', '438,613', '498,526', '831,770', '587,034', '954,114', '553,701', '172,479', '332,654', '328,046', '1,991,182', '337,772', '460,660', '553,885', '158,292', '156,476', '419,268', '230,088', '444,343', '454,846', '1,030,598', '702,952', '428,010', '400,142', '141,296', '126,942', '181,650', '158,346', '235,439', '516,837', '220,060', '452,969', '555,572', '66,877', '204,177', '515,917', '411,656', '84,718', '302,528', '257,239', '234,633', '221,165', '280,185', '740,485', '135,914', '351,649', '264,260', '570,176', '585,639', '481,905', '62,413', '113,660', '350,364', '76,544', '107,669', '247,573', '101,379', '103,902', '54,740', '151,962', '389,846', '334,978', '109,401', '259,067', '598,117', '109,063', '133,458', '582,885', '112,127', '248,930', '96,341', '23,822', '150,237', '173,411', '135,266', '39,370', '307,921', '122,327', '135,277', '76,858', '112,120', '211,176', '30,708', '191,692', '231,068', '802,457', '71,245', '51,933', '63,973', '208,463', '43,377', '259,970']\n"
     ]
    }
   ],
   "source": [
    "print(i_votes)"
   ]
  },
  {
   "cell_type": "code",
   "execution_count": 52,
   "id": "7a3c6a64",
   "metadata": {},
   "outputs": [
    {
     "data": {
      "text/html": [
       "<div>\n",
       "<style scoped>\n",
       "    .dataframe tbody tr th:only-of-type {\n",
       "        vertical-align: middle;\n",
       "    }\n",
       "\n",
       "    .dataframe tbody tr th {\n",
       "        vertical-align: top;\n",
       "    }\n",
       "\n",
       "    .dataframe thead th {\n",
       "        text-align: right;\n",
       "    }\n",
       "</style>\n",
       "<table border=\"1\" class=\"dataframe\">\n",
       "  <thead>\n",
       "    <tr style=\"text-align: right;\">\n",
       "      <th></th>\n",
       "      <th>Name</th>\n",
       "      <th>Year Span</th>\n",
       "      <th>Grnre</th>\n",
       "      <th>Runtime</th>\n",
       "      <th>Ratings</th>\n",
       "      <th>Vote</th>\n",
       "    </tr>\n",
       "  </thead>\n",
       "  <tbody>\n",
       "    <tr>\n",
       "      <th>0</th>\n",
       "      <td>Game of Thrones</td>\n",
       "      <td>(2011–2019)</td>\n",
       "      <td>Action, Adventure, Drama</td>\n",
       "      <td>57 min</td>\n",
       "      <td>9.2</td>\n",
       "      <td>2,172,573</td>\n",
       "    </tr>\n",
       "    <tr>\n",
       "      <th>1</th>\n",
       "      <td>Stranger Things</td>\n",
       "      <td>(2016–2024)</td>\n",
       "      <td>Drama, Fantasy, Horror</td>\n",
       "      <td>51 min</td>\n",
       "      <td>8.7</td>\n",
       "      <td>1,250,568</td>\n",
       "    </tr>\n",
       "    <tr>\n",
       "      <th>2</th>\n",
       "      <td>The Walking Dead</td>\n",
       "      <td>(2010–2022)</td>\n",
       "      <td>Drama, Horror, Thriller</td>\n",
       "      <td>44 min</td>\n",
       "      <td>8.1</td>\n",
       "      <td>1,031,929</td>\n",
       "    </tr>\n",
       "    <tr>\n",
       "      <th>3</th>\n",
       "      <td>13 Reasons Why</td>\n",
       "      <td>(2017–2020)</td>\n",
       "      <td>Drama, Mystery, Thriller</td>\n",
       "      <td>60 min</td>\n",
       "      <td>7.5</td>\n",
       "      <td>303,425</td>\n",
       "    </tr>\n",
       "    <tr>\n",
       "      <th>4</th>\n",
       "      <td>The 100</td>\n",
       "      <td>(2014–2020)</td>\n",
       "      <td>Drama, Mystery, Sci-Fi</td>\n",
       "      <td>43 min</td>\n",
       "      <td>7.6</td>\n",
       "      <td>262,623</td>\n",
       "    </tr>\n",
       "    <tr>\n",
       "      <th>...</th>\n",
       "      <td>...</td>\n",
       "      <td>...</td>\n",
       "      <td>...</td>\n",
       "      <td>...</td>\n",
       "      <td>...</td>\n",
       "      <td>...</td>\n",
       "    </tr>\n",
       "    <tr>\n",
       "      <th>95</th>\n",
       "      <td>Reign</td>\n",
       "      <td>(2013–2017)</td>\n",
       "      <td>Drama</td>\n",
       "      <td>42 min</td>\n",
       "      <td>7.4</td>\n",
       "      <td>51,933</td>\n",
       "    </tr>\n",
       "    <tr>\n",
       "      <th>96</th>\n",
       "      <td>A Series of Unfortunate Events</td>\n",
       "      <td>(2017–2019)</td>\n",
       "      <td>Adventure, Comedy, Drama</td>\n",
       "      <td>50 min</td>\n",
       "      <td>7.8</td>\n",
       "      <td>63,973</td>\n",
       "    </tr>\n",
       "    <tr>\n",
       "      <th>97</th>\n",
       "      <td>Criminal Minds</td>\n",
       "      <td>(2005– )</td>\n",
       "      <td>Crime, Drama, Mystery</td>\n",
       "      <td>42 min</td>\n",
       "      <td>8.1</td>\n",
       "      <td>208,463</td>\n",
       "    </tr>\n",
       "    <tr>\n",
       "      <th>98</th>\n",
       "      <td>Scream: The TV Series</td>\n",
       "      <td>(2015–2019)</td>\n",
       "      <td>Comedy, Crime, Drama</td>\n",
       "      <td>45 min</td>\n",
       "      <td>7.1</td>\n",
       "      <td>43,377</td>\n",
       "    </tr>\n",
       "    <tr>\n",
       "      <th>99</th>\n",
       "      <td>The Haunting of Hill House</td>\n",
       "      <td>(2018)</td>\n",
       "      <td>Drama, Horror, Mystery</td>\n",
       "      <td>572 min</td>\n",
       "      <td>8.6</td>\n",
       "      <td>259,970</td>\n",
       "    </tr>\n",
       "  </tbody>\n",
       "</table>\n",
       "<p>100 rows × 6 columns</p>\n",
       "</div>"
      ],
      "text/plain": [
       "                              Name    Year Span                     Grnre  \\\n",
       "0                  Game of Thrones  (2011–2019)  Action, Adventure, Drama   \n",
       "1                  Stranger Things  (2016–2024)    Drama, Fantasy, Horror   \n",
       "2                 The Walking Dead  (2010–2022)   Drama, Horror, Thriller   \n",
       "3                   13 Reasons Why  (2017–2020)  Drama, Mystery, Thriller   \n",
       "4                          The 100  (2014–2020)    Drama, Mystery, Sci-Fi   \n",
       "..                             ...          ...                       ...   \n",
       "95                           Reign  (2013–2017)                     Drama   \n",
       "96  A Series of Unfortunate Events  (2017–2019)  Adventure, Comedy, Drama   \n",
       "97                  Criminal Minds     (2005– )     Crime, Drama, Mystery   \n",
       "98           Scream: The TV Series  (2015–2019)      Comedy, Crime, Drama   \n",
       "99      The Haunting of Hill House       (2018)    Drama, Horror, Mystery   \n",
       "\n",
       "    Runtime Ratings       Vote  \n",
       "0    57 min     9.2  2,172,573  \n",
       "1    51 min     8.7  1,250,568  \n",
       "2    44 min     8.1  1,031,929  \n",
       "3    60 min     7.5    303,425  \n",
       "4    43 min     7.6    262,623  \n",
       "..      ...     ...        ...  \n",
       "95   42 min     7.4     51,933  \n",
       "96   50 min     7.8     63,973  \n",
       "97   42 min     8.1    208,463  \n",
       "98   45 min     7.1     43,377  \n",
       "99  572 min     8.6    259,970  \n",
       "\n",
       "[100 rows x 6 columns]"
      ]
     },
     "execution_count": 52,
     "metadata": {},
     "output_type": "execute_result"
    }
   ],
   "source": [
    "imdb = pd.DataFrame({\"Name\":i_name, \"Year Span\":i_year, \"Grnre\":i_genre, \"Runtime\":i_runtime, \"Ratings\":i_ratings, \"Vote\":i_votes})\n",
    "imdb"
   ]
  },
  {
   "cell_type": "code",
   "execution_count": 53,
   "id": "2f28437b",
   "metadata": {},
   "outputs": [],
   "source": [
    "d7.close()"
   ]
  },
  {
   "cell_type": "markdown",
   "id": "834a6526",
   "metadata": {},
   "source": [
    "## Q8"
   ]
  },
  {
   "cell_type": "markdown",
   "id": "2a451f44",
   "metadata": {},
   "source": [
    "Details of Datasets from UCI machine learning repositories.\n",
    "Url = https://archive.ics.uci.edu/\n",
    "You have to find the following details\n",
    "\n",
    "A) Dataset name\n",
    "\n",
    "B) Data type\n",
    "\n",
    "C) Task\n",
    "\n",
    "D) Attribute type\n",
    "\n",
    "E) No of instances\n",
    "\n",
    "F) No of attribute\n",
    "\n",
    "G) Year\n"
   ]
  },
  {
   "cell_type": "code",
   "execution_count": 2,
   "id": "316bf207",
   "metadata": {},
   "outputs": [],
   "source": [
    "d8 = webdriver.Chrome(r'chromedriver.exe')"
   ]
  },
  {
   "cell_type": "code",
   "execution_count": 3,
   "id": "c62f0457",
   "metadata": {},
   "outputs": [],
   "source": [
    "p8 = d8.get(\"https://archive.ics.uci.edu/\")"
   ]
  },
  {
   "cell_type": "code",
   "execution_count": 4,
   "id": "3f3112ac",
   "metadata": {},
   "outputs": [],
   "source": [
    "allds = d8.find_element(By.XPATH,'/html/body/div/div[1]/div[1]/main/div/div[1]/div/div/div/a[1]')\n",
    "allds.click()\n"
   ]
  },
  {
   "cell_type": "code",
   "execution_count": 5,
   "id": "5d724bc5",
   "metadata": {},
   "outputs": [],
   "source": [
    "ds_url = []\n",
    "start = 0\n",
    "end = 62\n",
    "try:\n",
    "    for pages in range(start ,end):\n",
    "        durl = d8.find_elements(By.XPATH,'//h2[@class=\"truncate text-primary\"]/a')\n",
    "        for i in durl:\n",
    "            ds_url.append(i.get_attribute(\"href\"))\n",
    "except NoSuchElementException :\n",
    "    ds_url.append(\"-\")"
   ]
  },
  {
   "cell_type": "code",
   "execution_count": 7,
   "id": "c2e4f0cc",
   "metadata": {},
   "outputs": [
    {
     "data": {
      "text/plain": [
       "620"
      ]
     },
     "execution_count": 7,
     "metadata": {},
     "output_type": "execute_result"
    }
   ],
   "source": [
    "len(ds_url)"
   ]
  },
  {
   "cell_type": "code",
   "execution_count": 8,
   "id": "de3fba7f",
   "metadata": {},
   "outputs": [],
   "source": [
    "name = []\n",
    "for i in ds_url:\n",
    "    d8.get(i)\n",
    "    time.sleep(2)\n",
    "    try:\n",
    "        ds_title = d8.find_element(By.XPATH,'//div[@class=\"col-span-12 flex flex-col gap-4 md:col-span-9\"]/div[1]/div[1]/div[2]/div/h1')\n",
    "        name.append(ds_title.text)\n",
    "    except NoSuchElementException :\n",
    "        name.append(\"-\")"
   ]
  },
  {
   "cell_type": "code",
   "execution_count": 9,
   "id": "3f6aba87",
   "metadata": {},
   "outputs": [
    {
     "name": "stdout",
     "output_type": "stream",
     "text": [
      "['Iris', 'Heart Disease', 'Dry Bean Dataset', 'Adult', 'Diabetes', 'Rice (Cammeo and Osmancik)', 'Wine', 'Car Evaluation', 'Breast Cancer Wisconsin (Diagnostic)', 'Mushroom', 'Iris', 'Heart Disease', 'Dry Bean Dataset', 'Adult', 'Diabetes', 'Rice (Cammeo and Osmancik)', 'Wine', 'Car Evaluation', 'Breast Cancer Wisconsin (Diagnostic)', 'Mushroom', 'Iris', 'Heart Disease', 'Dry Bean Dataset', 'Adult', 'Diabetes', 'Rice (Cammeo and Osmancik)', 'Wine', 'Car Evaluation', 'Breast Cancer Wisconsin (Diagnostic)', 'Mushroom', 'Iris', 'Heart Disease', 'Dry Bean Dataset', 'Adult', 'Diabetes', 'Rice (Cammeo and Osmancik)', 'Wine', 'Car Evaluation', 'Breast Cancer Wisconsin (Diagnostic)', 'Mushroom', 'Iris', 'Heart Disease', 'Dry Bean Dataset', 'Adult', 'Diabetes', 'Rice (Cammeo and Osmancik)', 'Wine', 'Car Evaluation', 'Breast Cancer Wisconsin (Diagnostic)', 'Mushroom', 'Iris', 'Heart Disease', 'Dry Bean Dataset', 'Adult', 'Diabetes', 'Rice (Cammeo and Osmancik)', 'Wine', 'Car Evaluation', 'Breast Cancer Wisconsin (Diagnostic)', 'Mushroom', 'Iris', 'Heart Disease', 'Dry Bean Dataset', 'Adult', 'Diabetes', 'Rice (Cammeo and Osmancik)', 'Wine', 'Car Evaluation', 'Breast Cancer Wisconsin (Diagnostic)', 'Mushroom', 'Iris', 'Heart Disease', 'Dry Bean Dataset', 'Adult', 'Diabetes', 'Rice (Cammeo and Osmancik)', 'Wine', 'Car Evaluation', 'Breast Cancer Wisconsin (Diagnostic)', 'Mushroom', 'Iris', 'Heart Disease', 'Dry Bean Dataset', 'Adult', 'Diabetes', 'Rice (Cammeo and Osmancik)', 'Wine', 'Car Evaluation', 'Breast Cancer Wisconsin (Diagnostic)', 'Mushroom', 'Iris', 'Heart Disease', 'Dry Bean Dataset', 'Adult', 'Diabetes', 'Rice (Cammeo and Osmancik)', 'Wine', 'Car Evaluation', 'Breast Cancer Wisconsin (Diagnostic)', 'Mushroom', 'Iris', 'Heart Disease', 'Dry Bean Dataset', 'Adult', 'Diabetes', 'Rice (Cammeo and Osmancik)', 'Wine', 'Car Evaluation', 'Breast Cancer Wisconsin (Diagnostic)', 'Mushroom', 'Iris', 'Heart Disease', 'Dry Bean Dataset', 'Adult', 'Diabetes', 'Rice (Cammeo and Osmancik)', 'Wine', 'Car Evaluation', 'Breast Cancer Wisconsin (Diagnostic)', 'Mushroom', 'Iris', 'Heart Disease', 'Dry Bean Dataset', 'Adult', 'Diabetes', 'Rice (Cammeo and Osmancik)', 'Wine', 'Car Evaluation', 'Breast Cancer Wisconsin (Diagnostic)', 'Mushroom', 'Iris', 'Heart Disease', 'Dry Bean Dataset', 'Adult', 'Diabetes', 'Rice (Cammeo and Osmancik)', 'Wine', 'Car Evaluation', 'Breast Cancer Wisconsin (Diagnostic)', 'Mushroom', 'Iris', 'Heart Disease', 'Dry Bean Dataset', 'Adult', 'Diabetes', 'Rice (Cammeo and Osmancik)', 'Wine', 'Car Evaluation', 'Breast Cancer Wisconsin (Diagnostic)', 'Mushroom', 'Iris', 'Heart Disease', 'Dry Bean Dataset', 'Adult', 'Diabetes', 'Rice (Cammeo and Osmancik)', 'Wine', 'Car Evaluation', 'Breast Cancer Wisconsin (Diagnostic)', 'Mushroom', 'Iris', 'Heart Disease', 'Dry Bean Dataset', 'Adult', 'Diabetes', 'Rice (Cammeo and Osmancik)', 'Wine', 'Car Evaluation', 'Breast Cancer Wisconsin (Diagnostic)', 'Mushroom', 'Iris', 'Heart Disease', 'Dry Bean Dataset', 'Adult', 'Diabetes', 'Rice (Cammeo and Osmancik)', 'Wine', 'Car Evaluation', 'Breast Cancer Wisconsin (Diagnostic)', 'Mushroom', 'Iris', 'Heart Disease', 'Dry Bean Dataset', 'Adult', 'Diabetes', 'Rice (Cammeo and Osmancik)', 'Wine', 'Car Evaluation', 'Breast Cancer Wisconsin (Diagnostic)', 'Mushroom', 'Iris', 'Heart Disease', 'Dry Bean Dataset', 'Adult', 'Diabetes', 'Rice (Cammeo and Osmancik)', 'Wine', 'Car Evaluation', 'Breast Cancer Wisconsin (Diagnostic)', 'Mushroom', 'Iris', 'Heart Disease', 'Dry Bean Dataset', 'Adult', 'Diabetes', 'Rice (Cammeo and Osmancik)', 'Wine', 'Car Evaluation', 'Breast Cancer Wisconsin (Diagnostic)', 'Mushroom', 'Iris', 'Heart Disease', 'Dry Bean Dataset', 'Adult', 'Diabetes', 'Rice (Cammeo and Osmancik)', 'Wine', 'Car Evaluation', 'Breast Cancer Wisconsin (Diagnostic)', 'Mushroom', 'Iris', 'Heart Disease', 'Dry Bean Dataset', 'Adult', 'Diabetes', 'Rice (Cammeo and Osmancik)', 'Wine', 'Car Evaluation', 'Breast Cancer Wisconsin (Diagnostic)', 'Mushroom', 'Iris', 'Heart Disease', 'Dry Bean Dataset', 'Adult', 'Diabetes', 'Rice (Cammeo and Osmancik)', 'Wine', 'Car Evaluation', 'Breast Cancer Wisconsin (Diagnostic)', 'Mushroom', 'Iris', 'Heart Disease', 'Dry Bean Dataset', 'Adult', 'Diabetes', 'Rice (Cammeo and Osmancik)', 'Wine', 'Car Evaluation', 'Breast Cancer Wisconsin (Diagnostic)', 'Mushroom', 'Iris', 'Heart Disease', 'Dry Bean Dataset', 'Adult', 'Diabetes', 'Rice (Cammeo and Osmancik)', 'Wine', 'Car Evaluation', 'Breast Cancer Wisconsin (Diagnostic)', 'Mushroom', 'Iris', 'Heart Disease', 'Dry Bean Dataset', 'Adult', 'Diabetes', 'Rice (Cammeo and Osmancik)', 'Wine', 'Car Evaluation', 'Breast Cancer Wisconsin (Diagnostic)', 'Mushroom', 'Iris', 'Heart Disease', 'Dry Bean Dataset', 'Adult', 'Diabetes', 'Rice (Cammeo and Osmancik)', 'Wine', 'Car Evaluation', 'Breast Cancer Wisconsin (Diagnostic)', 'Mushroom', 'Iris', 'Heart Disease', 'Dry Bean Dataset', 'Adult', 'Diabetes', 'Rice (Cammeo and Osmancik)', 'Wine', 'Car Evaluation', 'Breast Cancer Wisconsin (Diagnostic)', 'Mushroom', 'Iris', 'Heart Disease', 'Dry Bean Dataset', 'Adult', 'Diabetes', 'Rice (Cammeo and Osmancik)', 'Wine', 'Car Evaluation', 'Breast Cancer Wisconsin (Diagnostic)', 'Mushroom', 'Iris', 'Heart Disease', 'Dry Bean Dataset', 'Adult', 'Diabetes', 'Rice (Cammeo and Osmancik)', 'Wine', 'Car Evaluation', 'Breast Cancer Wisconsin (Diagnostic)', 'Mushroom', 'Iris', 'Heart Disease', 'Dry Bean Dataset', 'Adult', 'Diabetes', 'Rice (Cammeo and Osmancik)', 'Wine', 'Car Evaluation', 'Breast Cancer Wisconsin (Diagnostic)', 'Mushroom', 'Iris', 'Heart Disease', 'Dry Bean Dataset', 'Adult', 'Diabetes', 'Rice (Cammeo and Osmancik)', 'Wine', 'Car Evaluation', 'Breast Cancer Wisconsin (Diagnostic)', 'Mushroom', 'Iris', 'Heart Disease', 'Dry Bean Dataset', 'Adult', 'Diabetes', 'Rice (Cammeo and Osmancik)', 'Wine', 'Car Evaluation', 'Breast Cancer Wisconsin (Diagnostic)', 'Mushroom', 'Iris', 'Heart Disease', 'Dry Bean Dataset', 'Adult', 'Diabetes', 'Rice (Cammeo and Osmancik)', 'Wine', 'Car Evaluation', 'Breast Cancer Wisconsin (Diagnostic)', 'Mushroom', 'Iris', 'Heart Disease', 'Dry Bean Dataset', 'Adult', 'Diabetes', 'Rice (Cammeo and Osmancik)', 'Wine', 'Car Evaluation', 'Breast Cancer Wisconsin (Diagnostic)', 'Mushroom', 'Iris', 'Heart Disease', 'Dry Bean Dataset', 'Adult', 'Diabetes', 'Rice (Cammeo and Osmancik)', 'Wine', 'Car Evaluation', 'Breast Cancer Wisconsin (Diagnostic)', 'Mushroom', 'Iris', 'Heart Disease', 'Dry Bean Dataset', 'Adult', 'Diabetes', 'Rice (Cammeo and Osmancik)', 'Wine', 'Car Evaluation', 'Breast Cancer Wisconsin (Diagnostic)', 'Mushroom', 'Iris', 'Heart Disease', 'Dry Bean Dataset', 'Adult', 'Diabetes', 'Rice (Cammeo and Osmancik)', 'Wine', 'Car Evaluation', 'Breast Cancer Wisconsin (Diagnostic)', 'Mushroom', 'Iris', 'Heart Disease', 'Dry Bean Dataset', 'Adult', 'Diabetes', 'Rice (Cammeo and Osmancik)', 'Wine', 'Car Evaluation', 'Breast Cancer Wisconsin (Diagnostic)', 'Mushroom', 'Iris', 'Heart Disease', 'Dry Bean Dataset', 'Adult', 'Diabetes', 'Rice (Cammeo and Osmancik)', 'Wine', 'Car Evaluation', 'Breast Cancer Wisconsin (Diagnostic)', 'Mushroom', 'Iris', 'Heart Disease', 'Dry Bean Dataset', 'Adult', 'Diabetes', 'Rice (Cammeo and Osmancik)', 'Wine', 'Car Evaluation', 'Breast Cancer Wisconsin (Diagnostic)', 'Mushroom', 'Iris', 'Heart Disease', 'Dry Bean Dataset', 'Adult', 'Diabetes', 'Rice (Cammeo and Osmancik)', 'Wine', 'Car Evaluation', 'Breast Cancer Wisconsin (Diagnostic)', 'Mushroom', 'Iris', 'Heart Disease', 'Dry Bean Dataset', 'Adult', 'Diabetes', 'Rice (Cammeo and Osmancik)', 'Wine', 'Car Evaluation', 'Breast Cancer Wisconsin (Diagnostic)', 'Mushroom', 'Iris', 'Heart Disease', 'Dry Bean Dataset', 'Adult', 'Diabetes', 'Rice (Cammeo and Osmancik)', 'Wine', 'Car Evaluation', 'Breast Cancer Wisconsin (Diagnostic)', 'Mushroom', 'Iris', 'Heart Disease', 'Dry Bean Dataset', 'Adult', 'Diabetes', 'Rice (Cammeo and Osmancik)', 'Wine', 'Car Evaluation', 'Breast Cancer Wisconsin (Diagnostic)', 'Mushroom', 'Iris', 'Heart Disease', 'Dry Bean Dataset', 'Adult', 'Diabetes', 'Rice (Cammeo and Osmancik)', 'Wine', 'Car Evaluation', 'Breast Cancer Wisconsin (Diagnostic)', 'Mushroom', 'Iris', 'Heart Disease', 'Dry Bean Dataset', 'Adult', 'Diabetes', 'Rice (Cammeo and Osmancik)', 'Wine', 'Car Evaluation', 'Breast Cancer Wisconsin (Diagnostic)', 'Mushroom', 'Iris', 'Heart Disease', 'Dry Bean Dataset', 'Adult', 'Diabetes', 'Rice (Cammeo and Osmancik)', 'Wine', 'Car Evaluation', 'Breast Cancer Wisconsin (Diagnostic)', 'Mushroom', 'Iris', 'Heart Disease', 'Dry Bean Dataset', 'Adult', 'Diabetes', 'Rice (Cammeo and Osmancik)', 'Wine', 'Car Evaluation', 'Breast Cancer Wisconsin (Diagnostic)', 'Mushroom', 'Iris', 'Heart Disease', 'Dry Bean Dataset', 'Adult', 'Diabetes', 'Rice (Cammeo and Osmancik)', 'Wine', 'Car Evaluation', 'Breast Cancer Wisconsin (Diagnostic)', 'Mushroom', 'Iris', 'Heart Disease', 'Dry Bean Dataset', 'Adult', 'Diabetes', 'Rice (Cammeo and Osmancik)', 'Wine', 'Car Evaluation', 'Breast Cancer Wisconsin (Diagnostic)', 'Mushroom', 'Iris', 'Heart Disease', 'Dry Bean Dataset', 'Adult', 'Diabetes', 'Rice (Cammeo and Osmancik)', 'Wine', 'Car Evaluation', 'Breast Cancer Wisconsin (Diagnostic)', 'Mushroom', 'Iris', 'Heart Disease', 'Dry Bean Dataset', 'Adult', 'Diabetes', 'Rice (Cammeo and Osmancik)', 'Wine', 'Car Evaluation', 'Breast Cancer Wisconsin (Diagnostic)', 'Mushroom', 'Iris', 'Heart Disease', 'Dry Bean Dataset', 'Adult', 'Diabetes', 'Rice (Cammeo and Osmancik)', 'Wine', 'Car Evaluation', 'Breast Cancer Wisconsin (Diagnostic)', 'Mushroom', 'Iris', 'Heart Disease', 'Dry Bean Dataset', 'Adult', 'Diabetes', 'Rice (Cammeo and Osmancik)', 'Wine', 'Car Evaluation', 'Breast Cancer Wisconsin (Diagnostic)', 'Mushroom', 'Iris', 'Heart Disease', 'Dry Bean Dataset', 'Adult', 'Diabetes', 'Rice (Cammeo and Osmancik)', 'Wine', 'Car Evaluation', 'Breast Cancer Wisconsin (Diagnostic)', 'Mushroom', 'Iris', 'Heart Disease', 'Dry Bean Dataset', 'Adult', 'Diabetes', 'Rice (Cammeo and Osmancik)', 'Wine', 'Car Evaluation', 'Breast Cancer Wisconsin (Diagnostic)', 'Mushroom', 'Iris', 'Heart Disease', 'Dry Bean Dataset', 'Adult', 'Diabetes', 'Rice (Cammeo and Osmancik)', 'Wine', 'Car Evaluation', 'Breast Cancer Wisconsin (Diagnostic)', 'Mushroom', 'Iris', 'Heart Disease', 'Dry Bean Dataset', 'Adult', 'Diabetes', 'Rice (Cammeo and Osmancik)', 'Wine', 'Car Evaluation', 'Breast Cancer Wisconsin (Diagnostic)', 'Mushroom', 'Iris', 'Heart Disease', 'Dry Bean Dataset', 'Adult', 'Diabetes', 'Rice (Cammeo and Osmancik)', 'Wine', 'Car Evaluation', 'Breast Cancer Wisconsin (Diagnostic)', 'Mushroom', 'Iris', 'Heart Disease', 'Dry Bean Dataset', 'Adult', 'Diabetes', 'Rice (Cammeo and Osmancik)', 'Wine', 'Car Evaluation', 'Breast Cancer Wisconsin (Diagnostic)', 'Mushroom']\n"
     ]
    }
   ],
   "source": [
    "print(name)"
   ]
  },
  {
   "cell_type": "code",
   "execution_count": 10,
   "id": "cd50c72e",
   "metadata": {},
   "outputs": [],
   "source": [
    "dtypes = []\n",
    "for i in ds_url:\n",
    "    d8.get(i)\n",
    "    time.sleep(2)\n",
    "    try:\n",
    "        ds_type = d8.find_element(By.XPATH,'//div[@class=\"col-span-12 flex flex-col gap-4 md:col-span-9\"]/div[1]/div[2]/div[2]/div[1]/p')\n",
    "        dtypes.append(ds_type.text)\n",
    "    except NoSuchElementException :\n",
    "        dtypes.append(\"-\")"
   ]
  },
  {
   "cell_type": "code",
   "execution_count": 11,
   "id": "491aaa2f",
   "metadata": {},
   "outputs": [
    {
     "name": "stdout",
     "output_type": "stream",
     "text": [
      "['Multivariate', 'Multivariate', 'Multivariate', 'Multivariate', 'Multivariate, Time-Series', 'Multivariate', 'Multivariate', 'Multivariate', 'Multivariate', 'Multivariate', 'Multivariate', 'Multivariate', 'Multivariate', 'Multivariate', 'Multivariate, Time-Series', 'Multivariate', 'Multivariate', 'Multivariate', 'Multivariate', 'Multivariate', 'Multivariate', 'Multivariate', 'Multivariate', 'Multivariate', 'Multivariate, Time-Series', 'Multivariate', 'Multivariate', 'Multivariate', 'Multivariate', 'Multivariate', 'Multivariate', 'Multivariate', 'Multivariate', 'Multivariate', 'Multivariate, Time-Series', 'Multivariate', 'Multivariate', 'Multivariate', 'Multivariate', 'Multivariate', 'Multivariate', 'Multivariate', 'Multivariate', 'Multivariate', 'Multivariate, Time-Series', 'Multivariate', 'Multivariate', 'Multivariate', 'Multivariate', 'Multivariate', 'Multivariate', 'Multivariate', 'Multivariate', 'Multivariate', 'Multivariate, Time-Series', 'Multivariate', 'Multivariate', 'Multivariate', 'Multivariate', 'Multivariate', 'Multivariate', 'Multivariate', 'Multivariate', 'Multivariate', 'Multivariate, Time-Series', 'Multivariate', 'Multivariate', 'Multivariate', 'Multivariate', 'Multivariate', 'Multivariate', 'Multivariate', 'Multivariate', 'Multivariate', 'Multivariate, Time-Series', 'Multivariate', 'Multivariate', 'Multivariate', 'Multivariate', 'Multivariate', 'Multivariate', 'Multivariate', 'Multivariate', 'Multivariate', 'Multivariate, Time-Series', 'Multivariate', 'Multivariate', 'Multivariate', 'Multivariate', 'Multivariate', 'Multivariate', 'Multivariate', 'Multivariate', 'Multivariate', 'Multivariate, Time-Series', 'Multivariate', 'Multivariate', 'Multivariate', 'Multivariate', 'Multivariate', 'Multivariate', 'Multivariate', 'Multivariate', 'Multivariate', 'Multivariate, Time-Series', 'Multivariate', 'Multivariate', 'Multivariate', 'Multivariate', 'Multivariate', 'Multivariate', 'Multivariate', 'Multivariate', 'Multivariate', 'Multivariate, Time-Series', 'Multivariate', 'Multivariate', 'Multivariate', 'Multivariate', 'Multivariate', 'Multivariate', 'Multivariate', 'Multivariate', 'Multivariate', 'Multivariate, Time-Series', 'Multivariate', 'Multivariate', 'Multivariate', 'Multivariate', 'Multivariate', 'Multivariate', 'Multivariate', 'Multivariate', 'Multivariate', 'Multivariate, Time-Series', 'Multivariate', 'Multivariate', 'Multivariate', 'Multivariate', 'Multivariate', 'Multivariate', 'Multivariate', 'Multivariate', 'Multivariate', 'Multivariate, Time-Series', 'Multivariate', 'Multivariate', 'Multivariate', 'Multivariate', 'Multivariate', 'Multivariate', 'Multivariate', 'Multivariate', 'Multivariate', 'Multivariate, Time-Series', 'Multivariate', 'Multivariate', 'Multivariate', 'Multivariate', 'Multivariate', 'Multivariate', 'Multivariate', 'Multivariate', 'Multivariate', 'Multivariate, Time-Series', 'Multivariate', 'Multivariate', 'Multivariate', 'Multivariate', 'Multivariate', 'Multivariate', 'Multivariate', 'Multivariate', 'Multivariate', 'Multivariate, Time-Series', 'Multivariate', 'Multivariate', 'Multivariate', 'Multivariate', 'Multivariate', 'Multivariate', 'Multivariate', 'Multivariate', 'Multivariate', 'Multivariate, Time-Series', 'Multivariate', 'Multivariate', 'Multivariate', 'Multivariate', 'Multivariate', 'Multivariate', 'Multivariate', 'Multivariate', 'Multivariate', 'Multivariate, Time-Series', 'Multivariate', 'Multivariate', 'Multivariate', 'Multivariate', 'Multivariate', 'Multivariate', 'Multivariate', 'Multivariate', 'Multivariate', 'Multivariate, Time-Series', 'Multivariate', 'Multivariate', 'Multivariate', 'Multivariate', 'Multivariate', 'Multivariate', 'Multivariate', 'Multivariate', 'Multivariate', 'Multivariate, Time-Series', 'Multivariate', 'Multivariate', 'Multivariate', 'Multivariate', 'Multivariate', 'Multivariate', 'Multivariate', 'Multivariate', 'Multivariate', 'Multivariate, Time-Series', 'Multivariate', 'Multivariate', 'Multivariate', 'Multivariate', 'Multivariate', 'Multivariate', 'Multivariate', 'Multivariate', 'Multivariate', 'Multivariate, Time-Series', 'Multivariate', 'Multivariate', 'Multivariate', 'Multivariate', 'Multivariate', 'Multivariate', 'Multivariate', 'Multivariate', 'Multivariate', 'Multivariate, Time-Series', 'Multivariate', 'Multivariate', 'Multivariate', 'Multivariate', 'Multivariate', 'Multivariate', 'Multivariate', 'Multivariate', 'Multivariate', 'Multivariate, Time-Series', 'Multivariate', 'Multivariate', 'Multivariate', 'Multivariate', 'Multivariate', 'Multivariate', 'Multivariate', 'Multivariate', 'Multivariate', 'Multivariate, Time-Series', 'Multivariate', 'Multivariate', 'Multivariate', 'Multivariate', 'Multivariate', 'Multivariate', 'Multivariate', 'Multivariate', 'Multivariate', 'Multivariate, Time-Series', 'Multivariate', 'Multivariate', 'Multivariate', 'Multivariate', 'Multivariate', 'Multivariate', 'Multivariate', 'Multivariate', 'Multivariate', 'Multivariate, Time-Series', 'Multivariate', 'Multivariate', 'Multivariate', 'Multivariate', 'Multivariate', 'Multivariate', 'Multivariate', 'Multivariate', 'Multivariate', 'Multivariate, Time-Series', 'Multivariate', 'Multivariate', 'Multivariate', 'Multivariate', 'Multivariate', 'Multivariate', 'Multivariate', 'Multivariate', 'Multivariate', 'Multivariate, Time-Series', 'Multivariate', 'Multivariate', 'Multivariate', 'Multivariate', 'Multivariate', 'Multivariate', 'Multivariate', 'Multivariate', 'Multivariate', 'Multivariate, Time-Series', 'Multivariate', 'Multivariate', 'Multivariate', 'Multivariate', 'Multivariate', 'Multivariate', 'Multivariate', 'Multivariate', 'Multivariate', 'Multivariate, Time-Series', 'Multivariate', 'Multivariate', 'Multivariate', 'Multivariate', 'Multivariate', 'Multivariate', 'Multivariate', 'Multivariate', 'Multivariate', 'Multivariate, Time-Series', 'Multivariate', 'Multivariate', 'Multivariate', 'Multivariate', 'Multivariate', 'Multivariate', 'Multivariate', 'Multivariate', 'Multivariate', 'Multivariate, Time-Series', 'Multivariate', 'Multivariate', 'Multivariate', 'Multivariate', 'Multivariate', 'Multivariate', 'Multivariate', 'Multivariate', 'Multivariate', 'Multivariate, Time-Series', 'Multivariate', 'Multivariate', 'Multivariate', 'Multivariate', 'Multivariate', 'Multivariate', 'Multivariate', 'Multivariate', 'Multivariate', 'Multivariate, Time-Series', 'Multivariate', 'Multivariate', 'Multivariate', 'Multivariate', 'Multivariate', 'Multivariate', 'Multivariate', 'Multivariate', 'Multivariate', 'Multivariate, Time-Series', 'Multivariate', 'Multivariate', 'Multivariate', 'Multivariate', 'Multivariate', 'Multivariate', 'Multivariate', 'Multivariate', 'Multivariate', 'Multivariate, Time-Series', 'Multivariate', 'Multivariate', 'Multivariate', 'Multivariate', 'Multivariate', 'Multivariate', 'Multivariate', 'Multivariate', 'Multivariate', 'Multivariate, Time-Series', 'Multivariate', 'Multivariate', 'Multivariate', 'Multivariate', 'Multivariate', 'Multivariate', 'Multivariate', 'Multivariate', 'Multivariate', 'Multivariate, Time-Series', 'Multivariate', 'Multivariate', 'Multivariate', 'Multivariate', 'Multivariate', 'Multivariate', 'Multivariate', 'Multivariate', 'Multivariate', 'Multivariate, Time-Series', 'Multivariate', 'Multivariate', 'Multivariate', 'Multivariate', 'Multivariate', 'Multivariate', 'Multivariate', 'Multivariate', 'Multivariate', 'Multivariate, Time-Series', 'Multivariate', 'Multivariate', 'Multivariate', 'Multivariate', 'Multivariate', 'Multivariate', 'Multivariate', 'Multivariate', 'Multivariate', 'Multivariate, Time-Series', 'Multivariate', 'Multivariate', 'Multivariate', 'Multivariate', 'Multivariate', 'Multivariate', 'Multivariate', 'Multivariate', 'Multivariate', 'Multivariate, Time-Series', 'Multivariate', 'Multivariate', 'Multivariate', 'Multivariate', 'Multivariate', 'Multivariate', 'Multivariate', 'Multivariate', 'Multivariate', 'Multivariate, Time-Series', 'Multivariate', 'Multivariate', 'Multivariate', 'Multivariate', 'Multivariate', 'Multivariate', 'Multivariate', 'Multivariate', 'Multivariate', 'Multivariate, Time-Series', 'Multivariate', 'Multivariate', 'Multivariate', 'Multivariate', 'Multivariate', 'Multivariate', 'Multivariate', 'Multivariate', 'Multivariate', 'Multivariate, Time-Series', 'Multivariate', 'Multivariate', 'Multivariate', 'Multivariate', 'Multivariate', 'Multivariate', 'Multivariate', 'Multivariate', 'Multivariate', 'Multivariate, Time-Series', 'Multivariate', 'Multivariate', 'Multivariate', 'Multivariate', 'Multivariate', 'Multivariate', 'Multivariate', 'Multivariate', 'Multivariate', 'Multivariate, Time-Series', 'Multivariate', 'Multivariate', 'Multivariate', 'Multivariate', 'Multivariate', 'Multivariate', 'Multivariate', 'Multivariate', 'Multivariate', 'Multivariate, Time-Series', 'Multivariate', 'Multivariate', 'Multivariate', 'Multivariate', 'Multivariate', 'Multivariate', 'Multivariate', 'Multivariate', 'Multivariate', 'Multivariate, Time-Series', 'Multivariate', 'Multivariate', 'Multivariate', 'Multivariate', 'Multivariate', 'Multivariate', 'Multivariate', 'Multivariate', 'Multivariate', 'Multivariate, Time-Series', 'Multivariate', 'Multivariate', 'Multivariate', 'Multivariate', 'Multivariate', 'Multivariate', 'Multivariate', 'Multivariate', 'Multivariate', 'Multivariate, Time-Series', 'Multivariate', 'Multivariate', 'Multivariate', 'Multivariate', 'Multivariate', 'Multivariate', 'Multivariate', 'Multivariate', 'Multivariate', 'Multivariate, Time-Series', 'Multivariate', 'Multivariate', 'Multivariate', 'Multivariate', 'Multivariate', 'Multivariate', 'Multivariate', 'Multivariate', 'Multivariate', 'Multivariate, Time-Series', 'Multivariate', 'Multivariate', 'Multivariate', 'Multivariate', 'Multivariate', 'Multivariate', 'Multivariate', 'Multivariate', 'Multivariate', 'Multivariate, Time-Series', 'Multivariate', 'Multivariate', 'Multivariate', 'Multivariate', 'Multivariate', 'Multivariate', 'Multivariate', 'Multivariate', 'Multivariate', 'Multivariate, Time-Series', 'Multivariate', 'Multivariate', 'Multivariate', 'Multivariate', 'Multivariate', 'Multivariate', 'Multivariate', 'Multivariate', 'Multivariate', 'Multivariate, Time-Series', 'Multivariate', 'Multivariate', 'Multivariate', 'Multivariate', 'Multivariate', 'Multivariate', 'Multivariate', 'Multivariate', 'Multivariate', 'Multivariate, Time-Series', 'Multivariate', 'Multivariate', 'Multivariate', 'Multivariate', 'Multivariate', 'Multivariate', 'Multivariate', 'Multivariate', 'Multivariate', 'Multivariate, Time-Series', 'Multivariate', 'Multivariate', 'Multivariate', 'Multivariate', 'Multivariate', 'Multivariate', 'Multivariate', 'Multivariate', 'Multivariate', 'Multivariate, Time-Series', 'Multivariate', 'Multivariate', 'Multivariate', 'Multivariate', 'Multivariate']\n"
     ]
    }
   ],
   "source": [
    "print(dtypes)"
   ]
  },
  {
   "cell_type": "code",
   "execution_count": 12,
   "id": "f7fb0f13",
   "metadata": {},
   "outputs": [],
   "source": [
    "task = []\n",
    "for i in ds_url:\n",
    "    d8.get(i)\n",
    "    time.sleep(2)\n",
    "    try:\n",
    "        ds_task = d8.find_element(By.XPATH,'//div[@class=\"col-span-12 flex flex-col gap-4 md:col-span-9\"]/div[1]/div[2]/div[2]/div[3]/p')\n",
    "        task.append(ds_task.text)\n",
    "    except NoSuchElementException :\n",
    "        task.append(\"-\")"
   ]
  },
  {
   "cell_type": "code",
   "execution_count": 13,
   "id": "51604722",
   "metadata": {},
   "outputs": [
    {
     "name": "stdout",
     "output_type": "stream",
     "text": [
      "['Classification', 'Classification', 'Classification', 'Classification', '-', 'Classification', 'Classification', 'Classification', 'Classification', 'Classification', 'Classification', 'Classification', 'Classification', 'Classification', '-', 'Classification', 'Classification', 'Classification', 'Classification', 'Classification', 'Classification', 'Classification', 'Classification', 'Classification', '-', 'Classification', 'Classification', 'Classification', 'Classification', 'Classification', 'Classification', 'Classification', 'Classification', 'Classification', '-', 'Classification', 'Classification', 'Classification', 'Classification', 'Classification', 'Classification', 'Classification', 'Classification', 'Classification', '-', 'Classification', 'Classification', 'Classification', 'Classification', 'Classification', 'Classification', 'Classification', 'Classification', 'Classification', '-', 'Classification', 'Classification', 'Classification', 'Classification', 'Classification', 'Classification', 'Classification', 'Classification', 'Classification', '-', 'Classification', 'Classification', 'Classification', 'Classification', 'Classification', 'Classification', 'Classification', 'Classification', 'Classification', '-', 'Classification', 'Classification', 'Classification', 'Classification', 'Classification', 'Classification', 'Classification', 'Classification', 'Classification', '-', 'Classification', 'Classification', 'Classification', 'Classification', 'Classification', 'Classification', 'Classification', 'Classification', 'Classification', '-', 'Classification', 'Classification', 'Classification', 'Classification', 'Classification', 'Classification', 'Classification', 'Classification', 'Classification', '-', 'Classification', 'Classification', 'Classification', 'Classification', 'Classification', 'Classification', 'Classification', 'Classification', 'Classification', '-', 'Classification', 'Classification', 'Classification', 'Classification', 'Classification', 'Classification', 'Classification', 'Classification', 'Classification', '-', 'Classification', 'Classification', 'Classification', 'Classification', 'Classification', 'Classification', 'Classification', 'Classification', 'Classification', '-', 'Classification', 'Classification', 'Classification', 'Classification', 'Classification', 'Classification', 'Classification', 'Classification', 'Classification', '-', 'Classification', 'Classification', 'Classification', 'Classification', 'Classification', 'Classification', '-', 'Classification', 'Classification', '-', 'Classification', 'Classification', 'Classification', 'Classification', 'Classification', 'Classification', 'Classification', 'Classification', 'Classification', '-', 'Classification', 'Classification', 'Classification', 'Classification', 'Classification', 'Classification', 'Classification', 'Classification', 'Classification', '-', 'Classification', 'Classification', 'Classification', 'Classification', 'Classification', 'Classification', 'Classification', 'Classification', 'Classification', '-', 'Classification', 'Classification', 'Classification', 'Classification', 'Classification', 'Classification', 'Classification', 'Classification', 'Classification', '-', 'Classification', 'Classification', 'Classification', 'Classification', 'Classification', 'Classification', 'Classification', 'Classification', 'Classification', '-', 'Classification', 'Classification', 'Classification', 'Classification', 'Classification', 'Classification', 'Classification', 'Classification', 'Classification', '-', 'Classification', 'Classification', 'Classification', 'Classification', 'Classification', 'Classification', 'Classification', 'Classification', 'Classification', '-', 'Classification', 'Classification', 'Classification', 'Classification', 'Classification', 'Classification', 'Classification', 'Classification', 'Classification', '-', 'Classification', 'Classification', 'Classification', 'Classification', 'Classification', 'Classification', 'Classification', 'Classification', 'Classification', '-', 'Classification', 'Classification', 'Classification', 'Classification', 'Classification', 'Classification', 'Classification', 'Classification', 'Classification', '-', 'Classification', 'Classification', 'Classification', 'Classification', 'Classification', 'Classification', 'Classification', 'Classification', 'Classification', '-', 'Classification', 'Classification', 'Classification', 'Classification', 'Classification', 'Classification', 'Classification', 'Classification', 'Classification', '-', 'Classification', 'Classification', 'Classification', 'Classification', 'Classification', 'Classification', 'Classification', 'Classification', 'Classification', '-', 'Classification', 'Classification', 'Classification', 'Classification', 'Classification', 'Classification', 'Classification', 'Classification', 'Classification', '-', 'Classification', 'Classification', 'Classification', 'Classification', 'Classification', 'Classification', 'Classification', 'Classification', 'Classification', '-', 'Classification', 'Classification', 'Classification', 'Classification', 'Classification', 'Classification', 'Classification', 'Classification', 'Classification', '-', 'Classification', 'Classification', 'Classification', 'Classification', 'Classification', 'Classification', 'Classification', 'Classification', 'Classification', '-', 'Classification', 'Classification', 'Classification', 'Classification', 'Classification', 'Classification', 'Classification', 'Classification', 'Classification', '-', 'Classification', 'Classification', 'Classification', 'Classification', 'Classification', 'Classification', 'Classification', 'Classification', 'Classification', '-', 'Classification', 'Classification', 'Classification', 'Classification', 'Classification', 'Classification', 'Classification', 'Classification', 'Classification', '-', 'Classification', 'Classification', 'Classification', 'Classification', 'Classification', 'Classification', 'Classification', 'Classification', 'Classification', '-', 'Classification', 'Classification', 'Classification', 'Classification', 'Classification', 'Classification', 'Classification', 'Classification', 'Classification', '-', 'Classification', 'Classification', 'Classification', 'Classification', 'Classification', 'Classification', 'Classification', 'Classification', 'Classification', '-', 'Classification', 'Classification', 'Classification', 'Classification', 'Classification', 'Classification', 'Classification', 'Classification', 'Classification', '-', 'Classification', 'Classification', 'Classification', 'Classification', 'Classification', 'Classification', 'Classification', 'Classification', 'Classification', '-', 'Classification', 'Classification', 'Classification', 'Classification', 'Classification', 'Classification', 'Classification', 'Classification', 'Classification', '-', 'Classification', 'Classification', 'Classification', 'Classification', 'Classification', 'Classification', 'Classification', 'Classification', 'Classification', '-', 'Classification', 'Classification', 'Classification', 'Classification', 'Classification', 'Classification', 'Classification', 'Classification', 'Classification', '-', 'Classification', 'Classification', 'Classification', 'Classification', 'Classification', 'Classification', 'Classification', 'Classification', 'Classification', '-', 'Classification', 'Classification', 'Classification', 'Classification', 'Classification', 'Classification', 'Classification', 'Classification', 'Classification', '-', 'Classification', 'Classification', 'Classification', 'Classification', 'Classification', 'Classification', 'Classification', 'Classification', 'Classification', '-', 'Classification', 'Classification', 'Classification', 'Classification', 'Classification', 'Classification', 'Classification', 'Classification', 'Classification', '-', 'Classification', 'Classification', 'Classification', 'Classification', 'Classification', 'Classification', 'Classification', 'Classification', 'Classification', '-', 'Classification', 'Classification', 'Classification', 'Classification', 'Classification', 'Classification', 'Classification', 'Classification', 'Classification', '-', 'Classification', 'Classification', 'Classification', 'Classification', 'Classification', 'Classification', 'Classification', 'Classification', 'Classification', '-', 'Classification', 'Classification', 'Classification', 'Classification', 'Classification', 'Classification', 'Classification', 'Classification', 'Classification', '-', 'Classification', 'Classification', 'Classification', 'Classification', 'Classification', 'Classification', 'Classification', 'Classification', 'Classification', '-', 'Classification', 'Classification', 'Classification', 'Classification', 'Classification', 'Classification', 'Classification', 'Classification', 'Classification', '-', 'Classification', 'Classification', 'Classification', 'Classification', 'Classification', 'Classification', 'Classification', 'Classification', 'Classification', '-', 'Classification', 'Classification', 'Classification', 'Classification', 'Classification', 'Classification', 'Classification', 'Classification', 'Classification', '-', 'Classification', 'Classification', 'Classification', 'Classification', 'Classification', 'Classification', 'Classification', 'Classification', 'Classification', '-', 'Classification', 'Classification', 'Classification', 'Classification', 'Classification', 'Classification', 'Classification', 'Classification', 'Classification', '-', 'Classification', 'Classification', 'Classification', 'Classification', 'Classification', 'Classification', 'Classification', 'Classification', 'Classification', '-', 'Classification', 'Classification', 'Classification', 'Classification', 'Classification', 'Classification', 'Classification', 'Classification', 'Classification', '-', 'Classification', 'Classification', 'Classification', 'Classification', 'Classification', 'Classification', 'Classification', 'Classification', 'Classification', '-', 'Classification', 'Classification', 'Classification', 'Classification', 'Classification', 'Classification', 'Classification', 'Classification', 'Classification', '-', 'Classification', 'Classification', 'Classification', 'Classification', 'Classification']\n"
     ]
    }
   ],
   "source": [
    "print(task)"
   ]
  },
  {
   "cell_type": "code",
   "execution_count": 14,
   "id": "42ff21a2",
   "metadata": {},
   "outputs": [],
   "source": [
    "attribute = []\n",
    "for i in ds_url:\n",
    "    d8.get(i)\n",
    "    time.sleep(2)\n",
    "    try:\n",
    "        ds_attri = d8.find_element(By.XPATH,'//div[@class=\"col-span-12 flex flex-col gap-4 md:col-span-9\"]/div[1]/div[2]/div[2]/div[4]/p')\n",
    "        attribute.append(ds_attri.text)\n",
    "    except NoSuchElementException :\n",
    "        attribute.append(\"-\")"
   ]
  },
  {
   "cell_type": "code",
   "execution_count": 15,
   "id": "d6cb2878",
   "metadata": {},
   "outputs": [
    {
     "name": "stdout",
     "output_type": "stream",
     "text": [
      "['Real', 'Categorical, Integer, Real', 'Integer, Real', 'Categorical, Integer', 'Categorical, Integer', 'Real', 'Integer, Real', 'Categorical', 'Real', 'Categorical', 'Real', 'Categorical, Integer, Real', 'Integer, Real', 'Categorical, Integer', 'Categorical, Integer', 'Real', 'Integer, Real', 'Categorical', 'Real', 'Categorical', 'Real', 'Categorical, Integer, Real', 'Integer, Real', 'Categorical, Integer', 'Categorical, Integer', 'Real', 'Integer, Real', 'Categorical', 'Real', 'Categorical', 'Real', 'Categorical, Integer, Real', 'Integer, Real', 'Categorical, Integer', 'Categorical, Integer', 'Real', 'Integer, Real', 'Categorical', 'Real', 'Categorical', 'Real', 'Categorical, Integer, Real', 'Integer, Real', 'Categorical, Integer', 'Categorical, Integer', 'Real', 'Integer, Real', 'Categorical', 'Real', 'Categorical', 'Real', 'Categorical, Integer, Real', 'Integer, Real', 'Categorical, Integer', 'Categorical, Integer', 'Real', 'Integer, Real', 'Categorical', 'Real', 'Categorical', 'Real', 'Categorical, Integer, Real', 'Integer, Real', 'Categorical, Integer', 'Categorical, Integer', 'Real', 'Integer, Real', 'Categorical', 'Real', 'Categorical', 'Real', 'Categorical, Integer, Real', 'Integer, Real', 'Categorical, Integer', 'Categorical, Integer', 'Real', 'Integer, Real', 'Categorical', 'Real', 'Categorical', 'Real', 'Categorical, Integer, Real', 'Integer, Real', 'Categorical, Integer', 'Categorical, Integer', 'Real', 'Integer, Real', 'Categorical', 'Real', 'Categorical', 'Real', 'Categorical, Integer, Real', 'Integer, Real', 'Categorical, Integer', 'Categorical, Integer', 'Real', 'Integer, Real', 'Categorical', 'Real', 'Categorical', 'Real', 'Categorical, Integer, Real', 'Integer, Real', 'Categorical, Integer', 'Categorical, Integer', 'Real', 'Integer, Real', 'Categorical', 'Real', 'Categorical', 'Real', 'Categorical, Integer, Real', 'Integer, Real', 'Categorical, Integer', 'Categorical, Integer', 'Real', 'Integer, Real', 'Categorical', 'Real', 'Categorical', 'Real', 'Categorical, Integer, Real', 'Integer, Real', 'Categorical, Integer', 'Categorical, Integer', 'Real', 'Integer, Real', 'Categorical', 'Real', 'Categorical', 'Real', 'Categorical, Integer, Real', 'Integer, Real', 'Categorical, Integer', 'Categorical, Integer', 'Real', 'Integer, Real', 'Categorical', 'Real', 'Categorical', 'Real', 'Categorical, Integer, Real', 'Integer, Real', 'Categorical, Integer', 'Categorical, Integer', 'Real', 'Integer, Real', 'Categorical', 'Real', 'Categorical', 'Real', 'Categorical, Integer, Real', 'Integer, Real', 'Categorical, Integer', 'Categorical, Integer', 'Real', 'Integer, Real', 'Categorical', 'Real', 'Categorical', 'Real', 'Categorical, Integer, Real', 'Integer, Real', 'Categorical, Integer', 'Categorical, Integer', 'Real', 'Integer, Real', 'Categorical', 'Real', 'Categorical', 'Real', 'Categorical, Integer, Real', 'Integer, Real', 'Categorical, Integer', 'Categorical, Integer', 'Real', 'Integer, Real', 'Categorical', 'Real', 'Categorical', 'Real', 'Categorical, Integer, Real', 'Integer, Real', 'Categorical, Integer', 'Categorical, Integer', 'Real', 'Integer, Real', 'Categorical', 'Real', 'Categorical', 'Real', 'Categorical, Integer, Real', 'Integer, Real', 'Categorical, Integer', 'Categorical, Integer', 'Real', 'Integer, Real', 'Categorical', 'Real', 'Categorical', 'Real', 'Categorical, Integer, Real', 'Integer, Real', 'Categorical, Integer', 'Categorical, Integer', 'Real', 'Integer, Real', 'Categorical', 'Real', 'Categorical', 'Real', 'Categorical, Integer, Real', 'Integer, Real', 'Categorical, Integer', 'Categorical, Integer', 'Real', 'Integer, Real', 'Categorical', 'Real', 'Categorical', 'Real', 'Categorical, Integer, Real', 'Integer, Real', 'Categorical, Integer', 'Categorical, Integer', 'Real', 'Integer, Real', 'Categorical', 'Real', 'Categorical', 'Real', 'Categorical, Integer, Real', 'Integer, Real', 'Categorical, Integer', 'Categorical, Integer', 'Real', 'Integer, Real', 'Categorical', 'Real', 'Categorical', 'Real', 'Categorical, Integer, Real', 'Integer, Real', 'Categorical, Integer', 'Categorical, Integer', 'Real', 'Integer, Real', 'Categorical', 'Real', 'Categorical', 'Real', 'Categorical, Integer, Real', 'Integer, Real', 'Categorical, Integer', 'Categorical, Integer', 'Real', 'Integer, Real', 'Categorical', 'Real', 'Categorical', 'Real', 'Categorical, Integer, Real', 'Integer, Real', 'Categorical, Integer', 'Categorical, Integer', 'Real', 'Integer, Real', 'Categorical', 'Real', 'Categorical', 'Real', 'Categorical, Integer, Real', 'Integer, Real', 'Categorical, Integer', 'Categorical, Integer', 'Real', 'Integer, Real', 'Categorical', 'Real', 'Categorical', 'Real', 'Categorical, Integer, Real', 'Integer, Real', 'Categorical, Integer', 'Categorical, Integer', 'Real', 'Integer, Real', 'Categorical', 'Real', 'Categorical', 'Real', 'Categorical, Integer, Real', 'Integer, Real', 'Categorical, Integer', 'Categorical, Integer', 'Real', 'Integer, Real', 'Categorical', 'Real', 'Categorical', 'Real', 'Categorical, Integer, Real', 'Integer, Real', 'Categorical, Integer', 'Categorical, Integer', 'Real', 'Integer, Real', 'Categorical', 'Real', 'Categorical', 'Real', 'Categorical, Integer, Real', 'Integer, Real', 'Categorical, Integer', 'Categorical, Integer', 'Real', 'Integer, Real', 'Categorical', 'Real', 'Categorical', 'Real', 'Categorical, Integer, Real', 'Integer, Real', 'Categorical, Integer', 'Categorical, Integer', 'Real', 'Integer, Real', 'Categorical', 'Real', 'Categorical', 'Real', 'Categorical, Integer, Real', 'Integer, Real', 'Categorical, Integer', 'Categorical, Integer', 'Real', 'Integer, Real', 'Categorical', 'Real', 'Categorical', 'Real', 'Categorical, Integer, Real', 'Integer, Real', 'Categorical, Integer', 'Categorical, Integer', 'Real', 'Integer, Real', 'Categorical', 'Real', 'Categorical', 'Real', 'Categorical, Integer, Real', 'Integer, Real', 'Categorical, Integer', 'Categorical, Integer', 'Real', 'Integer, Real', 'Categorical', 'Real', 'Categorical', 'Real', 'Categorical, Integer, Real', 'Integer, Real', 'Categorical, Integer', 'Categorical, Integer', 'Real', 'Integer, Real', 'Categorical', 'Real', 'Categorical', 'Real', 'Categorical, Integer, Real', 'Integer, Real', 'Categorical, Integer', 'Categorical, Integer', 'Real', 'Integer, Real', 'Categorical', 'Real', 'Categorical', 'Real', 'Categorical, Integer, Real', 'Integer, Real', 'Categorical, Integer', 'Categorical, Integer', 'Real', 'Integer, Real', 'Categorical', 'Real', 'Categorical', 'Real', 'Categorical, Integer, Real', 'Integer, Real', 'Categorical, Integer', 'Categorical, Integer', 'Real', 'Integer, Real', 'Categorical', 'Real', 'Categorical', 'Real', 'Categorical, Integer, Real', 'Integer, Real', 'Categorical, Integer', 'Categorical, Integer', 'Real', 'Integer, Real', 'Categorical', 'Real', 'Categorical', 'Real', 'Categorical, Integer, Real', 'Integer, Real', 'Categorical, Integer', 'Categorical, Integer', 'Real', 'Integer, Real', 'Categorical', 'Real', 'Categorical', 'Real', 'Categorical, Integer, Real', 'Integer, Real', 'Categorical, Integer', 'Categorical, Integer', 'Real', 'Integer, Real', 'Categorical', 'Real', 'Categorical', 'Real', 'Categorical, Integer, Real', 'Integer, Real', 'Categorical, Integer', 'Categorical, Integer', 'Real', 'Integer, Real', 'Categorical', 'Real', 'Categorical', 'Real', 'Categorical, Integer, Real', 'Integer, Real', 'Categorical, Integer', 'Categorical, Integer', 'Real', 'Integer, Real', 'Categorical', 'Real', 'Categorical', 'Real', 'Categorical, Integer, Real', 'Integer, Real', 'Categorical, Integer', 'Categorical, Integer', 'Real', 'Integer, Real', 'Categorical', 'Real', 'Categorical', 'Real', 'Categorical, Integer, Real', 'Integer, Real', 'Categorical, Integer', 'Categorical, Integer', 'Real', 'Integer, Real', 'Categorical', 'Real', 'Categorical', 'Real', 'Categorical, Integer, Real', 'Integer, Real', 'Categorical, Integer', 'Categorical, Integer', 'Real', 'Integer, Real', 'Categorical', 'Real', 'Categorical', 'Real', 'Categorical, Integer, Real', 'Integer, Real', 'Categorical, Integer', 'Categorical, Integer', 'Real', 'Integer, Real', 'Categorical', 'Real', 'Categorical', 'Real', 'Categorical, Integer, Real', 'Integer, Real', 'Categorical, Integer', 'Categorical, Integer', 'Real', 'Integer, Real', 'Categorical', 'Real', 'Categorical', 'Real', 'Categorical, Integer, Real', 'Integer, Real', 'Categorical, Integer', 'Categorical, Integer', 'Real', 'Integer, Real', 'Categorical', 'Real', 'Categorical', 'Real', 'Categorical, Integer, Real', 'Integer, Real', 'Categorical, Integer', 'Categorical, Integer', 'Real', 'Integer, Real', 'Categorical', 'Real', 'Categorical', 'Real', 'Categorical, Integer, Real', 'Integer, Real', 'Categorical, Integer', 'Categorical, Integer', 'Real', 'Integer, Real', 'Categorical', 'Real', 'Categorical', 'Real', 'Categorical, Integer, Real', 'Integer, Real', 'Categorical, Integer', 'Categorical, Integer', 'Real', 'Integer, Real', 'Categorical', 'Real', 'Categorical', 'Real', 'Categorical, Integer, Real', 'Integer, Real', 'Categorical, Integer', 'Categorical, Integer', 'Real', 'Integer, Real', 'Categorical', 'Real', 'Categorical', 'Real', 'Categorical, Integer, Real', 'Integer, Real', 'Categorical, Integer', 'Categorical, Integer', 'Real', 'Integer, Real', 'Categorical', 'Real', 'Categorical', 'Real', 'Categorical, Integer, Real', 'Integer, Real', 'Categorical, Integer', 'Categorical, Integer', 'Real', 'Integer, Real', 'Categorical', 'Real', 'Categorical', '-', 'Categorical, Integer, Real', 'Integer, Real', 'Categorical, Integer', 'Categorical, Integer', 'Real', 'Integer, Real', 'Categorical', 'Real', 'Categorical', 'Real', 'Categorical, Integer, Real', 'Integer, Real', 'Categorical, Integer', 'Categorical, Integer', 'Real', 'Integer, Real', 'Categorical', 'Real', 'Categorical', 'Real', 'Categorical, Integer, Real', 'Integer, Real', 'Categorical, Integer', 'Categorical, Integer', 'Real', 'Integer, Real', 'Categorical', 'Real', 'Categorical', 'Real', 'Categorical, Integer, Real', 'Integer, Real', 'Categorical, Integer', 'Categorical, Integer', 'Real', 'Integer, Real', 'Categorical', 'Real', 'Categorical', 'Real', 'Categorical, Integer, Real', 'Integer, Real', 'Categorical, Integer', 'Categorical, Integer', 'Real', 'Integer, Real', 'Categorical', 'Real', 'Categorical']\n"
     ]
    }
   ],
   "source": [
    "print(attribute)"
   ]
  },
  {
   "cell_type": "code",
   "execution_count": 16,
   "id": "bcaab8d6",
   "metadata": {},
   "outputs": [],
   "source": [
    "instance = []\n",
    "for i in ds_url:\n",
    "    d8.get(i)\n",
    "    time.sleep(2)\n",
    "    try:\n",
    "        ds_inst = d8.find_element(By.XPATH,'//div[@class=\"col-span-12 flex flex-col gap-4 md:col-span-9\"]/div[1]/div[2]/div[2]/div[5]/p')\n",
    "        instance.append(ds_inst.text)\n",
    "    except NoSuchElementException :\n",
    "        instance.append(\"-\")"
   ]
  },
  {
   "cell_type": "code",
   "execution_count": 17,
   "id": "9b14c78d",
   "metadata": {},
   "outputs": [
    {
     "name": "stdout",
     "output_type": "stream",
     "text": [
      "['150', '303', '13611', '48842', '-', '3810', '178', '1728', '569', '8124', '150', '303', '13611', '48842', '-', '3810', '178', '1728', '569', '8124', '150', '303', '13611', '48842', '-', '3810', '178', '1728', '569', '8124', '150', '303', '13611', '48842', '-', '3810', '178', '1728', '569', '8124', '150', '303', '13611', '48842', '-', '3810', '178', '1728', '569', '8124', '150', '303', '13611', '48842', '-', '3810', '178', '1728', '569', '8124', '150', '303', '13611', '48842', '-', '3810', '178', '1728', '569', '8124', '150', '303', '13611', '48842', '-', '3810', '178', '1728', '569', '8124', '150', '303', '13611', '48842', '-', '3810', '178', '1728', '569', '8124', '150', '303', '13611', '48842', '-', '3810', '178', '1728', '569', '8124', '150', '303', '13611', '48842', '-', '3810', '178', '1728', '569', '8124', '150', '303', '13611', '48842', '-', '3810', '178', '1728', '569', '8124', '150', '303', '13611', '48842', '-', '3810', '178', '1728', '569', '8124', '150', '303', '13611', '48842', '-', '3810', '178', '1728', '569', '8124', '150', '303', '13611', '48842', '-', '3810', '178', '1728', '569', '8124', '150', '303', '13611', '48842', '-', '3810', '178', '1728', '569', '8124', '150', '303', '13611', '48842', '-', '3810', '178', '1728', '569', '8124', '150', '303', '13611', '48842', '-', '3810', '178', '1728', '569', '8124', '150', '303', '13611', '48842', '-', '3810', '178', '1728', '569', '8124', '150', '303', '13611', '48842', '-', '3810', '178', '1728', '569', '8124', '150', '303', '13611', '48842', '-', '3810', '178', '1728', '569', '8124', '150', '303', '13611', '48842', '-', '3810', '178', '1728', '569', '8124', '150', '303', '13611', '48842', '-', '3810', '178', '1728', '569', '8124', '150', '303', '13611', '48842', '-', '3810', '178', '1728', '569', '8124', '150', '303', '13611', '48842', '-', '3810', '178', '1728', '569', '8124', '150', '303', '13611', '48842', '-', '3810', '178', '1728', '569', '8124', '150', '303', '13611', '48842', '-', '3810', '178', '1728', '569', '8124', '150', '303', '13611', '48842', '-', '3810', '178', '1728', '569', '8124', '150', '303', '13611', '48842', '-', '3810', '178', '1728', '569', '8124', '150', '303', '13611', '48842', '-', '3810', '178', '1728', '569', '8124', '150', '303', '13611', '48842', '-', '3810', '178', '1728', '569', '8124', '150', '303', '13611', '48842', '-', '3810', '178', '1728', '569', '8124', '150', '303', '13611', '48842', '-', '3810', '178', '1728', '569', '8124', '150', '303', '13611', '48842', '-', '3810', '178', '1728', '569', '8124', '150', '303', '13611', '48842', '-', '3810', '178', '1728', '569', '8124', '150', '303', '13611', '48842', '-', '3810', '178', '1728', '569', '8124', '150', '303', '13611', '48842', '-', '3810', '178', '1728', '569', '8124', '150', '303', '13611', '48842', '-', '3810', '178', '1728', '569', '8124', '150', '303', '13611', '48842', '-', '3810', '178', '1728', '569', '8124', '150', '303', '13611', '48842', '-', '3810', '178', '1728', '569', '8124', '150', '303', '13611', '48842', '-', '3810', '178', '1728', '569', '8124', '150', '303', '13611', '48842', '-', '3810', '178', '1728', '569', '8124', '150', '303', '13611', '48842', '-', '3810', '178', '1728', '569', '8124', '150', '303', '13611', '48842', '-', '3810', '178', '1728', '569', '8124', '150', '303', '13611', '48842', '-', '3810', '178', '1728', '569', '8124', '150', '303', '13611', '48842', '-', '3810', '178', '1728', '569', '8124', '150', '303', '13611', '48842', '-', '3810', '178', '1728', '569', '8124', '150', '303', '13611', '48842', '-', '3810', '178', '1728', '569', '8124', '150', '303', '13611', '48842', '-', '3810', '178', '1728', '569', '8124', '150', '303', '13611', '48842', '-', '3810', '178', '1728', '569', '8124', '150', '303', '13611', '48842', '-', '3810', '178', '1728', '569', '8124', '150', '303', '13611', '48842', '-', '3810', '178', '1728', '569', '8124', '150', '303', '13611', '48842', '-', '3810', '178', '1728', '569', '8124', '150', '303', '13611', '48842', '-', '3810', '178', '1728', '569', '8124', '150', '303', '13611', '48842', '-', '3810', '178', '1728', '569', '8124', '150', '303', '13611', '48842', '-', '3810', '178', '1728', '569', '8124', '150', '303', '13611', '48842', '-', '3810', '178', '1728', '569', '8124', '150', '303', '13611', '48842', '-', '3810', '178', '1728', '569', '8124', '150', '303', '13611', '48842', '-', '3810', '178', '1728', '569', '8124', '150', '303', '13611', '48842', '-', '3810', '178', '1728', '569', '8124', '150', '303', '13611', '48842', '-', '3810', '178', '1728', '569', '8124', '150', '303', '13611', '48842', '-', '3810', '178', '1728', '569', '8124']\n"
     ]
    }
   ],
   "source": [
    "print(instance)"
   ]
  },
  {
   "cell_type": "code",
   "execution_count": 18,
   "id": "c074f5e9",
   "metadata": {},
   "outputs": [],
   "source": [
    "no_attribute = []\n",
    "for i in ds_url:\n",
    "    d8.get(i)\n",
    "    time.sleep(2)\n",
    "    try:\n",
    "        ds_nature = d8.find_element(By.XPATH,'//div[@class=\"col-span-12 flex flex-col gap-4 md:col-span-9\"]/div[1]/div[2]/div[2]/div[6]/p')\n",
    "        no_attribute.append(ds_nature.text)\n",
    "        \n",
    "    except NoSuchElementException :\n",
    "        no_attribute.append(\"-\")"
   ]
  },
  {
   "cell_type": "code",
   "execution_count": 19,
   "id": "50bcdc41",
   "metadata": {},
   "outputs": [
    {
     "name": "stdout",
     "output_type": "stream",
     "text": [
      "['4', '13', '17', '14', '20', '8', '13', '6', '30', '22', '4', '13', '17', '14', '20', '8', '13', '6', '30', '22', '4', '13', '17', '14', '20', '8', '13', '6', '30', '22', '4', '13', '17', '14', '20', '8', '13', '6', '30', '22', '4', '13', '17', '14', '20', '8', '13', '6', '30', '22', '4', '13', '17', '14', '20', '8', '13', '6', '30', '22', '4', '13', '17', '14', '20', '8', '13', '6', '30', '22', '4', '13', '17', '14', '20', '8', '13', '6', '30', '22', '4', '13', '17', '14', '20', '8', '13', '6', '30', '22', '4', '13', '17', '14', '20', '8', '13', '6', '30', '22', '4', '13', '17', '14', '20', '8', '13', '6', '30', '22', '4', '13', '17', '14', '20', '8', '13', '6', '30', '22', '4', '13', '17', '14', '20', '8', '13', '6', '30', '22', '4', '13', '17', '14', '20', '8', '13', '6', '30', '22', '4', '13', '17', '14', '20', '8', '13', '6', '30', '22', '4', '13', '17', '14', '20', '8', '13', '6', '30', '22', '4', '13', '17', '14', '20', '8', '13', '6', '30', '22', '4', '13', '17', '14', '20', '8', '13', '6', '30', '22', '4', '13', '17', '14', '20', '8', '13', '6', '30', '22', '4', '13', '17', '14', '20', '8', '13', '6', '30', '22', '4', '13', '17', '14', '20', '8', '13', '6', '30', '22', '4', '13', '17', '14', '20', '8', '13', '6', '30', '22', '4', '13', '17', '14', '20', '8', '13', '6', '30', '22', '4', '13', '17', '14', '20', '8', '13', '6', '30', '22', '4', '13', '17', '14', '20', '8', '13', '6', '30', '22', '4', '13', '17', '14', '20', '8', '13', '6', '30', '22', '4', '13', '17', '14', '20', '8', '13', '6', '30', '22', '4', '13', '17', '14', '20', '8', '13', '6', '30', '22', '4', '13', '17', '14', '20', '8', '13', '6', '30', '22', '4', '13', '17', '14', '20', '8', '13', '6', '30', '22', '4', '13', '17', '14', '20', '8', '13', '6', '30', '22', '4', '13', '17', '14', '20', '8', '13', '6', '30', '22', '4', '13', '17', '14', '20', '8', '13', '6', '30', '22', '4', '13', '17', '14', '20', '8', '13', '6', '30', '22', '4', '13', '17', '14', '20', '8', '13', '6', '30', '22', '4', '13', '17', '14', '20', '8', '13', '6', '30', '22', '4', '13', '17', '14', '20', '8', '13', '6', '30', '22', '4', '13', '17', '14', '20', '8', '13', '6', '30', '22', '4', '13', '17', '14', '20', '8', '13', '6', '30', '22', '4', '13', '17', '14', '20', '8', '13', '6', '30', '22', '4', '13', '17', '14', '20', '8', '13', '6', '30', '22', '4', '13', '17', '14', '20', '8', '13', '6', '30', '22', '4', '13', '17', '14', '20', '8', '13', '6', '30', '22', '4', '13', '17', '14', '20', '8', '13', '6', '30', '22', '4', '13', '17', '14', '20', '8', '13', '6', '30', '22', '4', '13', '17', '14', '20', '8', '13', '6', '30', '22', '4', '13', '17', '14', '20', '8', '13', '6', '30', '22', '4', '13', '17', '14', '20', '8', '13', '6', '30', '22', '4', '13', '17', '14', '20', '8', '13', '6', '30', '22', '4', '13', '17', '14', '20', '8', '13', '6', '30', '22', '4', '13', '17', '14', '20', '8', '13', '6', '30', '22', '4', '13', '17', '14', '20', '8', '13', '6', '30', '22', '4', '13', '17', '14', '20', '8', '13', '6', '30', '22', '4', '13', '17', '14', '20', '8', '13', '6', '30', '22', '4', '13', '17', '14', '20', '8', '13', '6', '30', '22', '4', '13', '17', '14', '20', '8', '13', '6', '30', '22', '4', '13', '17', '14', '20', '8', '13', '6', '30', '22', '4', '13', '17', '14', '20', '8', '13', '6', '30', '22', '4', '13', '17', '14', '20', '8', '13', '6', '30', '22', '4', '13', '17', '14', '20', '8', '13', '6', '30', '22', '4', '13', '17', '14', '20', '8', '13', '6', '30', '22', '4', '13', '17', '14', '20', '8', '13', '6', '30', '22']\n"
     ]
    }
   ],
   "source": [
    "print(no_attribute)"
   ]
  },
  {
   "cell_type": "code",
   "execution_count": 22,
   "id": "1be429ce",
   "metadata": {},
   "outputs": [],
   "source": [
    "year = []\n",
    "for i in ds_url:\n",
    "    d8.get(i)\n",
    "    time.sleep(2)\n",
    "    try:\n",
    "        ds_year = d8.find_element(By.XPATH,'//div[@class=\"col-span-12 flex flex-col gap-4 md:col-span-9\"]/div[1]/div[1]/div[2]/h2')\n",
    "        year.append((ds_year.text).split(\" \")[2])\n",
    "    except NoSuchElementException :\n",
    "        year.append(\"-\")"
   ]
  },
  {
   "cell_type": "code",
   "execution_count": 23,
   "id": "45375294",
   "metadata": {},
   "outputs": [
    {
     "name": "stdout",
     "output_type": "stream",
     "text": [
      "['6/30/1988', '6/30/1988', '9/13/2020', '4/30/1996', '-', '10/5/2019', '6/30/1991', '5/31/1997', '10/31/1995', '4/26/1987', '6/30/1988', '6/30/1988', '9/13/2020', '4/30/1996', '-', '10/5/2019', '6/30/1991', '5/31/1997', '10/31/1995', '4/26/1987', '6/30/1988', '6/30/1988', '9/13/2020', '4/30/1996', '-', '10/5/2019', '6/30/1991', '5/31/1997', '10/31/1995', '4/26/1987', '6/30/1988', '6/30/1988', '9/13/2020', '4/30/1996', '-', '10/5/2019', '6/30/1991', '5/31/1997', '10/31/1995', '4/26/1987', '6/30/1988', '6/30/1988', '9/13/2020', '4/30/1996', '-', '10/5/2019', '6/30/1991', '5/31/1997', '10/31/1995', '4/26/1987', '6/30/1988', '6/30/1988', '9/13/2020', '4/30/1996', '-', '10/5/2019', '6/30/1991', '5/31/1997', '10/31/1995', '4/26/1987', '6/30/1988', '6/30/1988', '9/13/2020', '4/30/1996', '-', '10/5/2019', '6/30/1991', '5/31/1997', '10/31/1995', '4/26/1987', '6/30/1988', '6/30/1988', '9/13/2020', '4/30/1996', '-', '10/5/2019', '6/30/1991', '5/31/1997', '10/31/1995', '4/26/1987', '6/30/1988', '6/30/1988', '9/13/2020', '4/30/1996', '-', '10/5/2019', '6/30/1991', '5/31/1997', '10/31/1995', '4/26/1987', '6/30/1988', '6/30/1988', '9/13/2020', '4/30/1996', '-', '10/5/2019', '6/30/1991', '5/31/1997', '10/31/1995', '4/26/1987', '6/30/1988', '6/30/1988', '9/13/2020', '4/30/1996', '-', '10/5/2019', '6/30/1991', '5/31/1997', '10/31/1995', '4/26/1987', '6/30/1988', '6/30/1988', '9/13/2020', '4/30/1996', '-', '10/5/2019', '6/30/1991', '5/31/1997', '10/31/1995', '4/26/1987', '6/30/1988', '6/30/1988', '9/13/2020', '4/30/1996', '-', '10/5/2019', '6/30/1991', '5/31/1997', '10/31/1995', '4/26/1987', '6/30/1988', '6/30/1988', '9/13/2020', '4/30/1996', '-', '10/5/2019', '6/30/1991', '5/31/1997', '10/31/1995', '4/26/1987', '6/30/1988', '6/30/1988', '9/13/2020', '4/30/1996', '-', '10/5/2019', '6/30/1991', '5/31/1997', '10/31/1995', '4/26/1987', '6/30/1988', '6/30/1988', '9/13/2020', '4/30/1996', '-', '10/5/2019', '6/30/1991', '5/31/1997', '10/31/1995', '4/26/1987', '6/30/1988', '6/30/1988', '9/13/2020', '4/30/1996', '-', '10/5/2019', '6/30/1991', '5/31/1997', '10/31/1995', '4/26/1987', '6/30/1988', '6/30/1988', '9/13/2020', '4/30/1996', '-', '10/5/2019', '6/30/1991', '5/31/1997', '10/31/1995', '4/26/1987', '6/30/1988', '6/30/1988', '9/13/2020', '4/30/1996', '-', '10/5/2019', '6/30/1991', '5/31/1997', '10/31/1995', '4/26/1987', '6/30/1988', '6/30/1988', '9/13/2020', '4/30/1996', '-', '10/5/2019', '6/30/1991', '5/31/1997', '10/31/1995', '4/26/1987', '6/30/1988', '6/30/1988', '9/13/2020', '4/30/1996', '-', '10/5/2019', '6/30/1991', '5/31/1997', '10/31/1995', '4/26/1987', '6/30/1988', '6/30/1988', '9/13/2020', '4/30/1996', '-', '10/5/2019', '6/30/1991', '5/31/1997', '10/31/1995', '4/26/1987', '6/30/1988', '6/30/1988', '9/13/2020', '4/30/1996', '-', '10/5/2019', '6/30/1991', '5/31/1997', '10/31/1995', '4/26/1987', '6/30/1988', '6/30/1988', '9/13/2020', '4/30/1996', '-', '10/5/2019', '6/30/1991', '5/31/1997', '10/31/1995', '4/26/1987', '6/30/1988', '6/30/1988', '9/13/2020', '4/30/1996', '-', '10/5/2019', '6/30/1991', '5/31/1997', '10/31/1995', '4/26/1987', '6/30/1988', '6/30/1988', '9/13/2020', '4/30/1996', '-', '10/5/2019', '6/30/1991', '5/31/1997', '10/31/1995', '4/26/1987', '6/30/1988', '6/30/1988', '9/13/2020', '4/30/1996', '-', '10/5/2019', '6/30/1991', '5/31/1997', '10/31/1995', '4/26/1987', '6/30/1988', '6/30/1988', '9/13/2020', '4/30/1996', '-', '10/5/2019', '6/30/1991', '5/31/1997', '10/31/1995', '4/26/1987', '6/30/1988', '6/30/1988', '9/13/2020', '4/30/1996', '-', '10/5/2019', '6/30/1991', '5/31/1997', '10/31/1995', '4/26/1987', '6/30/1988', '6/30/1988', '9/13/2020', '4/30/1996', '-', '10/5/2019', '6/30/1991', '5/31/1997', '10/31/1995', '4/26/1987', '6/30/1988', '6/30/1988', '9/13/2020', '4/30/1996', '-', '10/5/2019', '6/30/1991', '5/31/1997', '10/31/1995', '4/26/1987', '6/30/1988', '6/30/1988', '9/13/2020', '4/30/1996', '-', '10/5/2019', '6/30/1991', '5/31/1997', '10/31/1995', '4/26/1987', '6/30/1988', '6/30/1988', '9/13/2020', '4/30/1996', '-', '10/5/2019', '6/30/1991', '5/31/1997', '10/31/1995', '4/26/1987', '6/30/1988', '6/30/1988', '9/13/2020', '4/30/1996', '-', '10/5/2019', '6/30/1991', '5/31/1997', '10/31/1995', '4/26/1987', '6/30/1988', '6/30/1988', '9/13/2020', '4/30/1996', '-', '10/5/2019', '6/30/1991', '5/31/1997', '10/31/1995', '4/26/1987', '6/30/1988', '6/30/1988', '9/13/2020', '4/30/1996', '-', '10/5/2019', '-', '5/31/1997', '10/31/1995', '4/26/1987', '6/30/1988', '6/30/1988', '9/13/2020', '4/30/1996', '-', '10/5/2019', '6/30/1991', '5/31/1997', '10/31/1995', '4/26/1987', '6/30/1988', '6/30/1988', '9/13/2020', '4/30/1996', '-', '10/5/2019', '6/30/1991', '5/31/1997', '10/31/1995', '4/26/1987', '6/30/1988', '6/30/1988', '9/13/2020', '4/30/1996', '-', '10/5/2019', '6/30/1991', '5/31/1997', '10/31/1995', '4/26/1987', '6/30/1988', '6/30/1988', '9/13/2020', '4/30/1996', '-', '10/5/2019', '6/30/1991', '5/31/1997', '10/31/1995', '4/26/1987', '6/30/1988', '6/30/1988', '9/13/2020', '4/30/1996', '-', '10/5/2019', '6/30/1991', '5/31/1997', '10/31/1995', '4/26/1987', '6/30/1988', '6/30/1988', '9/13/2020', '4/30/1996', '-', '10/5/2019', '6/30/1991', '5/31/1997', '10/31/1995', '4/26/1987', '6/30/1988', '6/30/1988', '9/13/2020', '4/30/1996', '-', '10/5/2019', '6/30/1991', '5/31/1997', '10/31/1995', '4/26/1987', '6/30/1988', '6/30/1988', '9/13/2020', '4/30/1996', '-', '10/5/2019', '6/30/1991', '5/31/1997', '10/31/1995', '4/26/1987', '6/30/1988', '6/30/1988', '9/13/2020', '4/30/1996', '-', '10/5/2019', '6/30/1991', '5/31/1997', '10/31/1995', '4/26/1987', '6/30/1988', '6/30/1988', '9/13/2020', '4/30/1996', '-', '10/5/2019', '6/30/1991', '5/31/1997', '10/31/1995', '4/26/1987', '6/30/1988', '6/30/1988', '9/13/2020', '4/30/1996', '-', '10/5/2019', '6/30/1991', '5/31/1997', '10/31/1995', '4/26/1987', '6/30/1988', '6/30/1988', '9/13/2020', '4/30/1996', '-', '10/5/2019', '6/30/1991', '5/31/1997', '10/31/1995', '4/26/1987', '6/30/1988', '6/30/1988', '9/13/2020', '4/30/1996', '-', '10/5/2019', '6/30/1991', '5/31/1997', '10/31/1995', '4/26/1987', '6/30/1988', '6/30/1988', '9/13/2020', '4/30/1996', '-', '10/5/2019', '6/30/1991', '5/31/1997', '10/31/1995', '4/26/1987', '6/30/1988', '6/30/1988', '9/13/2020', '4/30/1996', '-', '10/5/2019', '6/30/1991', '5/31/1997', '10/31/1995', '4/26/1987', '6/30/1988', '6/30/1988', '9/13/2020', '4/30/1996', '-', '10/5/2019', '6/30/1991', '5/31/1997', '10/31/1995', '4/26/1987', '6/30/1988', '6/30/1988', '9/13/2020', '4/30/1996', '-', '10/5/2019', '6/30/1991', '5/31/1997', '10/31/1995', '4/26/1987', '6/30/1988', '6/30/1988', '9/13/2020', '4/30/1996', '-', '10/5/2019', '6/30/1991', '5/31/1997', '10/31/1995', '4/26/1987', '6/30/1988', '6/30/1988', '9/13/2020', '4/30/1996', '-', '10/5/2019', '6/30/1991', '5/31/1997', '10/31/1995', '4/26/1987', '6/30/1988', '6/30/1988', '9/13/2020', '4/30/1996', '-', '10/5/2019', '6/30/1991', '5/31/1997', '10/31/1995', '4/26/1987', '6/30/1988', '6/30/1988', '9/13/2020', '4/30/1996', '-', '10/5/2019', '6/30/1991', '5/31/1997', '10/31/1995', '4/26/1987', '6/30/1988', '6/30/1988', '9/13/2020', '4/30/1996', '-', '10/5/2019', '6/30/1991', '5/31/1997', '10/31/1995', '4/26/1987', '6/30/1988', '6/30/1988', '9/13/2020', '4/30/1996', '-', '10/5/2019', '6/30/1991', '5/31/1997', '10/31/1995', '4/26/1987', '6/30/1988', '6/30/1988', '9/13/2020', '4/30/1996', '-', '10/5/2019', '6/30/1991', '5/31/1997', '10/31/1995', '4/26/1987', '6/30/1988', '6/30/1988', '9/13/2020', '4/30/1996', '-', '10/5/2019', '6/30/1991', '5/31/1997', '10/31/1995', '4/26/1987', '6/30/1988', '6/30/1988', '9/13/2020', '4/30/1996', '-', '10/5/2019', '6/30/1991', '5/31/1997', '10/31/1995', '4/26/1987']\n"
     ]
    }
   ],
   "source": [
    "print(year)"
   ]
  },
  {
   "cell_type": "code",
   "execution_count": 24,
   "id": "73336ef1",
   "metadata": {},
   "outputs": [
    {
     "name": "stdout",
     "output_type": "stream",
     "text": [
      "620 620 620 620 620 620 620\n"
     ]
    }
   ],
   "source": [
    "print(len(name),len(dtypes),len(task),len(attribute),len(instance),len(no_attribute),len(year))"
   ]
  },
  {
   "cell_type": "code",
   "execution_count": 25,
   "id": "edf6357d",
   "metadata": {},
   "outputs": [
    {
     "data": {
      "text/html": [
       "<div>\n",
       "<style scoped>\n",
       "    .dataframe tbody tr th:only-of-type {\n",
       "        vertical-align: middle;\n",
       "    }\n",
       "\n",
       "    .dataframe tbody tr th {\n",
       "        vertical-align: top;\n",
       "    }\n",
       "\n",
       "    .dataframe thead th {\n",
       "        text-align: right;\n",
       "    }\n",
       "</style>\n",
       "<table border=\"1\" class=\"dataframe\">\n",
       "  <thead>\n",
       "    <tr style=\"text-align: right;\">\n",
       "      <th></th>\n",
       "      <th>Dataset Name</th>\n",
       "      <th>Data Type</th>\n",
       "      <th>Task</th>\n",
       "      <th>Attribute Type</th>\n",
       "      <th>No of Instances</th>\n",
       "      <th>No of Attribute</th>\n",
       "      <th>Year</th>\n",
       "    </tr>\n",
       "  </thead>\n",
       "  <tbody>\n",
       "    <tr>\n",
       "      <th>0</th>\n",
       "      <td>Iris</td>\n",
       "      <td>Multivariate</td>\n",
       "      <td>Classification</td>\n",
       "      <td>Real</td>\n",
       "      <td>150</td>\n",
       "      <td>4</td>\n",
       "      <td>6/30/1988</td>\n",
       "    </tr>\n",
       "    <tr>\n",
       "      <th>1</th>\n",
       "      <td>Heart Disease</td>\n",
       "      <td>Multivariate</td>\n",
       "      <td>Classification</td>\n",
       "      <td>Categorical, Integer, Real</td>\n",
       "      <td>303</td>\n",
       "      <td>13</td>\n",
       "      <td>6/30/1988</td>\n",
       "    </tr>\n",
       "    <tr>\n",
       "      <th>2</th>\n",
       "      <td>Dry Bean Dataset</td>\n",
       "      <td>Multivariate</td>\n",
       "      <td>Classification</td>\n",
       "      <td>Integer, Real</td>\n",
       "      <td>13611</td>\n",
       "      <td>17</td>\n",
       "      <td>9/13/2020</td>\n",
       "    </tr>\n",
       "    <tr>\n",
       "      <th>3</th>\n",
       "      <td>Adult</td>\n",
       "      <td>Multivariate</td>\n",
       "      <td>Classification</td>\n",
       "      <td>Categorical, Integer</td>\n",
       "      <td>48842</td>\n",
       "      <td>14</td>\n",
       "      <td>4/30/1996</td>\n",
       "    </tr>\n",
       "    <tr>\n",
       "      <th>4</th>\n",
       "      <td>Diabetes</td>\n",
       "      <td>Multivariate, Time-Series</td>\n",
       "      <td>-</td>\n",
       "      <td>Categorical, Integer</td>\n",
       "      <td>-</td>\n",
       "      <td>20</td>\n",
       "      <td>-</td>\n",
       "    </tr>\n",
       "    <tr>\n",
       "      <th>...</th>\n",
       "      <td>...</td>\n",
       "      <td>...</td>\n",
       "      <td>...</td>\n",
       "      <td>...</td>\n",
       "      <td>...</td>\n",
       "      <td>...</td>\n",
       "      <td>...</td>\n",
       "    </tr>\n",
       "    <tr>\n",
       "      <th>615</th>\n",
       "      <td>Rice (Cammeo and Osmancik)</td>\n",
       "      <td>Multivariate</td>\n",
       "      <td>Classification</td>\n",
       "      <td>Real</td>\n",
       "      <td>3810</td>\n",
       "      <td>8</td>\n",
       "      <td>10/5/2019</td>\n",
       "    </tr>\n",
       "    <tr>\n",
       "      <th>616</th>\n",
       "      <td>Wine</td>\n",
       "      <td>Multivariate</td>\n",
       "      <td>Classification</td>\n",
       "      <td>Integer, Real</td>\n",
       "      <td>178</td>\n",
       "      <td>13</td>\n",
       "      <td>6/30/1991</td>\n",
       "    </tr>\n",
       "    <tr>\n",
       "      <th>617</th>\n",
       "      <td>Car Evaluation</td>\n",
       "      <td>Multivariate</td>\n",
       "      <td>Classification</td>\n",
       "      <td>Categorical</td>\n",
       "      <td>1728</td>\n",
       "      <td>6</td>\n",
       "      <td>5/31/1997</td>\n",
       "    </tr>\n",
       "    <tr>\n",
       "      <th>618</th>\n",
       "      <td>Breast Cancer Wisconsin (Diagnostic)</td>\n",
       "      <td>Multivariate</td>\n",
       "      <td>Classification</td>\n",
       "      <td>Real</td>\n",
       "      <td>569</td>\n",
       "      <td>30</td>\n",
       "      <td>10/31/1995</td>\n",
       "    </tr>\n",
       "    <tr>\n",
       "      <th>619</th>\n",
       "      <td>Mushroom</td>\n",
       "      <td>Multivariate</td>\n",
       "      <td>Classification</td>\n",
       "      <td>Categorical</td>\n",
       "      <td>8124</td>\n",
       "      <td>22</td>\n",
       "      <td>4/26/1987</td>\n",
       "    </tr>\n",
       "  </tbody>\n",
       "</table>\n",
       "<p>620 rows × 7 columns</p>\n",
       "</div>"
      ],
      "text/plain": [
       "                             Dataset Name                  Data Type  \\\n",
       "0                                    Iris               Multivariate   \n",
       "1                           Heart Disease               Multivariate   \n",
       "2                        Dry Bean Dataset               Multivariate   \n",
       "3                                   Adult               Multivariate   \n",
       "4                                Diabetes  Multivariate, Time-Series   \n",
       "..                                    ...                        ...   \n",
       "615            Rice (Cammeo and Osmancik)               Multivariate   \n",
       "616                                  Wine               Multivariate   \n",
       "617                        Car Evaluation               Multivariate   \n",
       "618  Breast Cancer Wisconsin (Diagnostic)               Multivariate   \n",
       "619                              Mushroom               Multivariate   \n",
       "\n",
       "               Task              Attribute Type No of Instances  \\\n",
       "0    Classification                        Real             150   \n",
       "1    Classification  Categorical, Integer, Real             303   \n",
       "2    Classification               Integer, Real           13611   \n",
       "3    Classification        Categorical, Integer           48842   \n",
       "4                 -        Categorical, Integer               -   \n",
       "..              ...                         ...             ...   \n",
       "615  Classification                        Real            3810   \n",
       "616  Classification               Integer, Real             178   \n",
       "617  Classification                 Categorical            1728   \n",
       "618  Classification                        Real             569   \n",
       "619  Classification                 Categorical            8124   \n",
       "\n",
       "    No of Attribute        Year  \n",
       "0                 4   6/30/1988  \n",
       "1                13   6/30/1988  \n",
       "2                17   9/13/2020  \n",
       "3                14   4/30/1996  \n",
       "4                20           -  \n",
       "..              ...         ...  \n",
       "615               8   10/5/2019  \n",
       "616              13   6/30/1991  \n",
       "617               6   5/31/1997  \n",
       "618              30  10/31/1995  \n",
       "619              22   4/26/1987  \n",
       "\n",
       "[620 rows x 7 columns]"
      ]
     },
     "execution_count": 25,
     "metadata": {},
     "output_type": "execute_result"
    }
   ],
   "source": [
    "df = pd.DataFrame({\"Dataset Name\":name, \"Data Type\":dtypes, \"Task\":task, \"Attribute Type\":attribute, \"No of Instances\":instance, \"No of Attribute\":no_attribute, \"Year\":year})\n",
    "df"
   ]
  },
  {
   "cell_type": "markdown",
   "id": "630039a2",
   "metadata": {},
   "source": [
    "## Q9"
   ]
  },
  {
   "cell_type": "markdown",
   "id": "820025df",
   "metadata": {},
   "source": [
    "Scrape the details of Data science recruiters \n",
    "Url = https://www.naukri.com/hr-recruiters-consultants\n",
    "You have to find the following details\n",
    "\n",
    "A) Name\n",
    "\n",
    "B) Designation\n",
    "\n",
    "C)Company\n",
    "\n",
    "D)Skills they hire for\n",
    "\n",
    "E) Location"
   ]
  },
  {
   "cell_type": "code",
   "execution_count": 38,
   "id": "2f073349",
   "metadata": {},
   "outputs": [],
   "source": [
    "d9 = webdriver.Chrome(r'chromedriver.exe')"
   ]
  },
  {
   "cell_type": "code",
   "execution_count": 39,
   "id": "de5330da",
   "metadata": {},
   "outputs": [],
   "source": [
    "p9 = d9.get(\"https://www.naukri.com/hr-recruiters-consultants\")"
   ]
  },
  {
   "cell_type": "code",
   "execution_count": 4,
   "id": "8d648d84",
   "metadata": {},
   "outputs": [],
   "source": [
    "url = []\n",
    "urls = d9.find_elements(By.XPATH,'//div[@class=\"info fleft\"]/a')\n",
    "for i in urls:\n",
    "    url.append(i.get_attribute(\"href\"))\n"
   ]
  },
  {
   "cell_type": "code",
   "execution_count": 5,
   "id": "69ce6da5",
   "metadata": {},
   "outputs": [
    {
     "name": "stdout",
     "output_type": "stream",
     "text": [
      "['https://www.naukri.com/job-listings-walk-in-interview-assistant-manager-hr-ics-realty-bangalore-bengaluru-0-to-5-years-211122004923', 'https://www.naukri.com/job-listings-hr-executive-and-recruiter-avils-infra-private-limited-bangalore-bengaluru-0-to-1-years-210623003956', 'https://www.naukri.com/job-listings-hiring-for-fresher-hr-recruiter-recruitment-day-shift-black-and-white-business-solutions-bangalore-bengaluru-0-to-1-years-240623004535', 'https://www.naukri.com/job-listings-hr-fresher-recruiter-day-shift-black-and-white-business-solutions-bangalore-bengaluru-0-to-0-years-240623004532', 'https://www.naukri.com/job-listings-opening-for-management-trainee-executive-hr-sahajanand-medical-technologies-mumbai-all-areas-0-to-2-years-260623002132', 'https://www.naukri.com/job-listings-executive-assistant-manager-hr-generalist-pune-dress-code-oasis-pune-maharashtra-0-to-3-years-190523004916', 'https://www.naukri.com/job-listings-hr-executive-wep-solutions-limited-mysore-mysuru-bangalore-bengaluru-0-to-1-years-220623500895', 'https://www.naukri.com/job-listings-hiring-for-hr-associate-off-role-end-to-end-recruitment-kotak-life-insurance-mumbai-suburban-maharashtra-goregaon-maharashtra-mumbai-all-areas-0-to-2-years-240623004750', 'https://www.naukri.com/job-listings-assistant-manager-hr-field-level-recruitment-muthoot-microfin-bhubaneswar-odisha-hubli-karnataka-sambalpur-odisha-ambala-haryana-belagavi-belgaum-karnataka-0-to-2-years-211222009637', 'https://www.naukri.com/job-listings-hr-executive-caliber-organisation-ahmedabad-0-to-1-years-260623904639', 'https://www.naukri.com/job-listings-hr-human-resources-executive-ask-eva-ask-executive-virtual-assistance-madurai-0-to-2-years-260623501586', 'https://www.naukri.com/job-listings-hr-executive-talent-acquisition-practo-technologies-pvt-ltd-bangalore-bengaluru-0-to-2-years-110623500183', 'https://www.naukri.com/job-listings-hr-manager-assistant-manager-executive-nexus-hr-consultancy-nagpur-pune-aurangabad-0-to-5-years-101222005743', 'https://www.naukri.com/job-listings-hr-executive-able-design-engineering-services-dharwad-karnataka-hubli-karnataka-belagavi-belgaum-karnataka-0-to-3-years-190623002819', 'https://www.naukri.com/job-listings-hr-recruiter-kinara-capital-bangalore-bengaluru-0-to-1-years-220623009081', 'https://www.naukri.com/job-listings-hr-executive-work-from-home-smart-steps-hr-services-new-delhi-0-to-2-years-280122004769', 'https://www.naukri.com/job-listings-hiring-hr-recruiter-for-bangalore-freshers-sal-15k-inc-ignites-human-capital-bangalore-bengaluru-karnataka-0-to-2-years-210623003953', 'https://www.naukri.com/job-listings-hiring-for-hr-recruiter-black-and-white-business-solutions-bangalore-bengaluru-0-to-0-years-220623008426', 'https://www.naukri.com/job-listings-opportunity-for-fresher-for-hr-recruiter-role-black-and-white-business-solutions-bangalore-bengaluru-0-to-1-years-210623007878', 'https://www.naukri.com/job-listings-hiring-for-hr-recruiter-your-pitchh-bangalore-bengaluru-0-to-0-years-190623006002']\n"
     ]
    }
   ],
   "source": [
    "print(url)"
   ]
  },
  {
   "cell_type": "code",
   "execution_count": 7,
   "id": "8cbedf6c",
   "metadata": {},
   "outputs": [],
   "source": [
    "name = []\n",
    "for i in url:\n",
    "    d9.get(i)\n",
    "    time.sleep(3)\n",
    "    try:\n",
    "        nm = d9.find_element(By.XPATH,'//div[@class=\"top\"]/div[1]/header/h1')\n",
    "        name.append(nm.text)\n",
    "    except NoSuchElementException:\n",
    "        name.append(\"-\")"
   ]
  },
  {
   "cell_type": "code",
   "execution_count": 8,
   "id": "2187cf3f",
   "metadata": {},
   "outputs": [
    {
     "data": {
      "text/plain": [
       "['Walk in Interview - Assistant Manager-HR',\n",
       " 'Hr Executive And Recruiter',\n",
       " 'Hiring For Fresher/HR Recruiter/Recruitment/Day Shift',\n",
       " 'HR fresher / Recruiter / Day shift',\n",
       " 'Opening For Management Trainee / Executive - HR',\n",
       " 'Executive/ Assistant Manager HR Generalist - Pune ( Dress Code )',\n",
       " 'HR Executive',\n",
       " 'Hiring For HR Associate | Off-Role | End-To-End Recruitment',\n",
       " 'Assistant Manager - HR (Field Level Recruitment)',\n",
       " 'HR Executive',\n",
       " 'HR (Human Resources) Executive',\n",
       " 'HR Executive - Talent Acquisition',\n",
       " 'HR Manager/ Assistant manager/Executive',\n",
       " 'HR Executive',\n",
       " 'HR Recruiter',\n",
       " 'HR Executive. (Work from Home)',\n",
       " 'Hiring Hr Recruiter For bangalore, freshers sal-15k+inc',\n",
       " 'Hiring For HR Recruiter',\n",
       " 'Opportunity For Fresher For HR Recruiter Role',\n",
       " 'Hiring For HR Recruiter']"
      ]
     },
     "execution_count": 8,
     "metadata": {},
     "output_type": "execute_result"
    }
   ],
   "source": [
    "name"
   ]
  },
  {
   "cell_type": "code",
   "execution_count": 9,
   "id": "cf9d6031",
   "metadata": {},
   "outputs": [],
   "source": [
    "comp = []\n",
    "for i in url:\n",
    "    d9.get(i)\n",
    "    time.sleep(3)\n",
    "    try:\n",
    "        co = d9.find_element(By.XPATH,'//div[@class=\"top\"]/div[1]/div/a')\n",
    "        comp.append(co.text)\n",
    "    except NoSuchElementException:\n",
    "        comp.append(\"-\")"
   ]
  },
  {
   "cell_type": "code",
   "execution_count": 10,
   "id": "053c438a",
   "metadata": {},
   "outputs": [
    {
     "name": "stdout",
     "output_type": "stream",
     "text": [
      "['Ics Realty', 'Avils Automation', 'Black And White Business Solutions', 'Black And White Business Solutions', 'Sahajanand Medical Technologies', 'OASIS', 'WeP Solutions Limited', 'Kotak Life Insurance', 'Muthoot Microfin', 'Caliber Organisation', 'ASK Eva ( Ask Executive Virtual Assistance )', 'Practo', 'Nexus Hr Consultancy', 'Able Design Engineering Services', 'Kinara Capital', 'Smart Steps HR Services', 'Ignites Human Capital', 'Black And White Business Solutions', 'Black And White Business Solutions', 'Your Pitchh']\n"
     ]
    }
   ],
   "source": [
    "print(comp)"
   ]
  },
  {
   "cell_type": "code",
   "execution_count": 12,
   "id": "c1d270d8",
   "metadata": {},
   "outputs": [],
   "source": [
    "loc = []\n",
    "for i in url:\n",
    "    d9.get(i)\n",
    "    time.sleep(3)\n",
    "    try:\n",
    "        lc = d9.find_element(By.XPATH,'//span[@class=\"location \"]/a')\n",
    "        loc.append(lc.text)\n",
    "    except ElementNotIntractableException:\n",
    "        loc.append(\"-\")"
   ]
  },
  {
   "cell_type": "code",
   "execution_count": 16,
   "id": "333d70c1",
   "metadata": {},
   "outputs": [
    {
     "name": "stdout",
     "output_type": "stream",
     "text": [
      "['Bangalore/Bengaluru( Bannerghatta Road, Bannerghatta, BTM Layout )', 'Bangalore/Bengaluru', 'Bangalore/Bengaluru', 'Bangalore/Bengaluru( 1st Stage Indira Nagar, Vijayanagar, Domlur )', 'Mumbai (All Areas)', 'Pune,Maharashtra( Koregaon Park )', 'Mysore/Mysuru', 'Mumbai Suburban,Maharashtra', 'Bhubaneswar,Odisha', 'Ahmedabad', 'Madurai', 'Madurai', 'Nagpur', 'Dharwad,Karnataka', 'Bangalore/Bengaluru', 'New Delhi', 'Bangalore/ Bengaluru,Karnataka', 'Bangalore/Bengaluru', 'Bangalore/Bengaluru', 'Bangalore/Bengaluru']\n"
     ]
    }
   ],
   "source": [
    "print(loc)"
   ]
  },
  {
   "cell_type": "code",
   "execution_count": 18,
   "id": "d349d126",
   "metadata": {},
   "outputs": [],
   "source": [
    "d9.get(\"https://www.naukri.com/hr-recruiters-consultants\")"
   ]
  },
  {
   "cell_type": "code",
   "execution_count": 22,
   "id": "c0e11fa8",
   "metadata": {},
   "outputs": [],
   "source": [
    "\n",
    "skilll = []\n",
    "for i in url:\n",
    "    d9.get(i)\n",
    "    time.sleep(3)\n",
    "    try:\n",
    "        skll = d9.find_element(By.XPATH,'//div[@class=\"key-skill\"]/div[3]')\n",
    "        skilll.append(skll.text)\n",
    "    except NoSuchElementException :\n",
    "        skilll.append(\"-\")\n"
   ]
  },
  {
   "cell_type": "code",
   "execution_count": 23,
   "id": "7efc8c36",
   "metadata": {},
   "outputs": [
    {
     "name": "stdout",
     "output_type": "stream",
     "text": [
      "['HR Generalist ActivitiesHR OperationsTalent AcquisitionRecruitment', 'hiringInterviewingJob PostingFollow UpsGood English Communication', 'Human Resource ManagementRecruitmentScreeningBulk Hiringcommunication skills', 'Communication Skills', 'RecruitmentTalent Acquisition', 'hr generalist activitiesHR Information SystemHR CoordinationHR AdministrationHR Strategy', '-', 'end to end recruitment', 'NBFCrecruitmentMass HiringBulk Hiring', 'HR', '-', '-', 'Payroll ManagementJoining FormalitiesExit FormalitiesPayroll SoftwareHR Generalist Activities', 'talent acquisitionrecruitment', 'Recruitment', 'Recruitment', 'Hr', 'Recruitment', 'HRRecruitmentTalent Acquisitioncommunication skillsInterpersonal Skills', 'Sourcing ProfilesHR ConsultinghrRecruitment']\n"
     ]
    }
   ],
   "source": [
    "print(skilll)"
   ]
  },
  {
   "cell_type": "code",
   "execution_count": 24,
   "id": "67893541",
   "metadata": {},
   "outputs": [],
   "source": [
    "dep = []\n",
    "for i in url:\n",
    "    d9.get(i)\n",
    "    time.sleep(3)\n",
    "    try:\n",
    "        dp = d9.find_element(By.XPATH,'//div[@class=\"other-details\"]/div[3]/span/a')\n",
    "        dep.append(dp.text)\n",
    "    except NoSuchElementException :\n",
    "        dep.append(\"-\")"
   ]
  },
  {
   "cell_type": "code",
   "execution_count": 25,
   "id": "880f7a18",
   "metadata": {},
   "outputs": [
    {
     "name": "stdout",
     "output_type": "stream",
     "text": [
      "['Human Resources', 'Human Resources', 'Human Resources', 'Human Resources', 'Human Resources', 'Human Resources', 'Human Resources', 'Human Resources', 'Human Resources', 'Human Resources', 'Human Resources', 'Human Resources', 'Human Resources', 'Human Resources', 'Human Resources', 'Human Resources', 'Human Resources', 'Human Resources', 'Human Resources', 'Human Resources']\n"
     ]
    }
   ],
   "source": [
    "print(dep)"
   ]
  },
  {
   "cell_type": "code",
   "execution_count": 36,
   "id": "e00037f8",
   "metadata": {},
   "outputs": [
    {
     "data": {
      "text/html": [
       "<div>\n",
       "<style scoped>\n",
       "    .dataframe tbody tr th:only-of-type {\n",
       "        vertical-align: middle;\n",
       "    }\n",
       "\n",
       "    .dataframe tbody tr th {\n",
       "        vertical-align: top;\n",
       "    }\n",
       "\n",
       "    .dataframe thead th {\n",
       "        text-align: right;\n",
       "    }\n",
       "</style>\n",
       "<table border=\"1\" class=\"dataframe\">\n",
       "  <thead>\n",
       "    <tr style=\"text-align: right;\">\n",
       "      <th></th>\n",
       "      <th>Name</th>\n",
       "      <th>Designation</th>\n",
       "      <th>Company</th>\n",
       "      <th>Skill</th>\n",
       "      <th>Location</th>\n",
       "    </tr>\n",
       "  </thead>\n",
       "  <tbody>\n",
       "    <tr>\n",
       "      <th>0</th>\n",
       "      <td>Walk in Interview - Assistant Manager-HR</td>\n",
       "      <td>Human Resources</td>\n",
       "      <td>Ics Realty</td>\n",
       "      <td>HR Generalist ActivitiesHR OperationsTalent Ac...</td>\n",
       "      <td>Bangalore/Bengaluru( Bannerghatta Road, Banner...</td>\n",
       "    </tr>\n",
       "    <tr>\n",
       "      <th>1</th>\n",
       "      <td>Hr Executive And Recruiter</td>\n",
       "      <td>Human Resources</td>\n",
       "      <td>Avils Automation</td>\n",
       "      <td>hiringInterviewingJob PostingFollow UpsGood En...</td>\n",
       "      <td>Bangalore/Bengaluru</td>\n",
       "    </tr>\n",
       "    <tr>\n",
       "      <th>2</th>\n",
       "      <td>Hiring For Fresher/HR Recruiter/Recruitment/Da...</td>\n",
       "      <td>Human Resources</td>\n",
       "      <td>Black And White Business Solutions</td>\n",
       "      <td>Human Resource ManagementRecruitmentScreeningB...</td>\n",
       "      <td>Bangalore/Bengaluru</td>\n",
       "    </tr>\n",
       "    <tr>\n",
       "      <th>3</th>\n",
       "      <td>HR fresher / Recruiter / Day shift</td>\n",
       "      <td>Human Resources</td>\n",
       "      <td>Black And White Business Solutions</td>\n",
       "      <td>Communication Skills</td>\n",
       "      <td>Bangalore/Bengaluru( 1st Stage Indira Nagar, V...</td>\n",
       "    </tr>\n",
       "    <tr>\n",
       "      <th>4</th>\n",
       "      <td>Opening For Management Trainee / Executive - HR</td>\n",
       "      <td>Human Resources</td>\n",
       "      <td>Sahajanand Medical Technologies</td>\n",
       "      <td>RecruitmentTalent Acquisition</td>\n",
       "      <td>Mumbai (All Areas)</td>\n",
       "    </tr>\n",
       "    <tr>\n",
       "      <th>5</th>\n",
       "      <td>Executive/ Assistant Manager HR Generalist - P...</td>\n",
       "      <td>Human Resources</td>\n",
       "      <td>OASIS</td>\n",
       "      <td>hr generalist activitiesHR Information SystemH...</td>\n",
       "      <td>Pune,Maharashtra( Koregaon Park )</td>\n",
       "    </tr>\n",
       "    <tr>\n",
       "      <th>6</th>\n",
       "      <td>HR Executive</td>\n",
       "      <td>Human Resources</td>\n",
       "      <td>WeP Solutions Limited</td>\n",
       "      <td>-</td>\n",
       "      <td>Mysore/Mysuru</td>\n",
       "    </tr>\n",
       "    <tr>\n",
       "      <th>7</th>\n",
       "      <td>Hiring For HR Associate | Off-Role | End-To-En...</td>\n",
       "      <td>Human Resources</td>\n",
       "      <td>Kotak Life Insurance</td>\n",
       "      <td>end to end recruitment</td>\n",
       "      <td>Mumbai Suburban,Maharashtra</td>\n",
       "    </tr>\n",
       "    <tr>\n",
       "      <th>8</th>\n",
       "      <td>Assistant Manager - HR (Field Level Recruitment)</td>\n",
       "      <td>Human Resources</td>\n",
       "      <td>Muthoot Microfin</td>\n",
       "      <td>NBFCrecruitmentMass HiringBulk Hiring</td>\n",
       "      <td>Bhubaneswar,Odisha</td>\n",
       "    </tr>\n",
       "    <tr>\n",
       "      <th>9</th>\n",
       "      <td>HR Executive</td>\n",
       "      <td>Human Resources</td>\n",
       "      <td>Caliber Organisation</td>\n",
       "      <td>HR</td>\n",
       "      <td>Ahmedabad</td>\n",
       "    </tr>\n",
       "    <tr>\n",
       "      <th>10</th>\n",
       "      <td>HR (Human Resources) Executive</td>\n",
       "      <td>Human Resources</td>\n",
       "      <td>ASK Eva ( Ask Executive Virtual Assistance )</td>\n",
       "      <td>-</td>\n",
       "      <td>Madurai</td>\n",
       "    </tr>\n",
       "    <tr>\n",
       "      <th>11</th>\n",
       "      <td>HR Executive - Talent Acquisition</td>\n",
       "      <td>Human Resources</td>\n",
       "      <td>Practo</td>\n",
       "      <td>-</td>\n",
       "      <td>Madurai</td>\n",
       "    </tr>\n",
       "    <tr>\n",
       "      <th>12</th>\n",
       "      <td>HR Manager/ Assistant manager/Executive</td>\n",
       "      <td>Human Resources</td>\n",
       "      <td>Nexus Hr Consultancy</td>\n",
       "      <td>Payroll ManagementJoining FormalitiesExit Form...</td>\n",
       "      <td>Nagpur</td>\n",
       "    </tr>\n",
       "    <tr>\n",
       "      <th>13</th>\n",
       "      <td>HR Executive</td>\n",
       "      <td>Human Resources</td>\n",
       "      <td>Able Design Engineering Services</td>\n",
       "      <td>talent acquisitionrecruitment</td>\n",
       "      <td>Dharwad,Karnataka</td>\n",
       "    </tr>\n",
       "    <tr>\n",
       "      <th>14</th>\n",
       "      <td>HR Recruiter</td>\n",
       "      <td>Human Resources</td>\n",
       "      <td>Kinara Capital</td>\n",
       "      <td>Recruitment</td>\n",
       "      <td>Bangalore/Bengaluru</td>\n",
       "    </tr>\n",
       "    <tr>\n",
       "      <th>15</th>\n",
       "      <td>HR Executive. (Work from Home)</td>\n",
       "      <td>Human Resources</td>\n",
       "      <td>Smart Steps HR Services</td>\n",
       "      <td>Recruitment</td>\n",
       "      <td>New Delhi</td>\n",
       "    </tr>\n",
       "    <tr>\n",
       "      <th>16</th>\n",
       "      <td>Hiring Hr Recruiter For bangalore, freshers sa...</td>\n",
       "      <td>Human Resources</td>\n",
       "      <td>Ignites Human Capital</td>\n",
       "      <td>Hr</td>\n",
       "      <td>Bangalore/ Bengaluru,Karnataka</td>\n",
       "    </tr>\n",
       "    <tr>\n",
       "      <th>17</th>\n",
       "      <td>Hiring For HR Recruiter</td>\n",
       "      <td>Human Resources</td>\n",
       "      <td>Black And White Business Solutions</td>\n",
       "      <td>Recruitment</td>\n",
       "      <td>Bangalore/Bengaluru</td>\n",
       "    </tr>\n",
       "    <tr>\n",
       "      <th>18</th>\n",
       "      <td>Opportunity For Fresher For HR Recruiter Role</td>\n",
       "      <td>Human Resources</td>\n",
       "      <td>Black And White Business Solutions</td>\n",
       "      <td>HRRecruitmentTalent Acquisitioncommunication s...</td>\n",
       "      <td>Bangalore/Bengaluru</td>\n",
       "    </tr>\n",
       "    <tr>\n",
       "      <th>19</th>\n",
       "      <td>Hiring For HR Recruiter</td>\n",
       "      <td>Human Resources</td>\n",
       "      <td>Your Pitchh</td>\n",
       "      <td>Sourcing ProfilesHR ConsultinghrRecruitment</td>\n",
       "      <td>Bangalore/Bengaluru</td>\n",
       "    </tr>\n",
       "  </tbody>\n",
       "</table>\n",
       "</div>"
      ],
      "text/plain": [
       "                                                 Name      Designation  \\\n",
       "0            Walk in Interview - Assistant Manager-HR  Human Resources   \n",
       "1                          Hr Executive And Recruiter  Human Resources   \n",
       "2   Hiring For Fresher/HR Recruiter/Recruitment/Da...  Human Resources   \n",
       "3                  HR fresher / Recruiter / Day shift  Human Resources   \n",
       "4     Opening For Management Trainee / Executive - HR  Human Resources   \n",
       "5   Executive/ Assistant Manager HR Generalist - P...  Human Resources   \n",
       "6                                        HR Executive  Human Resources   \n",
       "7   Hiring For HR Associate | Off-Role | End-To-En...  Human Resources   \n",
       "8    Assistant Manager - HR (Field Level Recruitment)  Human Resources   \n",
       "9                                        HR Executive  Human Resources   \n",
       "10                     HR (Human Resources) Executive  Human Resources   \n",
       "11                  HR Executive - Talent Acquisition  Human Resources   \n",
       "12            HR Manager/ Assistant manager/Executive  Human Resources   \n",
       "13                                       HR Executive  Human Resources   \n",
       "14                                       HR Recruiter  Human Resources   \n",
       "15                     HR Executive. (Work from Home)  Human Resources   \n",
       "16  Hiring Hr Recruiter For bangalore, freshers sa...  Human Resources   \n",
       "17                            Hiring For HR Recruiter  Human Resources   \n",
       "18      Opportunity For Fresher For HR Recruiter Role  Human Resources   \n",
       "19                            Hiring For HR Recruiter  Human Resources   \n",
       "\n",
       "                                         Company  \\\n",
       "0                                     Ics Realty   \n",
       "1                               Avils Automation   \n",
       "2             Black And White Business Solutions   \n",
       "3             Black And White Business Solutions   \n",
       "4                Sahajanand Medical Technologies   \n",
       "5                                          OASIS   \n",
       "6                          WeP Solutions Limited   \n",
       "7                           Kotak Life Insurance   \n",
       "8                               Muthoot Microfin   \n",
       "9                           Caliber Organisation   \n",
       "10  ASK Eva ( Ask Executive Virtual Assistance )   \n",
       "11                                        Practo   \n",
       "12                          Nexus Hr Consultancy   \n",
       "13              Able Design Engineering Services   \n",
       "14                                Kinara Capital   \n",
       "15                       Smart Steps HR Services   \n",
       "16                         Ignites Human Capital   \n",
       "17            Black And White Business Solutions   \n",
       "18            Black And White Business Solutions   \n",
       "19                                   Your Pitchh   \n",
       "\n",
       "                                                Skill  \\\n",
       "0   HR Generalist ActivitiesHR OperationsTalent Ac...   \n",
       "1   hiringInterviewingJob PostingFollow UpsGood En...   \n",
       "2   Human Resource ManagementRecruitmentScreeningB...   \n",
       "3                                Communication Skills   \n",
       "4                       RecruitmentTalent Acquisition   \n",
       "5   hr generalist activitiesHR Information SystemH...   \n",
       "6                                                   -   \n",
       "7                              end to end recruitment   \n",
       "8               NBFCrecruitmentMass HiringBulk Hiring   \n",
       "9                                                  HR   \n",
       "10                                                  -   \n",
       "11                                                  -   \n",
       "12  Payroll ManagementJoining FormalitiesExit Form...   \n",
       "13                      talent acquisitionrecruitment   \n",
       "14                                        Recruitment   \n",
       "15                                        Recruitment   \n",
       "16                                                 Hr   \n",
       "17                                        Recruitment   \n",
       "18  HRRecruitmentTalent Acquisitioncommunication s...   \n",
       "19        Sourcing ProfilesHR ConsultinghrRecruitment   \n",
       "\n",
       "                                             Location  \n",
       "0   Bangalore/Bengaluru( Bannerghatta Road, Banner...  \n",
       "1                                 Bangalore/Bengaluru  \n",
       "2                                 Bangalore/Bengaluru  \n",
       "3   Bangalore/Bengaluru( 1st Stage Indira Nagar, V...  \n",
       "4                                  Mumbai (All Areas)  \n",
       "5                   Pune,Maharashtra( Koregaon Park )  \n",
       "6                                       Mysore/Mysuru  \n",
       "7                         Mumbai Suburban,Maharashtra  \n",
       "8                                  Bhubaneswar,Odisha  \n",
       "9                                           Ahmedabad  \n",
       "10                                            Madurai  \n",
       "11                                            Madurai  \n",
       "12                                             Nagpur  \n",
       "13                                  Dharwad,Karnataka  \n",
       "14                                Bangalore/Bengaluru  \n",
       "15                                          New Delhi  \n",
       "16                     Bangalore/ Bengaluru,Karnataka  \n",
       "17                                Bangalore/Bengaluru  \n",
       "18                                Bangalore/Bengaluru  \n",
       "19                                Bangalore/Bengaluru  "
      ]
     },
     "execution_count": 36,
     "metadata": {},
     "output_type": "execute_result"
    }
   ],
   "source": [
    "hr = pd.DataFrame({'Name':name , \"Designation\":dep, \"Company\":comp ,\"Skill\":skilll ,\"Location\":loc})\n",
    "hr"
   ]
  },
  {
   "cell_type": "code",
   "execution_count": 42,
   "id": "d0c8b003",
   "metadata": {},
   "outputs": [],
   "source": [
    "d9.close()"
   ]
  },
  {
   "cell_type": "code",
   "execution_count": 2,
   "id": "02851eb2",
   "metadata": {},
   "outputs": [],
   "source": [
    "d_1_9 = webdriver.Chrome(r'chromedriver.exe')"
   ]
  },
  {
   "cell_type": "code",
   "execution_count": 3,
   "id": "c34b1e53",
   "metadata": {},
   "outputs": [],
   "source": [
    "p_1_9 = d_1_9.get(\"https://www.naukri.com/hr-recruiters-consultants\")"
   ]
  },
  {
   "cell_type": "code",
   "execution_count": 4,
   "id": "10dd772d",
   "metadata": {},
   "outputs": [],
   "source": [
    "urls = []\n",
    "href = d_1_9.find_elements(By.XPATH,'//div[@class=\"list\"]/article/div[1]/div[1]/a')\n",
    "for i in href:\n",
    "    urls.append(i.get_attribute(\"href\"))\n",
    "    "
   ]
  },
  {
   "cell_type": "code",
   "execution_count": 5,
   "id": "eec478d0",
   "metadata": {},
   "outputs": [
    {
     "data": {
      "text/plain": [
       "['https://www.naukri.com/job-listings-hr-intern-hr-remedy-india-kolkata-mumbai-hyderabad-secunderabad-pune-ahmedabad-bangalore-bengaluru-delhi-ncr-0-to-1-years-280623903981',\n",
       " 'https://www.naukri.com/job-listings-hiring-for-hr-freshers-day-shift-recruiter-black-and-white-business-solutions-bangalore-bengaluru-0-to-0-years-280623008325',\n",
       " 'https://www.naukri.com/job-listings-hiring-freshers-hr-executive-recruiter-gurugram-acs-advance-career-solutions-gurgaon-gurugram-haryana-0-to-1-years-280623004687',\n",
       " 'https://www.naukri.com/job-listings-hr-executive-wep-solutions-limited-mysore-mysuru-bangalore-bengaluru-0-to-1-years-220623500895',\n",
       " 'https://www.naukri.com/job-listings-assistant-manager-hr-field-level-recruitment-muthoot-microfin-bhubaneswar-odisha-hubli-karnataka-sambalpur-odisha-ambala-haryana-belagavi-belgaum-karnataka-0-to-2-years-211222009637',\n",
       " 'https://www.naukri.com/job-listings-hr-recruiter-symphoni-hr-mumbai-all-areas-0-to-3-years-270623008939',\n",
       " 'https://www.naukri.com/job-listings-hiring-for-hr-ontrack-hr-services-coimbatore-tamil-nadu-0-to-2-years-010623005856',\n",
       " 'https://www.naukri.com/job-listings-walk-in-interview-assistant-manager-hr-ics-realty-bangalore-bengaluru-0-to-5-years-211122004923',\n",
       " 'https://www.naukri.com/job-listings-hr-executive-and-recruiter-avils-infra-private-limited-bangalore-bengaluru-0-to-1-years-210623003956',\n",
       " 'https://www.naukri.com/job-listings-hr-intern-lifecell-chennai-0-to-3-years-080523002156',\n",
       " 'https://www.naukri.com/job-listings-direct-walk-in-interview-for-hr-executive-female-m2-vending-gurgaon-gurugram-haryana-0-to-1-years-290623004412',\n",
       " 'https://www.naukri.com/job-listings-hr-executive-nagpur-third-party-payroll-tata-aia-life-insurance-nagpur-maharashtra-0-to-2-years-270623004341',\n",
       " 'https://www.naukri.com/job-listings-hr-payroll-executive-cedcoss-technologies-private-limited-lucknow-0-to-3-years-280623501896',\n",
       " 'https://www.naukri.com/job-listings-hr-recruiter-kinara-capital-bangalore-bengaluru-0-to-1-years-220623009081',\n",
       " 'https://www.naukri.com/job-listings-hiring-for-fresher-hr-recruiter-recruitment-day-shift-black-and-white-business-solutions-bangalore-bengaluru-0-to-1-years-240623004535',\n",
       " 'https://www.naukri.com/job-listings-hr-fresher-recruiter-day-shift-black-and-white-business-solutions-bangalore-bengaluru-0-to-0-years-240623004532',\n",
       " 'https://www.naukri.com/job-listings-hiring-for-hr-recruiter-black-and-white-business-solutions-bangalore-bengaluru-0-to-0-years-220623008426',\n",
       " 'https://www.naukri.com/job-listings-executive-assistant-manager-hr-generalist-pune-dress-code-oasis-pune-maharashtra-0-to-3-years-190523004916',\n",
       " 'https://www.naukri.com/job-listings-hr-service-delivery-senior-analyst-recruitment-accenture-solutions-pvt-ltd-bangalore-bengaluru-5-to-8-years-280623903834',\n",
       " 'https://www.naukri.com/job-listings-opening-for-management-trainee-executive-hr-sahajanand-medical-technologies-mumbai-all-areas-0-to-2-years-260623002132']"
      ]
     },
     "execution_count": 5,
     "metadata": {},
     "output_type": "execute_result"
    }
   ],
   "source": [
    "urls"
   ]
  },
  {
   "cell_type": "code",
   "execution_count": 6,
   "id": "ada1d92d",
   "metadata": {},
   "outputs": [],
   "source": [
    "name = []\n",
    "for i in urls:\n",
    "    d_1_9.get(i)\n",
    "    time.sleep(3)\n",
    "    try:\n",
    "        n1 = d_1_9.find_element(By.XPATH,'/html/body/div[1]/main/div[2]/div[1]/section[1]/div[1]/div[1]/header/h1')\n",
    "        name.append(n1.text)\n",
    "    except NoSuchElementException :\n",
    "        name.append(\"-\")"
   ]
  },
  {
   "cell_type": "code",
   "execution_count": 7,
   "id": "1f6934c8",
   "metadata": {},
   "outputs": [
    {
     "name": "stdout",
     "output_type": "stream",
     "text": [
      "['HR Intern', 'Hiring For HR freshers / Day shift / Recruiter', 'Hiring Freshers : HR Executive: Recruiter-Gurugram : ACS', 'HR Executive', 'Assistant Manager - HR (Field Level Recruitment)', 'HR Recruiter', '-', 'Walk in Interview - Assistant Manager-HR', 'Hr Executive And Recruiter', 'HR Intern', 'Direct Walk in Interview For HR Executive(Female)', 'HR Executive || Nagpur || Third Party Payroll', 'HR Payroll Executive', 'HR Recruiter', 'Hiring For Fresher/HR Recruiter/Recruitment/Day Shift', 'HR fresher / Recruiter / Day shift', 'Hiring For HR Recruiter', 'Executive/ Assistant Manager HR Generalist - Pune ( Dress Code )', '-', 'Opening For Management Trainee / Executive - HR']\n"
     ]
    }
   ],
   "source": [
    "print(name)"
   ]
  },
  {
   "cell_type": "code",
   "execution_count": 8,
   "id": "572a579d",
   "metadata": {},
   "outputs": [],
   "source": [
    "company = []\n",
    "for i in urls:\n",
    "    d_1_9.get(i)\n",
    "    time.sleep(3)\n",
    "    try:\n",
    "        c1 = d_1_9.find_element(By.XPATH,'/html/body/div[1]/main/div[2]/div[1]/section[1]/div[1]/div[1]/div[1]/a')\n",
    "        company.append(c1.text)\n",
    "    except NoSuchElementException :\n",
    "        company.append(\"-\")"
   ]
  },
  {
   "cell_type": "code",
   "execution_count": 9,
   "id": "f1f8f68e",
   "metadata": {},
   "outputs": [
    {
     "data": {
      "text/plain": [
       "['HR Remedy India',\n",
       " 'Black And White Business Solutions',\n",
       " 'Advance Career Solutions',\n",
       " 'WeP Solutions Limited',\n",
       " 'Muthoot Microfin',\n",
       " 'Symphoni Hr',\n",
       " '-',\n",
       " 'Ics Realty',\n",
       " 'Avils Automation',\n",
       " 'Lifecell',\n",
       " 'm2 Vending',\n",
       " 'Tata AIA Life Insurance',\n",
       " 'Cedcoss Technologies',\n",
       " 'Kinara Capital',\n",
       " 'Black And White Business Solutions',\n",
       " 'Black And White Business Solutions',\n",
       " 'Black And White Business Solutions',\n",
       " 'OASIS',\n",
       " '-',\n",
       " 'Sahajanand Medical Technologies']"
      ]
     },
     "execution_count": 9,
     "metadata": {},
     "output_type": "execute_result"
    }
   ],
   "source": [
    "company"
   ]
  },
  {
   "cell_type": "code",
   "execution_count": 10,
   "id": "a4189cf8",
   "metadata": {},
   "outputs": [],
   "source": [
    "role = []\n",
    "for i in urls:\n",
    "    d_1_9.get(i)\n",
    "    time.sleep(3)\n",
    "    try:\n",
    "        r1 = d_1_9.find_element(By.XPATH,'/html/body/div[1]/main/div[2]/div[1]/section[2]/div[2]/div[1]/span/a')\n",
    "        role.append(r1.text)\n",
    "    except NoSuchElementException :\n",
    "        role.append(\"-\")"
   ]
  },
  {
   "cell_type": "code",
   "execution_count": 11,
   "id": "eaad8e46",
   "metadata": {},
   "outputs": [
    {
     "data": {
      "text/plain": [
       "['Human Resources - Other',\n",
       " 'Recruitment & Talent Acquisition - Other',\n",
       " 'Recruitment & Talent Acquisition - Other',\n",
       " 'HR Generalist',\n",
       " 'Recruitment & Talent Acquisition - Other',\n",
       " 'Recruitment & Talent Acquisition - Other',\n",
       " '-',\n",
       " 'HR Business Partner (HRBP)',\n",
       " 'Recruitment & Talent Acquisition - Other',\n",
       " 'HR Operations - Other',\n",
       " 'HR Generalist',\n",
       " 'Recruitment & Talent Acquisition - Other',\n",
       " 'HR Policy & Compliance',\n",
       " 'Recruitment & Talent Acquisition - Other',\n",
       " 'Recruitment & Talent Acquisition - Other',\n",
       " 'Recruitment & Talent Acquisition - Other',\n",
       " 'Recruitment & Talent Acquisition - Other',\n",
       " 'HR Generalist',\n",
       " '-',\n",
       " 'Human Resources - Other']"
      ]
     },
     "execution_count": 11,
     "metadata": {},
     "output_type": "execute_result"
    }
   ],
   "source": [
    "role"
   ]
  },
  {
   "cell_type": "code",
   "execution_count": 12,
   "id": "c00fad3a",
   "metadata": {},
   "outputs": [],
   "source": [
    "location = []\n",
    "for i in urls:\n",
    "    d_1_9.get(i)\n",
    "    time.sleep(3)\n",
    "    try:\n",
    "        l1 = d_1_9.find_element(By.XPATH,'//div[@class=\"leftSec\"]/section[1]/div[1]/div[2]/div[2]/span')\n",
    "        location.append(l1.text)\n",
    "    except NoSuchElementException :\n",
    "        location.append(\"-\")"
   ]
  },
  {
   "cell_type": "code",
   "execution_count": 13,
   "id": "6bf6dcee",
   "metadata": {},
   "outputs": [
    {
     "data": {
      "text/plain": [
       "['Kolkata, Mumbai, Hyderabad/Secunderabad, Pune, Ahmedabad, Bangalore/Bengaluru, Delhi / NCR',\n",
       " 'Bangalore/Bengaluru( 1st Stage Indira Nagar, Vijayanagar, Domlur )',\n",
       " 'Gurgaon/ Gurugram,Haryana',\n",
       " 'Mysore/Mysuru, Bangalore/Bengaluru',\n",
       " 'Bhubaneswar,Odisha, Hubli,Karnataka, Sambalpur,Odisha, Ambala,Haryana, Belagavi/ Belgaum,Karnataka',\n",
       " '-',\n",
       " '-',\n",
       " 'Bangalore/Bengaluru( Bannerghatta Road, Bannerghatta, BTM Layout )',\n",
       " 'Bangalore/Bengaluru',\n",
       " 'Hybrid',\n",
       " 'Gurgaon/ Gurugram,Haryana',\n",
       " 'Nagpur,Maharashtra',\n",
       " 'Lucknow',\n",
       " 'Bangalore/Bengaluru',\n",
       " 'Bangalore/Bengaluru',\n",
       " 'Bangalore/Bengaluru( 1st Stage Indira Nagar, Vijayanagar, Domlur )',\n",
       " 'Bangalore/Bengaluru',\n",
       " 'Pune,Maharashtra( Koregaon Park )',\n",
       " '-',\n",
       " 'Mumbai (All Areas)']"
      ]
     },
     "execution_count": 13,
     "metadata": {},
     "output_type": "execute_result"
    }
   ],
   "source": [
    "location"
   ]
  },
  {
   "cell_type": "code",
   "execution_count": 14,
   "id": "a3924704",
   "metadata": {},
   "outputs": [],
   "source": [
    "skills = []\n",
    "for i in urls:\n",
    "    d_1_9.get(i)\n",
    "    time.sleep(3)\n",
    "    try:\n",
    "        s1 = d_1_9.find_element(By.XPATH,'//div[@class=\"key-skill\"]/div[3]')\n",
    "        skills.append(s1.text)\n",
    "    except NoSuchElementException :\n",
    "        skills.append(\"-\")"
   ]
  },
  {
   "cell_type": "code",
   "execution_count": 15,
   "id": "12e9b748",
   "metadata": {},
   "outputs": [
    {
     "data": {
      "text/plain": [
       "['Human Resource',\n",
       " 'communication skills',\n",
       " 'communication skillsRecruitment',\n",
       " '-',\n",
       " 'NBFCrecruitmentMass HiringBulk Hiring',\n",
       " 'Recruitment',\n",
       " '-',\n",
       " 'HR Generalist ActivitiesHR OperationsTalent AcquisitionRecruitment',\n",
       " 'hiringInterviewingJob PostingFollow UpsGood English Communication',\n",
       " 'Recruitment',\n",
       " 'HR Generalist Activities',\n",
       " 'Human ResourceHiringTalent Acquisition',\n",
       " '-',\n",
       " 'Recruitment',\n",
       " 'Human Resource ManagementRecruitmentScreeningBulk Hiringcommunication skills',\n",
       " 'Communication Skills',\n",
       " 'Recruitment',\n",
       " 'hr generalist activitiesHR Information SystemHR CoordinationHR AdministrationHR Strategy',\n",
       " '-',\n",
       " 'RecruitmentTalent Acquisition']"
      ]
     },
     "execution_count": 15,
     "metadata": {},
     "output_type": "execute_result"
    }
   ],
   "source": [
    "skills"
   ]
  },
  {
   "cell_type": "code",
   "execution_count": 16,
   "id": "db959875",
   "metadata": {},
   "outputs": [
    {
     "data": {
      "text/html": [
       "<div>\n",
       "<style scoped>\n",
       "    .dataframe tbody tr th:only-of-type {\n",
       "        vertical-align: middle;\n",
       "    }\n",
       "\n",
       "    .dataframe tbody tr th {\n",
       "        vertical-align: top;\n",
       "    }\n",
       "\n",
       "    .dataframe thead th {\n",
       "        text-align: right;\n",
       "    }\n",
       "</style>\n",
       "<table border=\"1\" class=\"dataframe\">\n",
       "  <thead>\n",
       "    <tr style=\"text-align: right;\">\n",
       "      <th></th>\n",
       "      <th>Name</th>\n",
       "      <th>Designation</th>\n",
       "      <th>Company</th>\n",
       "      <th>Location</th>\n",
       "      <th>Skill</th>\n",
       "    </tr>\n",
       "  </thead>\n",
       "  <tbody>\n",
       "    <tr>\n",
       "      <th>0</th>\n",
       "      <td>HR Intern</td>\n",
       "      <td>Human Resources - Other</td>\n",
       "      <td>HR Remedy India</td>\n",
       "      <td>Kolkata, Mumbai, Hyderabad/Secunderabad, Pune,...</td>\n",
       "      <td>Human Resource</td>\n",
       "    </tr>\n",
       "    <tr>\n",
       "      <th>1</th>\n",
       "      <td>Hiring For HR freshers / Day shift / Recruiter</td>\n",
       "      <td>Recruitment &amp; Talent Acquisition - Other</td>\n",
       "      <td>Black And White Business Solutions</td>\n",
       "      <td>Bangalore/Bengaluru( 1st Stage Indira Nagar, V...</td>\n",
       "      <td>communication skills</td>\n",
       "    </tr>\n",
       "    <tr>\n",
       "      <th>2</th>\n",
       "      <td>Hiring Freshers : HR Executive: Recruiter-Guru...</td>\n",
       "      <td>Recruitment &amp; Talent Acquisition - Other</td>\n",
       "      <td>Advance Career Solutions</td>\n",
       "      <td>Gurgaon/ Gurugram,Haryana</td>\n",
       "      <td>communication skillsRecruitment</td>\n",
       "    </tr>\n",
       "    <tr>\n",
       "      <th>3</th>\n",
       "      <td>HR Executive</td>\n",
       "      <td>HR Generalist</td>\n",
       "      <td>WeP Solutions Limited</td>\n",
       "      <td>Mysore/Mysuru, Bangalore/Bengaluru</td>\n",
       "      <td>-</td>\n",
       "    </tr>\n",
       "    <tr>\n",
       "      <th>4</th>\n",
       "      <td>Assistant Manager - HR (Field Level Recruitment)</td>\n",
       "      <td>Recruitment &amp; Talent Acquisition - Other</td>\n",
       "      <td>Muthoot Microfin</td>\n",
       "      <td>Bhubaneswar,Odisha, Hubli,Karnataka, Sambalpur...</td>\n",
       "      <td>NBFCrecruitmentMass HiringBulk Hiring</td>\n",
       "    </tr>\n",
       "    <tr>\n",
       "      <th>5</th>\n",
       "      <td>HR Recruiter</td>\n",
       "      <td>Recruitment &amp; Talent Acquisition - Other</td>\n",
       "      <td>Symphoni Hr</td>\n",
       "      <td>-</td>\n",
       "      <td>Recruitment</td>\n",
       "    </tr>\n",
       "    <tr>\n",
       "      <th>6</th>\n",
       "      <td>-</td>\n",
       "      <td>-</td>\n",
       "      <td>-</td>\n",
       "      <td>-</td>\n",
       "      <td>-</td>\n",
       "    </tr>\n",
       "    <tr>\n",
       "      <th>7</th>\n",
       "      <td>Walk in Interview - Assistant Manager-HR</td>\n",
       "      <td>HR Business Partner (HRBP)</td>\n",
       "      <td>Ics Realty</td>\n",
       "      <td>Bangalore/Bengaluru( Bannerghatta Road, Banner...</td>\n",
       "      <td>HR Generalist ActivitiesHR OperationsTalent Ac...</td>\n",
       "    </tr>\n",
       "    <tr>\n",
       "      <th>8</th>\n",
       "      <td>Hr Executive And Recruiter</td>\n",
       "      <td>Recruitment &amp; Talent Acquisition - Other</td>\n",
       "      <td>Avils Automation</td>\n",
       "      <td>Bangalore/Bengaluru</td>\n",
       "      <td>hiringInterviewingJob PostingFollow UpsGood En...</td>\n",
       "    </tr>\n",
       "    <tr>\n",
       "      <th>9</th>\n",
       "      <td>HR Intern</td>\n",
       "      <td>HR Operations - Other</td>\n",
       "      <td>Lifecell</td>\n",
       "      <td>Hybrid</td>\n",
       "      <td>Recruitment</td>\n",
       "    </tr>\n",
       "    <tr>\n",
       "      <th>10</th>\n",
       "      <td>Direct Walk in Interview For HR Executive(Female)</td>\n",
       "      <td>HR Generalist</td>\n",
       "      <td>m2 Vending</td>\n",
       "      <td>Gurgaon/ Gurugram,Haryana</td>\n",
       "      <td>HR Generalist Activities</td>\n",
       "    </tr>\n",
       "    <tr>\n",
       "      <th>11</th>\n",
       "      <td>HR Executive || Nagpur || Third Party Payroll</td>\n",
       "      <td>Recruitment &amp; Talent Acquisition - Other</td>\n",
       "      <td>Tata AIA Life Insurance</td>\n",
       "      <td>Nagpur,Maharashtra</td>\n",
       "      <td>Human ResourceHiringTalent Acquisition</td>\n",
       "    </tr>\n",
       "    <tr>\n",
       "      <th>12</th>\n",
       "      <td>HR Payroll Executive</td>\n",
       "      <td>HR Policy &amp; Compliance</td>\n",
       "      <td>Cedcoss Technologies</td>\n",
       "      <td>Lucknow</td>\n",
       "      <td>-</td>\n",
       "    </tr>\n",
       "    <tr>\n",
       "      <th>13</th>\n",
       "      <td>HR Recruiter</td>\n",
       "      <td>Recruitment &amp; Talent Acquisition - Other</td>\n",
       "      <td>Kinara Capital</td>\n",
       "      <td>Bangalore/Bengaluru</td>\n",
       "      <td>Recruitment</td>\n",
       "    </tr>\n",
       "    <tr>\n",
       "      <th>14</th>\n",
       "      <td>Hiring For Fresher/HR Recruiter/Recruitment/Da...</td>\n",
       "      <td>Recruitment &amp; Talent Acquisition - Other</td>\n",
       "      <td>Black And White Business Solutions</td>\n",
       "      <td>Bangalore/Bengaluru</td>\n",
       "      <td>Human Resource ManagementRecruitmentScreeningB...</td>\n",
       "    </tr>\n",
       "    <tr>\n",
       "      <th>15</th>\n",
       "      <td>HR fresher / Recruiter / Day shift</td>\n",
       "      <td>Recruitment &amp; Talent Acquisition - Other</td>\n",
       "      <td>Black And White Business Solutions</td>\n",
       "      <td>Bangalore/Bengaluru( 1st Stage Indira Nagar, V...</td>\n",
       "      <td>Communication Skills</td>\n",
       "    </tr>\n",
       "    <tr>\n",
       "      <th>16</th>\n",
       "      <td>Hiring For HR Recruiter</td>\n",
       "      <td>Recruitment &amp; Talent Acquisition - Other</td>\n",
       "      <td>Black And White Business Solutions</td>\n",
       "      <td>Bangalore/Bengaluru</td>\n",
       "      <td>Recruitment</td>\n",
       "    </tr>\n",
       "    <tr>\n",
       "      <th>17</th>\n",
       "      <td>Executive/ Assistant Manager HR Generalist - P...</td>\n",
       "      <td>HR Generalist</td>\n",
       "      <td>OASIS</td>\n",
       "      <td>Pune,Maharashtra( Koregaon Park )</td>\n",
       "      <td>hr generalist activitiesHR Information SystemH...</td>\n",
       "    </tr>\n",
       "    <tr>\n",
       "      <th>18</th>\n",
       "      <td>-</td>\n",
       "      <td>-</td>\n",
       "      <td>-</td>\n",
       "      <td>-</td>\n",
       "      <td>-</td>\n",
       "    </tr>\n",
       "    <tr>\n",
       "      <th>19</th>\n",
       "      <td>Opening For Management Trainee / Executive - HR</td>\n",
       "      <td>Human Resources - Other</td>\n",
       "      <td>Sahajanand Medical Technologies</td>\n",
       "      <td>Mumbai (All Areas)</td>\n",
       "      <td>RecruitmentTalent Acquisition</td>\n",
       "    </tr>\n",
       "  </tbody>\n",
       "</table>\n",
       "</div>"
      ],
      "text/plain": [
       "                                                 Name  \\\n",
       "0                                           HR Intern   \n",
       "1      Hiring For HR freshers / Day shift / Recruiter   \n",
       "2   Hiring Freshers : HR Executive: Recruiter-Guru...   \n",
       "3                                        HR Executive   \n",
       "4    Assistant Manager - HR (Field Level Recruitment)   \n",
       "5                                        HR Recruiter   \n",
       "6                                                   -   \n",
       "7            Walk in Interview - Assistant Manager-HR   \n",
       "8                          Hr Executive And Recruiter   \n",
       "9                                           HR Intern   \n",
       "10  Direct Walk in Interview For HR Executive(Female)   \n",
       "11      HR Executive || Nagpur || Third Party Payroll   \n",
       "12                               HR Payroll Executive   \n",
       "13                                       HR Recruiter   \n",
       "14  Hiring For Fresher/HR Recruiter/Recruitment/Da...   \n",
       "15                 HR fresher / Recruiter / Day shift   \n",
       "16                            Hiring For HR Recruiter   \n",
       "17  Executive/ Assistant Manager HR Generalist - P...   \n",
       "18                                                  -   \n",
       "19    Opening For Management Trainee / Executive - HR   \n",
       "\n",
       "                                 Designation  \\\n",
       "0                    Human Resources - Other   \n",
       "1   Recruitment & Talent Acquisition - Other   \n",
       "2   Recruitment & Talent Acquisition - Other   \n",
       "3                              HR Generalist   \n",
       "4   Recruitment & Talent Acquisition - Other   \n",
       "5   Recruitment & Talent Acquisition - Other   \n",
       "6                                          -   \n",
       "7                 HR Business Partner (HRBP)   \n",
       "8   Recruitment & Talent Acquisition - Other   \n",
       "9                      HR Operations - Other   \n",
       "10                             HR Generalist   \n",
       "11  Recruitment & Talent Acquisition - Other   \n",
       "12                    HR Policy & Compliance   \n",
       "13  Recruitment & Talent Acquisition - Other   \n",
       "14  Recruitment & Talent Acquisition - Other   \n",
       "15  Recruitment & Talent Acquisition - Other   \n",
       "16  Recruitment & Talent Acquisition - Other   \n",
       "17                             HR Generalist   \n",
       "18                                         -   \n",
       "19                   Human Resources - Other   \n",
       "\n",
       "                               Company  \\\n",
       "0                      HR Remedy India   \n",
       "1   Black And White Business Solutions   \n",
       "2             Advance Career Solutions   \n",
       "3                WeP Solutions Limited   \n",
       "4                     Muthoot Microfin   \n",
       "5                          Symphoni Hr   \n",
       "6                                    -   \n",
       "7                           Ics Realty   \n",
       "8                     Avils Automation   \n",
       "9                             Lifecell   \n",
       "10                          m2 Vending   \n",
       "11             Tata AIA Life Insurance   \n",
       "12                Cedcoss Technologies   \n",
       "13                      Kinara Capital   \n",
       "14  Black And White Business Solutions   \n",
       "15  Black And White Business Solutions   \n",
       "16  Black And White Business Solutions   \n",
       "17                               OASIS   \n",
       "18                                   -   \n",
       "19     Sahajanand Medical Technologies   \n",
       "\n",
       "                                             Location  \\\n",
       "0   Kolkata, Mumbai, Hyderabad/Secunderabad, Pune,...   \n",
       "1   Bangalore/Bengaluru( 1st Stage Indira Nagar, V...   \n",
       "2                           Gurgaon/ Gurugram,Haryana   \n",
       "3                  Mysore/Mysuru, Bangalore/Bengaluru   \n",
       "4   Bhubaneswar,Odisha, Hubli,Karnataka, Sambalpur...   \n",
       "5                                                   -   \n",
       "6                                                   -   \n",
       "7   Bangalore/Bengaluru( Bannerghatta Road, Banner...   \n",
       "8                                 Bangalore/Bengaluru   \n",
       "9                                              Hybrid   \n",
       "10                          Gurgaon/ Gurugram,Haryana   \n",
       "11                                 Nagpur,Maharashtra   \n",
       "12                                            Lucknow   \n",
       "13                                Bangalore/Bengaluru   \n",
       "14                                Bangalore/Bengaluru   \n",
       "15  Bangalore/Bengaluru( 1st Stage Indira Nagar, V...   \n",
       "16                                Bangalore/Bengaluru   \n",
       "17                  Pune,Maharashtra( Koregaon Park )   \n",
       "18                                                  -   \n",
       "19                                 Mumbai (All Areas)   \n",
       "\n",
       "                                                Skill  \n",
       "0                                      Human Resource  \n",
       "1                                communication skills  \n",
       "2                     communication skillsRecruitment  \n",
       "3                                                   -  \n",
       "4               NBFCrecruitmentMass HiringBulk Hiring  \n",
       "5                                         Recruitment  \n",
       "6                                                   -  \n",
       "7   HR Generalist ActivitiesHR OperationsTalent Ac...  \n",
       "8   hiringInterviewingJob PostingFollow UpsGood En...  \n",
       "9                                         Recruitment  \n",
       "10                           HR Generalist Activities  \n",
       "11             Human ResourceHiringTalent Acquisition  \n",
       "12                                                  -  \n",
       "13                                        Recruitment  \n",
       "14  Human Resource ManagementRecruitmentScreeningB...  \n",
       "15                               Communication Skills  \n",
       "16                                        Recruitment  \n",
       "17  hr generalist activitiesHR Information SystemH...  \n",
       "18                                                  -  \n",
       "19                      RecruitmentTalent Acquisition  "
      ]
     },
     "execution_count": 16,
     "metadata": {},
     "output_type": "execute_result"
    }
   ],
   "source": [
    "nkri = pd.DataFrame({\"Name\":name, \"Designation\":role,\"Company\":company,\"Location\":location, \"Skill\":skills})\n",
    "nkri"
   ]
  },
  {
   "cell_type": "code",
   "execution_count": null,
   "id": "2a1b58e2",
   "metadata": {},
   "outputs": [],
   "source": []
  },
  {
   "cell_type": "code",
   "execution_count": null,
   "id": "447b9bd8",
   "metadata": {},
   "outputs": [],
   "source": []
  }
 ],
 "metadata": {
  "kernelspec": {
   "display_name": "Python 3 (ipykernel)",
   "language": "python",
   "name": "python3"
  },
  "language_info": {
   "codemirror_mode": {
    "name": "ipython",
    "version": 3
   },
   "file_extension": ".py",
   "mimetype": "text/x-python",
   "name": "python",
   "nbconvert_exporter": "python",
   "pygments_lexer": "ipython3",
   "version": "3.9.13"
  }
 },
 "nbformat": 4,
 "nbformat_minor": 5
}
