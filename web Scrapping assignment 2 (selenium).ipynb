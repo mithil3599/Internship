{
 "cells": [
  {
   "cell_type": "code",
   "execution_count": 1,
   "id": "029c88da",
   "metadata": {},
   "outputs": [
    {
     "name": "stdout",
     "output_type": "stream",
     "text": [
      "Requirement already satisfied: selenium in c:\\users\\tusha\\anaconda3\\lib\\site-packages (4.9.1)\n",
      "Requirement already satisfied: trio-websocket~=0.9 in c:\\users\\tusha\\anaconda3\\lib\\site-packages (from selenium) (0.10.2)\n",
      "Requirement already satisfied: trio~=0.17 in c:\\users\\tusha\\anaconda3\\lib\\site-packages (from selenium) (0.22.0)\n",
      "Requirement already satisfied: certifi>=2021.10.8 in c:\\users\\tusha\\anaconda3\\lib\\site-packages (from selenium) (2022.9.14)\n",
      "Requirement already satisfied: urllib3[socks]<3,>=1.26 in c:\\users\\tusha\\anaconda3\\lib\\site-packages (from selenium) (1.26.11)\n",
      "Requirement already satisfied: sortedcontainers in c:\\users\\tusha\\anaconda3\\lib\\site-packages (from trio~=0.17->selenium) (2.4.0)\n",
      "Requirement already satisfied: outcome in c:\\users\\tusha\\anaconda3\\lib\\site-packages (from trio~=0.17->selenium) (1.2.0)\n",
      "Requirement already satisfied: cffi>=1.14 in c:\\users\\tusha\\anaconda3\\lib\\site-packages (from trio~=0.17->selenium) (1.15.1)\n",
      "Requirement already satisfied: attrs>=19.2.0 in c:\\users\\tusha\\anaconda3\\lib\\site-packages (from trio~=0.17->selenium) (21.4.0)\n",
      "Requirement already satisfied: sniffio in c:\\users\\tusha\\anaconda3\\lib\\site-packages (from trio~=0.17->selenium) (1.2.0)\n",
      "Requirement already satisfied: exceptiongroup>=1.0.0rc9 in c:\\users\\tusha\\anaconda3\\lib\\site-packages (from trio~=0.17->selenium) (1.1.1)\n",
      "Requirement already satisfied: async-generator>=1.9 in c:\\users\\tusha\\anaconda3\\lib\\site-packages (from trio~=0.17->selenium) (1.10)\n",
      "Requirement already satisfied: idna in c:\\users\\tusha\\anaconda3\\lib\\site-packages (from trio~=0.17->selenium) (3.3)\n",
      "Requirement already satisfied: wsproto>=0.14 in c:\\users\\tusha\\anaconda3\\lib\\site-packages (from trio-websocket~=0.9->selenium) (1.2.0)\n",
      "Requirement already satisfied: PySocks!=1.5.7,<2.0,>=1.5.6 in c:\\users\\tusha\\anaconda3\\lib\\site-packages (from urllib3[socks]<3,>=1.26->selenium) (1.7.1)\n",
      "Requirement already satisfied: pycparser in c:\\users\\tusha\\anaconda3\\lib\\site-packages (from cffi>=1.14->trio~=0.17->selenium) (2.21)\n",
      "Requirement already satisfied: h11<1,>=0.9.0 in c:\\users\\tusha\\anaconda3\\lib\\site-packages (from wsproto>=0.14->trio-websocket~=0.9->selenium) (0.14.0)\n"
     ]
    }
   ],
   "source": [
    "!pip install selenium"
   ]
  },
  {
   "cell_type": "markdown",
   "id": "4da957e7",
   "metadata": {},
   "source": [
    "Q1. Write a python program to scrape data for “Data Analyst” Job position in “Bangalore” location. You\n",
    "have to scrape the job-title, job-location, company_name, experience_required. You have to scrape first 10\n",
    "jobs data."
   ]
  },
  {
   "cell_type": "code",
   "execution_count": 1,
   "id": "9fcd8984",
   "metadata": {},
   "outputs": [],
   "source": [
    "import selenium \n",
    "import pandas as pd\n",
    "from selenium import webdriver \n",
    "import warnings \n",
    "warnings.filterwarnings('ignore')\n",
    "from selenium.webdriver.common.by import By\n",
    "import time"
   ]
  },
  {
   "cell_type": "code",
   "execution_count": 3,
   "id": "d346d8bd",
   "metadata": {},
   "outputs": [],
   "source": [
    "#connecting to the driver\n",
    "driver = webdriver.Chrome(r'chromedriver.exe')"
   ]
  },
  {
   "cell_type": "code",
   "execution_count": 4,
   "id": "eef5d5ae",
   "metadata": {},
   "outputs": [],
   "source": [
    "#opening the naukri page on automated chrome browser\n",
    "driver.get(\"https://www.naukri.com/\")"
   ]
  },
  {
   "cell_type": "code",
   "execution_count": 5,
   "id": "4cf64cd0",
   "metadata": {},
   "outputs": [],
   "source": [
    "#Entering designation and location as required in the question\n",
    "designation = driver.find_element(By.CLASS_NAME,\"suggestor-input\")"
   ]
  },
  {
   "cell_type": "code",
   "execution_count": 6,
   "id": "d3c259c4",
   "metadata": {},
   "outputs": [],
   "source": [
    "designation.send_keys(\"Data Analyst\")"
   ]
  },
  {
   "cell_type": "code",
   "execution_count": 7,
   "id": "9f22ddcb",
   "metadata": {},
   "outputs": [],
   "source": [
    "location = driver.find_element(By.XPATH,\"/html/body/div[1]/div[7]/div/div/div[5]/div/div/div/div[1]/div/input\")\n",
    "location.send_keys('Bangalore')"
   ]
  },
  {
   "cell_type": "code",
   "execution_count": 8,
   "id": "49c4b249",
   "metadata": {},
   "outputs": [],
   "source": [
    "search = driver.find_element(By.CLASS_NAME,\"qsbSubmit\")\n",
    "search.click()"
   ]
  },
  {
   "cell_type": "code",
   "execution_count": 9,
   "id": "82eb6ca7",
   "metadata": {},
   "outputs": [],
   "source": [
    "job_title = []\n",
    "job_location = []\n",
    "company_name = []\n",
    "experience_required = []"
   ]
  },
  {
   "cell_type": "code",
   "execution_count": 10,
   "id": "7fd7aaa9",
   "metadata": {},
   "outputs": [],
   "source": [
    "#Scraping job title\n",
    "title_tags = driver.find_elements(By.XPATH,'//a[@class=\"title ellipsis\"]')\n",
    "for i in title_tags[0:10]:\n",
    "    title = i.text\n",
    "    job_title.append(title)\n",
    "    \n",
    "    \n",
    "    \n",
    "#scraping the job location\n",
    "location_tags = driver.find_elements(By.XPATH,'//span[@class=\"ellipsis fleft locWdth\"]')\n",
    "for i in location_tags[0:10]:\n",
    "    location = i.text\n",
    "    job_location.append(location)\n",
    "    \n",
    "    \n",
    "#scraping company name\n",
    "company_tags = driver.find_elements(By.XPATH,'//a[@class=\"subTitle ellipsis fleft\"]')\n",
    "for i in company_tags[0:10]:\n",
    "    company = i.text \n",
    "    company_name.append(company)\n",
    "    \n",
    "    \n",
    "#scraping experience\n",
    "experience_tags = driver.find_elements(By.XPATH,'//span[@class=\"ellipsis fleft expwdth\"]')\n",
    "for i in experience_tags[0:10]:\n",
    "    exp = i.text\n",
    "    experience_required.append(exp)"
   ]
  },
  {
   "cell_type": "code",
   "execution_count": 11,
   "id": "a05c5238",
   "metadata": {},
   "outputs": [
    {
     "name": "stdout",
     "output_type": "stream",
     "text": [
      "10 10 10 10\n"
     ]
    }
   ],
   "source": [
    "print(len(job_title),len(job_location),len(company_name),len(experience_required))\n"
   ]
  },
  {
   "cell_type": "code",
   "execution_count": 12,
   "id": "079bfa46",
   "metadata": {},
   "outputs": [],
   "source": [
    "import pandas as pd\n",
    "df = pd.DataFrame({'Title':job_title,'Location':job_location,'Company_Name':company_name,'Experience':experience_required})"
   ]
  },
  {
   "cell_type": "code",
   "execution_count": 13,
   "id": "a8684afe",
   "metadata": {},
   "outputs": [
    {
     "data": {
      "text/html": [
       "<div>\n",
       "<style scoped>\n",
       "    .dataframe tbody tr th:only-of-type {\n",
       "        vertical-align: middle;\n",
       "    }\n",
       "\n",
       "    .dataframe tbody tr th {\n",
       "        vertical-align: top;\n",
       "    }\n",
       "\n",
       "    .dataframe thead th {\n",
       "        text-align: right;\n",
       "    }\n",
       "</style>\n",
       "<table border=\"1\" class=\"dataframe\">\n",
       "  <thead>\n",
       "    <tr style=\"text-align: right;\">\n",
       "      <th></th>\n",
       "      <th>Title</th>\n",
       "      <th>Location</th>\n",
       "      <th>Company_Name</th>\n",
       "      <th>Experience</th>\n",
       "    </tr>\n",
       "  </thead>\n",
       "  <tbody>\n",
       "    <tr>\n",
       "      <th>0</th>\n",
       "      <td>Tech Data Analyst</td>\n",
       "      <td>Hybrid - Bangalore/ Bengaluru, Karnataka, Gurg...</td>\n",
       "      <td>Wipro</td>\n",
       "      <td>3-6 Yrs</td>\n",
       "    </tr>\n",
       "    <tr>\n",
       "      <th>1</th>\n",
       "      <td>Data Analyst</td>\n",
       "      <td>Bangalore/Bengaluru</td>\n",
       "      <td>Brunel</td>\n",
       "      <td>4-6 Yrs</td>\n",
       "    </tr>\n",
       "    <tr>\n",
       "      <th>2</th>\n",
       "      <td>Celonis &amp; Salesforce Data Analyst</td>\n",
       "      <td>Bangalore/Bengaluru, Chennai</td>\n",
       "      <td>Hitachi Energy</td>\n",
       "      <td>3-6 Yrs</td>\n",
       "    </tr>\n",
       "    <tr>\n",
       "      <th>3</th>\n",
       "      <td>Knowledge Data Analyst</td>\n",
       "      <td>Bangalore/Bengaluru</td>\n",
       "      <td>SAP</td>\n",
       "      <td>4-6 Yrs</td>\n",
       "    </tr>\n",
       "    <tr>\n",
       "      <th>4</th>\n",
       "      <td>Data Analyst</td>\n",
       "      <td>Bangalore/Bengaluru, Kolkata, Hyderabad/Secund...</td>\n",
       "      <td>Tata Consultancy Services (TCS)</td>\n",
       "      <td>5-10 Yrs</td>\n",
       "    </tr>\n",
       "    <tr>\n",
       "      <th>5</th>\n",
       "      <td>Data Analyst</td>\n",
       "      <td>Bangalore/ Bengaluru, Karnataka</td>\n",
       "      <td>Artech</td>\n",
       "      <td>5-8 Yrs</td>\n",
       "    </tr>\n",
       "    <tr>\n",
       "      <th>6</th>\n",
       "      <td>Data Analyst (Bangalore)</td>\n",
       "      <td>Bangalore/Bengaluru</td>\n",
       "      <td>Krazy Mantra</td>\n",
       "      <td>7-12 Yrs</td>\n",
       "    </tr>\n",
       "    <tr>\n",
       "      <th>7</th>\n",
       "      <td>Insight Data Analyst</td>\n",
       "      <td>Bangalore/ Bengaluru, Karnataka, Noida, Uttar ...</td>\n",
       "      <td>Vuca Consulting</td>\n",
       "      <td>5-10 Yrs</td>\n",
       "    </tr>\n",
       "    <tr>\n",
       "      <th>8</th>\n",
       "      <td>Data Analyst</td>\n",
       "      <td>Bangalore/Bengaluru</td>\n",
       "      <td>Loyalytics Consulting</td>\n",
       "      <td>4-9 Yrs</td>\n",
       "    </tr>\n",
       "    <tr>\n",
       "      <th>9</th>\n",
       "      <td>Data Analyst</td>\n",
       "      <td>Bangalore/Bengaluru</td>\n",
       "      <td>Clairvoyant India Pvt. Ltd</td>\n",
       "      <td>3-6 Yrs</td>\n",
       "    </tr>\n",
       "  </tbody>\n",
       "</table>\n",
       "</div>"
      ],
      "text/plain": [
       "                               Title  \\\n",
       "0                  Tech Data Analyst   \n",
       "1                       Data Analyst   \n",
       "2  Celonis & Salesforce Data Analyst   \n",
       "3             Knowledge Data Analyst   \n",
       "4                       Data Analyst   \n",
       "5                       Data Analyst   \n",
       "6           Data Analyst (Bangalore)   \n",
       "7               Insight Data Analyst   \n",
       "8                       Data Analyst   \n",
       "9                       Data Analyst   \n",
       "\n",
       "                                            Location  \\\n",
       "0  Hybrid - Bangalore/ Bengaluru, Karnataka, Gurg...   \n",
       "1                                Bangalore/Bengaluru   \n",
       "2                       Bangalore/Bengaluru, Chennai   \n",
       "3                                Bangalore/Bengaluru   \n",
       "4  Bangalore/Bengaluru, Kolkata, Hyderabad/Secund...   \n",
       "5                    Bangalore/ Bengaluru, Karnataka   \n",
       "6                                Bangalore/Bengaluru   \n",
       "7  Bangalore/ Bengaluru, Karnataka, Noida, Uttar ...   \n",
       "8                                Bangalore/Bengaluru   \n",
       "9                                Bangalore/Bengaluru   \n",
       "\n",
       "                      Company_Name Experience  \n",
       "0                            Wipro    3-6 Yrs  \n",
       "1                           Brunel    4-6 Yrs  \n",
       "2                   Hitachi Energy    3-6 Yrs  \n",
       "3                              SAP    4-6 Yrs  \n",
       "4  Tata Consultancy Services (TCS)   5-10 Yrs  \n",
       "5                           Artech    5-8 Yrs  \n",
       "6                     Krazy Mantra   7-12 Yrs  \n",
       "7                  Vuca Consulting   5-10 Yrs  \n",
       "8            Loyalytics Consulting    4-9 Yrs  \n",
       "9       Clairvoyant India Pvt. Ltd    3-6 Yrs  "
      ]
     },
     "execution_count": 13,
     "metadata": {},
     "output_type": "execute_result"
    }
   ],
   "source": [
    "df"
   ]
  },
  {
   "cell_type": "code",
   "execution_count": null,
   "id": "427a5af6",
   "metadata": {},
   "outputs": [],
   "source": []
  },
  {
   "cell_type": "markdown",
   "id": "ea1ad009",
   "metadata": {},
   "source": [
    "Q2. Write a python program to scrape data for “Data Scientist” Job position in “Bangalore” location. You\n",
    "have to scrape the job-title, job-location, company_name. You have to scrape first 10 jobs data.\n",
    "This task will be done in following steps:"
   ]
  },
  {
   "cell_type": "code",
   "execution_count": 14,
   "id": "078c760f",
   "metadata": {},
   "outputs": [],
   "source": [
    "#connect the driver\n",
    "driver = webdriver.Chrome(r'chromedriver.exe')"
   ]
  },
  {
   "cell_type": "code",
   "execution_count": 15,
   "id": "d025832c",
   "metadata": {},
   "outputs": [],
   "source": [
    "#opening the naukri page on automated chrome browser\n",
    "driver.get(\"https://www.naukri.com/\")"
   ]
  },
  {
   "cell_type": "code",
   "execution_count": 16,
   "id": "5a1affd5",
   "metadata": {},
   "outputs": [],
   "source": [
    "designation1 = driver.find_element(By.XPATH,'//input[@class=\"suggestor-input \"]')\n",
    "designation1.send_keys(\"Data Scientist\")"
   ]
  },
  {
   "cell_type": "code",
   "execution_count": 17,
   "id": "b1441e55",
   "metadata": {},
   "outputs": [],
   "source": [
    "location1 = driver.find_element(By.XPATH,'/html/body/div[1]/div[7]/div/div/div[5]/div/div/div/div[1]/div/input')\n",
    "location1.send_keys(\"Bangalore\")"
   ]
  },
  {
   "cell_type": "code",
   "execution_count": 18,
   "id": "2f5a82f8",
   "metadata": {},
   "outputs": [],
   "source": [
    "search1 = driver.find_element(By.XPATH,'/html/body/div[1]/div[7]/div/div/div[6]')\n",
    "search1.click()"
   ]
  },
  {
   "cell_type": "code",
   "execution_count": 19,
   "id": "78c57ebd",
   "metadata": {},
   "outputs": [],
   "source": [
    "job_title1 = []\n",
    "job_location1 = []\n",
    "company_name1 = []"
   ]
  },
  {
   "cell_type": "code",
   "execution_count": 20,
   "id": "782874db",
   "metadata": {},
   "outputs": [],
   "source": [
    "#Scraping job title\n",
    "title_tags = driver.find_elements(By.XPATH,'//a[@class=\"title ellipsis\"]')\n",
    "for i in title_tags[0:10]:\n",
    "    title = i.text\n",
    "    job_title1.append(title)\n",
    "    \n",
    "    \n",
    "    \n",
    "#scraping the job location\n",
    "location_tags = driver.find_elements(By.XPATH,'//span[@class=\"ellipsis fleft locWdth\"]')\n",
    "for i in location_tags[0:10]:\n",
    "    location = i.text\n",
    "    job_location1.append(location)\n",
    "    \n",
    "    \n",
    "#scraping company name\n",
    "company_tags = driver.find_elements(By.XPATH,'//a[@class=\"subTitle ellipsis fleft\"]')\n",
    "for i in company_tags[0:10]:\n",
    "    company = i.text \n",
    "    company_name1.append(company)"
   ]
  },
  {
   "cell_type": "code",
   "execution_count": 21,
   "id": "c8e35858",
   "metadata": {},
   "outputs": [
    {
     "name": "stdout",
     "output_type": "stream",
     "text": [
      "10 10 10\n"
     ]
    }
   ],
   "source": [
    "print(len(job_title1),len(job_location1),len(company_name1))"
   ]
  },
  {
   "cell_type": "code",
   "execution_count": 22,
   "id": "d54868f7",
   "metadata": {},
   "outputs": [],
   "source": [
    "df1 = pd.DataFrame({\"Title\":job_title1,\"Location\":job_location1,\"Company_Name\":company_name1})"
   ]
  },
  {
   "cell_type": "code",
   "execution_count": 23,
   "id": "4b87a331",
   "metadata": {},
   "outputs": [
    {
     "data": {
      "text/html": [
       "<div>\n",
       "<style scoped>\n",
       "    .dataframe tbody tr th:only-of-type {\n",
       "        vertical-align: middle;\n",
       "    }\n",
       "\n",
       "    .dataframe tbody tr th {\n",
       "        vertical-align: top;\n",
       "    }\n",
       "\n",
       "    .dataframe thead th {\n",
       "        text-align: right;\n",
       "    }\n",
       "</style>\n",
       "<table border=\"1\" class=\"dataframe\">\n",
       "  <thead>\n",
       "    <tr style=\"text-align: right;\">\n",
       "      <th></th>\n",
       "      <th>Title</th>\n",
       "      <th>Location</th>\n",
       "      <th>Company_Name</th>\n",
       "    </tr>\n",
       "  </thead>\n",
       "  <tbody>\n",
       "    <tr>\n",
       "      <th>0</th>\n",
       "      <td>Permanent Opportunity - Data Scientist(Snaplog...</td>\n",
       "      <td>Hybrid - Bangalore/Bengaluru, Kolkata, Hyderab...</td>\n",
       "      <td>Deloitte</td>\n",
       "    </tr>\n",
       "    <tr>\n",
       "      <th>1</th>\n",
       "      <td>Analystics &amp; Modeling Specialist</td>\n",
       "      <td>Bangalore/Bengaluru, Kolkata, Mumbai, Hyderaba...</td>\n",
       "      <td>Accenture</td>\n",
       "    </tr>\n",
       "    <tr>\n",
       "      <th>2</th>\n",
       "      <td>Machine Learning (AI) Architect</td>\n",
       "      <td>Bangalore/Bengaluru, Kolkata, Mumbai, New Delh...</td>\n",
       "      <td>Persistent</td>\n",
       "    </tr>\n",
       "    <tr>\n",
       "      <th>3</th>\n",
       "      <td>Data Scientist</td>\n",
       "      <td>Bangalore/Bengaluru</td>\n",
       "      <td>Ericsson</td>\n",
       "    </tr>\n",
       "    <tr>\n",
       "      <th>4</th>\n",
       "      <td>Data Scientist</td>\n",
       "      <td>Bangalore/Bengaluru</td>\n",
       "      <td>Ericsson</td>\n",
       "    </tr>\n",
       "    <tr>\n",
       "      <th>5</th>\n",
       "      <td>Staff Data Scientist</td>\n",
       "      <td>Bangalore/Bengaluru</td>\n",
       "      <td>Walmart</td>\n",
       "    </tr>\n",
       "    <tr>\n",
       "      <th>6</th>\n",
       "      <td>Data Scientist</td>\n",
       "      <td>Bangalore/ Bengaluru, Karnataka</td>\n",
       "      <td>Tata Consultancy Services (TCS)</td>\n",
       "    </tr>\n",
       "    <tr>\n",
       "      <th>7</th>\n",
       "      <td>Senior Data Scientist</td>\n",
       "      <td>Bangalore/Bengaluru</td>\n",
       "      <td>Walmart</td>\n",
       "    </tr>\n",
       "    <tr>\n",
       "      <th>8</th>\n",
       "      <td>Data Scientist</td>\n",
       "      <td>Bangalore/Bengaluru</td>\n",
       "      <td>Walmart</td>\n",
       "    </tr>\n",
       "    <tr>\n",
       "      <th>9</th>\n",
       "      <td>Hiring For Data Scientist</td>\n",
       "      <td>Hybrid - Bangalore/ Bengaluru, Karnataka, Hyde...</td>\n",
       "      <td>Tata Consultancy Services (TCS)</td>\n",
       "    </tr>\n",
       "  </tbody>\n",
       "</table>\n",
       "</div>"
      ],
      "text/plain": [
       "                                               Title  \\\n",
       "0  Permanent Opportunity - Data Scientist(Snaplog...   \n",
       "1                   Analystics & Modeling Specialist   \n",
       "2                    Machine Learning (AI) Architect   \n",
       "3                                     Data Scientist   \n",
       "4                                     Data Scientist   \n",
       "5                               Staff Data Scientist   \n",
       "6                                     Data Scientist   \n",
       "7                              Senior Data Scientist   \n",
       "8                                     Data Scientist   \n",
       "9                          Hiring For Data Scientist   \n",
       "\n",
       "                                            Location  \\\n",
       "0  Hybrid - Bangalore/Bengaluru, Kolkata, Hyderab...   \n",
       "1  Bangalore/Bengaluru, Kolkata, Mumbai, Hyderaba...   \n",
       "2  Bangalore/Bengaluru, Kolkata, Mumbai, New Delh...   \n",
       "3                                Bangalore/Bengaluru   \n",
       "4                                Bangalore/Bengaluru   \n",
       "5                                Bangalore/Bengaluru   \n",
       "6                    Bangalore/ Bengaluru, Karnataka   \n",
       "7                                Bangalore/Bengaluru   \n",
       "8                                Bangalore/Bengaluru   \n",
       "9  Hybrid - Bangalore/ Bengaluru, Karnataka, Hyde...   \n",
       "\n",
       "                      Company_Name  \n",
       "0                         Deloitte  \n",
       "1                        Accenture  \n",
       "2                       Persistent  \n",
       "3                         Ericsson  \n",
       "4                         Ericsson  \n",
       "5                          Walmart  \n",
       "6  Tata Consultancy Services (TCS)  \n",
       "7                          Walmart  \n",
       "8                          Walmart  \n",
       "9  Tata Consultancy Services (TCS)  "
      ]
     },
     "execution_count": 23,
     "metadata": {},
     "output_type": "execute_result"
    }
   ],
   "source": [
    "df1"
   ]
  },
  {
   "cell_type": "code",
   "execution_count": null,
   "id": "1590574f",
   "metadata": {},
   "outputs": [],
   "source": []
  },
  {
   "cell_type": "markdown",
   "id": "69667c6e",
   "metadata": {},
   "source": [
    "Q3. In this question you have to scrape data using the filters available on the webpage"
   ]
  },
  {
   "cell_type": "code",
   "execution_count": 12,
   "id": "d47996bd",
   "metadata": {},
   "outputs": [],
   "source": [
    "#connecting to the driver\n",
    "driver2 = webdriver.Chrome(r'chromedriver.exe')"
   ]
  },
  {
   "cell_type": "code",
   "execution_count": 13,
   "id": "081b8810",
   "metadata": {},
   "outputs": [],
   "source": [
    "#opening the naukri page on automated chrome browser\n",
    "driver2.get(\"https://www.naukri.com/\")"
   ]
  },
  {
   "cell_type": "code",
   "execution_count": 15,
   "id": "55366bf6",
   "metadata": {},
   "outputs": [],
   "source": [
    "designation2 = driver2.find_element(By.XPATH,'//input[@class=\"suggestor-input \"]')\n",
    "designation2.send_keys(\"Data Scientist\")"
   ]
  },
  {
   "cell_type": "code",
   "execution_count": 16,
   "id": "9d73dc13",
   "metadata": {},
   "outputs": [],
   "source": [
    "search2 = driver2.find_element(By.XPATH,'//div[@class=\"qsbSubmit\"]')\n",
    "search2.click()"
   ]
  },
  {
   "cell_type": "code",
   "execution_count": 17,
   "id": "caf990e8",
   "metadata": {},
   "outputs": [],
   "source": [
    "location2 = driver2.find_element(By.XPATH,'/html/body/div[1]/div[4]/div/div/section[1]/div[2]/div[5]/div[2]/div[2]/label/p/span[1]')\n",
    "location2.click()"
   ]
  },
  {
   "cell_type": "code",
   "execution_count": 18,
   "id": "89c6461b",
   "metadata": {},
   "outputs": [],
   "source": [
    "salary2 = driver2.find_element(By.XPATH,'/html/body/div[1]/div[4]/div/div/section[1]/div[2]/div[6]/div[2]/div[2]/label/p/span[1]')\n",
    "salary2.click()"
   ]
  },
  {
   "cell_type": "code",
   "execution_count": 19,
   "id": "c47f46f7",
   "metadata": {},
   "outputs": [],
   "source": [
    "job_title2 = []\n",
    "job_location2 = []\n",
    "company_name2 = []\n",
    "experience_required2 = []"
   ]
  },
  {
   "cell_type": "code",
   "execution_count": 21,
   "id": "8ba8bf8b",
   "metadata": {},
   "outputs": [],
   "source": [
    "#scrapping the job titles \n",
    "title2 = driver2.find_elements(By.XPATH,'//a[@class=\"title ellipsis\"]')\n",
    "for i in title2[0:10]:\n",
    "    titles = i.text\n",
    "    job_title2.append(titles)\n",
    "    \n",
    "#scrapping job locations    \n",
    "loc2 = driver2.find_elements(By.XPATH,'//span[@class=\"ellipsis fleft locWdth\"]')\n",
    "for i in loc2[0:10]:\n",
    "    locs = i.text\n",
    "    job_location2.append(locs)\n",
    "\n",
    "    \n",
    "#scrapping company names\n",
    "comp2 = driver2.find_elements(By.XPATH,'//a[@class=\"subTitle ellipsis fleft\"]')\n",
    "for i in comp2[0:10]:\n",
    "    comps = i.text\n",
    "    company_name2.append(comps)\n",
    "    \n",
    "    \n",
    "#scrapping the requires experience\n",
    "req_exp =  driver2.find_elements(By.XPATH,'//span[@class=\"ellipsis fleft expwdth\"]')\n",
    "for i in req_exp[0:10]:\n",
    "    reqexp = i.text \n",
    "    experience_required2.append(reqexp)\n",
    "    "
   ]
  },
  {
   "cell_type": "code",
   "execution_count": 22,
   "id": "c1c11346",
   "metadata": {},
   "outputs": [
    {
     "name": "stdout",
     "output_type": "stream",
     "text": [
      "10 10 10 10\n"
     ]
    }
   ],
   "source": [
    "print(len(job_title2),len(job_location2),len(company_name2),len(experience_required2))"
   ]
  },
  {
   "cell_type": "code",
   "execution_count": 25,
   "id": "4acfed57",
   "metadata": {},
   "outputs": [],
   "source": [
    "df2 = pd.DataFrame({\"Title\":job_title2,\"Location\":job_location2,\"Company_Name\":company_name2,\"Experience_required\":experience_required2})"
   ]
  },
  {
   "cell_type": "code",
   "execution_count": 26,
   "id": "12241ccd",
   "metadata": {},
   "outputs": [
    {
     "data": {
      "text/html": [
       "<div>\n",
       "<style scoped>\n",
       "    .dataframe tbody tr th:only-of-type {\n",
       "        vertical-align: middle;\n",
       "    }\n",
       "\n",
       "    .dataframe tbody tr th {\n",
       "        vertical-align: top;\n",
       "    }\n",
       "\n",
       "    .dataframe thead th {\n",
       "        text-align: right;\n",
       "    }\n",
       "</style>\n",
       "<table border=\"1\" class=\"dataframe\">\n",
       "  <thead>\n",
       "    <tr style=\"text-align: right;\">\n",
       "      <th></th>\n",
       "      <th>Title</th>\n",
       "      <th>Location</th>\n",
       "      <th>Company_Name</th>\n",
       "      <th>Experience_required</th>\n",
       "    </tr>\n",
       "  </thead>\n",
       "  <tbody>\n",
       "    <tr>\n",
       "      <th>0</th>\n",
       "      <td>Junior Data Scientist</td>\n",
       "      <td>Kolkata, Mumbai, New Delhi, Hyderabad/Secunder...</td>\n",
       "      <td>Analytos</td>\n",
       "      <td>0-2 Yrs</td>\n",
       "    </tr>\n",
       "    <tr>\n",
       "      <th>1</th>\n",
       "      <td>Data Scientist</td>\n",
       "      <td>Gurgaon/Gurugram, Bangalore/Bengaluru</td>\n",
       "      <td>Blackbuck</td>\n",
       "      <td>3-7 Yrs</td>\n",
       "    </tr>\n",
       "    <tr>\n",
       "      <th>2</th>\n",
       "      <td>Data Scientist</td>\n",
       "      <td>Noida</td>\n",
       "      <td>Jubilant Ingrevia Limited</td>\n",
       "      <td>3-8 Yrs</td>\n",
       "    </tr>\n",
       "    <tr>\n",
       "      <th>3</th>\n",
       "      <td>Data Scientist</td>\n",
       "      <td>Kolkata, Mumbai, New Delhi, Hyderabad/Secunder...</td>\n",
       "      <td>Analytos</td>\n",
       "      <td>2-4 Yrs</td>\n",
       "    </tr>\n",
       "    <tr>\n",
       "      <th>4</th>\n",
       "      <td>Python and ML Trainer</td>\n",
       "      <td>Hyderabad/Secunderabad, New Delhi, Pune, Gurga...</td>\n",
       "      <td>Thescholar</td>\n",
       "      <td>3-8 Yrs</td>\n",
       "    </tr>\n",
       "    <tr>\n",
       "      <th>5</th>\n",
       "      <td>Data Scientist</td>\n",
       "      <td>Delhi / NCR</td>\n",
       "      <td>Tata Consultancy Services (TCS)</td>\n",
       "      <td>7-12 Yrs</td>\n",
       "    </tr>\n",
       "    <tr>\n",
       "      <th>6</th>\n",
       "      <td>Intern</td>\n",
       "      <td>Gurgaon/Gurugram</td>\n",
       "      <td>Tower Research Capital</td>\n",
       "      <td>0-1 Yrs</td>\n",
       "    </tr>\n",
       "    <tr>\n",
       "      <th>7</th>\n",
       "      <td>Data Scientist</td>\n",
       "      <td>Noida</td>\n",
       "      <td>Innovaccer</td>\n",
       "      <td>2-4 Yrs</td>\n",
       "    </tr>\n",
       "    <tr>\n",
       "      <th>8</th>\n",
       "      <td>Lead Assistant Manager</td>\n",
       "      <td>Gurgaon/Gurugram</td>\n",
       "      <td>EXL</td>\n",
       "      <td>2-6 Yrs</td>\n",
       "    </tr>\n",
       "    <tr>\n",
       "      <th>9</th>\n",
       "      <td>Junior Data Scientist</td>\n",
       "      <td>Gurgaon/Gurugram, United States (USA), Bulgaria</td>\n",
       "      <td>Adidas</td>\n",
       "      <td>1-6 Yrs</td>\n",
       "    </tr>\n",
       "  </tbody>\n",
       "</table>\n",
       "</div>"
      ],
      "text/plain": [
       "                    Title                                           Location  \\\n",
       "0   Junior Data Scientist  Kolkata, Mumbai, New Delhi, Hyderabad/Secunder...   \n",
       "1          Data Scientist              Gurgaon/Gurugram, Bangalore/Bengaluru   \n",
       "2          Data Scientist                                              Noida   \n",
       "3          Data Scientist  Kolkata, Mumbai, New Delhi, Hyderabad/Secunder...   \n",
       "4   Python and ML Trainer  Hyderabad/Secunderabad, New Delhi, Pune, Gurga...   \n",
       "5          Data Scientist                                        Delhi / NCR   \n",
       "6                  Intern                                   Gurgaon/Gurugram   \n",
       "7          Data Scientist                                              Noida   \n",
       "8  Lead Assistant Manager                                   Gurgaon/Gurugram   \n",
       "9   Junior Data Scientist    Gurgaon/Gurugram, United States (USA), Bulgaria   \n",
       "\n",
       "                      Company_Name Experience_required  \n",
       "0                         Analytos             0-2 Yrs  \n",
       "1                        Blackbuck             3-7 Yrs  \n",
       "2        Jubilant Ingrevia Limited             3-8 Yrs  \n",
       "3                         Analytos             2-4 Yrs  \n",
       "4                       Thescholar             3-8 Yrs  \n",
       "5  Tata Consultancy Services (TCS)            7-12 Yrs  \n",
       "6           Tower Research Capital             0-1 Yrs  \n",
       "7                       Innovaccer             2-4 Yrs  \n",
       "8                              EXL             2-6 Yrs  \n",
       "9                           Adidas             1-6 Yrs  "
      ]
     },
     "execution_count": 26,
     "metadata": {},
     "output_type": "execute_result"
    }
   ],
   "source": [
    "df2"
   ]
  },
  {
   "cell_type": "code",
   "execution_count": null,
   "id": "689b3a1d",
   "metadata": {},
   "outputs": [],
   "source": []
  },
  {
   "cell_type": "markdown",
   "id": "8e34f895",
   "metadata": {},
   "source": [
    "Q4. Scrape data of first 100 sunglasses listings on flipkart.com. You have to scrape four attributes:\n",
    "    \n",
    "    1. Brand\n",
    "    \n",
    "    2. Product Description\n",
    "    \n",
    "    3. Price"
   ]
  },
  {
   "cell_type": "code",
   "execution_count": 2,
   "id": "34ab5143",
   "metadata": {},
   "outputs": [],
   "source": [
    "#connecting to the driver\n",
    "driver3 = webdriver.Chrome(r'chromedriver.exe')"
   ]
  },
  {
   "cell_type": "code",
   "execution_count": 3,
   "id": "d73eee17",
   "metadata": {},
   "outputs": [],
   "source": [
    "#opening the flipkart page on automated chrome browser\n",
    "driver3.get(\"https://www.flipkart.com/\")"
   ]
  },
  {
   "cell_type": "code",
   "execution_count": 4,
   "id": "f8f27afc",
   "metadata": {},
   "outputs": [],
   "source": [
    "cancle = driver3.find_element(By.XPATH,'/html/body/div[2]/div/div/button')\n",
    "cancle.click()"
   ]
  },
  {
   "cell_type": "code",
   "execution_count": 5,
   "id": "c988849b",
   "metadata": {},
   "outputs": [],
   "source": [
    "search3 = driver3.find_element(By.XPATH,'//input[@class=\"_3704LK\"]')\n",
    "search3.send_keys(\"sunglasses\")"
   ]
  },
  {
   "cell_type": "code",
   "execution_count": 6,
   "id": "a9cb705b",
   "metadata": {},
   "outputs": [],
   "source": [
    "icon = driver3.find_element(By.XPATH,'/html/body/div[1]/div/div[1]/div[1]/div[2]/div[2]/form/div/button')\n",
    "icon.click()"
   ]
  },
  {
   "cell_type": "code",
   "execution_count": 7,
   "id": "85f39067",
   "metadata": {},
   "outputs": [],
   "source": [
    "fassured = driver3.find_element(By.XPATH,'//div[@class=\"_24_Dny _3tCU7L\"]')\n",
    "fassured.click()"
   ]
  },
  {
   "cell_type": "code",
   "execution_count": 8,
   "id": "d57c0b0f",
   "metadata": {},
   "outputs": [],
   "source": [
    "brand = []\n",
    "description = []\n",
    "price = []"
   ]
  },
  {
   "cell_type": "code",
   "execution_count": 9,
   "id": "732256c5",
   "metadata": {},
   "outputs": [],
   "source": [
    "start = 0\n",
    "end = 3\n",
    "for page in range(start,end):\n",
    "    brands = driver3.find_elements(By.XPATH,'//div[@class=\"_2WkVRV\"]')\n",
    "    for i in brands[0:100]:\n",
    "        brands = i.text\n",
    "        brand.append(brands)\n",
    "        \n",
    "for page in range(start,end):\n",
    "    desc = driver3.find_elements(By.XPATH,'//a[@class=\"IRpwTa\"]')\n",
    "    for i in desc[0:100]:\n",
    "        descs = i.text\n",
    "        description.append(descs)\n",
    "        \n",
    "        \n",
    "for page in range(start,end):\n",
    "    prices = driver3.find_elements(By.XPATH,'//div[@class=\"_3I9_wc\"]')\n",
    "    for i in prices[0:100]:\n",
    "        pri = i.text\n",
    "        price.append(pri)\n",
    "\n",
    "    \n",
    "    \n",
    "    \n",
    "    \n",
    "next_page = driver3.find_element(By.XPATH,'//a[@class=\"_1LKTO3\"]')\n",
    "next_page.click()\n",
    "time.sleep(4)\n",
    "\n"
   ]
  },
  {
   "cell_type": "markdown",
   "id": "6a778185",
   "metadata": {},
   "source": [
    "df3 = pd.DataFrame({\"Brand\":brand,\"Description\":description,\"Price\":price})\n",
    "df3"
   ]
  },
  {
   "cell_type": "code",
   "execution_count": 10,
   "id": "57843e5a",
   "metadata": {},
   "outputs": [
    {
     "name": "stdout",
     "output_type": "stream",
     "text": [
      "120 120 120\n"
     ]
    }
   ],
   "source": [
    "print(len(brand),len(description),len(price))"
   ]
  },
  {
   "cell_type": "code",
   "execution_count": 11,
   "id": "4809c055",
   "metadata": {},
   "outputs": [
    {
     "data": {
      "text/html": [
       "<div>\n",
       "<style scoped>\n",
       "    .dataframe tbody tr th:only-of-type {\n",
       "        vertical-align: middle;\n",
       "    }\n",
       "\n",
       "    .dataframe tbody tr th {\n",
       "        vertical-align: top;\n",
       "    }\n",
       "\n",
       "    .dataframe thead th {\n",
       "        text-align: right;\n",
       "    }\n",
       "</style>\n",
       "<table border=\"1\" class=\"dataframe\">\n",
       "  <thead>\n",
       "    <tr style=\"text-align: right;\">\n",
       "      <th></th>\n",
       "      <th>Brand</th>\n",
       "      <th>Description</th>\n",
       "      <th>Price</th>\n",
       "    </tr>\n",
       "  </thead>\n",
       "  <tbody>\n",
       "    <tr>\n",
       "      <th>0</th>\n",
       "      <td>VINCENT CHASE</td>\n",
       "      <td>by Lenskart Polarized, UV Protection Retro Squ...</td>\n",
       "      <td>₹1,999</td>\n",
       "    </tr>\n",
       "    <tr>\n",
       "      <th>1</th>\n",
       "      <td>VINCENT CHASE</td>\n",
       "      <td>Polarized, UV Protection Round Sunglasses (51)</td>\n",
       "      <td>₹1,999</td>\n",
       "    </tr>\n",
       "    <tr>\n",
       "      <th>2</th>\n",
       "      <td>SRPM</td>\n",
       "      <td>UV Protection Wayfarer Sunglasses (50)</td>\n",
       "      <td>₹1,299</td>\n",
       "    </tr>\n",
       "    <tr>\n",
       "      <th>3</th>\n",
       "      <td>Elligator</td>\n",
       "      <td>UV Protection Cat-eye, Retro Square, Oval, Rou...</td>\n",
       "      <td>₹599</td>\n",
       "    </tr>\n",
       "    <tr>\n",
       "      <th>4</th>\n",
       "      <td>PIRASO</td>\n",
       "      <td>UV Protection Clubmaster Sunglasses (54)</td>\n",
       "      <td>₹1,599</td>\n",
       "    </tr>\n",
       "    <tr>\n",
       "      <th>...</th>\n",
       "      <td>...</td>\n",
       "      <td>...</td>\n",
       "      <td>...</td>\n",
       "    </tr>\n",
       "    <tr>\n",
       "      <th>115</th>\n",
       "      <td>VINCENT CHASE</td>\n",
       "      <td>UV Protection Round Sunglasses (47)</td>\n",
       "      <td>₹1,999</td>\n",
       "    </tr>\n",
       "    <tr>\n",
       "      <th>116</th>\n",
       "      <td>PIRASO</td>\n",
       "      <td>UV Protection Aviator Sunglasses (58)</td>\n",
       "      <td>₹2,599</td>\n",
       "    </tr>\n",
       "    <tr>\n",
       "      <th>117</th>\n",
       "      <td>Elligator</td>\n",
       "      <td>UV Protection Wayfarer Sunglasses (53)</td>\n",
       "      <td>₹1,299</td>\n",
       "    </tr>\n",
       "    <tr>\n",
       "      <th>118</th>\n",
       "      <td>SUNBEE</td>\n",
       "      <td>UV Protection, Polarized, Mirrored Retro Squar...</td>\n",
       "      <td>₹1,299</td>\n",
       "    </tr>\n",
       "    <tr>\n",
       "      <th>119</th>\n",
       "      <td>RESIST EYEWEAR</td>\n",
       "      <td>Toughened Glass Lens, UV Protection, Riding Gl...</td>\n",
       "      <td>₹5,000</td>\n",
       "    </tr>\n",
       "  </tbody>\n",
       "</table>\n",
       "<p>120 rows × 3 columns</p>\n",
       "</div>"
      ],
      "text/plain": [
       "              Brand                                        Description   Price\n",
       "0     VINCENT CHASE  by Lenskart Polarized, UV Protection Retro Squ...  ₹1,999\n",
       "1     VINCENT CHASE     Polarized, UV Protection Round Sunglasses (51)  ₹1,999\n",
       "2              SRPM             UV Protection Wayfarer Sunglasses (50)  ₹1,299\n",
       "3         Elligator  UV Protection Cat-eye, Retro Square, Oval, Rou...    ₹599\n",
       "4            PIRASO           UV Protection Clubmaster Sunglasses (54)  ₹1,599\n",
       "..              ...                                                ...     ...\n",
       "115   VINCENT CHASE                UV Protection Round Sunglasses (47)  ₹1,999\n",
       "116          PIRASO              UV Protection Aviator Sunglasses (58)  ₹2,599\n",
       "117       Elligator             UV Protection Wayfarer Sunglasses (53)  ₹1,299\n",
       "118          SUNBEE  UV Protection, Polarized, Mirrored Retro Squar...  ₹1,299\n",
       "119  RESIST EYEWEAR  Toughened Glass Lens, UV Protection, Riding Gl...  ₹5,000\n",
       "\n",
       "[120 rows x 3 columns]"
      ]
     },
     "execution_count": 11,
     "metadata": {},
     "output_type": "execute_result"
    }
   ],
   "source": [
    "df3 = pd.DataFrame({\"Brand\":brand,\"Description\":description,\"Price\":price})\n",
    "df3"
   ]
  },
  {
   "cell_type": "code",
   "execution_count": 12,
   "id": "aded817f",
   "metadata": {},
   "outputs": [
    {
     "data": {
      "text/html": [
       "<div>\n",
       "<style scoped>\n",
       "    .dataframe tbody tr th:only-of-type {\n",
       "        vertical-align: middle;\n",
       "    }\n",
       "\n",
       "    .dataframe tbody tr th {\n",
       "        vertical-align: top;\n",
       "    }\n",
       "\n",
       "    .dataframe thead th {\n",
       "        text-align: right;\n",
       "    }\n",
       "</style>\n",
       "<table border=\"1\" class=\"dataframe\">\n",
       "  <thead>\n",
       "    <tr style=\"text-align: right;\">\n",
       "      <th></th>\n",
       "      <th>Brand</th>\n",
       "      <th>Description</th>\n",
       "      <th>Price</th>\n",
       "    </tr>\n",
       "  </thead>\n",
       "  <tbody>\n",
       "    <tr>\n",
       "      <th>0</th>\n",
       "      <td>VINCENT CHASE</td>\n",
       "      <td>by Lenskart Polarized, UV Protection Retro Squ...</td>\n",
       "      <td>₹1,999</td>\n",
       "    </tr>\n",
       "    <tr>\n",
       "      <th>1</th>\n",
       "      <td>VINCENT CHASE</td>\n",
       "      <td>Polarized, UV Protection Round Sunglasses (51)</td>\n",
       "      <td>₹1,999</td>\n",
       "    </tr>\n",
       "    <tr>\n",
       "      <th>2</th>\n",
       "      <td>SRPM</td>\n",
       "      <td>UV Protection Wayfarer Sunglasses (50)</td>\n",
       "      <td>₹1,299</td>\n",
       "    </tr>\n",
       "    <tr>\n",
       "      <th>3</th>\n",
       "      <td>Elligator</td>\n",
       "      <td>UV Protection Cat-eye, Retro Square, Oval, Rou...</td>\n",
       "      <td>₹599</td>\n",
       "    </tr>\n",
       "    <tr>\n",
       "      <th>4</th>\n",
       "      <td>PIRASO</td>\n",
       "      <td>UV Protection Clubmaster Sunglasses (54)</td>\n",
       "      <td>₹1,599</td>\n",
       "    </tr>\n",
       "    <tr>\n",
       "      <th>...</th>\n",
       "      <td>...</td>\n",
       "      <td>...</td>\n",
       "      <td>...</td>\n",
       "    </tr>\n",
       "    <tr>\n",
       "      <th>95</th>\n",
       "      <td>VINCENT CHASE</td>\n",
       "      <td>by Lenskart Polarized, UV Protection Wayfarer ...</td>\n",
       "      <td>₹2,500</td>\n",
       "    </tr>\n",
       "    <tr>\n",
       "      <th>96</th>\n",
       "      <td>PIRASO</td>\n",
       "      <td>UV Protection Over-sized Sunglasses (65)</td>\n",
       "      <td>₹2,599</td>\n",
       "    </tr>\n",
       "    <tr>\n",
       "      <th>97</th>\n",
       "      <td>PIRASO</td>\n",
       "      <td>UV Protection Wayfarer Sunglasses (56)</td>\n",
       "      <td>₹1,599</td>\n",
       "    </tr>\n",
       "    <tr>\n",
       "      <th>98</th>\n",
       "      <td>Fastrack</td>\n",
       "      <td>UV Protection Wayfarer Sunglasses (Free Size)</td>\n",
       "      <td>₹1,099</td>\n",
       "    </tr>\n",
       "    <tr>\n",
       "      <th>99</th>\n",
       "      <td>VINCENT CHASE</td>\n",
       "      <td>Polarized, UV Protection Round Sunglasses (50)</td>\n",
       "      <td>₹1,999</td>\n",
       "    </tr>\n",
       "  </tbody>\n",
       "</table>\n",
       "<p>100 rows × 3 columns</p>\n",
       "</div>"
      ],
      "text/plain": [
       "            Brand                                        Description   Price\n",
       "0   VINCENT CHASE  by Lenskart Polarized, UV Protection Retro Squ...  ₹1,999\n",
       "1   VINCENT CHASE     Polarized, UV Protection Round Sunglasses (51)  ₹1,999\n",
       "2            SRPM             UV Protection Wayfarer Sunglasses (50)  ₹1,299\n",
       "3       Elligator  UV Protection Cat-eye, Retro Square, Oval, Rou...    ₹599\n",
       "4          PIRASO           UV Protection Clubmaster Sunglasses (54)  ₹1,599\n",
       "..            ...                                                ...     ...\n",
       "95  VINCENT CHASE  by Lenskart Polarized, UV Protection Wayfarer ...  ₹2,500\n",
       "96         PIRASO           UV Protection Over-sized Sunglasses (65)  ₹2,599\n",
       "97         PIRASO             UV Protection Wayfarer Sunglasses (56)  ₹1,599\n",
       "98       Fastrack      UV Protection Wayfarer Sunglasses (Free Size)  ₹1,099\n",
       "99  VINCENT CHASE     Polarized, UV Protection Round Sunglasses (50)  ₹1,999\n",
       "\n",
       "[100 rows x 3 columns]"
      ]
     },
     "execution_count": 12,
     "metadata": {},
     "output_type": "execute_result"
    }
   ],
   "source": [
    "df3[0:100]"
   ]
  },
  {
   "cell_type": "code",
   "execution_count": null,
   "id": "9d8c0eaa",
   "metadata": {},
   "outputs": [],
   "source": []
  },
  {
   "cell_type": "markdown",
   "id": "1d2849d5",
   "metadata": {},
   "source": [
    "Q5. Scrape 100 reviews data from flipkart.com for iphone11 phone. You have to go the link:\n",
    "https://www.flipkart.com/apple-iphone-11-black-64-gb/product-reviews/itm4e5041ba101fd?pid=MOBFWQ6BXGJCEYNY&lid=LSTMOBFWQ6BXGJCEYNYZXSHRJ&marketplace=FLIPKART"
   ]
  },
  {
   "cell_type": "code",
   "execution_count": 27,
   "id": "de5d91ee",
   "metadata": {},
   "outputs": [],
   "source": [
    "#connecting to the web driver\n",
    "driver4 = webdriver.Chrome(r'chromedriver.exe')"
   ]
  },
  {
   "cell_type": "code",
   "execution_count": 28,
   "id": "6df0a7df",
   "metadata": {},
   "outputs": [],
   "source": [
    "driver4.get(\" https://www.flipkart.com/apple-iphone-11-black-64-gb/product-reviews/itm4e5041ba101fd?pid=MOBFWQ6BXGJCEYNY&lid=LSTMOBFWQ6BXGJCEYNYZXSHRJ&marketplace=FLIPKART\")"
   ]
  },
  {
   "cell_type": "code",
   "execution_count": 29,
   "id": "337bf8f3",
   "metadata": {},
   "outputs": [],
   "source": [
    "rating = []\n",
    "review = []\n",
    "full_review = []"
   ]
  },
  {
   "cell_type": "code",
   "execution_count": 30,
   "id": "88779fbb",
   "metadata": {},
   "outputs": [],
   "source": [
    "start = 0\n",
    "end = 10\n",
    "for pages in range(start,end):\n",
    "    rate= driver4.find_elements(By.XPATH,'//div[@class=\"_3LWZlK _1BLPMq\"]')\n",
    "    for i in rate:\n",
    "        rts = i.text\n",
    "        rating.append(rts)\n",
    "        \n",
    "        \n",
    "for pages in range(start,end):\n",
    "    rev = driver4.find_elements(By.XPATH,'//p[@class=\"_2-N8zT\"]')\n",
    "    for i in rev:\n",
    "        revs = i.text\n",
    "        review.append(revs)\n",
    "        \n",
    "        \n",
    "for pages in range(start,end):\n",
    "    f_rev = driver4.find_elements(By.XPATH,'//div[@class=\"t-ZTKy\"]')\n",
    "    for i in f_rev:\n",
    "        f_revs = i.text\n",
    "        full_review.append(f_revs)\n",
    "    \n",
    "    \n",
    "    \n",
    "next_button = driver4.find_element(By.XPATH,'/html/body/div/div/div[3]/div/div/div[2]/div[13]/div/div/nav/a[11]')\n",
    "next_button.click()\n",
    "time.sleep(4)\n",
    "    "
   ]
  },
  {
   "cell_type": "code",
   "execution_count": 31,
   "id": "23a0aa94",
   "metadata": {},
   "outputs": [
    {
     "name": "stdout",
     "output_type": "stream",
     "text": [
      "100 100 100\n"
     ]
    }
   ],
   "source": [
    "print(len(rating),len(review),len(full_review))"
   ]
  },
  {
   "cell_type": "code",
   "execution_count": 32,
   "id": "f7f64272",
   "metadata": {},
   "outputs": [],
   "source": [
    "flip = pd.DataFrame({\"Rating\":rating,\"review\":review,\"Full_Review\":full_review})"
   ]
  },
  {
   "cell_type": "code",
   "execution_count": 33,
   "id": "bcb16c1f",
   "metadata": {},
   "outputs": [
    {
     "data": {
      "text/html": [
       "<div>\n",
       "<style scoped>\n",
       "    .dataframe tbody tr th:only-of-type {\n",
       "        vertical-align: middle;\n",
       "    }\n",
       "\n",
       "    .dataframe tbody tr th {\n",
       "        vertical-align: top;\n",
       "    }\n",
       "\n",
       "    .dataframe thead th {\n",
       "        text-align: right;\n",
       "    }\n",
       "</style>\n",
       "<table border=\"1\" class=\"dataframe\">\n",
       "  <thead>\n",
       "    <tr style=\"text-align: right;\">\n",
       "      <th></th>\n",
       "      <th>Rating</th>\n",
       "      <th>review</th>\n",
       "      <th>Full_Review</th>\n",
       "    </tr>\n",
       "  </thead>\n",
       "  <tbody>\n",
       "    <tr>\n",
       "      <th>0</th>\n",
       "      <td>5</td>\n",
       "      <td>Simply awesome</td>\n",
       "      <td>Really satisfied with the Product I received.....</td>\n",
       "    </tr>\n",
       "    <tr>\n",
       "      <th>1</th>\n",
       "      <td>5</td>\n",
       "      <td>Perfect product!</td>\n",
       "      <td>Amazing phone with great cameras and better ba...</td>\n",
       "    </tr>\n",
       "    <tr>\n",
       "      <th>2</th>\n",
       "      <td>5</td>\n",
       "      <td>Best in the market!</td>\n",
       "      <td>Great iPhone very snappy experience as apple k...</td>\n",
       "    </tr>\n",
       "    <tr>\n",
       "      <th>3</th>\n",
       "      <td>4</td>\n",
       "      <td>Value-for-money</td>\n",
       "      <td>I'm Really happy with the product\\nDelivery wa...</td>\n",
       "    </tr>\n",
       "    <tr>\n",
       "      <th>4</th>\n",
       "      <td>5</td>\n",
       "      <td>Highly recommended</td>\n",
       "      <td>It's my first time to use iOS phone and I am l...</td>\n",
       "    </tr>\n",
       "    <tr>\n",
       "      <th>...</th>\n",
       "      <td>...</td>\n",
       "      <td>...</td>\n",
       "      <td>...</td>\n",
       "    </tr>\n",
       "    <tr>\n",
       "      <th>95</th>\n",
       "      <td>5</td>\n",
       "      <td>Worth every penny</td>\n",
       "      <td>Previously I was using one plus 3t it was a gr...</td>\n",
       "    </tr>\n",
       "    <tr>\n",
       "      <th>96</th>\n",
       "      <td>4</td>\n",
       "      <td>Pretty good</td>\n",
       "      <td>I was using Iphone 6s and also Oneplus 6t. Bot...</td>\n",
       "    </tr>\n",
       "    <tr>\n",
       "      <th>97</th>\n",
       "      <td>5</td>\n",
       "      <td>Perfect product!</td>\n",
       "      <td>Value for money\\n5 star rating\\nExcellent came...</td>\n",
       "    </tr>\n",
       "    <tr>\n",
       "      <th>98</th>\n",
       "      <td>5</td>\n",
       "      <td>Highly recommended</td>\n",
       "      <td>What a camera .....just awesome ..you can feel...</td>\n",
       "    </tr>\n",
       "    <tr>\n",
       "      <th>99</th>\n",
       "      <td>5</td>\n",
       "      <td>Great product</td>\n",
       "      <td>Amazing Powerful and Durable Gadget.\\n\\nI’m am...</td>\n",
       "    </tr>\n",
       "  </tbody>\n",
       "</table>\n",
       "<p>100 rows × 3 columns</p>\n",
       "</div>"
      ],
      "text/plain": [
       "   Rating               review  \\\n",
       "0       5       Simply awesome   \n",
       "1       5     Perfect product!   \n",
       "2       5  Best in the market!   \n",
       "3       4      Value-for-money   \n",
       "4       5   Highly recommended   \n",
       "..    ...                  ...   \n",
       "95      5    Worth every penny   \n",
       "96      4          Pretty good   \n",
       "97      5     Perfect product!   \n",
       "98      5   Highly recommended   \n",
       "99      5        Great product   \n",
       "\n",
       "                                          Full_Review  \n",
       "0   Really satisfied with the Product I received.....  \n",
       "1   Amazing phone with great cameras and better ba...  \n",
       "2   Great iPhone very snappy experience as apple k...  \n",
       "3   I'm Really happy with the product\\nDelivery wa...  \n",
       "4   It's my first time to use iOS phone and I am l...  \n",
       "..                                                ...  \n",
       "95  Previously I was using one plus 3t it was a gr...  \n",
       "96  I was using Iphone 6s and also Oneplus 6t. Bot...  \n",
       "97  Value for money\\n5 star rating\\nExcellent came...  \n",
       "98  What a camera .....just awesome ..you can feel...  \n",
       "99  Amazing Powerful and Durable Gadget.\\n\\nI’m am...  \n",
       "\n",
       "[100 rows x 3 columns]"
      ]
     },
     "execution_count": 33,
     "metadata": {},
     "output_type": "execute_result"
    }
   ],
   "source": [
    "flip"
   ]
  },
  {
   "cell_type": "code",
   "execution_count": null,
   "id": "9428cb9d",
   "metadata": {},
   "outputs": [],
   "source": []
  },
  {
   "cell_type": "markdown",
   "id": "c05f3be8",
   "metadata": {},
   "source": [
    "Q6. Scrape data for first 100 sneakers you find when you visit flipkart.com and search for “sneakers” in thesearch field.\n",
    "You have to scrape 3 attributes of each sneaker:\n",
    "    \n",
    "    1. Brand\n",
    "    \n",
    "    2. Product Description\n",
    "    \n",
    "    3. Price"
   ]
  },
  {
   "cell_type": "code",
   "execution_count": 45,
   "id": "bd9e6e28",
   "metadata": {},
   "outputs": [],
   "source": [
    "driver5 = webdriver.Chrome(r'chromedriver.exe')"
   ]
  },
  {
   "cell_type": "code",
   "execution_count": 46,
   "id": "c5ad23a7",
   "metadata": {},
   "outputs": [],
   "source": [
    "driver5.get(\"https://www.flipkart.com/\")"
   ]
  },
  {
   "cell_type": "code",
   "execution_count": 47,
   "id": "095384e1",
   "metadata": {},
   "outputs": [],
   "source": [
    "#closeing the login window\n",
    "close = driver5.find_element(By.XPATH,'/html/body/div[2]/div/div/button')\n",
    "close.click()"
   ]
  },
  {
   "cell_type": "code",
   "execution_count": 48,
   "id": "5b9aef8a",
   "metadata": {},
   "outputs": [],
   "source": [
    "search5 =  driver5.find_element(By.XPATH,'//input[@class=\"_3704LK\"]')\n",
    "search5.send_keys(\"sneackers\")"
   ]
  },
  {
   "cell_type": "code",
   "execution_count": 49,
   "id": "b419df5d",
   "metadata": {},
   "outputs": [],
   "source": [
    "fnd = driver5.find_element(By.XPATH,'/html/body/div[1]/div/div[1]/div[1]/div[2]/div[2]/form/div/button')\n",
    "fnd.click()"
   ]
  },
  {
   "cell_type": "code",
   "execution_count": 50,
   "id": "7aa881b1",
   "metadata": {},
   "outputs": [],
   "source": [
    "fas =  driver5.find_element(By.XPATH,'/html/body/div[1]/div/div[3]/div[1]/div[1]/div/div/div/section[3]/label/div[1]')\n",
    "fas.click()"
   ]
  },
  {
   "cell_type": "code",
   "execution_count": 51,
   "id": "8f065096",
   "metadata": {},
   "outputs": [],
   "source": [
    "sbrand = []\n",
    "dop = []\n",
    "price_1 = []"
   ]
  },
  {
   "cell_type": "code",
   "execution_count": 52,
   "id": "2cc555bd",
   "metadata": {},
   "outputs": [],
   "source": [
    "start = 0\n",
    "end = 3\n",
    "for pages in range(start,end):\n",
    "    sb = driver5.find_elements(By.XPATH,'//div[@class=\"_2WkVRV\"]')\n",
    "    for i in sb:\n",
    "        sbrands =  i.text\n",
    "        sbrand.append(sbrands)\n",
    "        \n",
    "        \n",
    "for pages in range(start,end):\n",
    "    product = driver5.find_elements(By.XPATH,'//a[@class=\"IRpwTa\"]')\n",
    "    for i in product:\n",
    "        prd =  i.text\n",
    "        dop.append(prd)\n",
    "        \n",
    "        \n",
    "        \n",
    "for pages in range(start,end):\n",
    "    pr = driver5.find_elements(By.XPATH,'//div[@class=\"_30jeq3\"]')\n",
    "    for i in pr:\n",
    "        prs =  i.text\n",
    "        price_1.append(prs)\n",
    "        \n",
    "        \n",
    "        \n",
    "nxt = driver5.find_element(By.XPATH,'/html/body/div[1]/div/div[3]/div/div[2]/div[12]/div/div/nav/a[11]')\n",
    "nxt.click()\n",
    "time.sleep(4)"
   ]
  },
  {
   "cell_type": "code",
   "execution_count": 53,
   "id": "c8184f54",
   "metadata": {},
   "outputs": [
    {
     "name": "stdout",
     "output_type": "stream",
     "text": [
      "120 120 120\n"
     ]
    }
   ],
   "source": [
    "print(len(sbrand),len(dop),len(price_1))"
   ]
  },
  {
   "cell_type": "code",
   "execution_count": 54,
   "id": "9a435f0b",
   "metadata": {},
   "outputs": [],
   "source": [
    "sneackers = pd.DataFrame({\"Brand_Name\":sbrand,\"Product Description\":dop,\"Price\":price_1})"
   ]
  },
  {
   "cell_type": "code",
   "execution_count": 56,
   "id": "49b7b061",
   "metadata": {},
   "outputs": [
    {
     "data": {
      "text/html": [
       "<div>\n",
       "<style scoped>\n",
       "    .dataframe tbody tr th:only-of-type {\n",
       "        vertical-align: middle;\n",
       "    }\n",
       "\n",
       "    .dataframe tbody tr th {\n",
       "        vertical-align: top;\n",
       "    }\n",
       "\n",
       "    .dataframe thead th {\n",
       "        text-align: right;\n",
       "    }\n",
       "</style>\n",
       "<table border=\"1\" class=\"dataframe\">\n",
       "  <thead>\n",
       "    <tr style=\"text-align: right;\">\n",
       "      <th></th>\n",
       "      <th>Brand_Name</th>\n",
       "      <th>Product Description</th>\n",
       "      <th>Price</th>\n",
       "    </tr>\n",
       "  </thead>\n",
       "  <tbody>\n",
       "    <tr>\n",
       "      <th>0</th>\n",
       "      <td>aadi</td>\n",
       "      <td>Synthetic Leather |Lightweight|Comfort|Summer|...</td>\n",
       "      <td>₹249</td>\n",
       "    </tr>\n",
       "    <tr>\n",
       "      <th>1</th>\n",
       "      <td>World Wear Footwear</td>\n",
       "      <td>Latest Exclusive Affordable Collection of Tren...</td>\n",
       "      <td>₹279</td>\n",
       "    </tr>\n",
       "    <tr>\n",
       "      <th>2</th>\n",
       "      <td>aadi</td>\n",
       "      <td>Sneakers For Men</td>\n",
       "      <td>₹349</td>\n",
       "    </tr>\n",
       "    <tr>\n",
       "      <th>3</th>\n",
       "      <td>SFR</td>\n",
       "      <td>2006 Trenddy Fashion Sporty Casuals Sneakers R...</td>\n",
       "      <td>₹249</td>\n",
       "    </tr>\n",
       "    <tr>\n",
       "      <th>4</th>\n",
       "      <td>World Wear Footwear</td>\n",
       "      <td>Latest Exclusive Affordable Collection of Tren...</td>\n",
       "      <td>₹399</td>\n",
       "    </tr>\n",
       "    <tr>\n",
       "      <th>...</th>\n",
       "      <td>...</td>\n",
       "      <td>...</td>\n",
       "      <td>...</td>\n",
       "    </tr>\n",
       "    <tr>\n",
       "      <th>95</th>\n",
       "      <td>aadi</td>\n",
       "      <td>Lightweight,Comfort,Summer,Trendy,Walking,Outd...</td>\n",
       "      <td>₹249</td>\n",
       "    </tr>\n",
       "    <tr>\n",
       "      <th>96</th>\n",
       "      <td>Lee Won</td>\n",
       "      <td>Sneakers For Men</td>\n",
       "      <td>₹249</td>\n",
       "    </tr>\n",
       "    <tr>\n",
       "      <th>97</th>\n",
       "      <td>BRUTON</td>\n",
       "      <td>2 Combo Sneaker Shoes Sneakers For Men</td>\n",
       "      <td>₹399</td>\n",
       "    </tr>\n",
       "    <tr>\n",
       "      <th>98</th>\n",
       "      <td>Kraasa</td>\n",
       "      <td>Sneakers For Women</td>\n",
       "      <td>₹299</td>\n",
       "    </tr>\n",
       "    <tr>\n",
       "      <th>99</th>\n",
       "      <td>aadi</td>\n",
       "      <td>Lightweight,Comfort,Summer,Trendy,Walking,Outd...</td>\n",
       "      <td>₹299</td>\n",
       "    </tr>\n",
       "  </tbody>\n",
       "</table>\n",
       "<p>100 rows × 3 columns</p>\n",
       "</div>"
      ],
      "text/plain": [
       "             Brand_Name                                Product Description  \\\n",
       "0                  aadi  Synthetic Leather |Lightweight|Comfort|Summer|...   \n",
       "1   World Wear Footwear  Latest Exclusive Affordable Collection of Tren...   \n",
       "2                  aadi                                   Sneakers For Men   \n",
       "3                   SFR  2006 Trenddy Fashion Sporty Casuals Sneakers R...   \n",
       "4   World Wear Footwear  Latest Exclusive Affordable Collection of Tren...   \n",
       "..                  ...                                                ...   \n",
       "95                 aadi  Lightweight,Comfort,Summer,Trendy,Walking,Outd...   \n",
       "96              Lee Won                                   Sneakers For Men   \n",
       "97               BRUTON             2 Combo Sneaker Shoes Sneakers For Men   \n",
       "98               Kraasa                                 Sneakers For Women   \n",
       "99                 aadi  Lightweight,Comfort,Summer,Trendy,Walking,Outd...   \n",
       "\n",
       "   Price  \n",
       "0   ₹249  \n",
       "1   ₹279  \n",
       "2   ₹349  \n",
       "3   ₹249  \n",
       "4   ₹399  \n",
       "..   ...  \n",
       "95  ₹249  \n",
       "96  ₹249  \n",
       "97  ₹399  \n",
       "98  ₹299  \n",
       "99  ₹299  \n",
       "\n",
       "[100 rows x 3 columns]"
      ]
     },
     "execution_count": 56,
     "metadata": {},
     "output_type": "execute_result"
    }
   ],
   "source": [
    "sneackers[0:100]"
   ]
  },
  {
   "cell_type": "code",
   "execution_count": null,
   "id": "1c5528f6",
   "metadata": {},
   "outputs": [],
   "source": []
  },
  {
   "cell_type": "markdown",
   "id": "a41d904d",
   "metadata": {},
   "source": [
    "Q7. Go to webpage \n",
    "\n",
    "https://www.amazon.in/ \n",
    "Enter “Laptop” in the search field and then click the search icon. Thenset CPU Type filter to “Intel Core i7” "
   ]
  },
  {
   "cell_type": "code",
   "execution_count": 2,
   "id": "1e3ddf8d",
   "metadata": {},
   "outputs": [],
   "source": [
    "driver6 = webdriver.Chrome(r'chromedriver.exe')"
   ]
  },
  {
   "cell_type": "code",
   "execution_count": 3,
   "id": "a34e0341",
   "metadata": {},
   "outputs": [],
   "source": [
    "driver6.get('https://www.amazon.in/')"
   ]
  },
  {
   "cell_type": "code",
   "execution_count": 4,
   "id": "9cb74872",
   "metadata": {},
   "outputs": [],
   "source": [
    "search6 = driver6.find_element(By.XPATH,'//input[@class=\"nav-input nav-progressive-attribute\"]')\n",
    "search6.send_keys('Laptop')"
   ]
  },
  {
   "cell_type": "code",
   "execution_count": 5,
   "id": "8c098b3c",
   "metadata": {},
   "outputs": [],
   "source": [
    "srch = driver6.find_element(By.XPATH,'/html/body/div[1]/header/div/div[1]/div[2]/div/form/div[3]/div/span/input')\n",
    "srch.click()"
   ]
  },
  {
   "cell_type": "code",
   "execution_count": 6,
   "id": "ef51b25e",
   "metadata": {},
   "outputs": [],
   "source": [
    "cpu = driver6.find_element(By.XPATH,'/html/body/div[1]/div[2]/div[1]/div[2]/div/div[3]/span/div[1]/div/div/div[6]/ul[6]/span[13]/li/span/a/div/label/i')\n",
    "cpu.click()"
   ]
  },
  {
   "cell_type": "code",
   "execution_count": 7,
   "id": "b92e63bc",
   "metadata": {},
   "outputs": [],
   "source": [
    "title_name = []\n",
    "rating6 = []\n",
    "price6 = []"
   ]
  },
  {
   "cell_type": "code",
   "execution_count": 8,
   "id": "c3cb1813",
   "metadata": {},
   "outputs": [],
   "source": [
    "titles6 = driver6.find_elements(By.XPATH,'//h2[@class=\"a-size-mini a-spacing-none a-color-base s-line-clamp-2\"]')\n",
    "for i in titles6[0:10]:\n",
    "    t6 = i.text\n",
    "    title_name.append(t6)"
   ]
  },
  {
   "cell_type": "code",
   "execution_count": 10,
   "id": "58fcb01b",
   "metadata": {},
   "outputs": [],
   "source": [
    "rate = driver6.find_elements(By.XPATH,'//div[@class=\"a-row a-size-small\"]')\n",
    "for i in rate[0:10]:\n",
    "    rt = i.text\n",
    "    rating6.append(rt)"
   ]
  },
  {
   "cell_type": "code",
   "execution_count": 12,
   "id": "18956694",
   "metadata": {},
   "outputs": [],
   "source": [
    "rs = driver6.find_elements(By.XPATH,'//span[@class=\"a-price-whole\"]')\n",
    "for i in rs[0:10]:\n",
    "    prices = i.text\n",
    "    price6.append(prices)"
   ]
  },
  {
   "cell_type": "code",
   "execution_count": 13,
   "id": "f1fe1bb4",
   "metadata": {},
   "outputs": [
    {
     "name": "stdout",
     "output_type": "stream",
     "text": [
      "10 10 10\n"
     ]
    }
   ],
   "source": [
    "print(len(title_name),len(rating6),len(price6))"
   ]
  },
  {
   "cell_type": "code",
   "execution_count": 14,
   "id": "57238b39",
   "metadata": {},
   "outputs": [],
   "source": [
    "laptop = pd.DataFrame({\"Title\":title_name,\"Ratings\":rating6,\"Price\":price6})"
   ]
  },
  {
   "cell_type": "code",
   "execution_count": 15,
   "id": "56cefbb5",
   "metadata": {},
   "outputs": [
    {
     "data": {
      "text/html": [
       "<div>\n",
       "<style scoped>\n",
       "    .dataframe tbody tr th:only-of-type {\n",
       "        vertical-align: middle;\n",
       "    }\n",
       "\n",
       "    .dataframe tbody tr th {\n",
       "        vertical-align: top;\n",
       "    }\n",
       "\n",
       "    .dataframe thead th {\n",
       "        text-align: right;\n",
       "    }\n",
       "</style>\n",
       "<table border=\"1\" class=\"dataframe\">\n",
       "  <thead>\n",
       "    <tr style=\"text-align: right;\">\n",
       "      <th></th>\n",
       "      <th>Title</th>\n",
       "      <th>Ratings</th>\n",
       "      <th>Price</th>\n",
       "    </tr>\n",
       "  </thead>\n",
       "  <tbody>\n",
       "    <tr>\n",
       "      <th>0</th>\n",
       "      <td>Lenovo ThinkPad E14 Intel Core i7 12th Gen 14\"...</td>\n",
       "      <td>18</td>\n",
       "      <td>98,990</td>\n",
       "    </tr>\n",
       "    <tr>\n",
       "      <th>1</th>\n",
       "      <td>ASUS TUF Gaming F15 (2023) 90WHr Battery, Inte...</td>\n",
       "      <td>3</td>\n",
       "      <td>1,15,990</td>\n",
       "    </tr>\n",
       "    <tr>\n",
       "      <th>2</th>\n",
       "      <td>Acer Predator Helios Neo 16 Gaming Laptop 13th...</td>\n",
       "      <td>6</td>\n",
       "      <td>1,29,990</td>\n",
       "    </tr>\n",
       "    <tr>\n",
       "      <th>3</th>\n",
       "      <td>HP Victus Gaming Latest 12th Gen Intel Core i7...</td>\n",
       "      <td>326</td>\n",
       "      <td>90,990</td>\n",
       "    </tr>\n",
       "    <tr>\n",
       "      <th>4</th>\n",
       "      <td>Acer Predator Helios Neo 16 Gaming Laptop 13th...</td>\n",
       "      <td>1</td>\n",
       "      <td>1,49,990</td>\n",
       "    </tr>\n",
       "    <tr>\n",
       "      <th>5</th>\n",
       "      <td>HP Pavilion 14 12th Gen Intel Core i7 16GB SDR...</td>\n",
       "      <td>492</td>\n",
       "      <td>84,999</td>\n",
       "    </tr>\n",
       "    <tr>\n",
       "      <th>6</th>\n",
       "      <td>HP Pavilion Plus, 12th Gen Intel Core i7 16GB ...</td>\n",
       "      <td>163</td>\n",
       "      <td>93,990</td>\n",
       "    </tr>\n",
       "    <tr>\n",
       "      <th>7</th>\n",
       "      <td>Lenovo IdeaPad Slim 5 Intel Core i7 12th Gen 1...</td>\n",
       "      <td>67</td>\n",
       "      <td>79,990</td>\n",
       "    </tr>\n",
       "    <tr>\n",
       "      <th>8</th>\n",
       "      <td>ASUS Vivobook S15 OLED 2022, 15.6\" 39.62 cms F...</td>\n",
       "      <td>17</td>\n",
       "      <td>84,990</td>\n",
       "    </tr>\n",
       "    <tr>\n",
       "      <th>9</th>\n",
       "      <td>ASUS TUF Gaming F15 (2022), 15.6\"(39.62 cms) F...</td>\n",
       "      <td>80</td>\n",
       "      <td>93,990</td>\n",
       "    </tr>\n",
       "  </tbody>\n",
       "</table>\n",
       "</div>"
      ],
      "text/plain": [
       "                                               Title Ratings     Price\n",
       "0  Lenovo ThinkPad E14 Intel Core i7 12th Gen 14\"...      18    98,990\n",
       "1  ASUS TUF Gaming F15 (2023) 90WHr Battery, Inte...       3  1,15,990\n",
       "2  Acer Predator Helios Neo 16 Gaming Laptop 13th...       6  1,29,990\n",
       "3  HP Victus Gaming Latest 12th Gen Intel Core i7...     326    90,990\n",
       "4  Acer Predator Helios Neo 16 Gaming Laptop 13th...       1  1,49,990\n",
       "5  HP Pavilion 14 12th Gen Intel Core i7 16GB SDR...     492    84,999\n",
       "6  HP Pavilion Plus, 12th Gen Intel Core i7 16GB ...     163    93,990\n",
       "7  Lenovo IdeaPad Slim 5 Intel Core i7 12th Gen 1...      67    79,990\n",
       "8  ASUS Vivobook S15 OLED 2022, 15.6\" 39.62 cms F...      17    84,990\n",
       "9  ASUS TUF Gaming F15 (2022), 15.6\"(39.62 cms) F...      80    93,990"
      ]
     },
     "execution_count": 15,
     "metadata": {},
     "output_type": "execute_result"
    }
   ],
   "source": [
    "laptop"
   ]
  },
  {
   "cell_type": "code",
   "execution_count": null,
   "id": "1c08df5d",
   "metadata": {},
   "outputs": [],
   "source": []
  },
  {
   "cell_type": "markdown",
   "id": "1f27dc0c",
   "metadata": {},
   "source": [
    "Q8.  Write a python program to scrape data for Top 1000 Quotes of All Time.\n",
    "The above task will be done in following steps:\n",
    "1. First get the webpage  https://www.azquotes.com/\n",
    "2. Click on Top Quote\n",
    "3. Than scrap a) Quote b) Author c) Type Of Quotes"
   ]
  },
  {
   "cell_type": "code",
   "execution_count": 16,
   "id": "5974d142",
   "metadata": {},
   "outputs": [],
   "source": [
    "dr = webdriver.Chrome(r'chromedriver.exe')"
   ]
  },
  {
   "cell_type": "code",
   "execution_count": 17,
   "id": "e7eec337",
   "metadata": {},
   "outputs": [],
   "source": [
    "dr.get('https://www.azquotes.com/')"
   ]
  },
  {
   "cell_type": "code",
   "execution_count": 19,
   "id": "f2702ce1",
   "metadata": {},
   "outputs": [],
   "source": [
    "top_qt = dr.find_element(By.XPATH,'/html/body/div[1]/div[1]/div[1]/div/div[3]/ul/li[5]/a')\n",
    "top_qt.click()"
   ]
  },
  {
   "cell_type": "code",
   "execution_count": 20,
   "id": "a99cc3ab",
   "metadata": {},
   "outputs": [],
   "source": [
    "quote = []\n",
    "author = []\n",
    "type_of_qt = []"
   ]
  },
  {
   "cell_type": "code",
   "execution_count": 23,
   "id": "69d81b2e",
   "metadata": {},
   "outputs": [],
   "source": [
    "start = 0\n",
    "end = 10\n",
    "for page in range(start,end):\n",
    "    qt = dr.find_elements(By.XPATH,'//a[@class=\"title\"]')\n",
    "    for i in qt:\n",
    "        qts = i.text\n",
    "        quote.append(qts)\n",
    "        \n",
    "        \n",
    "for page in range(start,end):\n",
    "    at = dr.find_elements(By.XPATH,'//div[@class=\"author\"]')\n",
    "    for i in at:\n",
    "        ats = i.text\n",
    "        author.append(ats)\n",
    "        \n",
    "        \n",
    "        \n",
    "for page in range(start,end):\n",
    "    toq = dr.find_elements(By.XPATH,'//div[@class=\"tags\"]')\n",
    "    for i in toq:\n",
    "        toqs = i.text\n",
    "        type_of_qt.append(toqs)\n",
    "        \n",
    "        \n",
    "nxt_pg = dr.find_element(By.XPATH,'//li[@class=\"next\"]')\n",
    "nxt_pg.click()\n",
    "time.sleep(4)"
   ]
  },
  {
   "cell_type": "code",
   "execution_count": 24,
   "id": "ac66507a",
   "metadata": {},
   "outputs": [
    {
     "name": "stdout",
     "output_type": "stream",
     "text": [
      "1000 1000 1000\n"
     ]
    }
   ],
   "source": [
    "print(len(quote),len(author),len(type_of_qt))"
   ]
  },
  {
   "cell_type": "code",
   "execution_count": 25,
   "id": "2a01f861",
   "metadata": {},
   "outputs": [],
   "source": [
    "quotes_ds = pd.DataFrame({\"Quote\":quote,\"Auther\":author,\"type_of_Quote\":type_of_qt})"
   ]
  },
  {
   "cell_type": "code",
   "execution_count": 26,
   "id": "cae4b149",
   "metadata": {},
   "outputs": [
    {
     "data": {
      "text/html": [
       "<div>\n",
       "<style scoped>\n",
       "    .dataframe tbody tr th:only-of-type {\n",
       "        vertical-align: middle;\n",
       "    }\n",
       "\n",
       "    .dataframe tbody tr th {\n",
       "        vertical-align: top;\n",
       "    }\n",
       "\n",
       "    .dataframe thead th {\n",
       "        text-align: right;\n",
       "    }\n",
       "</style>\n",
       "<table border=\"1\" class=\"dataframe\">\n",
       "  <thead>\n",
       "    <tr style=\"text-align: right;\">\n",
       "      <th></th>\n",
       "      <th>Quote</th>\n",
       "      <th>Auther</th>\n",
       "      <th>type_of_Quote</th>\n",
       "    </tr>\n",
       "  </thead>\n",
       "  <tbody>\n",
       "    <tr>\n",
       "      <th>0</th>\n",
       "      <td>The essence of strategy is choosing what not t...</td>\n",
       "      <td>Michael Porter</td>\n",
       "      <td>Essence, Deep Thought, Transcendentalism</td>\n",
       "    </tr>\n",
       "    <tr>\n",
       "      <th>1</th>\n",
       "      <td>One cannot and must not try to erase the past ...</td>\n",
       "      <td>Golda Meir</td>\n",
       "      <td>Inspiration, Past, Trying</td>\n",
       "    </tr>\n",
       "    <tr>\n",
       "      <th>2</th>\n",
       "      <td>Patriotism means to stand by the country. It d...</td>\n",
       "      <td>Theodore Roosevelt</td>\n",
       "      <td>Country, Peace, War</td>\n",
       "    </tr>\n",
       "    <tr>\n",
       "      <th>3</th>\n",
       "      <td>Death is something inevitable. When a man has ...</td>\n",
       "      <td>Nelson Mandela</td>\n",
       "      <td>Inspirational, Motivational, Death</td>\n",
       "    </tr>\n",
       "    <tr>\n",
       "      <th>4</th>\n",
       "      <td>You have to love a nation that celebrates its ...</td>\n",
       "      <td>Erma Bombeck</td>\n",
       "      <td>4th Of July, Food, Patriotic</td>\n",
       "    </tr>\n",
       "    <tr>\n",
       "      <th>...</th>\n",
       "      <td>...</td>\n",
       "      <td>...</td>\n",
       "      <td>...</td>\n",
       "    </tr>\n",
       "    <tr>\n",
       "      <th>995</th>\n",
       "      <td>When the going gets weird, the weird turn pro.</td>\n",
       "      <td>Hunter S. Thompson</td>\n",
       "      <td>Music, Sports, Hunting</td>\n",
       "    </tr>\n",
       "    <tr>\n",
       "      <th>996</th>\n",
       "      <td>When a train goes through a tunnel and it gets...</td>\n",
       "      <td>Corrie Ten Boom</td>\n",
       "      <td>Trust, Encouraging, Uplifting</td>\n",
       "    </tr>\n",
       "    <tr>\n",
       "      <th>997</th>\n",
       "      <td>If you think you are too small to make a diffe...</td>\n",
       "      <td>Dalai Lama</td>\n",
       "      <td>Inspirational, Funny, Change</td>\n",
       "    </tr>\n",
       "    <tr>\n",
       "      <th>998</th>\n",
       "      <td>God doesn't require us to succeed, he only req...</td>\n",
       "      <td>Mother Teresa</td>\n",
       "      <td>Success, God, Mother</td>\n",
       "    </tr>\n",
       "    <tr>\n",
       "      <th>999</th>\n",
       "      <td>Change your thoughts and you change your world.</td>\n",
       "      <td>Norman Vincent Peale</td>\n",
       "      <td>Inspirational, Motivational, Change</td>\n",
       "    </tr>\n",
       "  </tbody>\n",
       "</table>\n",
       "<p>1000 rows × 3 columns</p>\n",
       "</div>"
      ],
      "text/plain": [
       "                                                 Quote                Auther  \\\n",
       "0    The essence of strategy is choosing what not t...        Michael Porter   \n",
       "1    One cannot and must not try to erase the past ...            Golda Meir   \n",
       "2    Patriotism means to stand by the country. It d...    Theodore Roosevelt   \n",
       "3    Death is something inevitable. When a man has ...        Nelson Mandela   \n",
       "4    You have to love a nation that celebrates its ...          Erma Bombeck   \n",
       "..                                                 ...                   ...   \n",
       "995     When the going gets weird, the weird turn pro.    Hunter S. Thompson   \n",
       "996  When a train goes through a tunnel and it gets...       Corrie Ten Boom   \n",
       "997  If you think you are too small to make a diffe...            Dalai Lama   \n",
       "998  God doesn't require us to succeed, he only req...         Mother Teresa   \n",
       "999    Change your thoughts and you change your world.  Norman Vincent Peale   \n",
       "\n",
       "                                type_of_Quote  \n",
       "0    Essence, Deep Thought, Transcendentalism  \n",
       "1                   Inspiration, Past, Trying  \n",
       "2                         Country, Peace, War  \n",
       "3          Inspirational, Motivational, Death  \n",
       "4                4th Of July, Food, Patriotic  \n",
       "..                                        ...  \n",
       "995                    Music, Sports, Hunting  \n",
       "996             Trust, Encouraging, Uplifting  \n",
       "997              Inspirational, Funny, Change  \n",
       "998                      Success, God, Mother  \n",
       "999       Inspirational, Motivational, Change  \n",
       "\n",
       "[1000 rows x 3 columns]"
      ]
     },
     "execution_count": 26,
     "metadata": {},
     "output_type": "execute_result"
    }
   ],
   "source": [
    "quotes_ds"
   ]
  },
  {
   "cell_type": "code",
   "execution_count": null,
   "id": "13fcf4f0",
   "metadata": {},
   "outputs": [],
   "source": []
  },
  {
   "cell_type": "markdown",
   "id": "fa5952cb",
   "metadata": {},
   "source": [
    " Q9. Write a python program to display list of respected former Prime Ministers of India(i.e. Name, Born-Dead,Term of office, Remarks) from https://www.jagranjosh.com/."
   ]
  },
  {
   "cell_type": "code",
   "execution_count": 17,
   "id": "bc3f568d",
   "metadata": {},
   "outputs": [],
   "source": [
    "dri = webdriver.Chrome(r'chromedriver.exe')"
   ]
  },
  {
   "cell_type": "code",
   "execution_count": 18,
   "id": "61a8132d",
   "metadata": {},
   "outputs": [],
   "source": [
    "dri.get('https://www.jagranjosh.com/')"
   ]
  },
  {
   "cell_type": "code",
   "execution_count": 19,
   "id": "beee2a7f",
   "metadata": {},
   "outputs": [],
   "source": [
    "gk = dri.find_element(By.XPATH,'/html/body/div[1]/div[1]/div/div[1]/div/div[5]/div/div[1]/header/div[3]/ul/li[3]')\n",
    "gk.click()"
   ]
  },
  {
   "cell_type": "code",
   "execution_count": 21,
   "id": "fceaf3fe",
   "metadata": {},
   "outputs": [],
   "source": [
    "list_fpm = dri.find_element(By.XPATH,'/html/body/div[1]/div/div/div[2]/div/div[10]/div/div/ul/li[2]/a')\n",
    "list_fpm.click()"
   ]
  },
  {
   "cell_type": "code",
   "execution_count": 22,
   "id": "31dd3566",
   "metadata": {},
   "outputs": [],
   "source": [
    "name = []\n",
    "period = []\n",
    "term_of_office = []\n",
    "remarks = []"
   ]
  },
  {
   "cell_type": "code",
   "execution_count": 7,
   "id": "62006574",
   "metadata": {},
   "outputs": [],
   "source": [
    "#scraping name \n",
    "names = dri.find_elements(By.XPATH,'//div[@class=\"table-box\"]/table/tbody/tr/td[2]/p')\n",
    "for i in names:\n",
    "    pm = i.text\n",
    "    name.append(pm)\n",
    "\n",
    "\n",
    "\n",
    "#scrping Born-Dead\n",
    "prd = dri.find_elements(By.XPATH,'//div[@class=\"table-box\"]/table/tbody/tr/td[3]/p')\n",
    "for i in prd:\n",
    "    prds = i.text\n",
    "    period.append(prds)\n",
    "    \n",
    "    \n",
    "#scraping term_of_office    \n",
    "term = dri.find_elements(By.XPATH,'//div[@class=\"table-box\"]/table/tbody/tr/td[4]/p[1]')\n",
    "for i in term:\n",
    "    trm = i.text\n",
    "    term_of_office.append(trm)\n",
    "    \n",
    "\n",
    "#scraping remarks\n",
    "remark = dri.find_elements(By.XPATH,'//div[@class=\"table-box\"]/table/tbody/tr/td[5]/p')\n",
    "for i in remark:\n",
    "    rm = i.text \n",
    "    remarks.append(rm)\n",
    "    "
   ]
  },
  {
   "cell_type": "code",
   "execution_count": 8,
   "id": "bfe7229d",
   "metadata": {},
   "outputs": [
    {
     "name": "stdout",
     "output_type": "stream",
     "text": [
      "19 19 19 19\n"
     ]
    }
   ],
   "source": [
    "print(len(name),len(period),len(term_of_office),len(remarks))"
   ]
  },
  {
   "cell_type": "code",
   "execution_count": 9,
   "id": "ab7df12c",
   "metadata": {},
   "outputs": [],
   "source": [
    "pm_data = pd.DataFrame({\"Name\":name,\"Born-Dead\":period,\"Term of office\":term_of_office,\"Remarks\":remarks})"
   ]
  },
  {
   "cell_type": "code",
   "execution_count": 10,
   "id": "a941f674",
   "metadata": {},
   "outputs": [
    {
     "data": {
      "text/html": [
       "<div>\n",
       "<style scoped>\n",
       "    .dataframe tbody tr th:only-of-type {\n",
       "        vertical-align: middle;\n",
       "    }\n",
       "\n",
       "    .dataframe tbody tr th {\n",
       "        vertical-align: top;\n",
       "    }\n",
       "\n",
       "    .dataframe thead th {\n",
       "        text-align: right;\n",
       "    }\n",
       "</style>\n",
       "<table border=\"1\" class=\"dataframe\">\n",
       "  <thead>\n",
       "    <tr style=\"text-align: right;\">\n",
       "      <th></th>\n",
       "      <th>Name</th>\n",
       "      <th>Born-Dead</th>\n",
       "      <th>Term of office</th>\n",
       "      <th>Remarks</th>\n",
       "    </tr>\n",
       "  </thead>\n",
       "  <tbody>\n",
       "    <tr>\n",
       "      <th>0</th>\n",
       "      <td>Jawahar Lal Nehru</td>\n",
       "      <td>(1889–1964)</td>\n",
       "      <td>15 August 1947 to 27 May 1964</td>\n",
       "      <td>The first prime minister of India and the long...</td>\n",
       "    </tr>\n",
       "    <tr>\n",
       "      <th>1</th>\n",
       "      <td>Gulzarilal Nanda (Acting)</td>\n",
       "      <td>(1898-1998)</td>\n",
       "      <td>27 May 1964 to 9 June 1964,</td>\n",
       "      <td>First acting PM of India</td>\n",
       "    </tr>\n",
       "    <tr>\n",
       "      <th>2</th>\n",
       "      <td>Lal Bahadur Shastri</td>\n",
       "      <td>(1904–1966)</td>\n",
       "      <td>9 June 1964 to 11 January 1966</td>\n",
       "      <td>He has given the slogan of 'Jai Jawan Jai Kisa...</td>\n",
       "    </tr>\n",
       "    <tr>\n",
       "      <th>3</th>\n",
       "      <td>Gulzari Lal Nanda  (Acting)</td>\n",
       "      <td>(1898-1998)</td>\n",
       "      <td>11 January 1966 to 24 January 1966</td>\n",
       "      <td>-</td>\n",
       "    </tr>\n",
       "    <tr>\n",
       "      <th>4</th>\n",
       "      <td>Indira Gandhi</td>\n",
       "      <td>(1917–1984)</td>\n",
       "      <td>24 January 1966 to 24 March 1977</td>\n",
       "      <td>First female Prime Minister of India</td>\n",
       "    </tr>\n",
       "    <tr>\n",
       "      <th>5</th>\n",
       "      <td>Morarji Desai</td>\n",
       "      <td>(1896–1995)</td>\n",
       "      <td>24 March 1977 to  28 July 1979</td>\n",
       "      <td>Oldest to become PM (81 years old) and first t...</td>\n",
       "    </tr>\n",
       "    <tr>\n",
       "      <th>6</th>\n",
       "      <td>Charan Singh</td>\n",
       "      <td>(1902–1987)</td>\n",
       "      <td>28 July 1979 to 14 January 1980</td>\n",
       "      <td>Only PM who did not face the Parliament</td>\n",
       "    </tr>\n",
       "    <tr>\n",
       "      <th>7</th>\n",
       "      <td>Indira Gandhi</td>\n",
       "      <td>(1917–1984)</td>\n",
       "      <td>14 January 1980 to 31 October 1984</td>\n",
       "      <td>The first lady who served as PM for the second...</td>\n",
       "    </tr>\n",
       "    <tr>\n",
       "      <th>8</th>\n",
       "      <td>Rajiv Gandhi</td>\n",
       "      <td>(1944–1991)</td>\n",
       "      <td>31 October 1984 to 2 December 1989</td>\n",
       "      <td>Youngest to become PM (40 years old)</td>\n",
       "    </tr>\n",
       "    <tr>\n",
       "      <th>9</th>\n",
       "      <td>V. P. Singh</td>\n",
       "      <td>(1931–2008)</td>\n",
       "      <td>2 December 1989 to 10 November 1990</td>\n",
       "      <td>First PM to step down after a vote of no confi...</td>\n",
       "    </tr>\n",
       "    <tr>\n",
       "      <th>10</th>\n",
       "      <td>Chandra Shekhar</td>\n",
       "      <td>(1927–2007)</td>\n",
       "      <td>10 November 1990 to 21 June 1991</td>\n",
       "      <td>He belongs to  Samajwadi Janata Party</td>\n",
       "    </tr>\n",
       "    <tr>\n",
       "      <th>11</th>\n",
       "      <td>P. V. Narasimha Rao</td>\n",
       "      <td>(1921–2004)</td>\n",
       "      <td>21 June 1991 to 16 May 1996</td>\n",
       "      <td>First PM from South India</td>\n",
       "    </tr>\n",
       "    <tr>\n",
       "      <th>12</th>\n",
       "      <td>Atal Bihari Vajpayee</td>\n",
       "      <td>(1924- 2018)</td>\n",
       "      <td>16 May 1996 to 1 June 1996</td>\n",
       "      <td>PM for shortest tenure</td>\n",
       "    </tr>\n",
       "    <tr>\n",
       "      <th>13</th>\n",
       "      <td>H. D. Deve Gowda</td>\n",
       "      <td>(born 1933)</td>\n",
       "      <td>1 June 1996 to 21 April 1997</td>\n",
       "      <td>He belongs to  Janata Dal</td>\n",
       "    </tr>\n",
       "    <tr>\n",
       "      <th>14</th>\n",
       "      <td>Inder Kumar Gujral</td>\n",
       "      <td>(1919–2012)</td>\n",
       "      <td>21 April 1997 to 19 March 1998</td>\n",
       "      <td>------</td>\n",
       "    </tr>\n",
       "    <tr>\n",
       "      <th>15</th>\n",
       "      <td>Atal Bihari Vajpayee</td>\n",
       "      <td>(1924-2018)</td>\n",
       "      <td>19 March 1998 to 22 May 2004</td>\n",
       "      <td>The first non-congress PM who completed a ful...</td>\n",
       "    </tr>\n",
       "    <tr>\n",
       "      <th>16</th>\n",
       "      <td>Manmohan Singh</td>\n",
       "      <td>(born 1932)</td>\n",
       "      <td>22 May 2004 to 26 May 2014</td>\n",
       "      <td>First Sikh PM</td>\n",
       "    </tr>\n",
       "    <tr>\n",
       "      <th>17</th>\n",
       "      <td>Narendra Modi</td>\n",
       "      <td>(born 1950)</td>\n",
       "      <td>26 May 2014 - 2019</td>\n",
       "      <td>4th Prime Minister of India who served two con...</td>\n",
       "    </tr>\n",
       "    <tr>\n",
       "      <th>18</th>\n",
       "      <td>Narendra Modi</td>\n",
       "      <td>(born 1950)</td>\n",
       "      <td>30 May 2019- Incumbent</td>\n",
       "      <td>First non-congress PM with two consecutive ten...</td>\n",
       "    </tr>\n",
       "  </tbody>\n",
       "</table>\n",
       "</div>"
      ],
      "text/plain": [
       "                           Name     Born-Dead  \\\n",
       "0             Jawahar Lal Nehru   (1889–1964)   \n",
       "1     Gulzarilal Nanda (Acting)   (1898-1998)   \n",
       "2           Lal Bahadur Shastri   (1904–1966)   \n",
       "3   Gulzari Lal Nanda  (Acting)   (1898-1998)   \n",
       "4                 Indira Gandhi   (1917–1984)   \n",
       "5                 Morarji Desai   (1896–1995)   \n",
       "6                  Charan Singh   (1902–1987)   \n",
       "7                 Indira Gandhi   (1917–1984)   \n",
       "8                  Rajiv Gandhi   (1944–1991)   \n",
       "9                   V. P. Singh   (1931–2008)   \n",
       "10              Chandra Shekhar   (1927–2007)   \n",
       "11          P. V. Narasimha Rao   (1921–2004)   \n",
       "12         Atal Bihari Vajpayee  (1924- 2018)   \n",
       "13             H. D. Deve Gowda   (born 1933)   \n",
       "14           Inder Kumar Gujral   (1919–2012)   \n",
       "15         Atal Bihari Vajpayee   (1924-2018)   \n",
       "16               Manmohan Singh   (born 1932)   \n",
       "17                Narendra Modi   (born 1950)   \n",
       "18                Narendra Modi   (born 1950)   \n",
       "\n",
       "                         Term of office  \\\n",
       "0         15 August 1947 to 27 May 1964   \n",
       "1           27 May 1964 to 9 June 1964,   \n",
       "2        9 June 1964 to 11 January 1966   \n",
       "3    11 January 1966 to 24 January 1966   \n",
       "4      24 January 1966 to 24 March 1977   \n",
       "5       24 March 1977 to  28 July 1979    \n",
       "6       28 July 1979 to 14 January 1980   \n",
       "7    14 January 1980 to 31 October 1984   \n",
       "8    31 October 1984 to 2 December 1989   \n",
       "9   2 December 1989 to 10 November 1990   \n",
       "10     10 November 1990 to 21 June 1991   \n",
       "11          21 June 1991 to 16 May 1996   \n",
       "12           16 May 1996 to 1 June 1996   \n",
       "13         1 June 1996 to 21 April 1997   \n",
       "14      21 April 1997 to 19 March 1998    \n",
       "15        19 March 1998 to 22 May 2004    \n",
       "16        22 May 2004 to 26 May 2014      \n",
       "17                   26 May 2014 - 2019   \n",
       "18               30 May 2019- Incumbent   \n",
       "\n",
       "                                              Remarks  \n",
       "0   The first prime minister of India and the long...  \n",
       "1                            First acting PM of India  \n",
       "2   He has given the slogan of 'Jai Jawan Jai Kisa...  \n",
       "3                                                   -  \n",
       "4                First female Prime Minister of India  \n",
       "5   Oldest to become PM (81 years old) and first t...  \n",
       "6             Only PM who did not face the Parliament  \n",
       "7   The first lady who served as PM for the second...  \n",
       "8                Youngest to become PM (40 years old)  \n",
       "9   First PM to step down after a vote of no confi...  \n",
       "10              He belongs to  Samajwadi Janata Party  \n",
       "11                          First PM from South India  \n",
       "12                             PM for shortest tenure  \n",
       "13                          He belongs to  Janata Dal  \n",
       "14                                             ------  \n",
       "15   The first non-congress PM who completed a ful...  \n",
       "16                                      First Sikh PM  \n",
       "17  4th Prime Minister of India who served two con...  \n",
       "18  First non-congress PM with two consecutive ten...  "
      ]
     },
     "execution_count": 10,
     "metadata": {},
     "output_type": "execute_result"
    }
   ],
   "source": [
    "pm_data "
   ]
  },
  {
   "cell_type": "code",
   "execution_count": null,
   "id": "3d49ea56",
   "metadata": {},
   "outputs": [],
   "source": []
  },
  {
   "cell_type": "markdown",
   "id": "0100302c",
   "metadata": {},
   "source": [
    "Q10. Write a python program to display list of 50 Most expensive cars in the world (i.e.Car name and Price) from https://www.motor1.com/"
   ]
  },
  {
   "cell_type": "code",
   "execution_count": 8,
   "id": "0a9436dc",
   "metadata": {},
   "outputs": [],
   "source": [
    "dcar = webdriver.Chrome(r'chromedriver.exe')"
   ]
  },
  {
   "cell_type": "code",
   "execution_count": 9,
   "id": "492da5d0",
   "metadata": {},
   "outputs": [],
   "source": [
    "dcar.get(\"https://www.motor1.com/\")"
   ]
  },
  {
   "cell_type": "code",
   "execution_count": 10,
   "id": "a6febd57",
   "metadata": {},
   "outputs": [],
   "source": [
    "search_car = dcar.find_element(By.XPATH,'//input[@class=\"m1-search-panel-input m1-search-form-text\"]')\n",
    "search_car.send_keys(\"50 most expensive cars\")"
   ]
  },
  {
   "cell_type": "code",
   "execution_count": 11,
   "id": "01c87f02",
   "metadata": {},
   "outputs": [],
   "source": [
    "clk_srch =dcar.find_element(By.XPATH,'//button[@class=\"m1-search-panel-button m1-search-form-button-animate icon-search-svg\"]')\n",
    "clk_srch.click()"
   ]
  },
  {
   "cell_type": "code",
   "execution_count": 12,
   "id": "572ab484",
   "metadata": {},
   "outputs": [],
   "source": [
    "expensive = dcar.find_element(By.XPATH,'/html/body/div[3]/div[9]/div/div[1]/div/div/div[2]/div/div[1]/h3/a')\n",
    "expensive.click()"
   ]
  },
  {
   "cell_type": "code",
   "execution_count": 14,
   "id": "39599018",
   "metadata": {},
   "outputs": [],
   "source": [
    "c_name = []\n",
    "cname = dcar.find_elements(By.XPATH,'//h3[@class=\"subheader\"]')\n",
    "for i in cname:\n",
    "    cn = i.text\n",
    "    c_name.append(cn)"
   ]
  },
  {
   "cell_type": "code",
   "execution_count": 27,
   "id": "074c8ac6",
   "metadata": {},
   "outputs": [],
   "source": [
    "c_names = c_name[0:50]"
   ]
  },
  {
   "cell_type": "code",
   "execution_count": 20,
   "id": "01c949d7",
   "metadata": {},
   "outputs": [],
   "source": [
    "c_price = []\n",
    "for mb in range(4,103,2):\n",
    "    xpath = f'//div[@class=\"content-area \"]/div[1]/div[2]/div/p[{mb}]'\n",
    "    element = dcar.find_element(By.XPATH,xpath)\n",
    "    \n",
    "    c_price.append(element)\n",
    "    "
   ]
  },
  {
   "cell_type": "code",
   "execution_count": 23,
   "id": "add47167",
   "metadata": {},
   "outputs": [],
   "source": [
    "car_prices = []"
   ]
  },
  {
   "cell_type": "code",
   "execution_count": 24,
   "id": "33e4a0df",
   "metadata": {},
   "outputs": [],
   "source": [
    "for i in c_price:\n",
    "    cn = i.text\n",
    "    car_prices.append(cn)"
   ]
  },
  {
   "cell_type": "code",
   "execution_count": 26,
   "id": "cb6b0c45",
   "metadata": {},
   "outputs": [
    {
     "name": "stdout",
     "output_type": "stream",
     "text": [
      "50\n"
     ]
    }
   ],
   "source": [
    "print(len(car_prices))"
   ]
  },
  {
   "cell_type": "code",
   "execution_count": 28,
   "id": "56170dfd",
   "metadata": {},
   "outputs": [
    {
     "name": "stdout",
     "output_type": "stream",
     "text": [
      "50 50\n"
     ]
    }
   ],
   "source": [
    "print(len(c_names),len(car_prices))"
   ]
  },
  {
   "cell_type": "code",
   "execution_count": 29,
   "id": "576fee30",
   "metadata": {},
   "outputs": [],
   "source": [
    "expensive_cars = pd.DataFrame({\"Car_Name\":c_names,\"Price\":car_prices}) "
   ]
  },
  {
   "cell_type": "code",
   "execution_count": 30,
   "id": "c298ae0a",
   "metadata": {},
   "outputs": [
    {
     "data": {
      "text/html": [
       "<div>\n",
       "<style scoped>\n",
       "    .dataframe tbody tr th:only-of-type {\n",
       "        vertical-align: middle;\n",
       "    }\n",
       "\n",
       "    .dataframe tbody tr th {\n",
       "        vertical-align: top;\n",
       "    }\n",
       "\n",
       "    .dataframe thead th {\n",
       "        text-align: right;\n",
       "    }\n",
       "</style>\n",
       "<table border=\"1\" class=\"dataframe\">\n",
       "  <thead>\n",
       "    <tr style=\"text-align: right;\">\n",
       "      <th></th>\n",
       "      <th>Car_Name</th>\n",
       "      <th>Price</th>\n",
       "    </tr>\n",
       "  </thead>\n",
       "  <tbody>\n",
       "    <tr>\n",
       "      <th>0</th>\n",
       "      <td>De Tomaso P72</td>\n",
       "      <td>Price: $1.3 Million</td>\n",
       "    </tr>\n",
       "    <tr>\n",
       "      <th>1</th>\n",
       "      <td>Ferrari LaFerrari</td>\n",
       "      <td>Price: $1.4 Million</td>\n",
       "    </tr>\n",
       "    <tr>\n",
       "      <th>2</th>\n",
       "      <td>Pagani Huayra</td>\n",
       "      <td>Price: $1.4 Million</td>\n",
       "    </tr>\n",
       "    <tr>\n",
       "      <th>3</th>\n",
       "      <td>McLaren Elva</td>\n",
       "      <td>Price: $1.7 Million</td>\n",
       "    </tr>\n",
       "    <tr>\n",
       "      <th>4</th>\n",
       "      <td>Czinger 21C</td>\n",
       "      <td>Price: $1.7 Million</td>\n",
       "    </tr>\n",
       "    <tr>\n",
       "      <th>5</th>\n",
       "      <td>Ferrari Monza</td>\n",
       "      <td>Price: $1.7 Million</td>\n",
       "    </tr>\n",
       "    <tr>\n",
       "      <th>6</th>\n",
       "      <td>Gordon Murray T.33</td>\n",
       "      <td>Price: $1.7 Million</td>\n",
       "    </tr>\n",
       "    <tr>\n",
       "      <th>7</th>\n",
       "      <td>Koenigsegg Gemera</td>\n",
       "      <td>Price: $1.7 Million</td>\n",
       "    </tr>\n",
       "    <tr>\n",
       "      <th>8</th>\n",
       "      <td>Zenvo TSR-S</td>\n",
       "      <td>Price: $1.7 Million</td>\n",
       "    </tr>\n",
       "    <tr>\n",
       "      <th>9</th>\n",
       "      <td>Hennessey Venom F5</td>\n",
       "      <td>Price: $1.8 Million</td>\n",
       "    </tr>\n",
       "    <tr>\n",
       "      <th>10</th>\n",
       "      <td>Bentley Bacalar</td>\n",
       "      <td>Price: $1.9 Million</td>\n",
       "    </tr>\n",
       "    <tr>\n",
       "      <th>11</th>\n",
       "      <td>Hispano Suiza Carmen Boulogne</td>\n",
       "      <td>Price: $1.9 Million</td>\n",
       "    </tr>\n",
       "    <tr>\n",
       "      <th>12</th>\n",
       "      <td>Bentley Mulliner Batur</td>\n",
       "      <td>Price: $2.0 Million</td>\n",
       "    </tr>\n",
       "    <tr>\n",
       "      <th>13</th>\n",
       "      <td>Deus Vayanne</td>\n",
       "      <td>Price: $2.0 Million</td>\n",
       "    </tr>\n",
       "    <tr>\n",
       "      <th>14</th>\n",
       "      <td>SSC Tuatara</td>\n",
       "      <td>Price: $2.0 Million*</td>\n",
       "    </tr>\n",
       "    <tr>\n",
       "      <th>15</th>\n",
       "      <td>Lotus Evija</td>\n",
       "      <td>Price: $2.1 Million</td>\n",
       "    </tr>\n",
       "    <tr>\n",
       "      <th>16</th>\n",
       "      <td>Aston Martin Vulcan</td>\n",
       "      <td>Price: $2.3 Million</td>\n",
       "    </tr>\n",
       "    <tr>\n",
       "      <th>17</th>\n",
       "      <td>Delage D12</td>\n",
       "      <td>Price: $2.3 Million</td>\n",
       "    </tr>\n",
       "    <tr>\n",
       "      <th>18</th>\n",
       "      <td>McLaren Speedtail</td>\n",
       "      <td>Price: $2.3 Million</td>\n",
       "    </tr>\n",
       "    <tr>\n",
       "      <th>19</th>\n",
       "      <td>Rimac Nevera</td>\n",
       "      <td>Price: $2.4 Million</td>\n",
       "    </tr>\n",
       "    <tr>\n",
       "      <th>20</th>\n",
       "      <td>Pagani Utopia</td>\n",
       "      <td>Price: $2.5 Million</td>\n",
       "    </tr>\n",
       "    <tr>\n",
       "      <th>21</th>\n",
       "      <td>Pininfarina Battista</td>\n",
       "      <td>Price: $2.5 Million</td>\n",
       "    </tr>\n",
       "    <tr>\n",
       "      <th>22</th>\n",
       "      <td>Ferrari FXX K Evo</td>\n",
       "      <td>Price: $2.6 Million</td>\n",
       "    </tr>\n",
       "    <tr>\n",
       "      <th>23</th>\n",
       "      <td>Gordon Murray T.50</td>\n",
       "      <td>Price: $2.6 Million</td>\n",
       "    </tr>\n",
       "    <tr>\n",
       "      <th>24</th>\n",
       "      <td>Lamborghini Countach</td>\n",
       "      <td>Price: $2.6 Million</td>\n",
       "    </tr>\n",
       "    <tr>\n",
       "      <th>25</th>\n",
       "      <td>Mercedes-AMG Project One</td>\n",
       "      <td>Price: $2.7 Million</td>\n",
       "    </tr>\n",
       "    <tr>\n",
       "      <th>26</th>\n",
       "      <td>Aston Martin Victor</td>\n",
       "      <td>Price: $3.0 Million</td>\n",
       "    </tr>\n",
       "    <tr>\n",
       "      <th>27</th>\n",
       "      <td>Hennessey Venom F5 Roadster</td>\n",
       "      <td>$3.0 Million</td>\n",
       "    </tr>\n",
       "    <tr>\n",
       "      <th>28</th>\n",
       "      <td>Koenigsegg Jesko</td>\n",
       "      <td>Price: $3.0 Million</td>\n",
       "    </tr>\n",
       "    <tr>\n",
       "      <th>29</th>\n",
       "      <td>Aston Martin Valkyrie</td>\n",
       "      <td>Price: $3.2 Million</td>\n",
       "    </tr>\n",
       "    <tr>\n",
       "      <th>30</th>\n",
       "      <td>W Motors Lykan Hypersport</td>\n",
       "      <td>Price: $3.4 Million</td>\n",
       "    </tr>\n",
       "    <tr>\n",
       "      <th>31</th>\n",
       "      <td>McLaren Solus</td>\n",
       "      <td>$3.5 Million</td>\n",
       "    </tr>\n",
       "    <tr>\n",
       "      <th>32</th>\n",
       "      <td>Pagani Huayra Roadster BC</td>\n",
       "      <td>Price: $3.5 Million</td>\n",
       "    </tr>\n",
       "    <tr>\n",
       "      <th>33</th>\n",
       "      <td>Bugatti Chiron Pur Sport</td>\n",
       "      <td>Price: $3.6 Million</td>\n",
       "    </tr>\n",
       "    <tr>\n",
       "      <th>34</th>\n",
       "      <td>Lamborghini Sian</td>\n",
       "      <td>Price: $3.6 million</td>\n",
       "    </tr>\n",
       "    <tr>\n",
       "      <th>35</th>\n",
       "      <td>Koenigsegg CC850</td>\n",
       "      <td>Price: $3.7 Million</td>\n",
       "    </tr>\n",
       "    <tr>\n",
       "      <th>36</th>\n",
       "      <td>Bugatti Chiron Super Sport 300+</td>\n",
       "      <td>Price: $3.9 Million</td>\n",
       "    </tr>\n",
       "    <tr>\n",
       "      <th>37</th>\n",
       "      <td>Lamborghini Veneno</td>\n",
       "      <td>Price: $4.5 Million</td>\n",
       "    </tr>\n",
       "    <tr>\n",
       "      <th>38</th>\n",
       "      <td>Bugatti Bolide</td>\n",
       "      <td>Price: $4.7 Million</td>\n",
       "    </tr>\n",
       "    <tr>\n",
       "      <th>39</th>\n",
       "      <td>Bugatti Mistral</td>\n",
       "      <td>Price: $5.0 Million</td>\n",
       "    </tr>\n",
       "    <tr>\n",
       "      <th>40</th>\n",
       "      <td>Pagani Huayra Imola</td>\n",
       "      <td>Price: $5.4 Million</td>\n",
       "    </tr>\n",
       "    <tr>\n",
       "      <th>41</th>\n",
       "      <td>Bugatti Divo</td>\n",
       "      <td>Price: $5.8 Million</td>\n",
       "    </tr>\n",
       "    <tr>\n",
       "      <th>42</th>\n",
       "      <td>SP Automotive Chaos</td>\n",
       "      <td>Price: $6.4 Million</td>\n",
       "    </tr>\n",
       "    <tr>\n",
       "      <th>43</th>\n",
       "      <td>Pagani Codalunga</td>\n",
       "      <td>Price: $7.4 Million</td>\n",
       "    </tr>\n",
       "    <tr>\n",
       "      <th>44</th>\n",
       "      <td>Mercedes-Maybach Exelero</td>\n",
       "      <td>Price: $8.0 Million</td>\n",
       "    </tr>\n",
       "    <tr>\n",
       "      <th>45</th>\n",
       "      <td>Bugatti Centodieci</td>\n",
       "      <td>Price: $9.0 Million</td>\n",
       "    </tr>\n",
       "    <tr>\n",
       "      <th>46</th>\n",
       "      <td>Bugatti Chiron Profilée</td>\n",
       "      <td>Price: $10.8 Million</td>\n",
       "    </tr>\n",
       "    <tr>\n",
       "      <th>47</th>\n",
       "      <td>Rolls-Royce Sweptail</td>\n",
       "      <td>Price: $12.8 Million</td>\n",
       "    </tr>\n",
       "    <tr>\n",
       "      <th>48</th>\n",
       "      <td>Bugatti La Voiture Noire</td>\n",
       "      <td>Price: $13.4 Million</td>\n",
       "    </tr>\n",
       "    <tr>\n",
       "      <th>49</th>\n",
       "      <td>Rolls-Royce Boat Tail*</td>\n",
       "      <td>Price: $28.0 Million (est.)</td>\n",
       "    </tr>\n",
       "  </tbody>\n",
       "</table>\n",
       "</div>"
      ],
      "text/plain": [
       "                           Car_Name                        Price\n",
       "0                     De Tomaso P72          Price: $1.3 Million\n",
       "1                 Ferrari LaFerrari          Price: $1.4 Million\n",
       "2                     Pagani Huayra          Price: $1.4 Million\n",
       "3                      McLaren Elva          Price: $1.7 Million\n",
       "4                       Czinger 21C          Price: $1.7 Million\n",
       "5                     Ferrari Monza          Price: $1.7 Million\n",
       "6                Gordon Murray T.33          Price: $1.7 Million\n",
       "7                 Koenigsegg Gemera          Price: $1.7 Million\n",
       "8                       Zenvo TSR-S          Price: $1.7 Million\n",
       "9                Hennessey Venom F5          Price: $1.8 Million\n",
       "10                  Bentley Bacalar          Price: $1.9 Million\n",
       "11    Hispano Suiza Carmen Boulogne          Price: $1.9 Million\n",
       "12           Bentley Mulliner Batur          Price: $2.0 Million\n",
       "13                     Deus Vayanne          Price: $2.0 Million\n",
       "14                      SSC Tuatara         Price: $2.0 Million*\n",
       "15                      Lotus Evija          Price: $2.1 Million\n",
       "16              Aston Martin Vulcan          Price: $2.3 Million\n",
       "17                       Delage D12          Price: $2.3 Million\n",
       "18                McLaren Speedtail          Price: $2.3 Million\n",
       "19                     Rimac Nevera          Price: $2.4 Million\n",
       "20                    Pagani Utopia          Price: $2.5 Million\n",
       "21             Pininfarina Battista          Price: $2.5 Million\n",
       "22                Ferrari FXX K Evo          Price: $2.6 Million\n",
       "23               Gordon Murray T.50          Price: $2.6 Million\n",
       "24             Lamborghini Countach          Price: $2.6 Million\n",
       "25         Mercedes-AMG Project One          Price: $2.7 Million\n",
       "26              Aston Martin Victor          Price: $3.0 Million\n",
       "27      Hennessey Venom F5 Roadster                 $3.0 Million\n",
       "28                 Koenigsegg Jesko          Price: $3.0 Million\n",
       "29            Aston Martin Valkyrie          Price: $3.2 Million\n",
       "30        W Motors Lykan Hypersport          Price: $3.4 Million\n",
       "31                    McLaren Solus                 $3.5 Million\n",
       "32        Pagani Huayra Roadster BC          Price: $3.5 Million\n",
       "33         Bugatti Chiron Pur Sport          Price: $3.6 Million\n",
       "34                 Lamborghini Sian          Price: $3.6 million\n",
       "35                 Koenigsegg CC850          Price: $3.7 Million\n",
       "36  Bugatti Chiron Super Sport 300+          Price: $3.9 Million\n",
       "37               Lamborghini Veneno          Price: $4.5 Million\n",
       "38                   Bugatti Bolide          Price: $4.7 Million\n",
       "39                  Bugatti Mistral          Price: $5.0 Million\n",
       "40              Pagani Huayra Imola          Price: $5.4 Million\n",
       "41                     Bugatti Divo          Price: $5.8 Million\n",
       "42              SP Automotive Chaos          Price: $6.4 Million\n",
       "43                 Pagani Codalunga          Price: $7.4 Million\n",
       "44         Mercedes-Maybach Exelero          Price: $8.0 Million\n",
       "45               Bugatti Centodieci          Price: $9.0 Million\n",
       "46          Bugatti Chiron Profilée         Price: $10.8 Million\n",
       "47             Rolls-Royce Sweptail         Price: $12.8 Million\n",
       "48         Bugatti La Voiture Noire         Price: $13.4 Million\n",
       "49           Rolls-Royce Boat Tail*  Price: $28.0 Million (est.)"
      ]
     },
     "execution_count": 30,
     "metadata": {},
     "output_type": "execute_result"
    }
   ],
   "source": [
    "expensive_cars"
   ]
  },
  {
   "cell_type": "code",
   "execution_count": null,
   "id": "0366d9ef",
   "metadata": {},
   "outputs": [],
   "source": []
  }
 ],
 "metadata": {
  "kernelspec": {
   "display_name": "Python 3 (ipykernel)",
   "language": "python",
   "name": "python3"
  },
  "language_info": {
   "codemirror_mode": {
    "name": "ipython",
    "version": 3
   },
   "file_extension": ".py",
   "mimetype": "text/x-python",
   "name": "python",
   "nbconvert_exporter": "python",
   "pygments_lexer": "ipython3",
   "version": "3.9.13"
  }
 },
 "nbformat": 4,
 "nbformat_minor": 5
}
