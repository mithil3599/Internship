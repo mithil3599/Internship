{
 "cells": [
  {
   "cell_type": "code",
   "execution_count": 1,
   "id": "9530adfc",
   "metadata": {},
   "outputs": [],
   "source": [
    "#!pip install selenium"
   ]
  },
  {
   "cell_type": "code",
   "execution_count": 2,
   "id": "fc75ad8d",
   "metadata": {},
   "outputs": [],
   "source": [
    "#!pip install requests"
   ]
  },
  {
   "cell_type": "code",
   "execution_count": 1,
   "id": "59d1aa15",
   "metadata": {},
   "outputs": [],
   "source": [
    "#importing libraries \n",
    "import pandas as pd\n",
    "import selenium\n",
    "from bs4 import BeautifulSoup\n",
    "import requests \n",
    "from selenium import webdriver\n",
    "from selenium.webdriver.common.by import By\n",
    "import time\n",
    "import warnings \n",
    "warnings.filterwarnings('ignore')"
   ]
  },
  {
   "cell_type": "code",
   "execution_count": 33,
   "id": "7a153f40",
   "metadata": {},
   "outputs": [],
   "source": [
    "driver = webdriver.Chrome(r'chromedriver.exe')"
   ]
  },
  {
   "cell_type": "code",
   "execution_count": 34,
   "id": "470efc6e",
   "metadata": {},
   "outputs": [],
   "source": [
    "driver.get(\"https://www.amazon.in/\")"
   ]
  },
  {
   "cell_type": "code",
   "execution_count": 35,
   "id": "9d8d2dd6",
   "metadata": {},
   "outputs": [
    {
     "name": "stdout",
     "output_type": "stream",
     "text": [
      "Enter the product : guitar\n"
     ]
    }
   ],
   "source": [
    "search_input = input(\"Enter the product : \")\n",
    "search_bar = driver.find_element(By.XPATH,\"/html/body/div[1]/header/div/div[1]/div[2]/div/form/div[2]/div[1]/input\")\n",
    "search_bar.send_keys(search_input)"
   ]
  },
  {
   "cell_type": "code",
   "execution_count": 36,
   "id": "ba756d1c",
   "metadata": {},
   "outputs": [],
   "source": [
    "srch  = driver.find_element(By.XPATH,\"/html/body/div[1]/header/div/div[1]/div[2]/div/form/div[3]/div/span/input\")\n",
    "srch.click()"
   ]
  },
  {
   "cell_type": "code",
   "execution_count": 9,
   "id": "2a0f5053",
   "metadata": {},
   "outputs": [],
   "source": [
    "brand = []\n",
    "product_name = []\n",
    "price = []\n",
    "re = []\n",
    "exp_del = []\n",
    "available = []\n",
    "pro_url = []"
   ]
  },
  {
   "cell_type": "code",
   "execution_count": 10,
   "id": "7b994072",
   "metadata": {},
   "outputs": [],
   "source": [
    "start =  0\n",
    "end = 3\n",
    "for page in range(start,end):\n",
    "    url = driver.find_elements(By.XPATH,'//a[@class=\"a-link-normal s-underline-text s-underline-link-text s-link-style a-text-normal\"]')\n",
    "    for i in url:\n",
    "        urls = i.get_attribute('href')\n",
    "        pro_url.append(urls)\n",
    "        "
   ]
  },
  {
   "cell_type": "code",
   "execution_count": 14,
   "id": "7633da14",
   "metadata": {},
   "outputs": [
    {
     "data": {
      "text/plain": [
       "['https://www.amazon.in/sspa/click?ie=UTF8&spc=MTo3Mzk0NTc5NTc4NDA4ODA0OjE2ODYxNDQyNjg6c3BfYXRmOjIwMDk2NjA4NzUwNDk4OjowOjo&url=%2FKadence-Frontier-Acoustic-Guitar-Strings%2Fdp%2FB01GDZ46AA%2Fref%3Dsr_1_1_sspa%3Fcrid%3D1B51XPNEQGEMJ%26keywords%3Dguitar%26qid%3D1686144268%26sprefix%3Dguitar%252Caps%252C12264%26sr%3D8-1-spons%26sp_csd%3Dd2lkZ2V0TmFtZT1zcF9hdGY%26psc%3D1%26smid%3DAM04Z7MH4HSDD',\n",
       " 'https://www.amazon.in/sspa/click?ie=UTF8&spc=MTo3Mzk0NTc5NTc4NDA4ODA0OjE2ODYxNDQyNjg6c3BfYXRmOjIwMTY2MzUyMTA0Nzk4OjowOjo&url=%2FRMC-POLO-GUITAR-YEARS-WARRANTY%2Fdp%2FB0C2NFQ953%2Fref%3Dsr_1_2_sspa%3Fcrid%3D1B51XPNEQGEMJ%26keywords%3Dguitar%26qid%3D1686144268%26sprefix%3Dguitar%252Caps%252C12264%26sr%3D8-2-spons%26sp_csd%3Dd2lkZ2V0TmFtZT1zcF9hdGY%26psc%3D1',\n",
       " 'https://www.amazon.in/sspa/click?ie=UTF8&spc=MTo3Mzk0NTc5NTc4NDA4ODA0OjE2ODYxNDQyNjg6c3BfYXRmOjIwMDkyNjI0MDIxNDk4OjowOjo&url=%2FPremium-Spruce-Top-Dreadnought-Acoustic-Guitar%2Fdp%2FB0BJK1CWSN%2Fref%3Dsr_1_3_sspa%3Fcrid%3D1B51XPNEQGEMJ%26keywords%3Dguitar%26qid%3D1686144268%26sprefix%3Dguitar%252Caps%252C12264%26sr%3D8-3-spons%26sp_csd%3Dd2lkZ2V0TmFtZT1zcF9hdGY%26psc%3D1',\n",
       " 'https://www.amazon.in/sspa/click?ie=UTF8&spc=MTo3Mzk0NTc5NTc4NDA4ODA0OjE2ODYxNDQyNjg6c3BfYXRmOjIwMTYzOTEzMDU5MDk4OjowOjo&url=%2FDEVICE-URBAN-INFOTECH-Professional-Beginners%2Fdp%2FB0C6DVVVCC%2Fref%3Dsr_1_4_sspa%3Fcrid%3D1B51XPNEQGEMJ%26keywords%3Dguitar%26qid%3D1686144268%26sprefix%3Dguitar%252Caps%252C12264%26sr%3D8-4-spons%26sp_csd%3Dd2lkZ2V0TmFtZT1zcF9hdGY%26psc%3D1',\n",
       " 'https://www.amazon.in/Juarez-Acoustic-Cutaway-038C-Strings/dp/B017NPCSLI/ref=sr_1_5?crid=1B51XPNEQGEMJ&keywords=guitar&qid=1686144268&sprefix=guitar%2Caps%2C12264&sr=8-5',\n",
       " 'https://www.amazon.in/Yamaha-F280-Acoustic-Guitar-Natural/dp/B08317Y4VP/ref=sr_1_6?crid=1B51XPNEQGEMJ&keywords=guitar&qid=1686144268&sprefix=guitar%2Caps%2C12264&sr=8-6',\n",
       " 'https://www.amazon.in/JUAREZ-JRZ38C-Acoustic-Sunburst-Strings/dp/B01FYYTDTU/ref=sr_1_7?crid=1B51XPNEQGEMJ&keywords=guitar&qid=1686144268&sprefix=guitar%2Caps%2C12264&sr=8-7',\n",
       " 'https://aax-eu.amazon.in/x/c/RAeWQz_-p_czFe04LDftXxYAAAGIlge5LQMAAAH2AQBvbm9fdHhuX2JpZDIgICBvbm9fdHhuX2ltcDEgICBTgKW-/https://www.amazon.in/Kadence-Acoustica-Ash-Wood-Equlizer/dp/B0757H5P13/ref=sxin_16_sbv_search_btf?content-id=amzn1.sym.ea7f11f8-e26c-4b10-84ad-15aa33ea30ac%3Aamzn1.sym.ea7f11f8-e26c-4b10-84ad-15aa33ea30ac&crid=1B51XPNEQGEMJ&cv_ct_cx=guitar&keywords=guitar&pd_rd_i=B0757H5P13&pd_rd_r=73071950-c983-4fe7-9768-ac88eae15846&pd_rd_w=K17Yy&pd_rd_wg=ZJmgW&pf_rd_p=ea7f11f8-e26c-4b10-84ad-15aa33ea30ac&pf_rd_r=D628WYE58Z31WY80M18H&qid=1686144268&sbo=RZvfv%2F%2FHxDF%2BO5021pAnSA%3D%3D&sprefix=guitar%2Caps%2C12264&sr=1-1-9131241a-a358-4619-a7b8-0f5a65d91d81',\n",
       " 'https://www.amazon.in/Kadence-Frontier-Acoustic-Guitar-Strings/dp/B01GDZ46AA/ref=sr_1_8?crid=1B51XPNEQGEMJ&keywords=guitar&qid=1686144268&sprefix=guitar%2Caps%2C12264&sr=8-8',\n",
       " 'https://www.amazon.in/JUAREZ-JRZ38C-Acoustic-Sunburst-Strings/dp/B01FYYTDS6/ref=sr_1_9?crid=1B51XPNEQGEMJ&keywords=guitar&qid=1686144268&sprefix=guitar%2Caps%2C12264&sr=8-9',\n",
       " 'https://www.amazon.in/Intern-Acoustic-Steel-string-plectrums-INT-38C-WH/dp/B09LR94Z2X/ref=sr_1_10?crid=1B51XPNEQGEMJ&keywords=guitar&qid=1686144268&sprefix=guitar%2Caps%2C12264&sr=8-10',\n",
       " 'https://www.amazon.in/Intern-INT-38C-Acoustic-Guitar-Blue/dp/B073B5RZBV/ref=sr_1_11?crid=1B51XPNEQGEMJ&keywords=guitar&qid=1686144268&sprefix=guitar%2Caps%2C12264&sr=8-11',\n",
       " 'https://www.amazon.in/Juarez-Acoustic-Guitar-Cutaway-Strings/dp/B076QHZ4HZ/ref=sr_1_12?crid=1B51XPNEQGEMJ&keywords=guitar&qid=1686144268&sprefix=guitar%2Caps%2C12264&sr=8-12',\n",
       " 'https://www.amazon.in/Yamaha-Classical-Guitar-C40-02/dp/B003UGCUFE/ref=sr_1_13?crid=1B51XPNEQGEMJ&keywords=guitar&qid=1686144268&sprefix=guitar%2Caps%2C12264&sr=8-13',\n",
       " 'https://www.amazon.in/Intern-38-inch-Cutaway-Design-Acoustic/dp/B07X4PN85R/ref=sr_1_14?crid=1B51XPNEQGEMJ&keywords=guitar&qid=1686144268&sprefix=guitar%2Caps%2C12264&sr=8-14',\n",
       " 'https://www.amazon.in/Yamaha-FS-100C-6-String-Acoustic-without/dp/B00PAS9CK6/ref=sr_1_15?crid=1B51XPNEQGEMJ&keywords=guitar&qid=1686144268&sprefix=guitar%2Caps%2C12264&sr=8-15',\n",
       " 'https://www.amazon.in/Henrix-Acoustic-Guitar-Die-cast-Dual-action/dp/B07VNDW6QF/ref=sr_1_16?crid=1B51XPNEQGEMJ&keywords=guitar&qid=1686144268&sprefix=guitar%2Caps%2C12264&sr=8-16',\n",
       " 'https://www.amazon.in/Kadence-Frontier-Acoustic-Guitar-Equalizer/dp/B01HRIHJWY/ref=sr_1_17?crid=1B51XPNEQGEMJ&keywords=guitar&qid=1686144268&sprefix=guitar%2Caps%2C12264&sr=8-17',\n",
       " 'https://www.amazon.in/Yamaha-F310-6-Strings-Acoustic-Natural/dp/B000RVYW7E/ref=sr_1_18?crid=1B51XPNEQGEMJ&keywords=guitar&qid=1686144268&sprefix=guitar%2Caps%2C12264&sr=8-18',\n",
       " 'https://www.amazon.in/Medellin-Acoustic-adjustable-Truss-rod-learning/dp/B0BMKX4HNP/ref=sr_1_19?crid=1B51XPNEQGEMJ&keywords=guitar&qid=1686144268&sprefix=guitar%2Caps%2C12264&sr=8-19',\n",
       " 'https://www.amazon.in/Kadence-Professional-Guitar-Sunburst-Strings/dp/B07SXH9JKX/ref=sr_1_20?crid=1B51XPNEQGEMJ&keywords=guitar&qid=1686144268&sprefix=guitar%2Caps%2C12264&sr=8-20',\n",
       " 'https://www.amazon.in/sspa/click?ie=UTF8&spc=MTo3Mzk0NTc5NTc4NDA4ODA0OjE2ODYxNDQyNjg6c3BfbXRmOjIwMDM2MjQ0NTU5NTk4OjowOjo&url=%2FTraveller-Acoustic-Guitar-Strings-Polishing%2Fdp%2FB07RK9962M%2Fref%3Dsr_1_21_sspa%3Fcrid%3D1B51XPNEQGEMJ%26keywords%3Dguitar%26qid%3D1686144268%26sprefix%3Dguitar%252Caps%252C12264%26sr%3D8-21-spons%26sp_csd%3Dd2lkZ2V0TmFtZT1zcF9tdGY%26psc%3D1',\n",
       " 'https://www.amazon.in/sspa/click?ie=UTF8&spc=MTo3Mzk0NTc5NTc4NDA4ODA0OjE2ODYxNDQyNjg6c3BfbXRmOjIwMTYzMzczMjUzMDk4OjowOjo&url=%2FImaginea%25C2%25AE-Acoustic-Integrated-Beautiful-Adjustment%2Fdp%2FB0C69RWYKB%2Fref%3Dsr_1_22_sspa%3Fcrid%3D1B51XPNEQGEMJ%26keywords%3Dguitar%26qid%3D1686144268%26sprefix%3Dguitar%252Caps%252C12264%26sr%3D8-22-spons%26sp_csd%3Dd2lkZ2V0TmFtZT1zcF9tdGY%26psc%3D1',\n",
       " 'https://www.amazon.in/sspa/click?ie=UTF8&spc=MTo3Mzk0NTc5NTc4NDA4ODA0OjE2ODYxNDQyNjg6c3BfbXRmOjIwMDMxNjg4MjI2MjAxOjowOjo&url=%2FGUITAR-BRO-Acoustic-Beginner-Accessories%2Fdp%2FB07T84GC8L%2Fref%3Dsr_1_23_sspa%3Fcrid%3D1B51XPNEQGEMJ%26keywords%3Dguitar%26qid%3D1686144268%26sprefix%3Dguitar%252Caps%252C12264%26sr%3D8-23-spons%26sp_csd%3Dd2lkZ2V0TmFtZT1zcF9tdGY%26psc%3D1',\n",
       " 'https://www.amazon.in/sspa/click?ie=UTF8&spc=MTo3Mzk0NTc5NTc4NDA4ODA0OjE2ODYxNDQyNjg6c3BfbXRmOjIwMTY1OTcxOTUxNzk4OjowOjo&url=%2FDEVICE-URBAN-INFOTECH-Instruments-Professional%2Fdp%2FB0C6PXF6HK%2Fref%3Dsr_1_24_sspa%3Fcrid%3D1B51XPNEQGEMJ%26keywords%3Dguitar%26qid%3D1686144268%26sprefix%3Dguitar%252Caps%252C12264%26sr%3D8-24-spons%26sp_csd%3Dd2lkZ2V0TmFtZT1zcF9tdGY%26psc%3D1',\n",
       " 'https://www.amazon.in/Kadence-Frontier-Acoustic-Guitar-Strings/dp/B078GTJP5Y/ref=sr_1_25?crid=1B51XPNEQGEMJ&keywords=guitar&qid=1686144268&sprefix=guitar%2Caps%2C12264&sr=8-25',\n",
       " 'https://www.amazon.in/Intern-INT-38C-Acoustic-Guitar-Sunburst/dp/B073B5MJRM/ref=sr_1_26?crid=1B51XPNEQGEMJ&keywords=guitar&qid=1686144268&sprefix=guitar%2Caps%2C12264&sr=8-26',\n",
       " 'https://www.amazon.in/Intern-INT-38C-Acoustic-Guitar-Kit/dp/B073B6TF31/ref=sr_1_27?crid=1B51XPNEQGEMJ&keywords=guitar&qid=1686144268&sprefix=guitar%2Caps%2C12264&sr=8-27',\n",
       " 'https://www.amazon.in/Yamaha-Acoustic-Guitar-Tobacco-Sunburst/dp/B08VXR74Q2/ref=sr_1_28?crid=1B51XPNEQGEMJ&keywords=guitar&qid=1686144268&sprefix=guitar%2Caps%2C12264&sr=8-28',\n",
       " 'https://www.amazon.in/Yamaha-FX280-acoustic-Dreadnought-Natural/dp/B09HR6BNFQ/ref=sr_1_29?crid=1B51XPNEQGEMJ&keywords=guitar&qid=1686144268&sprefix=guitar%2Caps%2C12264&sr=8-29',\n",
       " 'https://www.amazon.in/Juarez-JRZ-ST01-6-String-Electric-Without/dp/B01FYZSOGM/ref=sr_1_30?crid=1B51XPNEQGEMJ&keywords=guitar&qid=1686144268&sprefix=guitar%2Caps%2C12264&sr=8-30',\n",
       " 'https://www.amazon.in/Juarez-Acoustic-Cutaway-BK-Strings/dp/B076T3RHMG/ref=sr_1_31?crid=1B51XPNEQGEMJ&keywords=guitar&qid=1686144268&sprefix=guitar%2Caps%2C12264&sr=8-31',\n",
       " 'https://www.amazon.in/Rosewood-Fretboard-Acoustic-Strings-K-Retail/dp/B07KLG8C4P/ref=sr_1_32?crid=1B51XPNEQGEMJ&keywords=guitar&qid=1686144268&sprefix=guitar%2Caps%2C12264&sr=8-32',\n",
       " 'https://www.amazon.in/Intern-INT-38C-NT-G-Guitar-Kit-Natural/dp/B07K9MZZH9/ref=sr_1_33?crid=1B51XPNEQGEMJ&keywords=guitar&qid=1686144268&sprefix=guitar%2Caps%2C12264&sr=8-33',\n",
       " 'https://www.amazon.in/Blueberry-38C-Acoustic-Guitar-Strings/dp/B08KLMV4XX/ref=sr_1_34?crid=1B51XPNEQGEMJ&keywords=guitar&qid=1686144268&sprefix=guitar%2Caps%2C12264&sr=8-34',\n",
       " 'https://www.amazon.in/Acoustic-Plectrums-Beginner-Learners-configuration/dp/B0B4SSB8BJ/ref=sr_1_35?crid=1B51XPNEQGEMJ&keywords=guitar&qid=1686144268&sprefix=guitar%2Caps%2C12264&sr=8-35',\n",
       " 'https://www.amazon.in/Intern-INT-38C-Acoustic-Guitar-Purple/dp/B073B4CT2F/ref=sr_1_36?crid=1B51XPNEQGEMJ&keywords=guitar&qid=1686144268&sprefix=guitar%2Caps%2C12264&sr=8-36',\n",
       " 'https://www.amazon.in/Yamaha-PAC012-Electric-Guitar-Metallic/dp/B000MLY7XS/ref=sr_1_37?crid=1B51XPNEQGEMJ&keywords=guitar&qid=1686144268&sprefix=guitar%2Caps%2C12264&sr=8-37',\n",
       " 'https://www.amazon.in/Revel-RVL-38C-LGP-3TS-Linden-Acoustic-Sunburst/dp/B085HV4YW7/ref=sr_1_38?crid=1B51XPNEQGEMJ&keywords=guitar&qid=1686144268&sprefix=guitar%2Caps%2C12264&sr=8-38',\n",
       " 'https://www.amazon.in/Kadence-Slowhand-Premium-Acoustic-Instrument/dp/B077SZ667X/ref=sr_1_39?crid=1B51XPNEQGEMJ&keywords=guitar&qid=1686144268&sprefix=guitar%2Caps%2C12264&sr=8-39',\n",
       " 'https://www.amazon.in/Juarez-Acoustic-Guitar-Cutaway-Strings/dp/B084VRCCN7/ref=sr_1_40?crid=1B51XPNEQGEMJ&keywords=guitar&qid=1686144268&sprefix=guitar%2Caps%2C12264&sr=8-40',\n",
       " 'https://www.amazon.in/Kadence-Acoustica-Acoustic-Guitar-Zebra/dp/B07KXNKLJ2/ref=sr_1_41?crid=1B51XPNEQGEMJ&keywords=guitar&qid=1686144268&sprefix=guitar%2Caps%2C12264&sr=8-41',\n",
       " 'https://www.amazon.in/Yamaha-FSX80C-Acoustic-Cutaway-Natural/dp/B09HL3GFZF/ref=sr_1_42?crid=1B51XPNEQGEMJ&keywords=guitar&qid=1686144268&sprefix=guitar%2Caps%2C12264&sr=8-42',\n",
       " 'https://www.amazon.in/JRZ38C-Strings-Acoustic-Cutaway-Mahogany/dp/B071JM8C6T/ref=sr_1_43?crid=1B51XPNEQGEMJ&keywords=guitar&qid=1686144268&sprefix=guitar%2Caps%2C12264&sr=8-43',\n",
       " 'https://www.amazon.in/Yamaha-PACIFICA012-Electric-Guitar-Metallic/dp/B00REF6CII/ref=sr_1_44?crid=1B51XPNEQGEMJ&keywords=guitar&qid=1686144268&sprefix=guitar%2Caps%2C12264&sr=8-44',\n",
       " 'https://www.amazon.in/Yamaha-FSX80C-Acoustic-Cutaway-Guitar/dp/B09HL5WFDX/ref=sr_1_45?crid=1B51XPNEQGEMJ&keywords=guitar&qid=1686144268&sprefix=guitar%2Caps%2C12264&sr=8-45',\n",
       " 'https://www.amazon.in/Blueberry-VlP-405-TrussRod-Acoustic-Classic/dp/B0BVZBL1VJ/ref=sr_1_46?crid=1B51XPNEQGEMJ&keywords=guitar&qid=1686144268&sprefix=guitar%2Caps%2C12264&sr=8-46',\n",
       " 'https://www.amazon.in/Acoustic-plectrums-stability-resistance-Electric/dp/B09YH937P2/ref=sr_1_47?crid=1B51XPNEQGEMJ&keywords=guitar&qid=1686144268&sprefix=guitar%2Caps%2C12264&sr=8-47',\n",
       " 'https://www.amazon.in/Festra-38C-Acoustic-Strings-Sunburst/dp/B09JT67MS5/ref=sr_1_48?crid=1B51XPNEQGEMJ&keywords=guitar&qid=1686144268&sprefix=guitar%2Caps%2C12264&sr=8-48',\n",
       " 'https://www.amazon.in/Intern-INT-38C-Acoustic-Guitar-Natural/dp/B073B4D22T/ref=sr_1_49?crid=1B51XPNEQGEMJ&keywords=guitar&qid=1686144268&sprefix=guitar%2Caps%2C12264&sr=8-49',\n",
       " 'https://www.amazon.in/Tagima-Junior-Inch-Acoustic-Guitar/dp/B0BTBWJTGH/ref=sr_1_50?crid=1B51XPNEQGEMJ&keywords=guitar&qid=1686144268&sprefix=guitar%2Caps%2C12264&sr=8-50',\n",
       " 'https://www.amazon.in/Medellin-Acoustic-Guitar-Carbon-Learning/dp/B09MSGMQ3Y/ref=sr_1_51?crid=1B51XPNEQGEMJ&keywords=guitar&qid=1686144268&sprefix=guitar%2Caps%2C12264&sr=8-51',\n",
       " 'https://www.amazon.in/Acoustic-Pick-up-stability-professional-amplificaiton/dp/B09YH8X5CL/ref=sr_1_52?crid=1B51XPNEQGEMJ&keywords=guitar&qid=1686144268&sprefix=guitar%2Caps%2C12264&sr=8-52',\n",
       " 'https://www.amazon.in/Intern-INT-38C-BLS-G-Guitar-Kit-Blue/dp/B07K8YXTNW/ref=sr_1_53?crid=1B51XPNEQGEMJ&keywords=guitar&qid=1686144268&sprefix=guitar%2Caps%2C12264&sr=8-53',\n",
       " 'https://www.amazon.in/FX280-acoustic-Dreadnought-Tobacco-Sunburst/dp/B09HR7BXGW/ref=sr_1_54?crid=1B51XPNEQGEMJ&keywords=guitar&qid=1686144268&sprefix=guitar%2Caps%2C12264&sr=8-54',\n",
       " 'https://www.amazon.in/JUAREZ-Acoustic-Guitar-String-JRGSE32/dp/B08MW1WPW5/ref=sr_1_55?crid=1B51XPNEQGEMJ&keywords=guitar&qid=1686144268&sprefix=guitar%2Caps%2C12264&sr=8-55',\n",
       " 'https://www.amazon.in/Blueberry-Acoustic-Guitar-Inbuilt-Strings/dp/B07PHZ16BG/ref=sr_1_56?crid=1B51XPNEQGEMJ&keywords=guitar&qid=1686144268&sprefix=guitar%2Caps%2C12264&sr=8-56',\n",
       " 'https://www.amazon.in/sspa/click?ie=UTF8&spc=MTo3Mzk0NTc5NTc4NDA4ODA0OjE2ODYxNDQyNjg6c3BfYnRmOjIwMDg2MzMyMTYyOTAxOjowOjo&url=%2FUniversal-Acoustic-Classical-Mandolins-Instruments%2Fdp%2FB08XBRNC7T%2Fref%3Dsr_1_57_sspa%3Fcrid%3D1B51XPNEQGEMJ%26keywords%3Dguitar%26qid%3D1686144268%26sprefix%3Dguitar%252Caps%252C12264%26sr%3D8-57-spons%26sp_csd%3Dd2lkZ2V0TmFtZT1zcF9idGY%26psc%3D1',\n",
       " 'https://www.amazon.in/sspa/click?ie=UTF8&spc=MTo3Mzk0NTc5NTc4NDA4ODA0OjE2ODYxNDQyNjg6c3BfYXRmOjIwMDk2NjA4NzUwNDk4OjowOjo&url=%2FKadence-Frontier-Acoustic-Guitar-Strings%2Fdp%2FB01GDZ46AA%2Fref%3Dsr_1_1_sspa%3Fcrid%3D1B51XPNEQGEMJ%26keywords%3Dguitar%26qid%3D1686144268%26sprefix%3Dguitar%252Caps%252C12264%26sr%3D8-1-spons%26sp_csd%3Dd2lkZ2V0TmFtZT1zcF9hdGY%26psc%3D1%26smid%3DAM04Z7MH4HSDD',\n",
       " 'https://www.amazon.in/sspa/click?ie=UTF8&spc=MTo3Mzk0NTc5NTc4NDA4ODA0OjE2ODYxNDQyNjg6c3BfYXRmOjIwMTY2MzUyMTA0Nzk4OjowOjo&url=%2FRMC-POLO-GUITAR-YEARS-WARRANTY%2Fdp%2FB0C2NFQ953%2Fref%3Dsr_1_2_sspa%3Fcrid%3D1B51XPNEQGEMJ%26keywords%3Dguitar%26qid%3D1686144268%26sprefix%3Dguitar%252Caps%252C12264%26sr%3D8-2-spons%26sp_csd%3Dd2lkZ2V0TmFtZT1zcF9hdGY%26psc%3D1',\n",
       " 'https://www.amazon.in/sspa/click?ie=UTF8&spc=MTo3Mzk0NTc5NTc4NDA4ODA0OjE2ODYxNDQyNjg6c3BfYXRmOjIwMDkyNjI0MDIxNDk4OjowOjo&url=%2FPremium-Spruce-Top-Dreadnought-Acoustic-Guitar%2Fdp%2FB0BJK1CWSN%2Fref%3Dsr_1_3_sspa%3Fcrid%3D1B51XPNEQGEMJ%26keywords%3Dguitar%26qid%3D1686144268%26sprefix%3Dguitar%252Caps%252C12264%26sr%3D8-3-spons%26sp_csd%3Dd2lkZ2V0TmFtZT1zcF9hdGY%26psc%3D1',\n",
       " 'https://www.amazon.in/sspa/click?ie=UTF8&spc=MTo3Mzk0NTc5NTc4NDA4ODA0OjE2ODYxNDQyNjg6c3BfYXRmOjIwMTYzOTEzMDU5MDk4OjowOjo&url=%2FDEVICE-URBAN-INFOTECH-Professional-Beginners%2Fdp%2FB0C6DVVVCC%2Fref%3Dsr_1_4_sspa%3Fcrid%3D1B51XPNEQGEMJ%26keywords%3Dguitar%26qid%3D1686144268%26sprefix%3Dguitar%252Caps%252C12264%26sr%3D8-4-spons%26sp_csd%3Dd2lkZ2V0TmFtZT1zcF9hdGY%26psc%3D1',\n",
       " 'https://www.amazon.in/Juarez-Acoustic-Cutaway-038C-Strings/dp/B017NPCSLI/ref=sr_1_5?crid=1B51XPNEQGEMJ&keywords=guitar&qid=1686144268&sprefix=guitar%2Caps%2C12264&sr=8-5',\n",
       " 'https://www.amazon.in/Yamaha-F280-Acoustic-Guitar-Natural/dp/B08317Y4VP/ref=sr_1_6?crid=1B51XPNEQGEMJ&keywords=guitar&qid=1686144268&sprefix=guitar%2Caps%2C12264&sr=8-6',\n",
       " 'https://www.amazon.in/JUAREZ-JRZ38C-Acoustic-Sunburst-Strings/dp/B01FYYTDTU/ref=sr_1_7?crid=1B51XPNEQGEMJ&keywords=guitar&qid=1686144268&sprefix=guitar%2Caps%2C12264&sr=8-7',\n",
       " 'https://aax-eu.amazon.in/x/c/RAeWQz_-p_czFe04LDftXxYAAAGIlge5LQMAAAH2AQBvbm9fdHhuX2JpZDIgICBvbm9fdHhuX2ltcDEgICBTgKW-/https://www.amazon.in/Kadence-Acoustica-Ash-Wood-Equlizer/dp/B0757H5P13/ref=sxin_16_sbv_search_btf?content-id=amzn1.sym.ea7f11f8-e26c-4b10-84ad-15aa33ea30ac%3Aamzn1.sym.ea7f11f8-e26c-4b10-84ad-15aa33ea30ac&crid=1B51XPNEQGEMJ&cv_ct_cx=guitar&keywords=guitar&pd_rd_i=B0757H5P13&pd_rd_r=73071950-c983-4fe7-9768-ac88eae15846&pd_rd_w=K17Yy&pd_rd_wg=ZJmgW&pf_rd_p=ea7f11f8-e26c-4b10-84ad-15aa33ea30ac&pf_rd_r=D628WYE58Z31WY80M18H&qid=1686144268&sbo=RZvfv%2F%2FHxDF%2BO5021pAnSA%3D%3D&sprefix=guitar%2Caps%2C12264&sr=1-1-9131241a-a358-4619-a7b8-0f5a65d91d81',\n",
       " 'https://www.amazon.in/Kadence-Frontier-Acoustic-Guitar-Strings/dp/B01GDZ46AA/ref=sr_1_8?crid=1B51XPNEQGEMJ&keywords=guitar&qid=1686144268&sprefix=guitar%2Caps%2C12264&sr=8-8',\n",
       " 'https://www.amazon.in/JUAREZ-JRZ38C-Acoustic-Sunburst-Strings/dp/B01FYYTDS6/ref=sr_1_9?crid=1B51XPNEQGEMJ&keywords=guitar&qid=1686144268&sprefix=guitar%2Caps%2C12264&sr=8-9',\n",
       " 'https://www.amazon.in/Intern-Acoustic-Steel-string-plectrums-INT-38C-WH/dp/B09LR94Z2X/ref=sr_1_10?crid=1B51XPNEQGEMJ&keywords=guitar&qid=1686144268&sprefix=guitar%2Caps%2C12264&sr=8-10',\n",
       " 'https://www.amazon.in/Intern-INT-38C-Acoustic-Guitar-Blue/dp/B073B5RZBV/ref=sr_1_11?crid=1B51XPNEQGEMJ&keywords=guitar&qid=1686144268&sprefix=guitar%2Caps%2C12264&sr=8-11',\n",
       " 'https://www.amazon.in/Juarez-Acoustic-Guitar-Cutaway-Strings/dp/B076QHZ4HZ/ref=sr_1_12?crid=1B51XPNEQGEMJ&keywords=guitar&qid=1686144268&sprefix=guitar%2Caps%2C12264&sr=8-12',\n",
       " 'https://www.amazon.in/Yamaha-Classical-Guitar-C40-02/dp/B003UGCUFE/ref=sr_1_13?crid=1B51XPNEQGEMJ&keywords=guitar&qid=1686144268&sprefix=guitar%2Caps%2C12264&sr=8-13',\n",
       " 'https://www.amazon.in/Intern-38-inch-Cutaway-Design-Acoustic/dp/B07X4PN85R/ref=sr_1_14?crid=1B51XPNEQGEMJ&keywords=guitar&qid=1686144268&sprefix=guitar%2Caps%2C12264&sr=8-14',\n",
       " 'https://www.amazon.in/Yamaha-FS-100C-6-String-Acoustic-without/dp/B00PAS9CK6/ref=sr_1_15?crid=1B51XPNEQGEMJ&keywords=guitar&qid=1686144268&sprefix=guitar%2Caps%2C12264&sr=8-15',\n",
       " 'https://www.amazon.in/Henrix-Acoustic-Guitar-Die-cast-Dual-action/dp/B07VNDW6QF/ref=sr_1_16?crid=1B51XPNEQGEMJ&keywords=guitar&qid=1686144268&sprefix=guitar%2Caps%2C12264&sr=8-16',\n",
       " 'https://www.amazon.in/Kadence-Frontier-Acoustic-Guitar-Equalizer/dp/B01HRIHJWY/ref=sr_1_17?crid=1B51XPNEQGEMJ&keywords=guitar&qid=1686144268&sprefix=guitar%2Caps%2C12264&sr=8-17',\n",
       " 'https://www.amazon.in/Yamaha-F310-6-Strings-Acoustic-Natural/dp/B000RVYW7E/ref=sr_1_18?crid=1B51XPNEQGEMJ&keywords=guitar&qid=1686144268&sprefix=guitar%2Caps%2C12264&sr=8-18',\n",
       " 'https://www.amazon.in/Medellin-Acoustic-adjustable-Truss-rod-learning/dp/B0BMKX4HNP/ref=sr_1_19?crid=1B51XPNEQGEMJ&keywords=guitar&qid=1686144268&sprefix=guitar%2Caps%2C12264&sr=8-19',\n",
       " 'https://www.amazon.in/Kadence-Professional-Guitar-Sunburst-Strings/dp/B07SXH9JKX/ref=sr_1_20?crid=1B51XPNEQGEMJ&keywords=guitar&qid=1686144268&sprefix=guitar%2Caps%2C12264&sr=8-20',\n",
       " 'https://www.amazon.in/sspa/click?ie=UTF8&spc=MTo3Mzk0NTc5NTc4NDA4ODA0OjE2ODYxNDQyNjg6c3BfbXRmOjIwMDM2MjQ0NTU5NTk4OjowOjo&url=%2FTraveller-Acoustic-Guitar-Strings-Polishing%2Fdp%2FB07RK9962M%2Fref%3Dsr_1_21_sspa%3Fcrid%3D1B51XPNEQGEMJ%26keywords%3Dguitar%26qid%3D1686144268%26sprefix%3Dguitar%252Caps%252C12264%26sr%3D8-21-spons%26sp_csd%3Dd2lkZ2V0TmFtZT1zcF9tdGY%26psc%3D1',\n",
       " 'https://www.amazon.in/sspa/click?ie=UTF8&spc=MTo3Mzk0NTc5NTc4NDA4ODA0OjE2ODYxNDQyNjg6c3BfbXRmOjIwMTYzMzczMjUzMDk4OjowOjo&url=%2FImaginea%25C2%25AE-Acoustic-Integrated-Beautiful-Adjustment%2Fdp%2FB0C69RWYKB%2Fref%3Dsr_1_22_sspa%3Fcrid%3D1B51XPNEQGEMJ%26keywords%3Dguitar%26qid%3D1686144268%26sprefix%3Dguitar%252Caps%252C12264%26sr%3D8-22-spons%26sp_csd%3Dd2lkZ2V0TmFtZT1zcF9tdGY%26psc%3D1',\n",
       " 'https://www.amazon.in/sspa/click?ie=UTF8&spc=MTo3Mzk0NTc5NTc4NDA4ODA0OjE2ODYxNDQyNjg6c3BfbXRmOjIwMDMxNjg4MjI2MjAxOjowOjo&url=%2FGUITAR-BRO-Acoustic-Beginner-Accessories%2Fdp%2FB07T84GC8L%2Fref%3Dsr_1_23_sspa%3Fcrid%3D1B51XPNEQGEMJ%26keywords%3Dguitar%26qid%3D1686144268%26sprefix%3Dguitar%252Caps%252C12264%26sr%3D8-23-spons%26sp_csd%3Dd2lkZ2V0TmFtZT1zcF9tdGY%26psc%3D1',\n",
       " 'https://www.amazon.in/sspa/click?ie=UTF8&spc=MTo3Mzk0NTc5NTc4NDA4ODA0OjE2ODYxNDQyNjg6c3BfbXRmOjIwMTY1OTcxOTUxNzk4OjowOjo&url=%2FDEVICE-URBAN-INFOTECH-Instruments-Professional%2Fdp%2FB0C6PXF6HK%2Fref%3Dsr_1_24_sspa%3Fcrid%3D1B51XPNEQGEMJ%26keywords%3Dguitar%26qid%3D1686144268%26sprefix%3Dguitar%252Caps%252C12264%26sr%3D8-24-spons%26sp_csd%3Dd2lkZ2V0TmFtZT1zcF9tdGY%26psc%3D1',\n",
       " 'https://www.amazon.in/Kadence-Frontier-Acoustic-Guitar-Strings/dp/B078GTJP5Y/ref=sr_1_25?crid=1B51XPNEQGEMJ&keywords=guitar&qid=1686144268&sprefix=guitar%2Caps%2C12264&sr=8-25',\n",
       " 'https://www.amazon.in/Intern-INT-38C-Acoustic-Guitar-Sunburst/dp/B073B5MJRM/ref=sr_1_26?crid=1B51XPNEQGEMJ&keywords=guitar&qid=1686144268&sprefix=guitar%2Caps%2C12264&sr=8-26',\n",
       " 'https://www.amazon.in/Intern-INT-38C-Acoustic-Guitar-Kit/dp/B073B6TF31/ref=sr_1_27?crid=1B51XPNEQGEMJ&keywords=guitar&qid=1686144268&sprefix=guitar%2Caps%2C12264&sr=8-27',\n",
       " 'https://www.amazon.in/Yamaha-Acoustic-Guitar-Tobacco-Sunburst/dp/B08VXR74Q2/ref=sr_1_28?crid=1B51XPNEQGEMJ&keywords=guitar&qid=1686144268&sprefix=guitar%2Caps%2C12264&sr=8-28',\n",
       " 'https://www.amazon.in/Yamaha-FX280-acoustic-Dreadnought-Natural/dp/B09HR6BNFQ/ref=sr_1_29?crid=1B51XPNEQGEMJ&keywords=guitar&qid=1686144268&sprefix=guitar%2Caps%2C12264&sr=8-29',\n",
       " 'https://www.amazon.in/Juarez-JRZ-ST01-6-String-Electric-Without/dp/B01FYZSOGM/ref=sr_1_30?crid=1B51XPNEQGEMJ&keywords=guitar&qid=1686144268&sprefix=guitar%2Caps%2C12264&sr=8-30',\n",
       " 'https://www.amazon.in/Juarez-Acoustic-Cutaway-BK-Strings/dp/B076T3RHMG/ref=sr_1_31?crid=1B51XPNEQGEMJ&keywords=guitar&qid=1686144268&sprefix=guitar%2Caps%2C12264&sr=8-31',\n",
       " 'https://www.amazon.in/Rosewood-Fretboard-Acoustic-Strings-K-Retail/dp/B07KLG8C4P/ref=sr_1_32?crid=1B51XPNEQGEMJ&keywords=guitar&qid=1686144268&sprefix=guitar%2Caps%2C12264&sr=8-32',\n",
       " 'https://www.amazon.in/Intern-INT-38C-NT-G-Guitar-Kit-Natural/dp/B07K9MZZH9/ref=sr_1_33?crid=1B51XPNEQGEMJ&keywords=guitar&qid=1686144268&sprefix=guitar%2Caps%2C12264&sr=8-33',\n",
       " 'https://www.amazon.in/Blueberry-38C-Acoustic-Guitar-Strings/dp/B08KLMV4XX/ref=sr_1_34?crid=1B51XPNEQGEMJ&keywords=guitar&qid=1686144268&sprefix=guitar%2Caps%2C12264&sr=8-34',\n",
       " 'https://www.amazon.in/Acoustic-Plectrums-Beginner-Learners-configuration/dp/B0B4SSB8BJ/ref=sr_1_35?crid=1B51XPNEQGEMJ&keywords=guitar&qid=1686144268&sprefix=guitar%2Caps%2C12264&sr=8-35',\n",
       " 'https://www.amazon.in/Intern-INT-38C-Acoustic-Guitar-Purple/dp/B073B4CT2F/ref=sr_1_36?crid=1B51XPNEQGEMJ&keywords=guitar&qid=1686144268&sprefix=guitar%2Caps%2C12264&sr=8-36',\n",
       " 'https://www.amazon.in/Yamaha-PAC012-Electric-Guitar-Metallic/dp/B000MLY7XS/ref=sr_1_37?crid=1B51XPNEQGEMJ&keywords=guitar&qid=1686144268&sprefix=guitar%2Caps%2C12264&sr=8-37',\n",
       " 'https://www.amazon.in/Revel-RVL-38C-LGP-3TS-Linden-Acoustic-Sunburst/dp/B085HV4YW7/ref=sr_1_38?crid=1B51XPNEQGEMJ&keywords=guitar&qid=1686144268&sprefix=guitar%2Caps%2C12264&sr=8-38',\n",
       " 'https://www.amazon.in/Kadence-Slowhand-Premium-Acoustic-Instrument/dp/B077SZ667X/ref=sr_1_39?crid=1B51XPNEQGEMJ&keywords=guitar&qid=1686144268&sprefix=guitar%2Caps%2C12264&sr=8-39',\n",
       " 'https://www.amazon.in/Juarez-Acoustic-Guitar-Cutaway-Strings/dp/B084VRCCN7/ref=sr_1_40?crid=1B51XPNEQGEMJ&keywords=guitar&qid=1686144268&sprefix=guitar%2Caps%2C12264&sr=8-40',\n",
       " 'https://www.amazon.in/Kadence-Acoustica-Acoustic-Guitar-Zebra/dp/B07KXNKLJ2/ref=sr_1_41?crid=1B51XPNEQGEMJ&keywords=guitar&qid=1686144268&sprefix=guitar%2Caps%2C12264&sr=8-41',\n",
       " 'https://www.amazon.in/Yamaha-FSX80C-Acoustic-Cutaway-Natural/dp/B09HL3GFZF/ref=sr_1_42?crid=1B51XPNEQGEMJ&keywords=guitar&qid=1686144268&sprefix=guitar%2Caps%2C12264&sr=8-42',\n",
       " 'https://www.amazon.in/JRZ38C-Strings-Acoustic-Cutaway-Mahogany/dp/B071JM8C6T/ref=sr_1_43?crid=1B51XPNEQGEMJ&keywords=guitar&qid=1686144268&sprefix=guitar%2Caps%2C12264&sr=8-43',\n",
       " 'https://www.amazon.in/Yamaha-PACIFICA012-Electric-Guitar-Metallic/dp/B00REF6CII/ref=sr_1_44?crid=1B51XPNEQGEMJ&keywords=guitar&qid=1686144268&sprefix=guitar%2Caps%2C12264&sr=8-44',\n",
       " 'https://www.amazon.in/Yamaha-FSX80C-Acoustic-Cutaway-Guitar/dp/B09HL5WFDX/ref=sr_1_45?crid=1B51XPNEQGEMJ&keywords=guitar&qid=1686144268&sprefix=guitar%2Caps%2C12264&sr=8-45',\n",
       " 'https://www.amazon.in/Blueberry-VlP-405-TrussRod-Acoustic-Classic/dp/B0BVZBL1VJ/ref=sr_1_46?crid=1B51XPNEQGEMJ&keywords=guitar&qid=1686144268&sprefix=guitar%2Caps%2C12264&sr=8-46',\n",
       " 'https://www.amazon.in/Acoustic-plectrums-stability-resistance-Electric/dp/B09YH937P2/ref=sr_1_47?crid=1B51XPNEQGEMJ&keywords=guitar&qid=1686144268&sprefix=guitar%2Caps%2C12264&sr=8-47',\n",
       " 'https://www.amazon.in/Festra-38C-Acoustic-Strings-Sunburst/dp/B09JT67MS5/ref=sr_1_48?crid=1B51XPNEQGEMJ&keywords=guitar&qid=1686144268&sprefix=guitar%2Caps%2C12264&sr=8-48',\n",
       " 'https://www.amazon.in/Intern-INT-38C-Acoustic-Guitar-Natural/dp/B073B4D22T/ref=sr_1_49?crid=1B51XPNEQGEMJ&keywords=guitar&qid=1686144268&sprefix=guitar%2Caps%2C12264&sr=8-49',\n",
       " 'https://www.amazon.in/Tagima-Junior-Inch-Acoustic-Guitar/dp/B0BTBWJTGH/ref=sr_1_50?crid=1B51XPNEQGEMJ&keywords=guitar&qid=1686144268&sprefix=guitar%2Caps%2C12264&sr=8-50',\n",
       " 'https://www.amazon.in/Medellin-Acoustic-Guitar-Carbon-Learning/dp/B09MSGMQ3Y/ref=sr_1_51?crid=1B51XPNEQGEMJ&keywords=guitar&qid=1686144268&sprefix=guitar%2Caps%2C12264&sr=8-51',\n",
       " 'https://www.amazon.in/Acoustic-Pick-up-stability-professional-amplificaiton/dp/B09YH8X5CL/ref=sr_1_52?crid=1B51XPNEQGEMJ&keywords=guitar&qid=1686144268&sprefix=guitar%2Caps%2C12264&sr=8-52',\n",
       " 'https://www.amazon.in/Intern-INT-38C-BLS-G-Guitar-Kit-Blue/dp/B07K8YXTNW/ref=sr_1_53?crid=1B51XPNEQGEMJ&keywords=guitar&qid=1686144268&sprefix=guitar%2Caps%2C12264&sr=8-53',\n",
       " 'https://www.amazon.in/FX280-acoustic-Dreadnought-Tobacco-Sunburst/dp/B09HR7BXGW/ref=sr_1_54?crid=1B51XPNEQGEMJ&keywords=guitar&qid=1686144268&sprefix=guitar%2Caps%2C12264&sr=8-54',\n",
       " 'https://www.amazon.in/JUAREZ-Acoustic-Guitar-String-JRGSE32/dp/B08MW1WPW5/ref=sr_1_55?crid=1B51XPNEQGEMJ&keywords=guitar&qid=1686144268&sprefix=guitar%2Caps%2C12264&sr=8-55',\n",
       " 'https://www.amazon.in/Blueberry-Acoustic-Guitar-Inbuilt-Strings/dp/B07PHZ16BG/ref=sr_1_56?crid=1B51XPNEQGEMJ&keywords=guitar&qid=1686144268&sprefix=guitar%2Caps%2C12264&sr=8-56',\n",
       " 'https://www.amazon.in/sspa/click?ie=UTF8&spc=MTo3Mzk0NTc5NTc4NDA4ODA0OjE2ODYxNDQyNjg6c3BfYnRmOjIwMDg2MzMyMTYyOTAxOjowOjo&url=%2FUniversal-Acoustic-Classical-Mandolins-Instruments%2Fdp%2FB08XBRNC7T%2Fref%3Dsr_1_57_sspa%3Fcrid%3D1B51XPNEQGEMJ%26keywords%3Dguitar%26qid%3D1686144268%26sprefix%3Dguitar%252Caps%252C12264%26sr%3D8-57-spons%26sp_csd%3Dd2lkZ2V0TmFtZT1zcF9idGY%26psc%3D1',\n",
       " 'https://www.amazon.in/sspa/click?ie=UTF8&spc=MTo3Mzk0NTc5NTc4NDA4ODA0OjE2ODYxNDQyNjg6c3BfYXRmOjIwMDk2NjA4NzUwNDk4OjowOjo&url=%2FKadence-Frontier-Acoustic-Guitar-Strings%2Fdp%2FB01GDZ46AA%2Fref%3Dsr_1_1_sspa%3Fcrid%3D1B51XPNEQGEMJ%26keywords%3Dguitar%26qid%3D1686144268%26sprefix%3Dguitar%252Caps%252C12264%26sr%3D8-1-spons%26sp_csd%3Dd2lkZ2V0TmFtZT1zcF9hdGY%26psc%3D1%26smid%3DAM04Z7MH4HSDD',\n",
       " 'https://www.amazon.in/sspa/click?ie=UTF8&spc=MTo3Mzk0NTc5NTc4NDA4ODA0OjE2ODYxNDQyNjg6c3BfYXRmOjIwMTY2MzUyMTA0Nzk4OjowOjo&url=%2FRMC-POLO-GUITAR-YEARS-WARRANTY%2Fdp%2FB0C2NFQ953%2Fref%3Dsr_1_2_sspa%3Fcrid%3D1B51XPNEQGEMJ%26keywords%3Dguitar%26qid%3D1686144268%26sprefix%3Dguitar%252Caps%252C12264%26sr%3D8-2-spons%26sp_csd%3Dd2lkZ2V0TmFtZT1zcF9hdGY%26psc%3D1',\n",
       " 'https://www.amazon.in/sspa/click?ie=UTF8&spc=MTo3Mzk0NTc5NTc4NDA4ODA0OjE2ODYxNDQyNjg6c3BfYXRmOjIwMDkyNjI0MDIxNDk4OjowOjo&url=%2FPremium-Spruce-Top-Dreadnought-Acoustic-Guitar%2Fdp%2FB0BJK1CWSN%2Fref%3Dsr_1_3_sspa%3Fcrid%3D1B51XPNEQGEMJ%26keywords%3Dguitar%26qid%3D1686144268%26sprefix%3Dguitar%252Caps%252C12264%26sr%3D8-3-spons%26sp_csd%3Dd2lkZ2V0TmFtZT1zcF9hdGY%26psc%3D1',\n",
       " 'https://www.amazon.in/sspa/click?ie=UTF8&spc=MTo3Mzk0NTc5NTc4NDA4ODA0OjE2ODYxNDQyNjg6c3BfYXRmOjIwMTYzOTEzMDU5MDk4OjowOjo&url=%2FDEVICE-URBAN-INFOTECH-Professional-Beginners%2Fdp%2FB0C6DVVVCC%2Fref%3Dsr_1_4_sspa%3Fcrid%3D1B51XPNEQGEMJ%26keywords%3Dguitar%26qid%3D1686144268%26sprefix%3Dguitar%252Caps%252C12264%26sr%3D8-4-spons%26sp_csd%3Dd2lkZ2V0TmFtZT1zcF9hdGY%26psc%3D1',\n",
       " 'https://www.amazon.in/Juarez-Acoustic-Cutaway-038C-Strings/dp/B017NPCSLI/ref=sr_1_5?crid=1B51XPNEQGEMJ&keywords=guitar&qid=1686144268&sprefix=guitar%2Caps%2C12264&sr=8-5',\n",
       " 'https://www.amazon.in/Yamaha-F280-Acoustic-Guitar-Natural/dp/B08317Y4VP/ref=sr_1_6?crid=1B51XPNEQGEMJ&keywords=guitar&qid=1686144268&sprefix=guitar%2Caps%2C12264&sr=8-6',\n",
       " 'https://www.amazon.in/JUAREZ-JRZ38C-Acoustic-Sunburst-Strings/dp/B01FYYTDTU/ref=sr_1_7?crid=1B51XPNEQGEMJ&keywords=guitar&qid=1686144268&sprefix=guitar%2Caps%2C12264&sr=8-7',\n",
       " 'https://aax-eu.amazon.in/x/c/RAeWQz_-p_czFe04LDftXxYAAAGIlge5LQMAAAH2AQBvbm9fdHhuX2JpZDIgICBvbm9fdHhuX2ltcDEgICBTgKW-/https://www.amazon.in/Kadence-Acoustica-Ash-Wood-Equlizer/dp/B0757H5P13/ref=sxin_16_sbv_search_btf?content-id=amzn1.sym.ea7f11f8-e26c-4b10-84ad-15aa33ea30ac%3Aamzn1.sym.ea7f11f8-e26c-4b10-84ad-15aa33ea30ac&crid=1B51XPNEQGEMJ&cv_ct_cx=guitar&keywords=guitar&pd_rd_i=B0757H5P13&pd_rd_r=73071950-c983-4fe7-9768-ac88eae15846&pd_rd_w=K17Yy&pd_rd_wg=ZJmgW&pf_rd_p=ea7f11f8-e26c-4b10-84ad-15aa33ea30ac&pf_rd_r=D628WYE58Z31WY80M18H&qid=1686144268&sbo=RZvfv%2F%2FHxDF%2BO5021pAnSA%3D%3D&sprefix=guitar%2Caps%2C12264&sr=1-1-9131241a-a358-4619-a7b8-0f5a65d91d81',\n",
       " 'https://www.amazon.in/Kadence-Frontier-Acoustic-Guitar-Strings/dp/B01GDZ46AA/ref=sr_1_8?crid=1B51XPNEQGEMJ&keywords=guitar&qid=1686144268&sprefix=guitar%2Caps%2C12264&sr=8-8',\n",
       " 'https://www.amazon.in/JUAREZ-JRZ38C-Acoustic-Sunburst-Strings/dp/B01FYYTDS6/ref=sr_1_9?crid=1B51XPNEQGEMJ&keywords=guitar&qid=1686144268&sprefix=guitar%2Caps%2C12264&sr=8-9',\n",
       " 'https://www.amazon.in/Intern-Acoustic-Steel-string-plectrums-INT-38C-WH/dp/B09LR94Z2X/ref=sr_1_10?crid=1B51XPNEQGEMJ&keywords=guitar&qid=1686144268&sprefix=guitar%2Caps%2C12264&sr=8-10',\n",
       " 'https://www.amazon.in/Intern-INT-38C-Acoustic-Guitar-Blue/dp/B073B5RZBV/ref=sr_1_11?crid=1B51XPNEQGEMJ&keywords=guitar&qid=1686144268&sprefix=guitar%2Caps%2C12264&sr=8-11',\n",
       " 'https://www.amazon.in/Juarez-Acoustic-Guitar-Cutaway-Strings/dp/B076QHZ4HZ/ref=sr_1_12?crid=1B51XPNEQGEMJ&keywords=guitar&qid=1686144268&sprefix=guitar%2Caps%2C12264&sr=8-12',\n",
       " 'https://www.amazon.in/Yamaha-Classical-Guitar-C40-02/dp/B003UGCUFE/ref=sr_1_13?crid=1B51XPNEQGEMJ&keywords=guitar&qid=1686144268&sprefix=guitar%2Caps%2C12264&sr=8-13',\n",
       " 'https://www.amazon.in/Intern-38-inch-Cutaway-Design-Acoustic/dp/B07X4PN85R/ref=sr_1_14?crid=1B51XPNEQGEMJ&keywords=guitar&qid=1686144268&sprefix=guitar%2Caps%2C12264&sr=8-14',\n",
       " 'https://www.amazon.in/Yamaha-FS-100C-6-String-Acoustic-without/dp/B00PAS9CK6/ref=sr_1_15?crid=1B51XPNEQGEMJ&keywords=guitar&qid=1686144268&sprefix=guitar%2Caps%2C12264&sr=8-15',\n",
       " 'https://www.amazon.in/Henrix-Acoustic-Guitar-Die-cast-Dual-action/dp/B07VNDW6QF/ref=sr_1_16?crid=1B51XPNEQGEMJ&keywords=guitar&qid=1686144268&sprefix=guitar%2Caps%2C12264&sr=8-16',\n",
       " 'https://www.amazon.in/Kadence-Frontier-Acoustic-Guitar-Equalizer/dp/B01HRIHJWY/ref=sr_1_17?crid=1B51XPNEQGEMJ&keywords=guitar&qid=1686144268&sprefix=guitar%2Caps%2C12264&sr=8-17',\n",
       " 'https://www.amazon.in/Yamaha-F310-6-Strings-Acoustic-Natural/dp/B000RVYW7E/ref=sr_1_18?crid=1B51XPNEQGEMJ&keywords=guitar&qid=1686144268&sprefix=guitar%2Caps%2C12264&sr=8-18',\n",
       " 'https://www.amazon.in/Medellin-Acoustic-adjustable-Truss-rod-learning/dp/B0BMKX4HNP/ref=sr_1_19?crid=1B51XPNEQGEMJ&keywords=guitar&qid=1686144268&sprefix=guitar%2Caps%2C12264&sr=8-19',\n",
       " 'https://www.amazon.in/Kadence-Professional-Guitar-Sunburst-Strings/dp/B07SXH9JKX/ref=sr_1_20?crid=1B51XPNEQGEMJ&keywords=guitar&qid=1686144268&sprefix=guitar%2Caps%2C12264&sr=8-20',\n",
       " 'https://www.amazon.in/sspa/click?ie=UTF8&spc=MTo3Mzk0NTc5NTc4NDA4ODA0OjE2ODYxNDQyNjg6c3BfbXRmOjIwMDM2MjQ0NTU5NTk4OjowOjo&url=%2FTraveller-Acoustic-Guitar-Strings-Polishing%2Fdp%2FB07RK9962M%2Fref%3Dsr_1_21_sspa%3Fcrid%3D1B51XPNEQGEMJ%26keywords%3Dguitar%26qid%3D1686144268%26sprefix%3Dguitar%252Caps%252C12264%26sr%3D8-21-spons%26sp_csd%3Dd2lkZ2V0TmFtZT1zcF9tdGY%26psc%3D1',\n",
       " 'https://www.amazon.in/sspa/click?ie=UTF8&spc=MTo3Mzk0NTc5NTc4NDA4ODA0OjE2ODYxNDQyNjg6c3BfbXRmOjIwMTYzMzczMjUzMDk4OjowOjo&url=%2FImaginea%25C2%25AE-Acoustic-Integrated-Beautiful-Adjustment%2Fdp%2FB0C69RWYKB%2Fref%3Dsr_1_22_sspa%3Fcrid%3D1B51XPNEQGEMJ%26keywords%3Dguitar%26qid%3D1686144268%26sprefix%3Dguitar%252Caps%252C12264%26sr%3D8-22-spons%26sp_csd%3Dd2lkZ2V0TmFtZT1zcF9tdGY%26psc%3D1',\n",
       " 'https://www.amazon.in/sspa/click?ie=UTF8&spc=MTo3Mzk0NTc5NTc4NDA4ODA0OjE2ODYxNDQyNjg6c3BfbXRmOjIwMDMxNjg4MjI2MjAxOjowOjo&url=%2FGUITAR-BRO-Acoustic-Beginner-Accessories%2Fdp%2FB07T84GC8L%2Fref%3Dsr_1_23_sspa%3Fcrid%3D1B51XPNEQGEMJ%26keywords%3Dguitar%26qid%3D1686144268%26sprefix%3Dguitar%252Caps%252C12264%26sr%3D8-23-spons%26sp_csd%3Dd2lkZ2V0TmFtZT1zcF9tdGY%26psc%3D1',\n",
       " 'https://www.amazon.in/sspa/click?ie=UTF8&spc=MTo3Mzk0NTc5NTc4NDA4ODA0OjE2ODYxNDQyNjg6c3BfbXRmOjIwMTY1OTcxOTUxNzk4OjowOjo&url=%2FDEVICE-URBAN-INFOTECH-Instruments-Professional%2Fdp%2FB0C6PXF6HK%2Fref%3Dsr_1_24_sspa%3Fcrid%3D1B51XPNEQGEMJ%26keywords%3Dguitar%26qid%3D1686144268%26sprefix%3Dguitar%252Caps%252C12264%26sr%3D8-24-spons%26sp_csd%3Dd2lkZ2V0TmFtZT1zcF9tdGY%26psc%3D1',\n",
       " 'https://www.amazon.in/Kadence-Frontier-Acoustic-Guitar-Strings/dp/B078GTJP5Y/ref=sr_1_25?crid=1B51XPNEQGEMJ&keywords=guitar&qid=1686144268&sprefix=guitar%2Caps%2C12264&sr=8-25',\n",
       " 'https://www.amazon.in/Intern-INT-38C-Acoustic-Guitar-Sunburst/dp/B073B5MJRM/ref=sr_1_26?crid=1B51XPNEQGEMJ&keywords=guitar&qid=1686144268&sprefix=guitar%2Caps%2C12264&sr=8-26',\n",
       " 'https://www.amazon.in/Intern-INT-38C-Acoustic-Guitar-Kit/dp/B073B6TF31/ref=sr_1_27?crid=1B51XPNEQGEMJ&keywords=guitar&qid=1686144268&sprefix=guitar%2Caps%2C12264&sr=8-27',\n",
       " 'https://www.amazon.in/Yamaha-Acoustic-Guitar-Tobacco-Sunburst/dp/B08VXR74Q2/ref=sr_1_28?crid=1B51XPNEQGEMJ&keywords=guitar&qid=1686144268&sprefix=guitar%2Caps%2C12264&sr=8-28',\n",
       " 'https://www.amazon.in/Yamaha-FX280-acoustic-Dreadnought-Natural/dp/B09HR6BNFQ/ref=sr_1_29?crid=1B51XPNEQGEMJ&keywords=guitar&qid=1686144268&sprefix=guitar%2Caps%2C12264&sr=8-29',\n",
       " 'https://www.amazon.in/Juarez-JRZ-ST01-6-String-Electric-Without/dp/B01FYZSOGM/ref=sr_1_30?crid=1B51XPNEQGEMJ&keywords=guitar&qid=1686144268&sprefix=guitar%2Caps%2C12264&sr=8-30',\n",
       " 'https://www.amazon.in/Juarez-Acoustic-Cutaway-BK-Strings/dp/B076T3RHMG/ref=sr_1_31?crid=1B51XPNEQGEMJ&keywords=guitar&qid=1686144268&sprefix=guitar%2Caps%2C12264&sr=8-31',\n",
       " 'https://www.amazon.in/Rosewood-Fretboard-Acoustic-Strings-K-Retail/dp/B07KLG8C4P/ref=sr_1_32?crid=1B51XPNEQGEMJ&keywords=guitar&qid=1686144268&sprefix=guitar%2Caps%2C12264&sr=8-32',\n",
       " 'https://www.amazon.in/Intern-INT-38C-NT-G-Guitar-Kit-Natural/dp/B07K9MZZH9/ref=sr_1_33?crid=1B51XPNEQGEMJ&keywords=guitar&qid=1686144268&sprefix=guitar%2Caps%2C12264&sr=8-33',\n",
       " 'https://www.amazon.in/Blueberry-38C-Acoustic-Guitar-Strings/dp/B08KLMV4XX/ref=sr_1_34?crid=1B51XPNEQGEMJ&keywords=guitar&qid=1686144268&sprefix=guitar%2Caps%2C12264&sr=8-34',\n",
       " 'https://www.amazon.in/Acoustic-Plectrums-Beginner-Learners-configuration/dp/B0B4SSB8BJ/ref=sr_1_35?crid=1B51XPNEQGEMJ&keywords=guitar&qid=1686144268&sprefix=guitar%2Caps%2C12264&sr=8-35',\n",
       " 'https://www.amazon.in/Intern-INT-38C-Acoustic-Guitar-Purple/dp/B073B4CT2F/ref=sr_1_36?crid=1B51XPNEQGEMJ&keywords=guitar&qid=1686144268&sprefix=guitar%2Caps%2C12264&sr=8-36',\n",
       " 'https://www.amazon.in/Yamaha-PAC012-Electric-Guitar-Metallic/dp/B000MLY7XS/ref=sr_1_37?crid=1B51XPNEQGEMJ&keywords=guitar&qid=1686144268&sprefix=guitar%2Caps%2C12264&sr=8-37',\n",
       " 'https://www.amazon.in/Revel-RVL-38C-LGP-3TS-Linden-Acoustic-Sunburst/dp/B085HV4YW7/ref=sr_1_38?crid=1B51XPNEQGEMJ&keywords=guitar&qid=1686144268&sprefix=guitar%2Caps%2C12264&sr=8-38',\n",
       " 'https://www.amazon.in/Kadence-Slowhand-Premium-Acoustic-Instrument/dp/B077SZ667X/ref=sr_1_39?crid=1B51XPNEQGEMJ&keywords=guitar&qid=1686144268&sprefix=guitar%2Caps%2C12264&sr=8-39',\n",
       " 'https://www.amazon.in/Juarez-Acoustic-Guitar-Cutaway-Strings/dp/B084VRCCN7/ref=sr_1_40?crid=1B51XPNEQGEMJ&keywords=guitar&qid=1686144268&sprefix=guitar%2Caps%2C12264&sr=8-40',\n",
       " 'https://www.amazon.in/Kadence-Acoustica-Acoustic-Guitar-Zebra/dp/B07KXNKLJ2/ref=sr_1_41?crid=1B51XPNEQGEMJ&keywords=guitar&qid=1686144268&sprefix=guitar%2Caps%2C12264&sr=8-41',\n",
       " 'https://www.amazon.in/Yamaha-FSX80C-Acoustic-Cutaway-Natural/dp/B09HL3GFZF/ref=sr_1_42?crid=1B51XPNEQGEMJ&keywords=guitar&qid=1686144268&sprefix=guitar%2Caps%2C12264&sr=8-42',\n",
       " 'https://www.amazon.in/JRZ38C-Strings-Acoustic-Cutaway-Mahogany/dp/B071JM8C6T/ref=sr_1_43?crid=1B51XPNEQGEMJ&keywords=guitar&qid=1686144268&sprefix=guitar%2Caps%2C12264&sr=8-43',\n",
       " 'https://www.amazon.in/Yamaha-PACIFICA012-Electric-Guitar-Metallic/dp/B00REF6CII/ref=sr_1_44?crid=1B51XPNEQGEMJ&keywords=guitar&qid=1686144268&sprefix=guitar%2Caps%2C12264&sr=8-44',\n",
       " 'https://www.amazon.in/Yamaha-FSX80C-Acoustic-Cutaway-Guitar/dp/B09HL5WFDX/ref=sr_1_45?crid=1B51XPNEQGEMJ&keywords=guitar&qid=1686144268&sprefix=guitar%2Caps%2C12264&sr=8-45',\n",
       " 'https://www.amazon.in/Blueberry-VlP-405-TrussRod-Acoustic-Classic/dp/B0BVZBL1VJ/ref=sr_1_46?crid=1B51XPNEQGEMJ&keywords=guitar&qid=1686144268&sprefix=guitar%2Caps%2C12264&sr=8-46',\n",
       " 'https://www.amazon.in/Acoustic-plectrums-stability-resistance-Electric/dp/B09YH937P2/ref=sr_1_47?crid=1B51XPNEQGEMJ&keywords=guitar&qid=1686144268&sprefix=guitar%2Caps%2C12264&sr=8-47',\n",
       " 'https://www.amazon.in/Festra-38C-Acoustic-Strings-Sunburst/dp/B09JT67MS5/ref=sr_1_48?crid=1B51XPNEQGEMJ&keywords=guitar&qid=1686144268&sprefix=guitar%2Caps%2C12264&sr=8-48',\n",
       " 'https://www.amazon.in/Intern-INT-38C-Acoustic-Guitar-Natural/dp/B073B4D22T/ref=sr_1_49?crid=1B51XPNEQGEMJ&keywords=guitar&qid=1686144268&sprefix=guitar%2Caps%2C12264&sr=8-49',\n",
       " 'https://www.amazon.in/Tagima-Junior-Inch-Acoustic-Guitar/dp/B0BTBWJTGH/ref=sr_1_50?crid=1B51XPNEQGEMJ&keywords=guitar&qid=1686144268&sprefix=guitar%2Caps%2C12264&sr=8-50',\n",
       " 'https://www.amazon.in/Medellin-Acoustic-Guitar-Carbon-Learning/dp/B09MSGMQ3Y/ref=sr_1_51?crid=1B51XPNEQGEMJ&keywords=guitar&qid=1686144268&sprefix=guitar%2Caps%2C12264&sr=8-51',\n",
       " 'https://www.amazon.in/Acoustic-Pick-up-stability-professional-amplificaiton/dp/B09YH8X5CL/ref=sr_1_52?crid=1B51XPNEQGEMJ&keywords=guitar&qid=1686144268&sprefix=guitar%2Caps%2C12264&sr=8-52',\n",
       " 'https://www.amazon.in/Intern-INT-38C-BLS-G-Guitar-Kit-Blue/dp/B07K8YXTNW/ref=sr_1_53?crid=1B51XPNEQGEMJ&keywords=guitar&qid=1686144268&sprefix=guitar%2Caps%2C12264&sr=8-53',\n",
       " 'https://www.amazon.in/FX280-acoustic-Dreadnought-Tobacco-Sunburst/dp/B09HR7BXGW/ref=sr_1_54?crid=1B51XPNEQGEMJ&keywords=guitar&qid=1686144268&sprefix=guitar%2Caps%2C12264&sr=8-54',\n",
       " 'https://www.amazon.in/JUAREZ-Acoustic-Guitar-String-JRGSE32/dp/B08MW1WPW5/ref=sr_1_55?crid=1B51XPNEQGEMJ&keywords=guitar&qid=1686144268&sprefix=guitar%2Caps%2C12264&sr=8-55',\n",
       " 'https://www.amazon.in/Blueberry-Acoustic-Guitar-Inbuilt-Strings/dp/B07PHZ16BG/ref=sr_1_56?crid=1B51XPNEQGEMJ&keywords=guitar&qid=1686144268&sprefix=guitar%2Caps%2C12264&sr=8-56',\n",
       " 'https://www.amazon.in/sspa/click?ie=UTF8&spc=MTo3Mzk0NTc5NTc4NDA4ODA0OjE2ODYxNDQyNjg6c3BfYnRmOjIwMDg2MzMyMTYyOTAxOjowOjo&url=%2FUniversal-Acoustic-Classical-Mandolins-Instruments%2Fdp%2FB08XBRNC7T%2Fref%3Dsr_1_57_sspa%3Fcrid%3D1B51XPNEQGEMJ%26keywords%3Dguitar%26qid%3D1686144268%26sprefix%3Dguitar%252Caps%252C12264%26sr%3D8-57-spons%26sp_csd%3Dd2lkZ2V0TmFtZT1zcF9idGY%26psc%3D1']"
      ]
     },
     "execution_count": 14,
     "metadata": {},
     "output_type": "execute_result"
    }
   ],
   "source": [
    "pro_url\n"
   ]
  },
  {
   "cell_type": "code",
   "execution_count": 15,
   "id": "0187c942",
   "metadata": {},
   "outputs": [],
   "source": [
    "for i in pro_url:\n",
    "    driver.get(i)\n",
    "    time.sleep(4)\n",
    "    try:\n",
    "        product = driver.find_element(By.XPATH,'//span[@class=\"a-size-large product-title-word-break\"]')\n",
    "        product_name.append(product.text)\n",
    "    except NoSuchElementException:\n",
    "        product_name.append(\"-\")\n",
    "        "
   ]
  },
  {
   "cell_type": "code",
   "execution_count": 19,
   "id": "ccc98daa",
   "metadata": {},
   "outputs": [],
   "source": [
    "for i in pro_url:\n",
    "    driver.get(i)\n",
    "    time.sleep(4)\n",
    "    try:\n",
    "        prices = driver.find_element(By.XPATH,'/html/body/div[2]/div[2]/div[5]/div[3]/div[1]/div[3]/div/div[1]/div/div/div/form/div/div/div/div/div[2]/div[1]/div/span[1]/span[2]/span[2]')\n",
    "        price.append(prices.text)\n",
    "    except NoSuchElementException:\n",
    "        price.append('-')\n",
    "        "
   ]
  },
  {
   "cell_type": "code",
   "execution_count": 24,
   "id": "2edd2d14",
   "metadata": {},
   "outputs": [],
   "source": [
    "for i in pro_url:\n",
    "    driver.get(i)\n",
    "    time.sleep(4)\n",
    "    try:\n",
    "        ret_exc = driver.find_element(By.XPATH,'/html/body/div[2]/div[2]/div[5]/div[3]/div[4]/div[23]/div[2]/div/div/div/div[2]/div/ol/li[2]/div/span/div[2]/span')\n",
    "        brand.append(ret_exc.text)\n",
    "    except:\n",
    "        re.append('-')"
   ]
  },
  {
   "cell_type": "code",
   "execution_count": 26,
   "id": "8905630d",
   "metadata": {},
   "outputs": [],
   "source": [
    "for i in pro_url:\n",
    "    driver.get(i)\n",
    "    time.sleep(4)\n",
    "    try:\n",
    "        expected = driver.find_element(By.XPATH,'/html/body/div[2]/div[2]/div[5]/div[3]/div[1]/div[3]/div/div[1]/div/div/div/form/div/div/div/div/div[3]/div/div[2]/div[9]/div[1]/div/div/div/span/span[1]')\n",
    "        exp_del.append(expected.text)\n",
    "    except:\n",
    "        exp_del.append('-')"
   ]
  },
  {
   "cell_type": "code",
   "execution_count": 28,
   "id": "0cf68c6c",
   "metadata": {},
   "outputs": [],
   "source": [
    "from selenium.common.exceptions import StaleElementReferenceException\n",
    "from selenium.common.exceptions import NoSuchElementException  "
   ]
  },
  {
   "cell_type": "code",
   "execution_count": null,
   "id": "8336e148",
   "metadata": {},
   "outputs": [],
   "source": []
  },
  {
   "cell_type": "code",
   "execution_count": 37,
   "id": "38b5b953",
   "metadata": {},
   "outputs": [],
   "source": [
    "for i in pro_url:\n",
    "    driver.get(i)\n",
    "    time.sleep(4)\n",
    "    try:\n",
    "        brnd = driver.find_element(By.XPATH,'/html/body/div[2]/div[2]/div[5]/div[3]/div[4]/div[45]/div/table/tbody/tr[1]/td[2]/span')\n",
    "        brand.append(brnd.text)\n",
    "    except:\n",
    "        brand.append('-')"
   ]
  },
  {
   "cell_type": "code",
   "execution_count": 28,
   "id": "aff675db",
   "metadata": {},
   "outputs": [],
   "source": [
    "for i in pro_url:\n",
    "    driver.get(i)\n",
    "    time.sleep(4)\n",
    "    try:\n",
    "        avl = driver.find_element(By.XPATH,'/html/body/div[2]/div[2]/div[5]/div[3]/div[1]/div[3]/div/div[1]/div/div/div/form/div/div/div/div/div[3]/div/div[4]/div/div[1]')\n",
    "        available.append(avl.text)\n",
    "    except:\n",
    "        available.append('-')"
   ]
  },
  {
   "cell_type": "code",
   "execution_count": 47,
   "id": "199a5a60",
   "metadata": {},
   "outputs": [
    {
     "name": "stdout",
     "output_type": "stream",
     "text": [
      "168 168 168 168 168 168 168\n"
     ]
    }
   ],
   "source": [
    "print(len(brand),len( product_name),len(price),len(re),len(exp_del),len(available),len(pro_url))"
   ]
  },
  {
   "cell_type": "code",
   "execution_count": 48,
   "id": "165208d5",
   "metadata": {},
   "outputs": [],
   "source": [
    "amazon = pd.DataFrame({\"Brand_Name\":brand, \"Name_of_the_Product\":product_name, \"Price\":price, \"Return/Exchange\":re, \"Expected_Delivery\":exp_del, \"Availability\":available, \"Product_URL\":pro_url})"
   ]
  },
  {
   "cell_type": "code",
   "execution_count": 49,
   "id": "1c2fc4a6",
   "metadata": {},
   "outputs": [
    {
     "data": {
      "text/html": [
       "<div>\n",
       "<style scoped>\n",
       "    .dataframe tbody tr th:only-of-type {\n",
       "        vertical-align: middle;\n",
       "    }\n",
       "\n",
       "    .dataframe tbody tr th {\n",
       "        vertical-align: top;\n",
       "    }\n",
       "\n",
       "    .dataframe thead th {\n",
       "        text-align: right;\n",
       "    }\n",
       "</style>\n",
       "<table border=\"1\" class=\"dataframe\">\n",
       "  <thead>\n",
       "    <tr style=\"text-align: right;\">\n",
       "      <th></th>\n",
       "      <th>Brand_Name</th>\n",
       "      <th>Name_of_the_Product</th>\n",
       "      <th>Price</th>\n",
       "      <th>Return/Exchange</th>\n",
       "      <th>Expected_Delivery</th>\n",
       "      <th>Availability</th>\n",
       "      <th>Product_URL</th>\n",
       "    </tr>\n",
       "  </thead>\n",
       "  <tbody>\n",
       "    <tr>\n",
       "      <th>0</th>\n",
       "      <td>7 days Returnable</td>\n",
       "      <td>Kadence Frontier guitar with Online Guitar lea...</td>\n",
       "      <td>4,999</td>\n",
       "      <td>-</td>\n",
       "      <td>Friday, 9 June</td>\n",
       "      <td>In stock</td>\n",
       "      <td>https://www.amazon.in/sspa/click?ie=UTF8&amp;spc=M...</td>\n",
       "    </tr>\n",
       "    <tr>\n",
       "      <th>1</th>\n",
       "      <td>7 days Replacement</td>\n",
       "      <td>RMC POLO 39\" GUITAR WITH 3 YEARS WARRANTY</td>\n",
       "      <td>5,461</td>\n",
       "      <td>-</td>\n",
       "      <td>Thursday, 15 June</td>\n",
       "      <td>In stock</td>\n",
       "      <td>https://www.amazon.in/sspa/click?ie=UTF8&amp;spc=M...</td>\n",
       "    </tr>\n",
       "    <tr>\n",
       "      <th>2</th>\n",
       "      <td>7 days Returnable</td>\n",
       "      <td>Vault DA40 41 Inch Premium Solid Spruce-Top Dr...</td>\n",
       "      <td>7,299</td>\n",
       "      <td>-</td>\n",
       "      <td>Monday, 12 June</td>\n",
       "      <td>In stock</td>\n",
       "      <td>https://www.amazon.in/sspa/click?ie=UTF8&amp;spc=M...</td>\n",
       "    </tr>\n",
       "    <tr>\n",
       "      <th>3</th>\n",
       "      <td>7 days Replacement</td>\n",
       "      <td>DEVICE OF URBAN INFOTECH 41 inch Acoustic Guit...</td>\n",
       "      <td>5,448</td>\n",
       "      <td>-</td>\n",
       "      <td>Monday, 12 June</td>\n",
       "      <td>In stock</td>\n",
       "      <td>https://www.amazon.in/sspa/click?ie=UTF8&amp;spc=M...</td>\n",
       "    </tr>\n",
       "    <tr>\n",
       "      <th>4</th>\n",
       "      <td>7 days Returnable</td>\n",
       "      <td>Juârez Acoustic Guitar, 38 Inch Cutaway, 038C ...</td>\n",
       "      <td>1,999</td>\n",
       "      <td>-</td>\n",
       "      <td>9 - 12 June</td>\n",
       "      <td>In stock</td>\n",
       "      <td>https://www.amazon.in/Juarez-Acoustic-Cutaway-...</td>\n",
       "    </tr>\n",
       "    <tr>\n",
       "      <th>...</th>\n",
       "      <td>...</td>\n",
       "      <td>...</td>\n",
       "      <td>...</td>\n",
       "      <td>...</td>\n",
       "      <td>...</td>\n",
       "      <td>...</td>\n",
       "      <td>...</td>\n",
       "    </tr>\n",
       "    <tr>\n",
       "      <th>163</th>\n",
       "      <td>-</td>\n",
       "      <td>INTERN 41 inches Cutaway Shape Acoustic Guitar...</td>\n",
       "      <td>7,399</td>\n",
       "      <td>-</td>\n",
       "      <td>-</td>\n",
       "      <td>-</td>\n",
       "      <td>https://www.amazon.in/Acoustic-plectrums-stabi...</td>\n",
       "    </tr>\n",
       "    <tr>\n",
       "      <th>164</th>\n",
       "      <td>-</td>\n",
       "      <td>Festra 38C, 38 Inch Acoustic Guitar Kit with B...</td>\n",
       "      <td>-</td>\n",
       "      <td>-</td>\n",
       "      <td>Monday, 12 June</td>\n",
       "      <td>In stock</td>\n",
       "      <td>https://www.amazon.in/Festra-38C-Acoustic-Stri...</td>\n",
       "    </tr>\n",
       "    <tr>\n",
       "      <th>165</th>\n",
       "      <td>-</td>\n",
       "      <td>Intern INT-38C Acoustic Guitar Kit (Natural)</td>\n",
       "      <td>2,799</td>\n",
       "      <td>-</td>\n",
       "      <td>Sunday, 11 June</td>\n",
       "      <td>In stock</td>\n",
       "      <td>https://www.amazon.in/Intern-INT-38C-Acoustic-...</td>\n",
       "    </tr>\n",
       "    <tr>\n",
       "      <th>166</th>\n",
       "      <td>-</td>\n",
       "      <td>Tagima Junior 30 Inch Acoustic Guitar for Kids</td>\n",
       "      <td>-</td>\n",
       "      <td>-</td>\n",
       "      <td>Monday, 12 June</td>\n",
       "      <td>In stock</td>\n",
       "      <td>https://www.amazon.in/Tagima-Junior-Inch-Acous...</td>\n",
       "    </tr>\n",
       "    <tr>\n",
       "      <th>167</th>\n",
       "      <td>-</td>\n",
       "      <td>Medellin M38 carbon fiber body 38 Incheses Aco...</td>\n",
       "      <td>-</td>\n",
       "      <td>-</td>\n",
       "      <td>-</td>\n",
       "      <td>-</td>\n",
       "      <td>https://www.amazon.in/Medellin-Acoustic-Guitar...</td>\n",
       "    </tr>\n",
       "  </tbody>\n",
       "</table>\n",
       "<p>168 rows × 7 columns</p>\n",
       "</div>"
      ],
      "text/plain": [
       "             Brand_Name                                Name_of_the_Product  \\\n",
       "0     7 days Returnable  Kadence Frontier guitar with Online Guitar lea...   \n",
       "1    7 days Replacement          RMC POLO 39\" GUITAR WITH 3 YEARS WARRANTY   \n",
       "2     7 days Returnable  Vault DA40 41 Inch Premium Solid Spruce-Top Dr...   \n",
       "3    7 days Replacement  DEVICE OF URBAN INFOTECH 41 inch Acoustic Guit...   \n",
       "4     7 days Returnable  Juârez Acoustic Guitar, 38 Inch Cutaway, 038C ...   \n",
       "..                  ...                                                ...   \n",
       "163                   -  INTERN 41 inches Cutaway Shape Acoustic Guitar...   \n",
       "164                   -  Festra 38C, 38 Inch Acoustic Guitar Kit with B...   \n",
       "165                   -       Intern INT-38C Acoustic Guitar Kit (Natural)   \n",
       "166                   -     Tagima Junior 30 Inch Acoustic Guitar for Kids   \n",
       "167                   -  Medellin M38 carbon fiber body 38 Incheses Aco...   \n",
       "\n",
       "     Price Return/Exchange  Expected_Delivery Availability  \\\n",
       "0    4,999               -     Friday, 9 June     In stock   \n",
       "1    5,461               -  Thursday, 15 June     In stock   \n",
       "2    7,299               -    Monday, 12 June     In stock   \n",
       "3    5,448               -    Monday, 12 June     In stock   \n",
       "4    1,999               -        9 - 12 June     In stock   \n",
       "..     ...             ...                ...          ...   \n",
       "163  7,399               -                  -            -   \n",
       "164      -               -    Monday, 12 June     In stock   \n",
       "165  2,799               -    Sunday, 11 June     In stock   \n",
       "166      -               -    Monday, 12 June     In stock   \n",
       "167      -               -                  -            -   \n",
       "\n",
       "                                           Product_URL  \n",
       "0    https://www.amazon.in/sspa/click?ie=UTF8&spc=M...  \n",
       "1    https://www.amazon.in/sspa/click?ie=UTF8&spc=M...  \n",
       "2    https://www.amazon.in/sspa/click?ie=UTF8&spc=M...  \n",
       "3    https://www.amazon.in/sspa/click?ie=UTF8&spc=M...  \n",
       "4    https://www.amazon.in/Juarez-Acoustic-Cutaway-...  \n",
       "..                                                 ...  \n",
       "163  https://www.amazon.in/Acoustic-plectrums-stabi...  \n",
       "164  https://www.amazon.in/Festra-38C-Acoustic-Stri...  \n",
       "165  https://www.amazon.in/Intern-INT-38C-Acoustic-...  \n",
       "166  https://www.amazon.in/Tagima-Junior-Inch-Acous...  \n",
       "167  https://www.amazon.in/Medellin-Acoustic-Guitar...  \n",
       "\n",
       "[168 rows x 7 columns]"
      ]
     },
     "execution_count": 49,
     "metadata": {},
     "output_type": "execute_result"
    }
   ],
   "source": [
    "amazon"
   ]
  },
  {
   "cell_type": "code",
   "execution_count": 50,
   "id": "890f2190",
   "metadata": {},
   "outputs": [],
   "source": [
    "amazon.to_csv(\"product_search_guitar.csv\")"
   ]
  },
  {
   "cell_type": "code",
   "execution_count": null,
   "id": "7bbbd5dc",
   "metadata": {},
   "outputs": [],
   "source": []
  },
  {
   "cell_type": "code",
   "execution_count": 24,
   "id": "af7331ba",
   "metadata": {},
   "outputs": [],
   "source": [
    "driver1 = webdriver.Chrome(r'chromedriver.exe')"
   ]
  },
  {
   "cell_type": "code",
   "execution_count": 25,
   "id": "f682a3f9",
   "metadata": {},
   "outputs": [],
   "source": [
    "driver1.get('http://images.google.com/')"
   ]
  },
  {
   "cell_type": "code",
   "execution_count": 26,
   "id": "0ff27434",
   "metadata": {},
   "outputs": [
    {
     "name": "stdout",
     "output_type": "stream",
     "text": [
      "Please Enter Your Search : fruits\n"
     ]
    }
   ],
   "source": [
    "key_word = input(\"Please Enter Your Search : \")\n",
    "search_bar = driver1.find_element(By.XPATH,'/html/body/div[1]/div[3]/form/div[1]/div[1]/div[1]/div/div[2]/textarea')\n",
    "search_bar.send_keys(key_word)"
   ]
  },
  {
   "cell_type": "code",
   "execution_count": 27,
   "id": "d6302deb",
   "metadata": {},
   "outputs": [],
   "source": [
    "search_btn = driver1.find_element(By.XPATH,'//button[@class=\"Tg7LZd\"]')\n",
    "search_btn.click()"
   ]
  },
  {
   "cell_type": "code",
   "execution_count": 28,
   "id": "de9ea3a7",
   "metadata": {},
   "outputs": [],
   "source": [
    "fruits = []"
   ]
  },
  {
   "cell_type": "code",
   "execution_count": 29,
   "id": "992bfdde",
   "metadata": {},
   "outputs": [],
   "source": [
    "images = driver1.find_elements(By.XPATH,'//img[@class=\"rg_i Q4LuWd\"]')\n",
    "for i in images[0:10]:\n",
    "    fruits.append(i.get_attribute('src'))"
   ]
  },
  {
   "cell_type": "code",
   "execution_count": 30,
   "id": "c3845ce2",
   "metadata": {},
   "outputs": [
    {
     "name": "stdout",
     "output_type": "stream",
     "text": [
      "10\n"
     ]
    }
   ],
   "source": [
    "print(len(fruits))"
   ]
  },
  {
   "cell_type": "code",
   "execution_count": 31,
   "id": "ae70f01b",
   "metadata": {},
   "outputs": [],
   "source": [
    "driver1.close()"
   ]
  },
  {
   "cell_type": "code",
   "execution_count": 33,
   "id": "a1819450",
   "metadata": {},
   "outputs": [],
   "source": [
    "driver1 = webdriver.Chrome(r'chromedriver.exe')"
   ]
  },
  {
   "cell_type": "code",
   "execution_count": 34,
   "id": "895b1527",
   "metadata": {},
   "outputs": [],
   "source": [
    "driver1.get('http://images.google.com/')"
   ]
  },
  {
   "cell_type": "code",
   "execution_count": 35,
   "id": "ed81da55",
   "metadata": {},
   "outputs": [
    {
     "name": "stdout",
     "output_type": "stream",
     "text": [
      "Please Enter Your Search : cars\n"
     ]
    }
   ],
   "source": [
    "key_word = input(\"Please Enter Your Search : \")\n",
    "search_bar = driver1.find_element(By.XPATH,'/html/body/div[1]/div[3]/form/div[1]/div[1]/div[1]/div/div[2]/textarea')\n",
    "search_bar.send_keys(key_word)\n"
   ]
  },
  {
   "cell_type": "code",
   "execution_count": 36,
   "id": "6a3e07b3",
   "metadata": {},
   "outputs": [],
   "source": [
    "search_btn = driver1.find_element(By.XPATH,'//button[@class=\"Tg7LZd\"]')\n",
    "search_btn.click()"
   ]
  },
  {
   "cell_type": "code",
   "execution_count": 37,
   "id": "8df4b3c5",
   "metadata": {},
   "outputs": [],
   "source": [
    "cars = []"
   ]
  },
  {
   "cell_type": "code",
   "execution_count": 38,
   "id": "40fdd809",
   "metadata": {},
   "outputs": [],
   "source": [
    "images_cars = driver1.find_elements(By.XPATH,'//img[@class=\"rg_i Q4LuWd\"]')\n",
    "for i in images_cars[0:10]:\n",
    "    cars.append(i.get_attribute('src'))"
   ]
  },
  {
   "cell_type": "code",
   "execution_count": 39,
   "id": "7398e6c3",
   "metadata": {},
   "outputs": [
    {
     "name": "stdout",
     "output_type": "stream",
     "text": [
      "10\n"
     ]
    }
   ],
   "source": [
    "print(len(cars))"
   ]
  },
  {
   "cell_type": "code",
   "execution_count": 40,
   "id": "aafe5104",
   "metadata": {},
   "outputs": [],
   "source": [
    "driver1.close()"
   ]
  },
  {
   "cell_type": "code",
   "execution_count": 42,
   "id": "46a5c2c2",
   "metadata": {},
   "outputs": [
    {
     "name": "stdout",
     "output_type": "stream",
     "text": [
      "Please Enter Your Search : machine learning\n"
     ]
    }
   ],
   "source": [
    "driver1 = webdriver.Chrome(r'chromedriver.exe')\n",
    "\n",
    "\n",
    "driver1.get('http://images.google.com/')\n",
    "time.sleep(2)\n",
    "\n",
    "key_word = input(\"Please Enter Your Search : \")\n",
    "search_bar = driver1.find_element(By.XPATH,'/html/body/div[1]/div[3]/form/div[1]/div[1]/div[1]/div/div[2]/textarea')\n",
    "search_bar.send_keys(key_word)\n",
    "\n",
    "search_btn = driver1.find_element(By.XPATH,'//button[@class=\"Tg7LZd\"]')\n",
    "search_btn.click()"
   ]
  },
  {
   "cell_type": "code",
   "execution_count": 43,
   "id": "7971733e",
   "metadata": {},
   "outputs": [],
   "source": [
    "ml = []\n",
    "images_ml = driver1.find_elements(By.XPATH,'//img[@class=\"rg_i Q4LuWd\"]')\n",
    "for i in images_ml[0:10]:\n",
    "    ml.append(i.get_attribute('src'))"
   ]
  },
  {
   "cell_type": "code",
   "execution_count": 44,
   "id": "76988b0e",
   "metadata": {},
   "outputs": [
    {
     "name": "stdout",
     "output_type": "stream",
     "text": [
      "10\n"
     ]
    }
   ],
   "source": [
    "print(len(ml))"
   ]
  },
  {
   "cell_type": "code",
   "execution_count": 45,
   "id": "bc038785",
   "metadata": {},
   "outputs": [],
   "source": [
    "driver1.close()"
   ]
  },
  {
   "cell_type": "code",
   "execution_count": 12,
   "id": "3f251b00",
   "metadata": {},
   "outputs": [
    {
     "name": "stdout",
     "output_type": "stream",
     "text": [
      "Please Enter Your Search : guitar\n"
     ]
    }
   ],
   "source": [
    "driver1 = webdriver.Chrome(r'chromedriver.exe')\n",
    "\n",
    "\n",
    "driver1.get('http://images.google.com/')\n",
    "time.sleep(2)\n",
    "\n",
    "key_word = input(\"Please Enter Your Search : \")\n",
    "search_bar = driver1.find_element(By.XPATH,'/html/body/div[1]/div[3]/form/div[1]/div[1]/div[1]/div/div[2]/textarea')\n",
    "search_bar.send_keys(key_word)\n",
    "\n",
    "search_btn = driver1.find_element(By.XPATH,'//button[@class=\"Tg7LZd\"]')\n",
    "search_btn.click()"
   ]
  },
  {
   "cell_type": "code",
   "execution_count": 13,
   "id": "cad0d9dc",
   "metadata": {},
   "outputs": [],
   "source": [
    "gtr= []"
   ]
  },
  {
   "cell_type": "code",
   "execution_count": 14,
   "id": "4f523ae5",
   "metadata": {},
   "outputs": [],
   "source": [
    "images_gtr = driver1.find_elements(By.XPATH,'//img[@class=\"rg_i Q4LuWd\"]')#//img[@class=\"rg_i Q4LuWd\"]\n",
    "for i in images_gtr[0:10]:\n",
    "    gtr.append(i.get_attribute('src'))"
   ]
  },
  {
   "cell_type": "code",
   "execution_count": 15,
   "id": "98ca02dc",
   "metadata": {},
   "outputs": [
    {
     "name": "stdout",
     "output_type": "stream",
     "text": [
      "10\n"
     ]
    }
   ],
   "source": [
    "print(len(gtr))"
   ]
  },
  {
   "cell_type": "code",
   "execution_count": 16,
   "id": "addac7d6",
   "metadata": {},
   "outputs": [],
   "source": [
    "driver1.close()"
   ]
  },
  {
   "cell_type": "code",
   "execution_count": 17,
   "id": "737557c3",
   "metadata": {},
   "outputs": [
    {
     "name": "stdout",
     "output_type": "stream",
     "text": [
      "Please Enter Your Search : cakes\n"
     ]
    }
   ],
   "source": [
    "driver1 = webdriver.Chrome(r'chromedriver.exe')\n",
    "\n",
    "\n",
    "driver1.get('http://images.google.com/')\n",
    "time.sleep(2)\n",
    "\n",
    "key_word = input(\"Please Enter Your Search : \")\n",
    "search_bar = driver1.find_element(By.XPATH,'/html/body/div[1]/div[3]/form/div[1]/div[1]/div[1]/div/div[2]/textarea')\n",
    "search_bar.send_keys(key_word)\n",
    "\n",
    "search_btn = driver1.find_element(By.XPATH,'//button[@class=\"Tg7LZd\"]')\n",
    "search_btn.click()"
   ]
  },
  {
   "cell_type": "code",
   "execution_count": 18,
   "id": "1d42f71e",
   "metadata": {},
   "outputs": [],
   "source": [
    "cakes = []"
   ]
  },
  {
   "cell_type": "code",
   "execution_count": 20,
   "id": "cfa03a57",
   "metadata": {},
   "outputs": [],
   "source": [
    "images_cakes = driver1.find_elements(By.XPATH,'//img[@class=\"rg_i Q4LuWd\"]')#//img[@class=\"rg_i Q4LuWd\"]\n",
    "for i in images_cakes[0:10]:\n",
    "    cakes.append(i.get_attribute('src'))"
   ]
  },
  {
   "cell_type": "code",
   "execution_count": 21,
   "id": "22140efe",
   "metadata": {},
   "outputs": [
    {
     "name": "stdout",
     "output_type": "stream",
     "text": [
      "10\n"
     ]
    }
   ],
   "source": [
    "print(len(cakes))"
   ]
  },
  {
   "cell_type": "code",
   "execution_count": 22,
   "id": "ddccaaa9",
   "metadata": {},
   "outputs": [],
   "source": [
    "driver1.close()"
   ]
  },
  {
   "cell_type": "code",
   "execution_count": 46,
   "id": "23a1bb5a",
   "metadata": {},
   "outputs": [
    {
     "name": "stdout",
     "output_type": "stream",
     "text": [
      "10 10 10 10 10\n"
     ]
    }
   ],
   "source": [
    "print(len(fruits), len(cars), len(ml), len(gtr), len(cakes))"
   ]
  },
  {
   "cell_type": "code",
   "execution_count": 47,
   "id": "12a34742",
   "metadata": {},
   "outputs": [],
   "source": [
    "prgm_of_ten = pd.DataFrame({\"fruits\":fruits, \"cars\":cars, \"Machine Learning\":ml, \"Guitar\":gtr, \"Cakes\":cakes})"
   ]
  },
  {
   "cell_type": "code",
   "execution_count": 48,
   "id": "9c0adf76",
   "metadata": {},
   "outputs": [
    {
     "data": {
      "text/html": [
       "<div>\n",
       "<style scoped>\n",
       "    .dataframe tbody tr th:only-of-type {\n",
       "        vertical-align: middle;\n",
       "    }\n",
       "\n",
       "    .dataframe tbody tr th {\n",
       "        vertical-align: top;\n",
       "    }\n",
       "\n",
       "    .dataframe thead th {\n",
       "        text-align: right;\n",
       "    }\n",
       "</style>\n",
       "<table border=\"1\" class=\"dataframe\">\n",
       "  <thead>\n",
       "    <tr style=\"text-align: right;\">\n",
       "      <th></th>\n",
       "      <th>fruits</th>\n",
       "      <th>cars</th>\n",
       "      <th>Machine Learning</th>\n",
       "      <th>Guitar</th>\n",
       "      <th>Cakes</th>\n",
       "    </tr>\n",
       "  </thead>\n",
       "  <tbody>\n",
       "    <tr>\n",
       "      <th>0</th>\n",
       "      <td>data:image/jpeg;base64,/9j/4AAQSkZJRgABAQAAAQA...</td>\n",
       "      <td>data:image/jpeg;base64,/9j/4AAQSkZJRgABAQAAAQA...</td>\n",
       "      <td>data:image/jpeg;base64,/9j/4AAQSkZJRgABAQAAAQA...</td>\n",
       "      <td>data:image/jpeg;base64,/9j/4AAQSkZJRgABAQAAAQA...</td>\n",
       "      <td>data:image/jpeg;base64,/9j/4AAQSkZJRgABAQAAAQA...</td>\n",
       "    </tr>\n",
       "    <tr>\n",
       "      <th>1</th>\n",
       "      <td>data:image/jpeg;base64,/9j/4AAQSkZJRgABAQAAAQA...</td>\n",
       "      <td>data:image/jpeg;base64,/9j/4AAQSkZJRgABAQAAAQA...</td>\n",
       "      <td>data:image/png;base64,iVBORw0KGgoAAAANSUhEUgAA...</td>\n",
       "      <td>data:image/jpeg;base64,/9j/4AAQSkZJRgABAQAAAQA...</td>\n",
       "      <td>data:image/jpeg;base64,/9j/4AAQSkZJRgABAQAAAQA...</td>\n",
       "    </tr>\n",
       "    <tr>\n",
       "      <th>2</th>\n",
       "      <td>data:image/jpeg;base64,/9j/4AAQSkZJRgABAQAAAQA...</td>\n",
       "      <td>data:image/jpeg;base64,/9j/4AAQSkZJRgABAQAAAQA...</td>\n",
       "      <td>data:image/jpeg;base64,/9j/4AAQSkZJRgABAQAAAQA...</td>\n",
       "      <td>data:image/jpeg;base64,/9j/4AAQSkZJRgABAQAAAQA...</td>\n",
       "      <td>data:image/jpeg;base64,/9j/4AAQSkZJRgABAQAAAQA...</td>\n",
       "    </tr>\n",
       "    <tr>\n",
       "      <th>3</th>\n",
       "      <td>data:image/jpeg;base64,/9j/4AAQSkZJRgABAQAAAQA...</td>\n",
       "      <td>data:image/jpeg;base64,/9j/4AAQSkZJRgABAQAAAQA...</td>\n",
       "      <td>data:image/jpeg;base64,/9j/4AAQSkZJRgABAQAAAQA...</td>\n",
       "      <td>data:image/jpeg;base64,/9j/4AAQSkZJRgABAQAAAQA...</td>\n",
       "      <td>data:image/jpeg;base64,/9j/4AAQSkZJRgABAQAAAQA...</td>\n",
       "    </tr>\n",
       "    <tr>\n",
       "      <th>4</th>\n",
       "      <td>data:image/jpeg;base64,/9j/4AAQSkZJRgABAQAAAQA...</td>\n",
       "      <td>data:image/jpeg;base64,/9j/4AAQSkZJRgABAQAAAQA...</td>\n",
       "      <td>data:image/jpeg;base64,/9j/4AAQSkZJRgABAQAAAQA...</td>\n",
       "      <td>data:image/jpeg;base64,/9j/4AAQSkZJRgABAQAAAQA...</td>\n",
       "      <td>data:image/jpeg;base64,/9j/4AAQSkZJRgABAQAAAQA...</td>\n",
       "    </tr>\n",
       "    <tr>\n",
       "      <th>5</th>\n",
       "      <td>data:image/jpeg;base64,/9j/4AAQSkZJRgABAQAAAQA...</td>\n",
       "      <td>data:image/jpeg;base64,/9j/4AAQSkZJRgABAQAAAQA...</td>\n",
       "      <td>data:image/jpeg;base64,/9j/4AAQSkZJRgABAQAAAQA...</td>\n",
       "      <td>data:image/jpeg;base64,/9j/4AAQSkZJRgABAQAAAQA...</td>\n",
       "      <td>data:image/jpeg;base64,/9j/4AAQSkZJRgABAQAAAQA...</td>\n",
       "    </tr>\n",
       "    <tr>\n",
       "      <th>6</th>\n",
       "      <td>data:image/jpeg;base64,/9j/4AAQSkZJRgABAQAAAQA...</td>\n",
       "      <td>data:image/jpeg;base64,/9j/4AAQSkZJRgABAQAAAQA...</td>\n",
       "      <td>data:image/jpeg;base64,/9j/4AAQSkZJRgABAQAAAQA...</td>\n",
       "      <td>data:image/jpeg;base64,/9j/4AAQSkZJRgABAQAAAQA...</td>\n",
       "      <td>data:image/jpeg;base64,/9j/4AAQSkZJRgABAQAAAQA...</td>\n",
       "    </tr>\n",
       "    <tr>\n",
       "      <th>7</th>\n",
       "      <td>data:image/png;base64,iVBORw0KGgoAAAANSUhEUgAA...</td>\n",
       "      <td>data:image/jpeg;base64,/9j/4AAQSkZJRgABAQAAAQA...</td>\n",
       "      <td>data:image/jpeg;base64,/9j/4AAQSkZJRgABAQAAAQA...</td>\n",
       "      <td>data:image/jpeg;base64,/9j/4AAQSkZJRgABAQAAAQA...</td>\n",
       "      <td>data:image/jpeg;base64,/9j/4AAQSkZJRgABAQAAAQA...</td>\n",
       "    </tr>\n",
       "    <tr>\n",
       "      <th>8</th>\n",
       "      <td>data:image/jpeg;base64,/9j/4AAQSkZJRgABAQAAAQA...</td>\n",
       "      <td>data:image/jpeg;base64,/9j/4AAQSkZJRgABAQAAAQA...</td>\n",
       "      <td>data:image/jpeg;base64,/9j/4AAQSkZJRgABAQAAAQA...</td>\n",
       "      <td>data:image/png;base64,iVBORw0KGgoAAAANSUhEUgAA...</td>\n",
       "      <td>data:image/jpeg;base64,/9j/4AAQSkZJRgABAQAAAQA...</td>\n",
       "    </tr>\n",
       "    <tr>\n",
       "      <th>9</th>\n",
       "      <td>data:image/jpeg;base64,/9j/4AAQSkZJRgABAQAAAQA...</td>\n",
       "      <td>data:image/jpeg;base64,/9j/4AAQSkZJRgABAQAAAQA...</td>\n",
       "      <td>data:image/jpeg;base64,/9j/4AAQSkZJRgABAQAAAQA...</td>\n",
       "      <td>data:image/jpeg;base64,/9j/4AAQSkZJRgABAQAAAQA...</td>\n",
       "      <td>data:image/jpeg;base64,/9j/4AAQSkZJRgABAQAAAQA...</td>\n",
       "    </tr>\n",
       "  </tbody>\n",
       "</table>\n",
       "</div>"
      ],
      "text/plain": [
       "                                              fruits  \\\n",
       "0  data:image/jpeg;base64,/9j/4AAQSkZJRgABAQAAAQA...   \n",
       "1  data:image/jpeg;base64,/9j/4AAQSkZJRgABAQAAAQA...   \n",
       "2  data:image/jpeg;base64,/9j/4AAQSkZJRgABAQAAAQA...   \n",
       "3  data:image/jpeg;base64,/9j/4AAQSkZJRgABAQAAAQA...   \n",
       "4  data:image/jpeg;base64,/9j/4AAQSkZJRgABAQAAAQA...   \n",
       "5  data:image/jpeg;base64,/9j/4AAQSkZJRgABAQAAAQA...   \n",
       "6  data:image/jpeg;base64,/9j/4AAQSkZJRgABAQAAAQA...   \n",
       "7  data:image/png;base64,iVBORw0KGgoAAAANSUhEUgAA...   \n",
       "8  data:image/jpeg;base64,/9j/4AAQSkZJRgABAQAAAQA...   \n",
       "9  data:image/jpeg;base64,/9j/4AAQSkZJRgABAQAAAQA...   \n",
       "\n",
       "                                                cars  \\\n",
       "0  data:image/jpeg;base64,/9j/4AAQSkZJRgABAQAAAQA...   \n",
       "1  data:image/jpeg;base64,/9j/4AAQSkZJRgABAQAAAQA...   \n",
       "2  data:image/jpeg;base64,/9j/4AAQSkZJRgABAQAAAQA...   \n",
       "3  data:image/jpeg;base64,/9j/4AAQSkZJRgABAQAAAQA...   \n",
       "4  data:image/jpeg;base64,/9j/4AAQSkZJRgABAQAAAQA...   \n",
       "5  data:image/jpeg;base64,/9j/4AAQSkZJRgABAQAAAQA...   \n",
       "6  data:image/jpeg;base64,/9j/4AAQSkZJRgABAQAAAQA...   \n",
       "7  data:image/jpeg;base64,/9j/4AAQSkZJRgABAQAAAQA...   \n",
       "8  data:image/jpeg;base64,/9j/4AAQSkZJRgABAQAAAQA...   \n",
       "9  data:image/jpeg;base64,/9j/4AAQSkZJRgABAQAAAQA...   \n",
       "\n",
       "                                    Machine Learning  \\\n",
       "0  data:image/jpeg;base64,/9j/4AAQSkZJRgABAQAAAQA...   \n",
       "1  data:image/png;base64,iVBORw0KGgoAAAANSUhEUgAA...   \n",
       "2  data:image/jpeg;base64,/9j/4AAQSkZJRgABAQAAAQA...   \n",
       "3  data:image/jpeg;base64,/9j/4AAQSkZJRgABAQAAAQA...   \n",
       "4  data:image/jpeg;base64,/9j/4AAQSkZJRgABAQAAAQA...   \n",
       "5  data:image/jpeg;base64,/9j/4AAQSkZJRgABAQAAAQA...   \n",
       "6  data:image/jpeg;base64,/9j/4AAQSkZJRgABAQAAAQA...   \n",
       "7  data:image/jpeg;base64,/9j/4AAQSkZJRgABAQAAAQA...   \n",
       "8  data:image/jpeg;base64,/9j/4AAQSkZJRgABAQAAAQA...   \n",
       "9  data:image/jpeg;base64,/9j/4AAQSkZJRgABAQAAAQA...   \n",
       "\n",
       "                                              Guitar  \\\n",
       "0  data:image/jpeg;base64,/9j/4AAQSkZJRgABAQAAAQA...   \n",
       "1  data:image/jpeg;base64,/9j/4AAQSkZJRgABAQAAAQA...   \n",
       "2  data:image/jpeg;base64,/9j/4AAQSkZJRgABAQAAAQA...   \n",
       "3  data:image/jpeg;base64,/9j/4AAQSkZJRgABAQAAAQA...   \n",
       "4  data:image/jpeg;base64,/9j/4AAQSkZJRgABAQAAAQA...   \n",
       "5  data:image/jpeg;base64,/9j/4AAQSkZJRgABAQAAAQA...   \n",
       "6  data:image/jpeg;base64,/9j/4AAQSkZJRgABAQAAAQA...   \n",
       "7  data:image/jpeg;base64,/9j/4AAQSkZJRgABAQAAAQA...   \n",
       "8  data:image/png;base64,iVBORw0KGgoAAAANSUhEUgAA...   \n",
       "9  data:image/jpeg;base64,/9j/4AAQSkZJRgABAQAAAQA...   \n",
       "\n",
       "                                               Cakes  \n",
       "0  data:image/jpeg;base64,/9j/4AAQSkZJRgABAQAAAQA...  \n",
       "1  data:image/jpeg;base64,/9j/4AAQSkZJRgABAQAAAQA...  \n",
       "2  data:image/jpeg;base64,/9j/4AAQSkZJRgABAQAAAQA...  \n",
       "3  data:image/jpeg;base64,/9j/4AAQSkZJRgABAQAAAQA...  \n",
       "4  data:image/jpeg;base64,/9j/4AAQSkZJRgABAQAAAQA...  \n",
       "5  data:image/jpeg;base64,/9j/4AAQSkZJRgABAQAAAQA...  \n",
       "6  data:image/jpeg;base64,/9j/4AAQSkZJRgABAQAAAQA...  \n",
       "7  data:image/jpeg;base64,/9j/4AAQSkZJRgABAQAAAQA...  \n",
       "8  data:image/jpeg;base64,/9j/4AAQSkZJRgABAQAAAQA...  \n",
       "9  data:image/jpeg;base64,/9j/4AAQSkZJRgABAQAAAQA...  "
      ]
     },
     "execution_count": 48,
     "metadata": {},
     "output_type": "execute_result"
    }
   ],
   "source": [
    "prgm_of_ten"
   ]
  },
  {
   "cell_type": "markdown",
   "id": "2cefe540",
   "metadata": {},
   "source": [
    "Write a python program to search for a smartphone(e.g.: Oneplus Nord, pixel 4A, etc.) on www.flipkart.com and scrape following details for all the search results displayed on 1st page. Details to be scraped: “Brand Name”, “Smartphone name”, “Colour”, “RAM”, “Storage(ROM)”, “Primary Camera”, “Secondary Camera”, “Display Size”, “Battery Capacity”, “Price”, “Product URL”. Incase if any of the details is missing then replace it by “- “. Save your results in a dataframe and CSV"
   ]
  },
  {
   "cell_type": "code",
   "execution_count": 3,
   "id": "0107c4e1",
   "metadata": {},
   "outputs": [],
   "source": [
    "driver2 = webdriver.Chrome(r'chromedriver.exe')\n"
   ]
  },
  {
   "cell_type": "code",
   "execution_count": 4,
   "id": "f00ff24a",
   "metadata": {},
   "outputs": [],
   "source": [
    "driver2.get(r'https://www.flipkart.com/')"
   ]
  },
  {
   "cell_type": "code",
   "execution_count": 5,
   "id": "ea1f1909",
   "metadata": {},
   "outputs": [
    {
     "name": "stdout",
     "output_type": "stream",
     "text": [
      "Enter mobile name : smartphone\n"
     ]
    }
   ],
   "source": [
    "k = input(\"Enter mobile name : \")\n",
    "search_bar = driver2.find_element(By.XPATH,'//input[@class=\"_3704LK\"]')\n",
    "search_bar.send_keys(k)"
   ]
  },
  {
   "cell_type": "code",
   "execution_count": 6,
   "id": "3a4b5fbb",
   "metadata": {},
   "outputs": [],
   "source": [
    "srch_btn = driver2.find_element(By.XPATH,'//button[@class=\"L0Z3Pu\"]')\n",
    "srch_btn.click()"
   ]
  },
  {
   "cell_type": "code",
   "execution_count": 7,
   "id": "fd4ec1ab",
   "metadata": {},
   "outputs": [],
   "source": [
    "p_url = []"
   ]
  },
  {
   "cell_type": "code",
   "execution_count": 8,
   "id": "cb1fd214",
   "metadata": {},
   "outputs": [],
   "source": [
    "href = driver2.find_elements(By.XPATH,'//a[@class=\"_1fQZEK\"]')\n",
    "\n",
    "for i in href:\n",
    "    p_url.append(i.get_attribute(\"href\"))"
   ]
  },
  {
   "cell_type": "code",
   "execution_count": 9,
   "id": "566c836d",
   "metadata": {},
   "outputs": [
    {
     "name": "stdout",
     "output_type": "stream",
     "text": [
      "24\n"
     ]
    }
   ],
   "source": [
    "print(len(p_url))"
   ]
  },
  {
   "cell_type": "code",
   "execution_count": 10,
   "id": "dac2ce09",
   "metadata": {},
   "outputs": [],
   "source": [
    "smart_name = []"
   ]
  },
  {
   "cell_type": "code",
   "execution_count": 11,
   "id": "0f452e0c",
   "metadata": {},
   "outputs": [],
   "source": [
    "for b in p_url:\n",
    "    driver2.get(b)\n",
    "    time.sleep(3)\n",
    "    \n",
    "    try:\n",
    "        name = driver2.find_element(By.XPATH,'//span[@class=\"B_NuCI\"]')\n",
    "        smart_name.append(name.text)\n",
    "    except:\n",
    "        smart_name.append(\"-\")\n",
    "    \n",
    "    "
   ]
  },
  {
   "cell_type": "code",
   "execution_count": 12,
   "id": "a7a97c97",
   "metadata": {},
   "outputs": [
    {
     "name": "stdout",
     "output_type": "stream",
     "text": [
      "24\n"
     ]
    }
   ],
   "source": [
    "print(len(smart_name))"
   ]
  },
  {
   "cell_type": "code",
   "execution_count": 13,
   "id": "39310e50",
   "metadata": {},
   "outputs": [
    {
     "name": "stdout",
     "output_type": "stream",
     "text": [
      "['POCO C51 (Royal Blue, 64 GB)  (4 GB RAM)', 'POCO C51 (Power Black, 64 GB)  (4 GB RAM)', 'SAMSUNG Galaxy F04 (Opal Green, 64 GB)  (4 GB RAM)', 'SAMSUNG Galaxy F13 (Waterfall Blue, 128 GB)  (4 GB RAM)', 'MOTOROLA e13 (Cosmic Black, 64 GB)  (4 GB RAM)', 'MOTOROLA e32 (Arctic Blue, 64 GB)  (4 GB RAM)', 'MOTOROLA g13 (Matte Charcoal, 128 GB)  (4 GB RAM)', 'POCO M5 (Icy Blue, 64 GB)  (4 GB RAM)', 'Infinix HOT 30i (Diamond White, 128 GB)  (8 GB RAM)', 'Infinix HOT 30i (Glacier Blue, 64 GB)  (4 GB RAM)', 'Infinix HOT 30i (Mirror Black, 64 GB)  (4 GB RAM)', 'Infinix HOT 30i (Glacier Blue, 128 GB)  (8 GB RAM)', 'Infinix HOT 30i (Diamond White, 64 GB)  (4 GB RAM)', 'MOTOROLA G32 (Mineral Gray, 128 GB)  (8 GB RAM)', 'Infinix SMART 7 (Azure Blue, 64 GB)  (4 GB RAM)', 'Infinix SMART 7 (Night Black, 64 GB)  (4 GB RAM)', 'Infinix HOT 30i (Mirror Black, 128 GB)  (8 GB RAM)', 'SAMSUNG Galaxy F04 (Jade Purple, 64 GB)  (4 GB RAM)', 'Infinix SMART 7 (Emerald Green, 64 GB)  (4 GB RAM)', 'vivo T2x 5G (Marine Blue, 128 GB)  (8 GB RAM)', 'vivo T2x 5G (Glimmer Black, 128 GB)  (8 GB RAM)', 'vivo T2x 5G (Aurora Gold, 128 GB)  (8 GB RAM)', 'vivo T2x 5G (Marine Blue, 128 GB)  (6 GB RAM)', 'vivo T2x 5G (Glimmer Black, 128 GB)  (4 GB RAM)']\n"
     ]
    }
   ],
   "source": [
    "print(smart_name)"
   ]
  },
  {
   "cell_type": "code",
   "execution_count": 14,
   "id": "2649fa65",
   "metadata": {},
   "outputs": [],
   "source": [
    "brand = []"
   ]
  },
  {
   "cell_type": "code",
   "execution_count": 15,
   "id": "50598087",
   "metadata": {},
   "outputs": [],
   "source": [
    "for b in smart_name:\n",
    "    bn = b.split(' ')[0]\n",
    "    brand.append(bn)"
   ]
  },
  {
   "cell_type": "code",
   "execution_count": 16,
   "id": "4ca47e05",
   "metadata": {},
   "outputs": [
    {
     "data": {
      "text/plain": [
       "['POCO',\n",
       " 'POCO',\n",
       " 'SAMSUNG',\n",
       " 'SAMSUNG',\n",
       " 'MOTOROLA',\n",
       " 'MOTOROLA',\n",
       " 'MOTOROLA',\n",
       " 'POCO',\n",
       " 'Infinix',\n",
       " 'Infinix',\n",
       " 'Infinix',\n",
       " 'Infinix',\n",
       " 'Infinix',\n",
       " 'MOTOROLA',\n",
       " 'Infinix',\n",
       " 'Infinix',\n",
       " 'Infinix',\n",
       " 'SAMSUNG',\n",
       " 'Infinix',\n",
       " 'vivo',\n",
       " 'vivo',\n",
       " 'vivo',\n",
       " 'vivo',\n",
       " 'vivo']"
      ]
     },
     "execution_count": 16,
     "metadata": {},
     "output_type": "execute_result"
    }
   ],
   "source": [
    "brand"
   ]
  },
  {
   "cell_type": "code",
   "execution_count": 17,
   "id": "03cbbfc8",
   "metadata": {},
   "outputs": [
    {
     "name": "stdout",
     "output_type": "stream",
     "text": [
      "24\n"
     ]
    }
   ],
   "source": [
    "print(len(brand))"
   ]
  },
  {
   "cell_type": "code",
   "execution_count": 18,
   "id": "0d48af1a",
   "metadata": {},
   "outputs": [],
   "source": [
    "color = []"
   ]
  },
  {
   "cell_type": "code",
   "execution_count": 19,
   "id": "3cc29120",
   "metadata": {},
   "outputs": [],
   "source": [
    "for b in p_url:\n",
    "    driver2.get(b)\n",
    "    time.sleep(3)\n",
    "    \n",
    "    try:\n",
    "        clr = driver2.find_element(By.XPATH,'/html/body/div[1]/div/div[3]/div[1]/div[2]/div[9]/div[5]/div/div[2]/div/div[1]/table/tbody/tr[4]/td[2]/ul/li')\n",
    "        color.append(clr.text)\n",
    "    except:\n",
    "        color.append(\"-\")"
   ]
  },
  {
   "cell_type": "code",
   "execution_count": 20,
   "id": "a4694b76",
   "metadata": {},
   "outputs": [
    {
     "name": "stdout",
     "output_type": "stream",
     "text": [
      "['Royal Blue', 'Power Black', 'Opal Green', 'Waterfall Blue', 'Cosmic Black', 'Arctic Blue', 'Matte Charcoal', 'Icy Blue', 'Diamond White', 'Glacier Blue', 'Mirror Black', 'Glacier Blue', 'Diamond White', 'Mineral Gray', 'Azure Blue', 'Night Black', 'Mirror Black', 'Jade Purple', 'Emerald Green', 'Marine Blue', 'Glimmer Black', 'Aurora Gold', 'Marine Blue', 'Glimmer Black']\n"
     ]
    }
   ],
   "source": [
    "print(color)"
   ]
  },
  {
   "cell_type": "code",
   "execution_count": 21,
   "id": "ba1be13b",
   "metadata": {},
   "outputs": [
    {
     "name": "stdout",
     "output_type": "stream",
     "text": [
      "24\n"
     ]
    }
   ],
   "source": [
    "print(len(color))"
   ]
  },
  {
   "cell_type": "code",
   "execution_count": 22,
   "id": "fb917d17",
   "metadata": {},
   "outputs": [],
   "source": [
    "ram = []"
   ]
  },
  {
   "cell_type": "code",
   "execution_count": 23,
   "id": "f0940442",
   "metadata": {},
   "outputs": [],
   "source": [
    "for b in p_url:\n",
    "    driver2.get(b)\n",
    "    time.sleep(3)\n",
    "    \n",
    "    try:\n",
    "        rm = driver2.find_element(By.XPATH,'/html/body/div[1]/div/div[3]/div[1]/div[2]/div[8]/div/div/div[2]/ul/li[1]')\n",
    "        r = rm.text.split(\"|\")[0]\n",
    "        ram.append(r)\n",
    "    except:\n",
    "        ram.append(\"-\")"
   ]
  },
  {
   "cell_type": "code",
   "execution_count": 24,
   "id": "53e73785",
   "metadata": {},
   "outputs": [
    {
     "name": "stdout",
     "output_type": "stream",
     "text": [
      "['4 GB RAM ', '4 GB RAM ', '4 GB RAM ', '4 GB RAM ', '4 GB RAM ', '4 GB RAM ', '4 GB RAM ', '4 GB RAM ', '8 GB RAM ', '4 GB RAM ', '4 GB RAM ', '8 GB RAM ', '4 GB RAM ', '8 GB RAM ', '4 GB RAM ', '4 GB RAM ', '8 GB RAM ', '4 GB RAM ', '4 GB RAM ', '8 GB RAM ', '8 GB RAM ', '8 GB RAM ', '6 GB RAM ', '4 GB RAM ']\n"
     ]
    }
   ],
   "source": [
    "print(ram)"
   ]
  },
  {
   "cell_type": "code",
   "execution_count": 25,
   "id": "c1c1aca3",
   "metadata": {},
   "outputs": [
    {
     "name": "stdout",
     "output_type": "stream",
     "text": [
      "24\n"
     ]
    }
   ],
   "source": [
    "print(len(ram))"
   ]
  },
  {
   "cell_type": "code",
   "execution_count": 26,
   "id": "0a21631d",
   "metadata": {},
   "outputs": [],
   "source": [
    "rom = []"
   ]
  },
  {
   "cell_type": "code",
   "execution_count": 27,
   "id": "6836be74",
   "metadata": {},
   "outputs": [],
   "source": [
    "for b in p_url:\n",
    "    driver2.get(b)\n",
    "    time.sleep(3)\n",
    "    \n",
    "    try:\n",
    "        rm = driver2.find_element(By.XPATH,'/html/body/div[1]/div/div[3]/div[1]/div[2]/div[8]/div/div/div[2]/ul/li[1]')\n",
    "        r = rm.text.split(\"|\")[0]\n",
    "        rom.append(r)\n",
    "    except:\n",
    "        rom.append(\"-\")"
   ]
  },
  {
   "cell_type": "code",
   "execution_count": 28,
   "id": "f4ad750e",
   "metadata": {},
   "outputs": [
    {
     "name": "stdout",
     "output_type": "stream",
     "text": [
      "['4 GB RAM ', '4 GB RAM ', '4 GB RAM ', '4 GB RAM ', '4 GB RAM ', '4 GB RAM ', '4 GB RAM ', '4 GB RAM ', '8 GB RAM ', '-', '4 GB RAM ', '8 GB RAM ', '4 GB RAM ', '8 GB RAM ', '4 GB RAM ', '4 GB RAM ', '8 GB RAM ', '4 GB RAM ', '4 GB RAM ', '8 GB RAM ', '8 GB RAM ', '8 GB RAM ', '6 GB RAM ', '4 GB RAM ']\n"
     ]
    }
   ],
   "source": [
    "print(rom)"
   ]
  },
  {
   "cell_type": "code",
   "execution_count": 29,
   "id": "26964ad4",
   "metadata": {},
   "outputs": [
    {
     "name": "stdout",
     "output_type": "stream",
     "text": [
      "24\n"
     ]
    }
   ],
   "source": [
    "print(len(rom))"
   ]
  },
  {
   "cell_type": "code",
   "execution_count": 30,
   "id": "00a7eafb",
   "metadata": {},
   "outputs": [],
   "source": [
    "primary_cam = []"
   ]
  },
  {
   "cell_type": "code",
   "execution_count": 31,
   "id": "a1e7a5c9",
   "metadata": {},
   "outputs": [],
   "source": [
    "\n",
    "for b in p_url:\n",
    "    driver2.get(b)\n",
    "    time.sleep(3)\n",
    "    \n",
    "    try:\n",
    "        pc = driver2.find_element(By.XPATH,'/html/body/div[1]/div/div[3]/div[1]/div[2]/div[8]/div/div/div[2]/ul/li[3]')\n",
    "        p = pc.text.split(\"|\")[0]\n",
    "        primary_cam.append(p)\n",
    "    except:\n",
    "        primary_cam.append(\"-\")"
   ]
  },
  {
   "cell_type": "code",
   "execution_count": 32,
   "id": "fef033aa",
   "metadata": {},
   "outputs": [
    {
     "name": "stdout",
     "output_type": "stream",
     "text": [
      "['8MP Dual Rear Camera ', '8MP Dual Rear Camera ', '13MP + 2MP ', '50MP + 5MP + 2MP ', '13MP Rear Camera ', '50MP + 2MP ', '-', '50MP + 2MP Depth Sensor + 2MP Macro Sensor ', '50MP + AI Lens ', '50MP + AI Lens ', '50MP + AI Lens ', '50MP + AI Lens ', '50MP + AI Lens ', '50MP + 8MP + 2MP ', '13MP + AI Lens ', '13MP + AI Lens ', '50MP + AI Lens ', '13MP + 2MP ', '13MP + AI Lens ', '50MP + 2MP ', '50MP + 2MP ', '50MP + 2MP ', '50MP + 2MP ', '50MP + 2MP ']\n"
     ]
    }
   ],
   "source": [
    "print(primary_cam)"
   ]
  },
  {
   "cell_type": "code",
   "execution_count": 33,
   "id": "c941c4ef",
   "metadata": {},
   "outputs": [
    {
     "name": "stdout",
     "output_type": "stream",
     "text": [
      "24\n"
     ]
    }
   ],
   "source": [
    "print(len(primary_cam))"
   ]
  },
  {
   "cell_type": "code",
   "execution_count": 34,
   "id": "690e65d3",
   "metadata": {},
   "outputs": [],
   "source": [
    "sec_cam = []"
   ]
  },
  {
   "cell_type": "code",
   "execution_count": 35,
   "id": "07a7c5c0",
   "metadata": {},
   "outputs": [],
   "source": [
    "for b in p_url:\n",
    "    driver2.get(b)\n",
    "    time.sleep(3)\n",
    "    \n",
    "    try:\n",
    "        pc = driver2.find_element(By.XPATH,'/html/body/div[1]/div/div[3]/div[1]/div[2]/div[8]/div/div/div[2]/ul/li[3]')\n",
    "        p = pc.text.split(\"|\")[1]\n",
    "        sec_cam.append(p)\n",
    "    except:\n",
    "        sec_cam.append(\"-\")"
   ]
  },
  {
   "cell_type": "code",
   "execution_count": 36,
   "id": "5d8b66e6",
   "metadata": {},
   "outputs": [
    {
     "name": "stdout",
     "output_type": "stream",
     "text": [
      "[' 5MP Front Camera', ' 5MP Front Camera', ' 5MP Front Camera', ' 8MP Front Camera', ' 5MP Front Camera', ' 8MP Front Camera', ' 8MP Front Camera', ' 8MP Front Camera', ' 5MP Front Camera', ' 5MP Front Camera', ' 5MP Front Camera', ' 5MP Front Camera', ' 5MP Front Camera', ' 16MP Front Camera', ' 5MP Front Camera', ' 5MP Front Camera', '-', ' 5MP Front Camera', ' 5MP Front Camera', ' 8MP Front Camera', ' 8MP Front Camera', ' 8MP Front Camera', ' 8MP Front Camera', ' 8MP Front Camera']\n"
     ]
    }
   ],
   "source": [
    "print(sec_cam)"
   ]
  },
  {
   "cell_type": "code",
   "execution_count": 37,
   "id": "aeb33ce2",
   "metadata": {},
   "outputs": [
    {
     "name": "stdout",
     "output_type": "stream",
     "text": [
      "24\n"
     ]
    }
   ],
   "source": [
    "print(len(sec_cam))"
   ]
  },
  {
   "cell_type": "code",
   "execution_count": 38,
   "id": "b59134e9",
   "metadata": {},
   "outputs": [],
   "source": [
    "display = []"
   ]
  },
  {
   "cell_type": "code",
   "execution_count": 39,
   "id": "70003066",
   "metadata": {},
   "outputs": [],
   "source": [
    "for b in p_url:\n",
    "    driver2.get(b)\n",
    "    time.sleep(3)\n",
    "    \n",
    "    try:\n",
    "        ds = driver2.find_element(By.XPATH,'/html/body/div[1]/div/div[3]/div[1]/div[2]/div[8]/div/div/div[2]/ul/li[2]')\n",
    "        p = ds.text\n",
    "        display.append(p)\n",
    "    except:\n",
    "        display.append(\"-\")"
   ]
  },
  {
   "cell_type": "code",
   "execution_count": 40,
   "id": "f02b142a",
   "metadata": {},
   "outputs": [
    {
     "name": "stdout",
     "output_type": "stream",
     "text": [
      "['16.56 cm (6.52 inch) HD+ Display', '16.56 cm (6.52 inch) HD+ Display', '16.51 cm (6.5 inch) HD Display', '16.76 cm (6.6 inch) Full HD+ Display', '16.51 cm (6.5 inch) HD+ Display', '16.51 cm (6.5 inch) HD+ Display', '16.51 cm (6.5 inch) HD+ Display', '16.71 cm (6.58 inch) Full HD+ Display', '16.76 cm (6.6 inch) HD+ Display', '16.76 cm (6.6 inch) HD+ Display', '16.76 cm (6.6 inch) HD+ Display', '16.76 cm (6.6 inch) HD+ Display', '16.76 cm (6.6 inch) HD+ Display', '16.64 cm (6.55 inch) Full HD+ Display', '16.76 cm (6.6 inch) HD+ Display', '16.76 cm (6.6 inch) HD+ Display', '16.76 cm (6.6 inch) HD+ Display', '16.51 cm (6.5 inch) HD Display', '16.76 cm (6.6 inch) HD+ Display', '16.71 cm (6.58 inch) Full HD+ Display', '16.71 cm (6.58 inch) Full HD+ Display', '16.71 cm (6.58 inch) Full HD+ Display', '16.71 cm (6.58 inch) Full HD+ Display', '16.71 cm (6.58 inch) Full HD+ Display']\n"
     ]
    }
   ],
   "source": [
    "print(display)"
   ]
  },
  {
   "cell_type": "code",
   "execution_count": 41,
   "id": "0af8a898",
   "metadata": {},
   "outputs": [
    {
     "name": "stdout",
     "output_type": "stream",
     "text": [
      "24\n"
     ]
    }
   ],
   "source": [
    "print(len(display))"
   ]
  },
  {
   "cell_type": "code",
   "execution_count": 42,
   "id": "d94d525f",
   "metadata": {},
   "outputs": [],
   "source": [
    "battery = []"
   ]
  },
  {
   "cell_type": "code",
   "execution_count": 43,
   "id": "a52e730e",
   "metadata": {},
   "outputs": [],
   "source": [
    "for b in p_url:\n",
    "    driver2.get(b)\n",
    "    time.sleep(3)\n",
    "    \n",
    "    try:\n",
    "        bt = driver2.find_element(By.XPATH,'/html/body/div[1]/div/div[3]/div[1]/div[2]/div[8]/div/div/div[2]/ul/li[4]')\n",
    "        p = bt.text\n",
    "        battery.append(p)\n",
    "    except:\n",
    "        battery.append(\"-\")"
   ]
  },
  {
   "cell_type": "code",
   "execution_count": 44,
   "id": "96b3e479",
   "metadata": {},
   "outputs": [
    {
     "name": "stdout",
     "output_type": "stream",
     "text": [
      "['5000 mAh Battery', '5000 mAh Battery', '5000 mAh Lithium-Ion Battery', '6000 mAh Lithium Ion Battery', '5000 mAh Battery', '5000 mAh Battery', '5000 mAh Battery', '5000 mAh Lithium-ion Polymer Battery', '5000 mAh Battery', '5000 mAh Battery', '5000 mAh Battery', '5000 mAh Battery', '5000 mAh Battery', '5000 mAh Battery', '6000 mAh Battery', '6000 mAh Battery', '5000 mAh Battery', '5000 mAh Lithium-Ion Battery', '6000 mAh Battery', '5000 mAh Battery', '5000 mAh Battery', '5000 mAh Battery', '5000 mAh Battery', '5000 mAh Battery']\n"
     ]
    }
   ],
   "source": [
    "print(battery)"
   ]
  },
  {
   "cell_type": "code",
   "execution_count": 45,
   "id": "d72d073f",
   "metadata": {},
   "outputs": [
    {
     "name": "stdout",
     "output_type": "stream",
     "text": [
      "24\n"
     ]
    }
   ],
   "source": [
    "print(len(battery))"
   ]
  },
  {
   "cell_type": "code",
   "execution_count": 46,
   "id": "2ef811c0",
   "metadata": {},
   "outputs": [],
   "source": [
    "price = []"
   ]
  },
  {
   "cell_type": "code",
   "execution_count": 47,
   "id": "1b1fbab8",
   "metadata": {},
   "outputs": [],
   "source": [
    "for b in p_url:\n",
    "    driver2.get(b)\n",
    "    time.sleep(3)\n",
    "    \n",
    "    try:\n",
    "        bt = driver2.find_element(By.XPATH,'/html/body/div[1]/div/div[3]/div[1]/div[2]/div[2]/div/div[4]/div[1]/div/div[1]')\n",
    "        p = bt.text\n",
    "        price.append(p)\n",
    "    except:\n",
    "        price.append(\"-\")"
   ]
  },
  {
   "cell_type": "code",
   "execution_count": 48,
   "id": "acf1e8bf",
   "metadata": {},
   "outputs": [
    {
     "name": "stdout",
     "output_type": "stream",
     "text": [
      "['₹6,999', '₹6,999', '₹8,499', '₹11,999', '₹7,499', '₹7,999', '₹9,999', '₹8,999', '₹9,499', '₹8,399', '₹8,399', '₹9,499', '₹8,399', '₹11,999', '₹7,499', '₹7,499', '₹9,499', '₹8,499', '₹7,499', '₹15,999', '₹15,999', '₹15,999', '₹13,999', '₹12,999']\n"
     ]
    }
   ],
   "source": [
    "print(price)"
   ]
  },
  {
   "cell_type": "code",
   "execution_count": 49,
   "id": "61955e44",
   "metadata": {},
   "outputs": [
    {
     "name": "stdout",
     "output_type": "stream",
     "text": [
      "24\n"
     ]
    }
   ],
   "source": [
    "print(len(price))"
   ]
  },
  {
   "cell_type": "code",
   "execution_count": 50,
   "id": "328c509b",
   "metadata": {},
   "outputs": [],
   "source": [
    "mobile_data = pd.DataFrame({\"Brand Name\":brand, \"Smartphone name\":smart_name, \"Colour\":color, \"RAM\":ram, \"Storage(ROM)\":rom, \"Primary Camera\":primary_cam,\"Secondary Camera\":sec_cam, \"Display Size\":display, \"Battery Capacity\":battery, \"Price\":price, \"Product URL\":p_url})"
   ]
  },
  {
   "cell_type": "code",
   "execution_count": 51,
   "id": "46bcd0b1",
   "metadata": {},
   "outputs": [
    {
     "data": {
      "text/html": [
       "<div>\n",
       "<style scoped>\n",
       "    .dataframe tbody tr th:only-of-type {\n",
       "        vertical-align: middle;\n",
       "    }\n",
       "\n",
       "    .dataframe tbody tr th {\n",
       "        vertical-align: top;\n",
       "    }\n",
       "\n",
       "    .dataframe thead th {\n",
       "        text-align: right;\n",
       "    }\n",
       "</style>\n",
       "<table border=\"1\" class=\"dataframe\">\n",
       "  <thead>\n",
       "    <tr style=\"text-align: right;\">\n",
       "      <th></th>\n",
       "      <th>Brand Name</th>\n",
       "      <th>Smartphone name</th>\n",
       "      <th>Colour</th>\n",
       "      <th>RAM</th>\n",
       "      <th>Storage(ROM)</th>\n",
       "      <th>Primary Camera</th>\n",
       "      <th>Secondary Camera</th>\n",
       "      <th>Display Size</th>\n",
       "      <th>Battery Capacity</th>\n",
       "      <th>Price</th>\n",
       "      <th>Product URL</th>\n",
       "    </tr>\n",
       "  </thead>\n",
       "  <tbody>\n",
       "    <tr>\n",
       "      <th>0</th>\n",
       "      <td>POCO</td>\n",
       "      <td>POCO C51 (Royal Blue, 64 GB)  (4 GB RAM)</td>\n",
       "      <td>Royal Blue</td>\n",
       "      <td>4 GB RAM</td>\n",
       "      <td>4 GB RAM</td>\n",
       "      <td>8MP Dual Rear Camera</td>\n",
       "      <td>5MP Front Camera</td>\n",
       "      <td>16.56 cm (6.52 inch) HD+ Display</td>\n",
       "      <td>5000 mAh Battery</td>\n",
       "      <td>₹6,999</td>\n",
       "      <td>https://www.flipkart.com/poco-c51-royal-blue-6...</td>\n",
       "    </tr>\n",
       "    <tr>\n",
       "      <th>1</th>\n",
       "      <td>POCO</td>\n",
       "      <td>POCO C51 (Power Black, 64 GB)  (4 GB RAM)</td>\n",
       "      <td>Power Black</td>\n",
       "      <td>4 GB RAM</td>\n",
       "      <td>4 GB RAM</td>\n",
       "      <td>8MP Dual Rear Camera</td>\n",
       "      <td>5MP Front Camera</td>\n",
       "      <td>16.56 cm (6.52 inch) HD+ Display</td>\n",
       "      <td>5000 mAh Battery</td>\n",
       "      <td>₹6,999</td>\n",
       "      <td>https://www.flipkart.com/poco-c51-power-black-...</td>\n",
       "    </tr>\n",
       "    <tr>\n",
       "      <th>2</th>\n",
       "      <td>SAMSUNG</td>\n",
       "      <td>SAMSUNG Galaxy F04 (Opal Green, 64 GB)  (4 GB ...</td>\n",
       "      <td>Opal Green</td>\n",
       "      <td>4 GB RAM</td>\n",
       "      <td>4 GB RAM</td>\n",
       "      <td>13MP + 2MP</td>\n",
       "      <td>5MP Front Camera</td>\n",
       "      <td>16.51 cm (6.5 inch) HD Display</td>\n",
       "      <td>5000 mAh Lithium-Ion Battery</td>\n",
       "      <td>₹8,499</td>\n",
       "      <td>https://www.flipkart.com/samsung-galaxy-f04-op...</td>\n",
       "    </tr>\n",
       "    <tr>\n",
       "      <th>3</th>\n",
       "      <td>SAMSUNG</td>\n",
       "      <td>SAMSUNG Galaxy F13 (Waterfall Blue, 128 GB)  (...</td>\n",
       "      <td>Waterfall Blue</td>\n",
       "      <td>4 GB RAM</td>\n",
       "      <td>4 GB RAM</td>\n",
       "      <td>50MP + 5MP + 2MP</td>\n",
       "      <td>8MP Front Camera</td>\n",
       "      <td>16.76 cm (6.6 inch) Full HD+ Display</td>\n",
       "      <td>6000 mAh Lithium Ion Battery</td>\n",
       "      <td>₹11,999</td>\n",
       "      <td>https://www.flipkart.com/samsung-galaxy-f13-wa...</td>\n",
       "    </tr>\n",
       "    <tr>\n",
       "      <th>4</th>\n",
       "      <td>MOTOROLA</td>\n",
       "      <td>MOTOROLA e13 (Cosmic Black, 64 GB)  (4 GB RAM)</td>\n",
       "      <td>Cosmic Black</td>\n",
       "      <td>4 GB RAM</td>\n",
       "      <td>4 GB RAM</td>\n",
       "      <td>13MP Rear Camera</td>\n",
       "      <td>5MP Front Camera</td>\n",
       "      <td>16.51 cm (6.5 inch) HD+ Display</td>\n",
       "      <td>5000 mAh Battery</td>\n",
       "      <td>₹7,499</td>\n",
       "      <td>https://www.flipkart.com/motorola-e13-cosmic-b...</td>\n",
       "    </tr>\n",
       "    <tr>\n",
       "      <th>5</th>\n",
       "      <td>MOTOROLA</td>\n",
       "      <td>MOTOROLA e32 (Arctic Blue, 64 GB)  (4 GB RAM)</td>\n",
       "      <td>Arctic Blue</td>\n",
       "      <td>4 GB RAM</td>\n",
       "      <td>4 GB RAM</td>\n",
       "      <td>50MP + 2MP</td>\n",
       "      <td>8MP Front Camera</td>\n",
       "      <td>16.51 cm (6.5 inch) HD+ Display</td>\n",
       "      <td>5000 mAh Battery</td>\n",
       "      <td>₹7,999</td>\n",
       "      <td>https://www.flipkart.com/motorola-e32-arctic-b...</td>\n",
       "    </tr>\n",
       "    <tr>\n",
       "      <th>6</th>\n",
       "      <td>MOTOROLA</td>\n",
       "      <td>MOTOROLA g13 (Matte Charcoal, 128 GB)  (4 GB RAM)</td>\n",
       "      <td>Matte Charcoal</td>\n",
       "      <td>4 GB RAM</td>\n",
       "      <td>4 GB RAM</td>\n",
       "      <td>-</td>\n",
       "      <td>8MP Front Camera</td>\n",
       "      <td>16.51 cm (6.5 inch) HD+ Display</td>\n",
       "      <td>5000 mAh Battery</td>\n",
       "      <td>₹9,999</td>\n",
       "      <td>https://www.flipkart.com/motorola-g13-matte-ch...</td>\n",
       "    </tr>\n",
       "    <tr>\n",
       "      <th>7</th>\n",
       "      <td>POCO</td>\n",
       "      <td>POCO M5 (Icy Blue, 64 GB)  (4 GB RAM)</td>\n",
       "      <td>Icy Blue</td>\n",
       "      <td>4 GB RAM</td>\n",
       "      <td>4 GB RAM</td>\n",
       "      <td>50MP + 2MP Depth Sensor + 2MP Macro Sensor</td>\n",
       "      <td>8MP Front Camera</td>\n",
       "      <td>16.71 cm (6.58 inch) Full HD+ Display</td>\n",
       "      <td>5000 mAh Lithium-ion Polymer Battery</td>\n",
       "      <td>₹8,999</td>\n",
       "      <td>https://www.flipkart.com/poco-m5-icy-blue-64-g...</td>\n",
       "    </tr>\n",
       "    <tr>\n",
       "      <th>8</th>\n",
       "      <td>Infinix</td>\n",
       "      <td>Infinix HOT 30i (Diamond White, 128 GB)  (8 GB...</td>\n",
       "      <td>Diamond White</td>\n",
       "      <td>8 GB RAM</td>\n",
       "      <td>8 GB RAM</td>\n",
       "      <td>50MP + AI Lens</td>\n",
       "      <td>5MP Front Camera</td>\n",
       "      <td>16.76 cm (6.6 inch) HD+ Display</td>\n",
       "      <td>5000 mAh Battery</td>\n",
       "      <td>₹9,499</td>\n",
       "      <td>https://www.flipkart.com/infinix-hot-30i-diamo...</td>\n",
       "    </tr>\n",
       "    <tr>\n",
       "      <th>9</th>\n",
       "      <td>Infinix</td>\n",
       "      <td>Infinix HOT 30i (Glacier Blue, 64 GB)  (4 GB RAM)</td>\n",
       "      <td>Glacier Blue</td>\n",
       "      <td>4 GB RAM</td>\n",
       "      <td>-</td>\n",
       "      <td>50MP + AI Lens</td>\n",
       "      <td>5MP Front Camera</td>\n",
       "      <td>16.76 cm (6.6 inch) HD+ Display</td>\n",
       "      <td>5000 mAh Battery</td>\n",
       "      <td>₹8,399</td>\n",
       "      <td>https://www.flipkart.com/infinix-hot-30i-glaci...</td>\n",
       "    </tr>\n",
       "    <tr>\n",
       "      <th>10</th>\n",
       "      <td>Infinix</td>\n",
       "      <td>Infinix HOT 30i (Mirror Black, 64 GB)  (4 GB RAM)</td>\n",
       "      <td>Mirror Black</td>\n",
       "      <td>4 GB RAM</td>\n",
       "      <td>4 GB RAM</td>\n",
       "      <td>50MP + AI Lens</td>\n",
       "      <td>5MP Front Camera</td>\n",
       "      <td>16.76 cm (6.6 inch) HD+ Display</td>\n",
       "      <td>5000 mAh Battery</td>\n",
       "      <td>₹8,399</td>\n",
       "      <td>https://www.flipkart.com/infinix-hot-30i-mirro...</td>\n",
       "    </tr>\n",
       "    <tr>\n",
       "      <th>11</th>\n",
       "      <td>Infinix</td>\n",
       "      <td>Infinix HOT 30i (Glacier Blue, 128 GB)  (8 GB ...</td>\n",
       "      <td>Glacier Blue</td>\n",
       "      <td>8 GB RAM</td>\n",
       "      <td>8 GB RAM</td>\n",
       "      <td>50MP + AI Lens</td>\n",
       "      <td>5MP Front Camera</td>\n",
       "      <td>16.76 cm (6.6 inch) HD+ Display</td>\n",
       "      <td>5000 mAh Battery</td>\n",
       "      <td>₹9,499</td>\n",
       "      <td>https://www.flipkart.com/infinix-hot-30i-glaci...</td>\n",
       "    </tr>\n",
       "    <tr>\n",
       "      <th>12</th>\n",
       "      <td>Infinix</td>\n",
       "      <td>Infinix HOT 30i (Diamond White, 64 GB)  (4 GB ...</td>\n",
       "      <td>Diamond White</td>\n",
       "      <td>4 GB RAM</td>\n",
       "      <td>4 GB RAM</td>\n",
       "      <td>50MP + AI Lens</td>\n",
       "      <td>5MP Front Camera</td>\n",
       "      <td>16.76 cm (6.6 inch) HD+ Display</td>\n",
       "      <td>5000 mAh Battery</td>\n",
       "      <td>₹8,399</td>\n",
       "      <td>https://www.flipkart.com/infinix-hot-30i-diamo...</td>\n",
       "    </tr>\n",
       "    <tr>\n",
       "      <th>13</th>\n",
       "      <td>MOTOROLA</td>\n",
       "      <td>MOTOROLA G32 (Mineral Gray, 128 GB)  (8 GB RAM)</td>\n",
       "      <td>Mineral Gray</td>\n",
       "      <td>8 GB RAM</td>\n",
       "      <td>8 GB RAM</td>\n",
       "      <td>50MP + 8MP + 2MP</td>\n",
       "      <td>16MP Front Camera</td>\n",
       "      <td>16.64 cm (6.55 inch) Full HD+ Display</td>\n",
       "      <td>5000 mAh Battery</td>\n",
       "      <td>₹11,999</td>\n",
       "      <td>https://www.flipkart.com/motorola-g32-mineral-...</td>\n",
       "    </tr>\n",
       "    <tr>\n",
       "      <th>14</th>\n",
       "      <td>Infinix</td>\n",
       "      <td>Infinix SMART 7 (Azure Blue, 64 GB)  (4 GB RAM)</td>\n",
       "      <td>Azure Blue</td>\n",
       "      <td>4 GB RAM</td>\n",
       "      <td>4 GB RAM</td>\n",
       "      <td>13MP + AI Lens</td>\n",
       "      <td>5MP Front Camera</td>\n",
       "      <td>16.76 cm (6.6 inch) HD+ Display</td>\n",
       "      <td>6000 mAh Battery</td>\n",
       "      <td>₹7,499</td>\n",
       "      <td>https://www.flipkart.com/infinix-smart-7-azure...</td>\n",
       "    </tr>\n",
       "    <tr>\n",
       "      <th>15</th>\n",
       "      <td>Infinix</td>\n",
       "      <td>Infinix SMART 7 (Night Black, 64 GB)  (4 GB RAM)</td>\n",
       "      <td>Night Black</td>\n",
       "      <td>4 GB RAM</td>\n",
       "      <td>4 GB RAM</td>\n",
       "      <td>13MP + AI Lens</td>\n",
       "      <td>5MP Front Camera</td>\n",
       "      <td>16.76 cm (6.6 inch) HD+ Display</td>\n",
       "      <td>6000 mAh Battery</td>\n",
       "      <td>₹7,499</td>\n",
       "      <td>https://www.flipkart.com/infinix-smart-7-night...</td>\n",
       "    </tr>\n",
       "    <tr>\n",
       "      <th>16</th>\n",
       "      <td>Infinix</td>\n",
       "      <td>Infinix HOT 30i (Mirror Black, 128 GB)  (8 GB ...</td>\n",
       "      <td>Mirror Black</td>\n",
       "      <td>8 GB RAM</td>\n",
       "      <td>8 GB RAM</td>\n",
       "      <td>50MP + AI Lens</td>\n",
       "      <td>-</td>\n",
       "      <td>16.76 cm (6.6 inch) HD+ Display</td>\n",
       "      <td>5000 mAh Battery</td>\n",
       "      <td>₹9,499</td>\n",
       "      <td>https://www.flipkart.com/infinix-hot-30i-mirro...</td>\n",
       "    </tr>\n",
       "    <tr>\n",
       "      <th>17</th>\n",
       "      <td>SAMSUNG</td>\n",
       "      <td>SAMSUNG Galaxy F04 (Jade Purple, 64 GB)  (4 GB...</td>\n",
       "      <td>Jade Purple</td>\n",
       "      <td>4 GB RAM</td>\n",
       "      <td>4 GB RAM</td>\n",
       "      <td>13MP + 2MP</td>\n",
       "      <td>5MP Front Camera</td>\n",
       "      <td>16.51 cm (6.5 inch) HD Display</td>\n",
       "      <td>5000 mAh Lithium-Ion Battery</td>\n",
       "      <td>₹8,499</td>\n",
       "      <td>https://www.flipkart.com/samsung-galaxy-f04-ja...</td>\n",
       "    </tr>\n",
       "    <tr>\n",
       "      <th>18</th>\n",
       "      <td>Infinix</td>\n",
       "      <td>Infinix SMART 7 (Emerald Green, 64 GB)  (4 GB ...</td>\n",
       "      <td>Emerald Green</td>\n",
       "      <td>4 GB RAM</td>\n",
       "      <td>4 GB RAM</td>\n",
       "      <td>13MP + AI Lens</td>\n",
       "      <td>5MP Front Camera</td>\n",
       "      <td>16.76 cm (6.6 inch) HD+ Display</td>\n",
       "      <td>6000 mAh Battery</td>\n",
       "      <td>₹7,499</td>\n",
       "      <td>https://www.flipkart.com/infinix-smart-7-emera...</td>\n",
       "    </tr>\n",
       "    <tr>\n",
       "      <th>19</th>\n",
       "      <td>vivo</td>\n",
       "      <td>vivo T2x 5G (Marine Blue, 128 GB)  (8 GB RAM)</td>\n",
       "      <td>Marine Blue</td>\n",
       "      <td>8 GB RAM</td>\n",
       "      <td>8 GB RAM</td>\n",
       "      <td>50MP + 2MP</td>\n",
       "      <td>8MP Front Camera</td>\n",
       "      <td>16.71 cm (6.58 inch) Full HD+ Display</td>\n",
       "      <td>5000 mAh Battery</td>\n",
       "      <td>₹15,999</td>\n",
       "      <td>https://www.flipkart.com/vivo-t2x-5g-marine-bl...</td>\n",
       "    </tr>\n",
       "    <tr>\n",
       "      <th>20</th>\n",
       "      <td>vivo</td>\n",
       "      <td>vivo T2x 5G (Glimmer Black, 128 GB)  (8 GB RAM)</td>\n",
       "      <td>Glimmer Black</td>\n",
       "      <td>8 GB RAM</td>\n",
       "      <td>8 GB RAM</td>\n",
       "      <td>50MP + 2MP</td>\n",
       "      <td>8MP Front Camera</td>\n",
       "      <td>16.71 cm (6.58 inch) Full HD+ Display</td>\n",
       "      <td>5000 mAh Battery</td>\n",
       "      <td>₹15,999</td>\n",
       "      <td>https://www.flipkart.com/vivo-t2x-5g-glimmer-b...</td>\n",
       "    </tr>\n",
       "    <tr>\n",
       "      <th>21</th>\n",
       "      <td>vivo</td>\n",
       "      <td>vivo T2x 5G (Aurora Gold, 128 GB)  (8 GB RAM)</td>\n",
       "      <td>Aurora Gold</td>\n",
       "      <td>8 GB RAM</td>\n",
       "      <td>8 GB RAM</td>\n",
       "      <td>50MP + 2MP</td>\n",
       "      <td>8MP Front Camera</td>\n",
       "      <td>16.71 cm (6.58 inch) Full HD+ Display</td>\n",
       "      <td>5000 mAh Battery</td>\n",
       "      <td>₹15,999</td>\n",
       "      <td>https://www.flipkart.com/vivo-t2x-5g-aurora-go...</td>\n",
       "    </tr>\n",
       "    <tr>\n",
       "      <th>22</th>\n",
       "      <td>vivo</td>\n",
       "      <td>vivo T2x 5G (Marine Blue, 128 GB)  (6 GB RAM)</td>\n",
       "      <td>Marine Blue</td>\n",
       "      <td>6 GB RAM</td>\n",
       "      <td>6 GB RAM</td>\n",
       "      <td>50MP + 2MP</td>\n",
       "      <td>8MP Front Camera</td>\n",
       "      <td>16.71 cm (6.58 inch) Full HD+ Display</td>\n",
       "      <td>5000 mAh Battery</td>\n",
       "      <td>₹13,999</td>\n",
       "      <td>https://www.flipkart.com/vivo-t2x-5g-marine-bl...</td>\n",
       "    </tr>\n",
       "    <tr>\n",
       "      <th>23</th>\n",
       "      <td>vivo</td>\n",
       "      <td>vivo T2x 5G (Glimmer Black, 128 GB)  (4 GB RAM)</td>\n",
       "      <td>Glimmer Black</td>\n",
       "      <td>4 GB RAM</td>\n",
       "      <td>4 GB RAM</td>\n",
       "      <td>50MP + 2MP</td>\n",
       "      <td>8MP Front Camera</td>\n",
       "      <td>16.71 cm (6.58 inch) Full HD+ Display</td>\n",
       "      <td>5000 mAh Battery</td>\n",
       "      <td>₹12,999</td>\n",
       "      <td>https://www.flipkart.com/vivo-t2x-5g-glimmer-b...</td>\n",
       "    </tr>\n",
       "  </tbody>\n",
       "</table>\n",
       "</div>"
      ],
      "text/plain": [
       "   Brand Name                                    Smartphone name  \\\n",
       "0        POCO           POCO C51 (Royal Blue, 64 GB)  (4 GB RAM)   \n",
       "1        POCO          POCO C51 (Power Black, 64 GB)  (4 GB RAM)   \n",
       "2     SAMSUNG  SAMSUNG Galaxy F04 (Opal Green, 64 GB)  (4 GB ...   \n",
       "3     SAMSUNG  SAMSUNG Galaxy F13 (Waterfall Blue, 128 GB)  (...   \n",
       "4    MOTOROLA     MOTOROLA e13 (Cosmic Black, 64 GB)  (4 GB RAM)   \n",
       "5    MOTOROLA      MOTOROLA e32 (Arctic Blue, 64 GB)  (4 GB RAM)   \n",
       "6    MOTOROLA  MOTOROLA g13 (Matte Charcoal, 128 GB)  (4 GB RAM)   \n",
       "7        POCO              POCO M5 (Icy Blue, 64 GB)  (4 GB RAM)   \n",
       "8     Infinix  Infinix HOT 30i (Diamond White, 128 GB)  (8 GB...   \n",
       "9     Infinix  Infinix HOT 30i (Glacier Blue, 64 GB)  (4 GB RAM)   \n",
       "10    Infinix  Infinix HOT 30i (Mirror Black, 64 GB)  (4 GB RAM)   \n",
       "11    Infinix  Infinix HOT 30i (Glacier Blue, 128 GB)  (8 GB ...   \n",
       "12    Infinix  Infinix HOT 30i (Diamond White, 64 GB)  (4 GB ...   \n",
       "13   MOTOROLA    MOTOROLA G32 (Mineral Gray, 128 GB)  (8 GB RAM)   \n",
       "14    Infinix    Infinix SMART 7 (Azure Blue, 64 GB)  (4 GB RAM)   \n",
       "15    Infinix   Infinix SMART 7 (Night Black, 64 GB)  (4 GB RAM)   \n",
       "16    Infinix  Infinix HOT 30i (Mirror Black, 128 GB)  (8 GB ...   \n",
       "17    SAMSUNG  SAMSUNG Galaxy F04 (Jade Purple, 64 GB)  (4 GB...   \n",
       "18    Infinix  Infinix SMART 7 (Emerald Green, 64 GB)  (4 GB ...   \n",
       "19       vivo      vivo T2x 5G (Marine Blue, 128 GB)  (8 GB RAM)   \n",
       "20       vivo    vivo T2x 5G (Glimmer Black, 128 GB)  (8 GB RAM)   \n",
       "21       vivo      vivo T2x 5G (Aurora Gold, 128 GB)  (8 GB RAM)   \n",
       "22       vivo      vivo T2x 5G (Marine Blue, 128 GB)  (6 GB RAM)   \n",
       "23       vivo    vivo T2x 5G (Glimmer Black, 128 GB)  (4 GB RAM)   \n",
       "\n",
       "            Colour        RAM Storage(ROM)  \\\n",
       "0       Royal Blue  4 GB RAM     4 GB RAM    \n",
       "1      Power Black  4 GB RAM     4 GB RAM    \n",
       "2       Opal Green  4 GB RAM     4 GB RAM    \n",
       "3   Waterfall Blue  4 GB RAM     4 GB RAM    \n",
       "4     Cosmic Black  4 GB RAM     4 GB RAM    \n",
       "5      Arctic Blue  4 GB RAM     4 GB RAM    \n",
       "6   Matte Charcoal  4 GB RAM     4 GB RAM    \n",
       "7         Icy Blue  4 GB RAM     4 GB RAM    \n",
       "8    Diamond White  8 GB RAM     8 GB RAM    \n",
       "9     Glacier Blue  4 GB RAM             -   \n",
       "10    Mirror Black  4 GB RAM     4 GB RAM    \n",
       "11    Glacier Blue  8 GB RAM     8 GB RAM    \n",
       "12   Diamond White  4 GB RAM     4 GB RAM    \n",
       "13    Mineral Gray  8 GB RAM     8 GB RAM    \n",
       "14      Azure Blue  4 GB RAM     4 GB RAM    \n",
       "15     Night Black  4 GB RAM     4 GB RAM    \n",
       "16    Mirror Black  8 GB RAM     8 GB RAM    \n",
       "17     Jade Purple  4 GB RAM     4 GB RAM    \n",
       "18   Emerald Green  4 GB RAM     4 GB RAM    \n",
       "19     Marine Blue  8 GB RAM     8 GB RAM    \n",
       "20   Glimmer Black  8 GB RAM     8 GB RAM    \n",
       "21     Aurora Gold  8 GB RAM     8 GB RAM    \n",
       "22     Marine Blue  6 GB RAM     6 GB RAM    \n",
       "23   Glimmer Black  4 GB RAM     4 GB RAM    \n",
       "\n",
       "                                 Primary Camera    Secondary Camera  \\\n",
       "0                         8MP Dual Rear Camera     5MP Front Camera   \n",
       "1                         8MP Dual Rear Camera     5MP Front Camera   \n",
       "2                                   13MP + 2MP     5MP Front Camera   \n",
       "3                             50MP + 5MP + 2MP     8MP Front Camera   \n",
       "4                             13MP Rear Camera     5MP Front Camera   \n",
       "5                                   50MP + 2MP     8MP Front Camera   \n",
       "6                                             -    8MP Front Camera   \n",
       "7   50MP + 2MP Depth Sensor + 2MP Macro Sensor     8MP Front Camera   \n",
       "8                               50MP + AI Lens     5MP Front Camera   \n",
       "9                               50MP + AI Lens     5MP Front Camera   \n",
       "10                              50MP + AI Lens     5MP Front Camera   \n",
       "11                              50MP + AI Lens     5MP Front Camera   \n",
       "12                              50MP + AI Lens     5MP Front Camera   \n",
       "13                            50MP + 8MP + 2MP    16MP Front Camera   \n",
       "14                              13MP + AI Lens     5MP Front Camera   \n",
       "15                              13MP + AI Lens     5MP Front Camera   \n",
       "16                              50MP + AI Lens                    -   \n",
       "17                                  13MP + 2MP     5MP Front Camera   \n",
       "18                              13MP + AI Lens     5MP Front Camera   \n",
       "19                                  50MP + 2MP     8MP Front Camera   \n",
       "20                                  50MP + 2MP     8MP Front Camera   \n",
       "21                                  50MP + 2MP     8MP Front Camera   \n",
       "22                                  50MP + 2MP     8MP Front Camera   \n",
       "23                                  50MP + 2MP     8MP Front Camera   \n",
       "\n",
       "                             Display Size  \\\n",
       "0        16.56 cm (6.52 inch) HD+ Display   \n",
       "1        16.56 cm (6.52 inch) HD+ Display   \n",
       "2          16.51 cm (6.5 inch) HD Display   \n",
       "3    16.76 cm (6.6 inch) Full HD+ Display   \n",
       "4         16.51 cm (6.5 inch) HD+ Display   \n",
       "5         16.51 cm (6.5 inch) HD+ Display   \n",
       "6         16.51 cm (6.5 inch) HD+ Display   \n",
       "7   16.71 cm (6.58 inch) Full HD+ Display   \n",
       "8         16.76 cm (6.6 inch) HD+ Display   \n",
       "9         16.76 cm (6.6 inch) HD+ Display   \n",
       "10        16.76 cm (6.6 inch) HD+ Display   \n",
       "11        16.76 cm (6.6 inch) HD+ Display   \n",
       "12        16.76 cm (6.6 inch) HD+ Display   \n",
       "13  16.64 cm (6.55 inch) Full HD+ Display   \n",
       "14        16.76 cm (6.6 inch) HD+ Display   \n",
       "15        16.76 cm (6.6 inch) HD+ Display   \n",
       "16        16.76 cm (6.6 inch) HD+ Display   \n",
       "17         16.51 cm (6.5 inch) HD Display   \n",
       "18        16.76 cm (6.6 inch) HD+ Display   \n",
       "19  16.71 cm (6.58 inch) Full HD+ Display   \n",
       "20  16.71 cm (6.58 inch) Full HD+ Display   \n",
       "21  16.71 cm (6.58 inch) Full HD+ Display   \n",
       "22  16.71 cm (6.58 inch) Full HD+ Display   \n",
       "23  16.71 cm (6.58 inch) Full HD+ Display   \n",
       "\n",
       "                        Battery Capacity    Price  \\\n",
       "0                       5000 mAh Battery   ₹6,999   \n",
       "1                       5000 mAh Battery   ₹6,999   \n",
       "2           5000 mAh Lithium-Ion Battery   ₹8,499   \n",
       "3           6000 mAh Lithium Ion Battery  ₹11,999   \n",
       "4                       5000 mAh Battery   ₹7,499   \n",
       "5                       5000 mAh Battery   ₹7,999   \n",
       "6                       5000 mAh Battery   ₹9,999   \n",
       "7   5000 mAh Lithium-ion Polymer Battery   ₹8,999   \n",
       "8                       5000 mAh Battery   ₹9,499   \n",
       "9                       5000 mAh Battery   ₹8,399   \n",
       "10                      5000 mAh Battery   ₹8,399   \n",
       "11                      5000 mAh Battery   ₹9,499   \n",
       "12                      5000 mAh Battery   ₹8,399   \n",
       "13                      5000 mAh Battery  ₹11,999   \n",
       "14                      6000 mAh Battery   ₹7,499   \n",
       "15                      6000 mAh Battery   ₹7,499   \n",
       "16                      5000 mAh Battery   ₹9,499   \n",
       "17          5000 mAh Lithium-Ion Battery   ₹8,499   \n",
       "18                      6000 mAh Battery   ₹7,499   \n",
       "19                      5000 mAh Battery  ₹15,999   \n",
       "20                      5000 mAh Battery  ₹15,999   \n",
       "21                      5000 mAh Battery  ₹15,999   \n",
       "22                      5000 mAh Battery  ₹13,999   \n",
       "23                      5000 mAh Battery  ₹12,999   \n",
       "\n",
       "                                          Product URL  \n",
       "0   https://www.flipkart.com/poco-c51-royal-blue-6...  \n",
       "1   https://www.flipkart.com/poco-c51-power-black-...  \n",
       "2   https://www.flipkart.com/samsung-galaxy-f04-op...  \n",
       "3   https://www.flipkart.com/samsung-galaxy-f13-wa...  \n",
       "4   https://www.flipkart.com/motorola-e13-cosmic-b...  \n",
       "5   https://www.flipkart.com/motorola-e32-arctic-b...  \n",
       "6   https://www.flipkart.com/motorola-g13-matte-ch...  \n",
       "7   https://www.flipkart.com/poco-m5-icy-blue-64-g...  \n",
       "8   https://www.flipkart.com/infinix-hot-30i-diamo...  \n",
       "9   https://www.flipkart.com/infinix-hot-30i-glaci...  \n",
       "10  https://www.flipkart.com/infinix-hot-30i-mirro...  \n",
       "11  https://www.flipkart.com/infinix-hot-30i-glaci...  \n",
       "12  https://www.flipkart.com/infinix-hot-30i-diamo...  \n",
       "13  https://www.flipkart.com/motorola-g32-mineral-...  \n",
       "14  https://www.flipkart.com/infinix-smart-7-azure...  \n",
       "15  https://www.flipkart.com/infinix-smart-7-night...  \n",
       "16  https://www.flipkart.com/infinix-hot-30i-mirro...  \n",
       "17  https://www.flipkart.com/samsung-galaxy-f04-ja...  \n",
       "18  https://www.flipkart.com/infinix-smart-7-emera...  \n",
       "19  https://www.flipkart.com/vivo-t2x-5g-marine-bl...  \n",
       "20  https://www.flipkart.com/vivo-t2x-5g-glimmer-b...  \n",
       "21  https://www.flipkart.com/vivo-t2x-5g-aurora-go...  \n",
       "22  https://www.flipkart.com/vivo-t2x-5g-marine-bl...  \n",
       "23  https://www.flipkart.com/vivo-t2x-5g-glimmer-b...  "
      ]
     },
     "execution_count": 51,
     "metadata": {},
     "output_type": "execute_result"
    }
   ],
   "source": [
    "mobile_data"
   ]
  },
  {
   "cell_type": "code",
   "execution_count": 52,
   "id": "63aac53f",
   "metadata": {},
   "outputs": [],
   "source": [
    "mobile_data.to_csv(\"mobile_data_web_s.csv\")"
   ]
  },
  {
   "cell_type": "code",
   "execution_count": null,
   "id": "2cc57beb",
   "metadata": {},
   "outputs": [],
   "source": []
  },
  {
   "cell_type": "markdown",
   "id": "b23a02b5",
   "metadata": {},
   "source": [
    "Write a program to scrap geospatial coordinates (latitude, longitude) of a city searched on google maps."
   ]
  },
  {
   "cell_type": "code",
   "execution_count": 53,
   "id": "f4219ed8",
   "metadata": {},
   "outputs": [],
   "source": [
    "driver3 = webdriver.Chrome(r'chromedriver.exe')"
   ]
  },
  {
   "cell_type": "code",
   "execution_count": 54,
   "id": "1d987b2b",
   "metadata": {},
   "outputs": [],
   "source": [
    "driver3.get(\"https://maps.google.com\")"
   ]
  },
  {
   "cell_type": "code",
   "execution_count": 55,
   "id": "3d3ec741",
   "metadata": {},
   "outputs": [
    {
     "name": "stdout",
     "output_type": "stream",
     "text": [
      "Enter the location : nipani\n"
     ]
    }
   ],
   "source": [
    "location = input(\"Enter the location : \")\n",
    "search_bar = driver3.find_element(By.XPATH,'/html/body/div[3]/div[9]/div[3]/div[1]/div[1]/div/div[2]/form/input[1]')\n",
    "search_bar.send_keys(location)"
   ]
  },
  {
   "cell_type": "code",
   "execution_count": 56,
   "id": "a2a8809e",
   "metadata": {},
   "outputs": [],
   "source": [
    "srch_btn = driver3.find_element(By.XPATH,'//div[@class=\"pzfvzf\"]')\n",
    "srch_btn.click()"
   ]
  },
  {
   "cell_type": "code",
   "execution_count": 57,
   "id": "7e1aaff0",
   "metadata": {},
   "outputs": [
    {
     "data": {
      "text/plain": [
       "'16.43517, 74.39936'"
      ]
     },
     "execution_count": 57,
     "metadata": {},
     "output_type": "execute_result"
    }
   ],
   "source": [
    "log_lat = driver3.find_element(By.XPATH,'/html/body/div[3]/div[3]/div[1]/div[1]')\n",
    "log_lat.text"
   ]
  },
  {
   "cell_type": "code",
   "execution_count": 58,
   "id": "ba15dca2",
   "metadata": {},
   "outputs": [],
   "source": [
    "def coordinates():\n",
    "    lang = log_lat.text.split(\",\")[0]\n",
    "    print(\"Longitude : \", lang)\n",
    "    lat = log_lat.text.split(\",\")[1]\n",
    "    print(\"Latitude : \", lat)\n",
    "    \n"
   ]
  },
  {
   "cell_type": "code",
   "execution_count": 59,
   "id": "6661c269",
   "metadata": {},
   "outputs": [
    {
     "name": "stdout",
     "output_type": "stream",
     "text": [
      "Longitude :  16.43517\n",
      "Latitude :   74.39936\n"
     ]
    }
   ],
   "source": [
    "coordinates()\n",
    "driver3.close()"
   ]
  },
  {
   "cell_type": "markdown",
   "id": "1ae4b93d",
   "metadata": {},
   "source": [
    "Write a program to scrap all the available details of best gaming laptops from digit.in"
   ]
  },
  {
   "cell_type": "code",
   "execution_count": 72,
   "id": "43be347a",
   "metadata": {},
   "outputs": [],
   "source": [
    "driver4 = webdriver.Chrome(r'chromedriver.exe')"
   ]
  },
  {
   "cell_type": "code",
   "execution_count": 73,
   "id": "d50af4e4",
   "metadata": {},
   "outputs": [],
   "source": [
    "driver4.get(\"https://www.digit.in/\")"
   ]
  },
  {
   "cell_type": "code",
   "execution_count": 74,
   "id": "c38600d2",
   "metadata": {},
   "outputs": [],
   "source": [
    "gaming = driver4.find_element(By.XPATH,'/html/body/div[2]/div/ul/li[5]/span')\n",
    "gaming.click()"
   ]
  },
  {
   "cell_type": "code",
   "execution_count": 75,
   "id": "30300a70",
   "metadata": {},
   "outputs": [],
   "source": [
    "best_lap = driver4.find_element(By.XPATH,'/html/body/div[2]/div/ul/li[5]/div[2]/div/div[2]/div/ul[3]/li[4]/a')\n",
    "best_lap.click()"
   ]
  },
  {
   "cell_type": "code",
   "execution_count": 76,
   "id": "1b513eb2",
   "metadata": {},
   "outputs": [],
   "source": [
    "h_link = []"
   ]
  },
  {
   "cell_type": "code",
   "execution_count": 79,
   "id": "b50480c2",
   "metadata": {},
   "outputs": [],
   "source": [
    "href = driver4.find_elements(By.XPATH,'//div[@class=\"article_row\"]/h2/a')\n",
    "for i in href:\n",
    "    h_url = i.get_attribute(\"href\")\n",
    "    h_link.append(h_url)\n"
   ]
  },
  {
   "cell_type": "code",
   "execution_count": 81,
   "id": "a48a0a7b",
   "metadata": {},
   "outputs": [
    {
     "data": {
      "text/plain": [
       "['https://www.digit.in/top-products/best-gaming-laptops-under-rs-50-000-3715.html',\n",
       " 'https://www.digit.in/top-products/best-hp-gaming-laptop-3933.html',\n",
       " 'https://www.digit.in/top-products/best-dell-gaming-laptop-3935.html',\n",
       " 'https://www.digit.in/top-products/best-gaming-laptops-under-60k-3980.html',\n",
       " 'https://www.digit.in/top-products/best-lenovo-gaming-laptops-in-india-3982.html',\n",
       " 'https://www.digit.in/top-products/best-gaming-laptops-under-40k-3978.html',\n",
       " 'https://www.digit.in/top-products/best-msi-gaming-laptops-in-india-3983.html',\n",
       " 'https://www.digit.in/top-products/gaming-laptops-under-rs-70-000-3973.html',\n",
       " 'https://www.digit.in/top-products/best-gaming-laptops-under-1-lakh-3979.html',\n",
       " 'https://www.digit.in/top-products/best-amd-laptops-for-gaming-4001.html']"
      ]
     },
     "execution_count": 81,
     "metadata": {},
     "output_type": "execute_result"
    }
   ],
   "source": [
    "h_link"
   ]
  },
  {
   "cell_type": "code",
   "execution_count": 82,
   "id": "931b8896",
   "metadata": {},
   "outputs": [],
   "source": [
    "details = []"
   ]
  },
  {
   "cell_type": "code",
   "execution_count": 83,
   "id": "75a00016",
   "metadata": {},
   "outputs": [],
   "source": [
    "info = driver4.find_elements(By.XPATH,'//div[@class=\"article_row\"]/p')\n",
    "for i  in info:\n",
    "    dtl = i.text\n",
    "    details.append(dtl)\n",
    "    "
   ]
  },
  {
   "cell_type": "code",
   "execution_count": 84,
   "id": "e50891eb",
   "metadata": {},
   "outputs": [
    {
     "data": {
      "text/plain": [
       "['Gaming laptops in the Rs 50,000 price range always sell like hot cake. Primarily because of two reasons - they offer high value for money and OEMs have to pull all kinds of tricks to make such an affordable gaming device possible. The end result, most often than not, are devices with very unique configurations. For instance, instead of using a bigger SSD, an OEM like Lenovo would use a combination of a smaller SSD and a big HDD in RAID 0 mode in their IdeaPad Gaming 3 for faster read/write speed on a budget. <p>Likewise, MSI would go off the beaten path and make an all-AMD gaming laptop powered by a Ryzen 5600H and a Radeon RX 5500M on a budget. Moreover, a lot of the laptops in this price range are base models of higher configurations. Thus, allowing you to upgrade the RAM and the storage depending on your requirement. Most laptops on this offer the same functionality so you can rest assured and pick the best one suited to your budget.</p>',\n",
       " \"HP has been in the laptop market for a long time, with laptops that cater to every user. This of course includes HP gaming laptops as well. Over the past few years HP have introduced two gaming brands, including OMEN and Victus, in addition to their existing lineup of Pavilion gaming laptops. While OMEN is all about top-of-the-line build quality and specs, Victus was introduced as hp gaming laptops under a budget. In this list, we're going to be taking a look at the best HP gaming laptops.\",\n",
       " 'Diving into the world of Dell gaming laptops, one might wonder, \"Why choose one?\" At the heart of it, the allure is rooted in the superb build quality and high-quality internal components of models like the Alienware X17. But the story doesn\\'t end there because it\\'s not just the super expensive gaming laptops that I have for you on this list but also really affordable ones which will provide the best bang for your buck. Another compelling reason to consider Dell gaming laptops is their use of high TGP GPUs. This feature enables you to extract the maximum performance from your laptop\\'s GPU For instance, the Dell G16 featuring an Nvidia GeForce RTX 3060 comes with a 130W TGP. Compare that to the more common 115W RTX 3060 found on other laptops and you can clearly see the advantage here. Moreover, Dell G series gaming laptops are just as price competitive as other OEMs on the market. You can get an Intel Core i5-powered Dell G16 at just Rs 66,999. The same laptop also features a high TGP Nvidia GeForce RTX 3050 (90W) as well, so the deal you’re getting here is pretty great. And if you’re willing to splurge even then there is no shortage of options as you can easily opt for an Alienware X15 R2 for Rs 3,04,990. It is an ultra high-end gaming laptop featuring a 12th Gen Intel Core i9 CPU and an Nvidia RTX 3070 Ti. But if want something with a big screen then you can get the top-of-the-line Alienware X17 R2. It essentially has the same specs but comes with a big 165Hz 17-inch display for Rs 3,34,990. The list mentioned here is in ascending order and includes the laptop which I think is the best in its price range.',\n",
       " \"The best part about the current gaming laptop ecosystem is that the best gaming laptops under Rs 60000 should still be able to run the latest AAA and esports titles with ease at low to medium settings. These budget gaming laptops compensate for the lower price point by featuring older gen CPUs and GPUs. This usually means 10th, or at best 11th gen Intel Core processors, and 4000 or 5000 series AMD Ryzen processors. While they may not be the latest of Intel and AMD's offerings, these processors can still hold their own when it comes to gaming performance. These processors are usually paired with the NVIDIA RTX 1650, or in some cases, the RTX 2050. With the advent of the RTX 4050, we may even start seeing RTX 3050 laptops in this segment soon. That being said, the 1650 and 2050 are good starter GPUs which are more than capable of running the latest titles at low to medium settings in FHD, or 1080p resolution. We've created this list of the best gaming laptops under Rs 60000 which should give you at least 60 FPS in popular titles like Valorant, GTAV, and more, with a range of processor and GPU combos. This includes the IdeaPad Gaming 3 featuring an AMD Ryzen 5 5600H with the GTX 1650, the HP Pavilion 15 with a Ryzen 5 4600H and a GTX 1650 Ti, and the Acer Aspire 7 with a 10th gen Intel Core i5 10300H and a GTX 1650 to name a few.\",\n",
       " 'There could be many reasons why someone would want to buy a Lenovo gaming laptop including but not limited to - good cooling performance, high TGP GPUs, and a robust build quality to name some. So people looking for these traits like college students, working professionals, or gamers in general who want a gaming laptop that can withstand for years to come without major issues can easily go for a Lenovo gaming laptop. The price bracket for these gaming laptops begins from Rs 52,990 and goes all the way up to Rs 1,89,990. In that price range, you’ll find a variety of laptops ranging from budget-friendly entry-level gaming machines to laptops with desktop-worthy performance. For instance, on this list, you’ll find the Lenovo IdeaPad Gaming 3, priced at Rs 52,990, that comes equipped with an AMD Ryzen 5 5600H and an Nvidia RTX 3050 - a combination fit enough to play most modern games at 1080p 60FPS at medium-low graphics preset. Other devices like a Lenovo Legion 5 Pro, priced at Rs 1,04,990, is a solid performer that features a sharp 1440p display with high brightness and a very aesthetic yet functional design. As we move up in price range you’ll find the latest iteration of the Lenovo Legion 5 Pro featuring the new AMD Ryzen 6800H octa-core CPU, and an Nvidia GeForce RTX 3060 with super high TGP. At the top of the food chain, we also have the same laptop but with even beefier specs as it includes an Nvidia GeForce RTX 3070 instead of an RTX 3060 for even better gaming performance. Remember that the series is yet to feature Intel’s latest 13th-gen and AMD Ryzen 7000 series processors alongside Nvidia GeForce RTX 4000 series GPUs. The new generation CPU and GPU chips are set to probably launch next month. Also, the list is in ascending order of price tag only.',\n",
       " 'As a surprise to some people, you can find a gaming laptop under the Rs 40,000 price range in India. But you will have to temper your expectations, you cannot expect 1080p gaming from a Rs 40,000 gaming laptop. More likely the device, at this price range, will have an iGPU and it’s only good for gaming at 720p. And also do not expect to play new games like Cyberpunk 2077 or the Resident Evil 4 Remake on your Rs 40,000 laptop. However, you can play older games like GTA V, Witcher 3, or eSports games like Valorant, and CS: GO easily using an iGPU. Therefore, this list mainly exists so people can purchase an affordable laptop with a good iGPU. However, even iGPUs have become really good in recent years. Several of the AMD Ryzen 6000 and 7000 series processors feature a powerful iGPU, capable enough to run games like Forza Horizon 5 at 1080p low settings. Moreover, the recently launched ASUS ROG Ally handheld featuring the AMD Ryzen Z1 extreme chip offers very good iGPU performance as well. Amongst the laptops on this list, the Lenovo V15 powered by an AMD Ryzen 5 5500U, a hexacore chip, is a great choice. Additionally, the 5500U also comes with a 7-core AMD Radeon Graphics chip running at 1800MHz clock speed. It is enough to play GTA V, Batman: Arkham Asylum, and other slightly older games at a smooth framerate with low graphics preset. Another really good device on this list is the Dell Inspiron 3525 which has a 120Hz high refresh rate display and paired with an AMD Ryzen 3 5425U, the laptop can easily run eSports games like CS: GO, League of Legends at a higher frame rate. It is also the only device in this price range to offer a high refresh rate display. Next up, the Acer Extensa featuring the AMD Ryzen 5 7520U, a quad-core chip, is also a good choice for a gaming laptop under Rs 40,000. In addition to Radeon 610M iGPU, the laptop also gets Wi-Fi 6 and TPM security. Lastly, the ASUS Vivobook Go 15, powered by the AMD Ryzen 3 7320U, is also a decent gaming laptop that you can consider for Rs 40,000. It also comes equipped with a webcam shield, Wi-Fi 6E, and military-grade build quality. The list is in ascending order',\n",
       " 'The best thing about MSI gaming laptops is that you can find one in almost every price range. You can get the most powerful one for Rs 4.5 lakh and you can also get a pretty affordable one at just Rs 50,000. So primarily this list is aimed at finding the best MSI gaming laptop in every price range, and trust me there are many, so you can get the one that’s tailor-made for you no matter the budget. Although MSI laptops with bleeding edge tech like the latest Intel, AMD CPUs, or Nvidia RTX 4000 series GPUs are mostly reserved for the premium price bracket. But I have found some very appealing options that can be considered, with some discounts and offers, almost budget-friendly. One such MSI gaming laptop is the MSI Thin GF63 featuring an Intel 12th Gen Core i5 processor and an Nvidia RTX 4050. That’s not all because it also gets 16GB memory, 1.25TB storage space, and a price tag of just Rs 82,990, without any offers or discounts. For team red supporters, the MSI Alpha 15, an all-AMD gaming laptop, is a great choice. With the combination of AMD Ryzen 7 5800H and Radeon RX 6800M, the laptop is able to use team red’s Smart Access Memory (SAM) tech and deliver 10-15% higher performance in games. Also, people looking for a powerful machine on a budget can also check out another variant of the MSI GF63 Thin priced at Rs 96,990 and featuring an Intel 12th Gen Core i5 CPU along with an Nvidia GeForce RTX 4060 which has 8GB GDDR6 VRAM. Finally for people who want to splurge and not worry about performance for even a bit then the MSI Raider GE78HX worth Rs 4,59,990 is a no-brainer. With that said, this list is in ascending order in terms of price and represents the best pick of the MSI Gaming laptop in that price range.',\n",
       " \"Choosing the right budget gaming laptop is a challenge. There are countless factors to consider, technical jargon to understand, and a vast array of options. In this less-than-ideal market environment, where every penny counts, I've set out to cut through the noise and provide a critically curated list of the best gaming laptops under Rs 70,000. Budget gaming laptops are not just about affordability. They cater to a unique group of consumers who need a balanced performance for both gaming and daily tasks without emptying their bank accounts. A budget gaming laptop can be a college student's companion for leisure and study, a young professional's workstation that also provides entertainment, or even a stepping stone for aspiring eSports athletes. Laptops in this price range generally boast Intel's 11th or 12th gen CPUs or AMD's Ryzen 5000 or 6000 series processors. However, the reality isn't as simple as the spec sheet suggests. Graphics are usually powered by an RTX 3050 GPU with 4GB GDDR6 VRAM, which may not handle every game at the highest settings. While brands like HP, Dell, Lenovo, and MSI offer models in this range, it's crucial to look beyond the brand names. A really great example of an affordable yet high-performance laptop on this list is the MSI Katana GF66, priced at Rs 66,990. It boasts a superb combination of the Intel 12th Gen Core i5-12450H and an Nvidia RTX 3050. In terms of profile as well the laptop impresses with its thin and light design, thus making it a laptop you can easily travel with. On the lookout for a budget gaming laptop with an 8-core processor? Then the Lenovo IdeaPad Gaming 3 powered by the AMD Ryzen 7 5800H, an 8-core 16-thread processor, should be your choice. Its affordable price tag of Rs 67,990 is also pretty nice. But don’t worry if you’re big on spending small, because the HP Victus 15.6 will provide you with the solid everyday gaming performance thanks to an AMD Ryzen 5600H and a Radeon 6500M GPU for just Rs 56,490.\",\n",
       " 'As you approach the Rs 1 lakh price point the gaming laptops start to become really good. You can expect a Rs 1 lakh gaming laptop to easily play the latest AAA titles like the God of War, The Last of US 2, or Resident Evil 4 remake and also be a great productive machine as well. So primarily laptops in this category are aimed at people who want good gaming performance with very few compromises and also a productive powerhouse which can easily handle 4K video editing, animation, coding and more. One of the best gaming laptops under Rs 1 lakh is the MSI Thin GF63 featuring the Intel Core i5-12450H, an 8-core processor, along with a powerful Nvidia GeForce RTX 4060 featuring 8GB GDDR6 VRAM. The GPUs high visual memory is crucial in 2023 as increasingly more games need a higher amount of VRAM. Furthermore, if you knock the budget down a notch, then you can also go for the Lenovo IdeaPad gaming 3, which will set you back Rs 89,990. But for that price the laptop will come equipped with an AMD Ryzen 7 5800H, an octa core processor, and an Nvidia GeForce RTX 3060 with 6GB GDDR6 VRAM. For users who want something even more affordable and “next-gen” then they can go for another variant of the MSI GF63, one which features a combination of an Intel Core i5-12450H and an Nvidia GeForce RTX 4050 that has 6GB GDDR6 VRAM. Another really affordable option in this price range is the Dell G16 featuring an AMD Ryzen 5 6500H and an Nvidia GeForce RTX 3050, and the best thing about this laptop is its build quality and high TGP GPU. Meaning the specific graphics chip in this unit, which consumes 90W, is objectively better than other RTX 3050 variants which consumes less power, and the fact is that most other units do. Remember that the list is in ascending order and does not represent how good or bad a laptop is based on its position in it.',\n",
       " 'While it might be hard for a lot of folks to think of AMD mobile processors being used for gaming, the fact is that the AMD Ryzen processors are indeed some of the most competitive processors to have entered the market in recent times. AMD not only has Ryzen processors which have excellent gaming performance but when clubbed with their Radeon 5000 or Radeon 6000 graphics cards, they become a formidable combination. In this list, we look at the best AMD laptops for gaming in India. These include units powered by AMD’s Ryzen 5000 family of processors and will be updated with the soon to be released Ryzen 6000 family of processors as well. We’ve curated this list of the best Ryzen gaming laptops by scouring several eCommerce portals and brand websites. If there’s an AMD laptop meant for gaming in India released by any brand that’s worthy of going head to head with the best units in the market, then this list will feature it.']"
      ]
     },
     "execution_count": 84,
     "metadata": {},
     "output_type": "execute_result"
    }
   ],
   "source": [
    "details"
   ]
  },
  {
   "cell_type": "code",
   "execution_count": 85,
   "id": "17aff5f3",
   "metadata": {},
   "outputs": [],
   "source": [
    "gaming_details = pd.DataFrame({\"Laptop links\":h_link, \"Details\":details})"
   ]
  },
  {
   "cell_type": "code",
   "execution_count": 86,
   "id": "0b402e83",
   "metadata": {},
   "outputs": [
    {
     "data": {
      "text/html": [
       "<div>\n",
       "<style scoped>\n",
       "    .dataframe tbody tr th:only-of-type {\n",
       "        vertical-align: middle;\n",
       "    }\n",
       "\n",
       "    .dataframe tbody tr th {\n",
       "        vertical-align: top;\n",
       "    }\n",
       "\n",
       "    .dataframe thead th {\n",
       "        text-align: right;\n",
       "    }\n",
       "</style>\n",
       "<table border=\"1\" class=\"dataframe\">\n",
       "  <thead>\n",
       "    <tr style=\"text-align: right;\">\n",
       "      <th></th>\n",
       "      <th>Laptop links</th>\n",
       "      <th>Details</th>\n",
       "    </tr>\n",
       "  </thead>\n",
       "  <tbody>\n",
       "    <tr>\n",
       "      <th>0</th>\n",
       "      <td>https://www.digit.in/top-products/best-gaming-...</td>\n",
       "      <td>Gaming laptops in the Rs 50,000 price range al...</td>\n",
       "    </tr>\n",
       "    <tr>\n",
       "      <th>1</th>\n",
       "      <td>https://www.digit.in/top-products/best-hp-gami...</td>\n",
       "      <td>HP has been in the laptop market for a long ti...</td>\n",
       "    </tr>\n",
       "    <tr>\n",
       "      <th>2</th>\n",
       "      <td>https://www.digit.in/top-products/best-dell-ga...</td>\n",
       "      <td>Diving into the world of Dell gaming laptops, ...</td>\n",
       "    </tr>\n",
       "    <tr>\n",
       "      <th>3</th>\n",
       "      <td>https://www.digit.in/top-products/best-gaming-...</td>\n",
       "      <td>The best part about the current gaming laptop ...</td>\n",
       "    </tr>\n",
       "    <tr>\n",
       "      <th>4</th>\n",
       "      <td>https://www.digit.in/top-products/best-lenovo-...</td>\n",
       "      <td>There could be many reasons why someone would ...</td>\n",
       "    </tr>\n",
       "    <tr>\n",
       "      <th>5</th>\n",
       "      <td>https://www.digit.in/top-products/best-gaming-...</td>\n",
       "      <td>As a surprise to some people, you can find a g...</td>\n",
       "    </tr>\n",
       "    <tr>\n",
       "      <th>6</th>\n",
       "      <td>https://www.digit.in/top-products/best-msi-gam...</td>\n",
       "      <td>The best thing about MSI gaming laptops is tha...</td>\n",
       "    </tr>\n",
       "    <tr>\n",
       "      <th>7</th>\n",
       "      <td>https://www.digit.in/top-products/gaming-lapto...</td>\n",
       "      <td>Choosing the right budget gaming laptop is a c...</td>\n",
       "    </tr>\n",
       "    <tr>\n",
       "      <th>8</th>\n",
       "      <td>https://www.digit.in/top-products/best-gaming-...</td>\n",
       "      <td>As you approach the Rs 1 lakh price point the ...</td>\n",
       "    </tr>\n",
       "    <tr>\n",
       "      <th>9</th>\n",
       "      <td>https://www.digit.in/top-products/best-amd-lap...</td>\n",
       "      <td>While it might be hard for a lot of folks to t...</td>\n",
       "    </tr>\n",
       "  </tbody>\n",
       "</table>\n",
       "</div>"
      ],
      "text/plain": [
       "                                        Laptop links  \\\n",
       "0  https://www.digit.in/top-products/best-gaming-...   \n",
       "1  https://www.digit.in/top-products/best-hp-gami...   \n",
       "2  https://www.digit.in/top-products/best-dell-ga...   \n",
       "3  https://www.digit.in/top-products/best-gaming-...   \n",
       "4  https://www.digit.in/top-products/best-lenovo-...   \n",
       "5  https://www.digit.in/top-products/best-gaming-...   \n",
       "6  https://www.digit.in/top-products/best-msi-gam...   \n",
       "7  https://www.digit.in/top-products/gaming-lapto...   \n",
       "8  https://www.digit.in/top-products/best-gaming-...   \n",
       "9  https://www.digit.in/top-products/best-amd-lap...   \n",
       "\n",
       "                                             Details  \n",
       "0  Gaming laptops in the Rs 50,000 price range al...  \n",
       "1  HP has been in the laptop market for a long ti...  \n",
       "2  Diving into the world of Dell gaming laptops, ...  \n",
       "3  The best part about the current gaming laptop ...  \n",
       "4  There could be many reasons why someone would ...  \n",
       "5  As a surprise to some people, you can find a g...  \n",
       "6  The best thing about MSI gaming laptops is tha...  \n",
       "7  Choosing the right budget gaming laptop is a c...  \n",
       "8  As you approach the Rs 1 lakh price point the ...  \n",
       "9  While it might be hard for a lot of folks to t...  "
      ]
     },
     "execution_count": 86,
     "metadata": {},
     "output_type": "execute_result"
    }
   ],
   "source": [
    "gaming_details "
   ]
  },
  {
   "cell_type": "code",
   "execution_count": null,
   "id": "a1d8c9a4",
   "metadata": {},
   "outputs": [],
   "source": []
  },
  {
   "cell_type": "markdown",
   "id": "a46f7573",
   "metadata": {},
   "source": [
    "Write a python program to scrape the details for all billionaires from www.forbes.com. Details to be scrapped:\n",
    "“Rank”, “Name”, “Net worth”, “Age”, “Citizenship”, “Source”, “Industry”."
   ]
  },
  {
   "cell_type": "code",
   "execution_count": 38,
   "id": "bea41524",
   "metadata": {},
   "outputs": [],
   "source": [
    "driver =  webdriver.Chrome(r'Chromedriver.exe')"
   ]
  },
  {
   "cell_type": "code",
   "execution_count": 39,
   "id": "7a0db43a",
   "metadata": {},
   "outputs": [],
   "source": [
    "driver.get(\"https://www.forbes.com/\")"
   ]
  },
  {
   "cell_type": "code",
   "execution_count": 40,
   "id": "5601e199",
   "metadata": {},
   "outputs": [],
   "source": [
    "menu = driver.find_element(By.XPATH,'//div[@class=\"_69hVhdY4\"]')\n",
    "menu.click()"
   ]
  },
  {
   "cell_type": "code",
   "execution_count": 41,
   "id": "2242de65",
   "metadata": {},
   "outputs": [],
   "source": [
    "bil_btn = driver.find_element(By.XPATH,'/html/body/div[1]/header/nav/div[1]/div[1]/div/div[2]/ul/li[2]/div[1]')\n",
    "bil_btn.click()"
   ]
  },
  {
   "cell_type": "code",
   "execution_count": 44,
   "id": "4474d0e0",
   "metadata": {},
   "outputs": [],
   "source": [
    "all_bil = driver.find_element(By.XPATH,'/html/body/div[1]/div[2]/main/div/section/div[2]/div/div/div[1]/div/div[1]/div/div/a/h2')\n",
    "all_bil.click()"
   ]
  },
  {
   "cell_type": "code",
   "execution_count": 46,
   "id": "c1add221",
   "metadata": {},
   "outputs": [],
   "source": [
    "n_tag = driver.find_element(By.XPATH,'/html/body/div[1]/div[2]/div[3]/div[2]/div[2]/div[1]/div/div[2]/div/div[2]/div/div')\n",
    "n_tag.click()"
   ]
  },
  {
   "cell_type": "code",
   "execution_count": 47,
   "id": "bd9dcc81",
   "metadata": {},
   "outputs": [],
   "source": [
    "rank = []"
   ]
  },
  {
   "cell_type": "code",
   "execution_count": 48,
   "id": "c0e74032",
   "metadata": {},
   "outputs": [],
   "source": [
    "rnk = driver.find_elements(By.XPATH,'//div[@class=\"Table_rank___YBhk Table_dataCell__2QCve\"]')\n",
    "for i in rnk:\n",
    "    rank.append(i.text)"
   ]
  },
  {
   "cell_type": "code",
   "execution_count": 50,
   "id": "e94d3dea",
   "metadata": {},
   "outputs": [],
   "source": [
    "name = []"
   ]
  },
  {
   "cell_type": "code",
   "execution_count": 51,
   "id": "31008a43",
   "metadata": {},
   "outputs": [],
   "source": [
    "nm = driver.find_elements(By.XPATH,'//div[@class=\"TableRow_row__L-0Km\"]/div[2]')\n",
    "for i in nm:\n",
    "    name.append(i.text)"
   ]
  },
  {
   "cell_type": "code",
   "execution_count": 52,
   "id": "fbcefb91",
   "metadata": {},
   "outputs": [
    {
     "data": {
      "text/plain": [
       "['A. Jayson Adair',\n",
       " 'Abdulla Al Futtaim & family',\n",
       " 'Abdulla bin Ahmad Al Ghurair & family',\n",
       " 'Abdulsamad Rabiu',\n",
       " 'Abhay Firodia',\n",
       " 'Abhay Soi',\n",
       " 'Abigail Bennett',\n",
       " 'Abigail Johnson',\n",
       " 'Abilio dos Santos Diniz',\n",
       " 'Acharya Balkrishna',\n",
       " 'Adam Kwok',\n",
       " 'Adam Neumann',\n",
       " 'Adi Godrej',\n",
       " 'Adriaan Mol',\n",
       " 'Adrian Paval',\n",
       " 'Aerin Lauder',\n",
       " 'Agnete Kirk Thinggaard',\n",
       " 'Ahmet Calik',\n",
       " 'Airat Shaimiev',\n",
       " 'Ajay Parekh',\n",
       " 'Ajay Piramal',\n",
       " 'Akio Nitori',\n",
       " 'Akira Mori & family',\n",
       " 'Alain Bouchard',\n",
       " 'Alain Merieux & family',\n",
       " 'Alain Taravella',\n",
       " 'Alain Wertheimer',\n",
       " 'Alan Gerry',\n",
       " 'Alan Howard',\n",
       " 'Alan Miller & family',\n",
       " 'Alan Trefler',\n",
       " 'Alan Wilson',\n",
       " 'Alan Zekelman',\n",
       " 'Albert Avdolyan',\n",
       " 'Albert Shigaboutdinov',\n",
       " 'Alberto Alcocer',\n",
       " 'Alberto Bombassei',\n",
       " 'Alberto Cortina',\n",
       " 'Alberto Palatchi',\n",
       " 'Alberto Prada',\n",
       " 'Alberto Siccardi & family',\n",
       " 'Alceu Elias Feldmann & family',\n",
       " 'Alec Gores',\n",
       " 'Alejandro Bailleres Gual & family',\n",
       " 'Alejandro Bulgheroni',\n",
       " 'Alejandro Santo Domingo',\n",
       " 'Ales Zavoral',\n",
       " 'Alessandra Garavoglia',\n",
       " 'Alex Beard',\n",
       " 'Alex Birkenstock',\n",
       " 'Alex Shevchenko',\n",
       " 'Alexander Abramov',\n",
       " 'Alexander Frolov',\n",
       " 'Alexander Gerko',\n",
       " 'Alexander Karp',\n",
       " 'Alexander Klyachin',\n",
       " 'Alexander Mamut',\n",
       " 'Alexander Nesis',\n",
       " 'Alexander Otto',\n",
       " 'Alexander Ponomarenko',\n",
       " 'Alexander Sixt',\n",
       " 'Alexander Skorobogatko',\n",
       " 'Alexander Svetakov',\n",
       " 'Alexandra Andresen',\n",
       " 'Alexandra Daitch',\n",
       " 'Alexandra Schoerghuber & family',\n",
       " 'Alexandre Behring',\n",
       " 'Alexandre Grendene Bartelle',\n",
       " 'Alexei Kuzmichev',\n",
       " 'Alexey Mordashov & family',\n",
       " 'Alexey Repik',\n",
       " 'Alexis Lê-Quôc',\n",
       " 'Alfred Gantner',\n",
       " 'Alfred Oetker',\n",
       " 'Alfred West, Jr.',\n",
       " 'Alfredo Egydio Arruda Villela Filho',\n",
       " 'Alfredo Harp Helu & family',\n",
       " 'Ali Erdemoglu',\n",
       " 'Ali Ghodsi',\n",
       " 'Ali Metin Kazanci',\n",
       " 'Alice Schwartz',\n",
       " 'Alice Walton',\n",
       " 'Alicia Koplowitz',\n",
       " 'Aliko Dangote',\n",
       " 'Alisher Usmanov',\n",
       " 'Allan Wong',\n",
       " 'Aloke Lohia',\n",
       " 'Amancio Ortega',\n",
       " 'Amit Burman',\n",
       " 'Amnon Shashua',\n",
       " 'Amos Hostetter, Jr.',\n",
       " 'Amy Adams Strunk',\n",
       " 'Amy Goldman Fowler',\n",
       " 'Amy Wyss',\n",
       " 'Ana Lucia de Mattos Barretto Villela',\n",
       " 'Ana Maria Brescia Cafferata',\n",
       " 'Anand Burman',\n",
       " 'Anand Deshpande',\n",
       " 'Anand Mahindra',\n",
       " 'Anand Surana',\n",
       " 'Ananda Krishnan',\n",
       " 'Anant Asavabhokhin',\n",
       " 'Anatoly Lomakin',\n",
       " 'Anatoly Sedykh',\n",
       " 'Anders Holch Povlsen',\n",
       " 'Andre Esteves',\n",
       " 'Andre Koo, Sr.',\n",
       " 'Andreas Halvorsen',\n",
       " 'Andreas Pohl',\n",
       " 'Andreas Struengmann & family',\n",
       " 'Andreas von Bechtolsheim & family',\n",
       " 'Andrei Bokarev',\n",
       " 'Andrei Guriev & family',\n",
       " 'Andrei Kosogov',\n",
       " 'Andrei Kozitsyn',\n",
       " 'Andrei Krivenko',\n",
       " 'Andrei Molchanov',\n",
       " 'Andrei Rappoport',\n",
       " 'Andrei Skoch & family',\n",
       " 'Andrej Babis',\n",
       " 'Andres Santo Domingo',\n",
       " 'Andrew Beal',\n",
       " 'Andrew Cherng',\n",
       " 'Andrew Currie',\n",
       " 'Andrew Forrest',\n",
       " 'Andrew Tan',\n",
       " 'Andrey Andreev',\n",
       " 'Andrey Melnichenko & family',\n",
       " 'Aneel Bhusri',\n",
       " 'Angela Bennett',\n",
       " 'Angela Leong',\n",
       " 'Anita Zucker',\n",
       " 'Ann Walton Kroenke',\n",
       " 'Anna Katharina Viessmann',\n",
       " 'Anna Maria Braun',\n",
       " 'Annalisa Doris',\n",
       " 'Anne Beaufour',\n",
       " 'Anne Marie See Pastor',\n",
       " 'Anne Werninghaus',\n",
       " 'Annette Lerner & family',\n",
       " 'Anthony Bamford & family',\n",
       " 'Anthony Casalena',\n",
       " 'Anthony Hall',\n",
       " 'Anthony Langley',\n",
       " 'Anthony Pratt',\n",
       " 'Anthony Pritzker',\n",
       " 'Anthony von Mandl',\n",
       " 'Anthony Wood',\n",
       " 'Antonia Ax:son Johnson & family',\n",
       " 'Antonio Del Valle Ruiz & family',\n",
       " 'Antonio Luiz Seabra',\n",
       " 'Antonio Percassi',\n",
       " 'Antony Ressler',\n",
       " 'Antti Aarnio-Wihuri',\n",
       " 'Antti Herlin',\n",
       " 'Anu Aga',\n",
       " 'Anurang Jain',\n",
       " 'Apoorva Mehta',\n",
       " 'Archie Aldis Emmerson & family',\n",
       " 'Archie Hwang',\n",
       " 'Aristotelis Mistakidis',\n",
       " 'Arkady Rotenberg',\n",
       " 'Arkady Volozh',\n",
       " 'Arnon Milchan',\n",
       " 'Arnout Schuijff',\n",
       " 'Art Levinson',\n",
       " 'Artem Khachatryan',\n",
       " 'Arthur Blank',\n",
       " 'Arthur Dantchik',\n",
       " 'Arthur Irving',\n",
       " 'Arturo Moreno',\n",
       " 'Arun Bharat Ram',\n",
       " 'Arvind Lal',\n",
       " 'Arvind Poddar',\n",
       " 'Arvind Tiku',\n",
       " 'Ashok Kajaria',\n",
       " 'Ashwin Dani & family',\n",
       " 'Ashwin Desai',\n",
       " 'Asok Kumar Hiranandani',\n",
       " 'Atul Ruia',\n",
       " 'August Troendle',\n",
       " 'Augusto Perfetti',\n",
       " 'Austen Cargill, II.',\n",
       " 'Autry Stephens',\n",
       " 'Axel Oberwelland & family',\n",
       " 'Axel Stawski',\n",
       " 'Aydin Dogan',\n",
       " 'Ayman Hariri',\n",
       " 'Azim Premji',\n",
       " 'Aziz Akhannouch & family',\n",
       " 'B. Wayne Hughes, Jr.',\n",
       " 'Baba Kalyani',\n",
       " 'Bahaa Hariri',\n",
       " 'Bai Baokun',\n",
       " 'Bai Houshan',\n",
       " 'Balkrishan Goenka',\n",
       " 'Bambang Sutantio',\n",
       " 'Bang Si-hyuk',\n",
       " 'Banwari Lal Bawri',\n",
       " 'Barbara Benetton']"
      ]
     },
     "execution_count": 52,
     "metadata": {},
     "output_type": "execute_result"
    }
   ],
   "source": [
    "name"
   ]
  },
  {
   "cell_type": "code",
   "execution_count": 53,
   "id": "56dafa04",
   "metadata": {},
   "outputs": [],
   "source": [
    "net_worth = []"
   ]
  },
  {
   "cell_type": "code",
   "execution_count": 54,
   "id": "f20328f8",
   "metadata": {},
   "outputs": [],
   "source": [
    "networth = driver.find_elements(By.XPATH,'//div[@class=\"TableRow_row__L-0Km\"]/div[3]')\n",
    "for i in networth:\n",
    "    net_worth.append(i.text)\n",
    "    "
   ]
  },
  {
   "cell_type": "code",
   "execution_count": 55,
   "id": "cf543940",
   "metadata": {},
   "outputs": [],
   "source": [
    "age = []"
   ]
  },
  {
   "cell_type": "code",
   "execution_count": 56,
   "id": "5659a720",
   "metadata": {},
   "outputs": [],
   "source": [
    "ages = driver.find_elements(By.XPATH,'//div[@class=\"TableRow_row__L-0Km\"]/div[4]')\n",
    "for i in ages:\n",
    "    age.append(i.text)"
   ]
  },
  {
   "cell_type": "code",
   "execution_count": 57,
   "id": "ce7139a4",
   "metadata": {},
   "outputs": [],
   "source": [
    "country = []"
   ]
  },
  {
   "cell_type": "code",
   "execution_count": 58,
   "id": "eb5af1db",
   "metadata": {},
   "outputs": [],
   "source": [
    "con = driver.find_elements(By.XPATH,'//div[@class=\"TableRow_row__L-0Km\"]/div[5]')\n",
    "for i in con:\n",
    "    country.append(i.text)"
   ]
  },
  {
   "cell_type": "code",
   "execution_count": 59,
   "id": "6d769e8f",
   "metadata": {},
   "outputs": [],
   "source": [
    "source = []"
   ]
  },
  {
   "cell_type": "code",
   "execution_count": 60,
   "id": "6bfd0984",
   "metadata": {},
   "outputs": [],
   "source": [
    "src = driver.find_elements(By.XPATH,'//div[@class=\"TableRow_row__L-0Km\"]/div[6]')\n",
    "for i in src:\n",
    "    source.append(i.text)"
   ]
  },
  {
   "cell_type": "code",
   "execution_count": 61,
   "id": "d53b16c7",
   "metadata": {},
   "outputs": [],
   "source": [
    "industry = []"
   ]
  },
  {
   "cell_type": "code",
   "execution_count": 62,
   "id": "6eeaf639",
   "metadata": {},
   "outputs": [],
   "source": [
    "inds = driver.find_elements(By.XPATH,'//div[@class=\"TableRow_row__L-0Km\"]/div[7]')\n",
    "for i in inds:\n",
    "    industry.append(i.text)"
   ]
  },
  {
   "cell_type": "code",
   "execution_count": 63,
   "id": "6bd2ad5a",
   "metadata": {},
   "outputs": [
    {
     "name": "stdout",
     "output_type": "stream",
     "text": [
      "200 200 200 200 200 200 200\n"
     ]
    }
   ],
   "source": [
    "print(len(rank),len(name),len(net_worth),len(age),len(country),len(source),len(industry))"
   ]
  },
  {
   "cell_type": "code",
   "execution_count": 64,
   "id": "d4caa44f",
   "metadata": {},
   "outputs": [],
   "source": [
    "billionaires = pd.DataFrame({\"Rank\":rank,\"Name\":name, \"Net Worth\":net_worth, \"Age\":age, \"Country / Territory\":country, \"Source\":source, \"industry\":industry})"
   ]
  },
  {
   "cell_type": "code",
   "execution_count": 65,
   "id": "50e302a4",
   "metadata": {},
   "outputs": [
    {
     "data": {
      "text/html": [
       "<div>\n",
       "<style scoped>\n",
       "    .dataframe tbody tr th:only-of-type {\n",
       "        vertical-align: middle;\n",
       "    }\n",
       "\n",
       "    .dataframe tbody tr th {\n",
       "        vertical-align: top;\n",
       "    }\n",
       "\n",
       "    .dataframe thead th {\n",
       "        text-align: right;\n",
       "    }\n",
       "</style>\n",
       "<table border=\"1\" class=\"dataframe\">\n",
       "  <thead>\n",
       "    <tr style=\"text-align: right;\">\n",
       "      <th></th>\n",
       "      <th>Rank</th>\n",
       "      <th>Name</th>\n",
       "      <th>Net Worth</th>\n",
       "      <th>Age</th>\n",
       "      <th>Country / Territory</th>\n",
       "      <th>Source</th>\n",
       "      <th>industry</th>\n",
       "    </tr>\n",
       "  </thead>\n",
       "  <tbody>\n",
       "    <tr>\n",
       "      <th>0</th>\n",
       "      <td>2133</td>\n",
       "      <td>A. Jayson Adair</td>\n",
       "      <td>$1.3 B</td>\n",
       "      <td>53</td>\n",
       "      <td>United States</td>\n",
       "      <td>Damaged cars</td>\n",
       "      <td>Automotive</td>\n",
       "    </tr>\n",
       "    <tr>\n",
       "      <th>1</th>\n",
       "      <td>1272</td>\n",
       "      <td>Abdulla Al Futtaim &amp; family</td>\n",
       "      <td>$2.4 B</td>\n",
       "      <td>83</td>\n",
       "      <td>United Arab Emirates</td>\n",
       "      <td>Auto dealers, investments</td>\n",
       "      <td>Automotive</td>\n",
       "    </tr>\n",
       "    <tr>\n",
       "      <th>2</th>\n",
       "      <td>982</td>\n",
       "      <td>Abdulla bin Ahmad Al Ghurair &amp; family</td>\n",
       "      <td>$3 B</td>\n",
       "      <td>N/A</td>\n",
       "      <td>United Arab Emirates</td>\n",
       "      <td>Diversified</td>\n",
       "      <td>Diversified</td>\n",
       "    </tr>\n",
       "    <tr>\n",
       "      <th>3</th>\n",
       "      <td>249</td>\n",
       "      <td>Abdulsamad Rabiu</td>\n",
       "      <td>$8.2 B</td>\n",
       "      <td>62</td>\n",
       "      <td>Nigeria</td>\n",
       "      <td>Cement, sugar</td>\n",
       "      <td>Diversified</td>\n",
       "    </tr>\n",
       "    <tr>\n",
       "      <th>4</th>\n",
       "      <td>1104</td>\n",
       "      <td>Abhay Firodia</td>\n",
       "      <td>$2.7 B</td>\n",
       "      <td>78</td>\n",
       "      <td>India</td>\n",
       "      <td>Automobiles</td>\n",
       "      <td>Automotive</td>\n",
       "    </tr>\n",
       "    <tr>\n",
       "      <th>...</th>\n",
       "      <td>...</td>\n",
       "      <td>...</td>\n",
       "      <td>...</td>\n",
       "      <td>...</td>\n",
       "      <td>...</td>\n",
       "      <td>...</td>\n",
       "      <td>...</td>\n",
       "    </tr>\n",
       "    <tr>\n",
       "      <th>195</th>\n",
       "      <td>2259</td>\n",
       "      <td>Balkrishan Goenka</td>\n",
       "      <td>$1.2 B</td>\n",
       "      <td>56</td>\n",
       "      <td>India</td>\n",
       "      <td>Textiles</td>\n",
       "      <td>Manufacturing</td>\n",
       "    </tr>\n",
       "    <tr>\n",
       "      <th>196</th>\n",
       "      <td>1647</td>\n",
       "      <td>Bambang Sutantio</td>\n",
       "      <td>$1.8 B</td>\n",
       "      <td>64</td>\n",
       "      <td>Indonesia</td>\n",
       "      <td>Dairy &amp; consumer products</td>\n",
       "      <td>Food &amp; Beverage</td>\n",
       "    </tr>\n",
       "    <tr>\n",
       "      <th>197</th>\n",
       "      <td>1725</td>\n",
       "      <td>Bang Si-hyuk</td>\n",
       "      <td>$1.7 B</td>\n",
       "      <td>50</td>\n",
       "      <td>South Korea</td>\n",
       "      <td>Entertainment</td>\n",
       "      <td>Media &amp; Entertainment</td>\n",
       "    </tr>\n",
       "    <tr>\n",
       "      <th>198</th>\n",
       "      <td>2133</td>\n",
       "      <td>Banwari Lal Bawri</td>\n",
       "      <td>$1.3 B</td>\n",
       "      <td>70</td>\n",
       "      <td>India</td>\n",
       "      <td>Pharmaceuticals</td>\n",
       "      <td>Healthcare</td>\n",
       "    </tr>\n",
       "    <tr>\n",
       "      <th>199</th>\n",
       "      <td>1905</td>\n",
       "      <td>Barbara Benetton</td>\n",
       "      <td>$1.5 B</td>\n",
       "      <td>53</td>\n",
       "      <td>Italy</td>\n",
       "      <td>Fashion retail, investments</td>\n",
       "      <td>Fashion &amp; Retail</td>\n",
       "    </tr>\n",
       "  </tbody>\n",
       "</table>\n",
       "<p>200 rows × 7 columns</p>\n",
       "</div>"
      ],
      "text/plain": [
       "     Rank                                   Name Net Worth  Age  \\\n",
       "0    2133                        A. Jayson Adair    $1.3 B   53   \n",
       "1    1272            Abdulla Al Futtaim & family    $2.4 B   83   \n",
       "2     982  Abdulla bin Ahmad Al Ghurair & family      $3 B  N/A   \n",
       "3     249                       Abdulsamad Rabiu    $8.2 B   62   \n",
       "4    1104                          Abhay Firodia    $2.7 B   78   \n",
       "..    ...                                    ...       ...  ...   \n",
       "195  2259                      Balkrishan Goenka    $1.2 B   56   \n",
       "196  1647                       Bambang Sutantio    $1.8 B   64   \n",
       "197  1725                           Bang Si-hyuk    $1.7 B   50   \n",
       "198  2133                      Banwari Lal Bawri    $1.3 B   70   \n",
       "199  1905                       Barbara Benetton    $1.5 B   53   \n",
       "\n",
       "      Country / Territory                       Source               industry  \n",
       "0           United States                 Damaged cars             Automotive  \n",
       "1    United Arab Emirates    Auto dealers, investments             Automotive  \n",
       "2    United Arab Emirates                  Diversified            Diversified  \n",
       "3                 Nigeria                Cement, sugar            Diversified  \n",
       "4                   India                  Automobiles             Automotive  \n",
       "..                    ...                          ...                    ...  \n",
       "195                 India                     Textiles          Manufacturing  \n",
       "196             Indonesia    Dairy & consumer products        Food & Beverage  \n",
       "197           South Korea                Entertainment  Media & Entertainment  \n",
       "198                 India              Pharmaceuticals             Healthcare  \n",
       "199                 Italy  Fashion retail, investments       Fashion & Retail  \n",
       "\n",
       "[200 rows x 7 columns]"
      ]
     },
     "execution_count": 65,
     "metadata": {},
     "output_type": "execute_result"
    }
   ],
   "source": [
    "billionaires"
   ]
  },
  {
   "cell_type": "code",
   "execution_count": null,
   "id": "d2b81534",
   "metadata": {},
   "outputs": [],
   "source": []
  },
  {
   "cell_type": "markdown",
   "id": "0288c5fe",
   "metadata": {},
   "source": [
    "Write a program to extract at least 500 Comments, Comment upvote and time when comment was posted\n",
    "from any YouTube Video."
   ]
  },
  {
   "cell_type": "code",
   "execution_count": 2,
   "id": "2171b52f",
   "metadata": {},
   "outputs": [],
   "source": [
    "driver = webdriver.Chrome(r'chromedriver.exe')"
   ]
  },
  {
   "cell_type": "code",
   "execution_count": 3,
   "id": "af2ac88e",
   "metadata": {},
   "outputs": [],
   "source": [
    "driver.get(\"https://www.youtube.com\")"
   ]
  },
  {
   "cell_type": "code",
   "execution_count": 4,
   "id": "46da687d",
   "metadata": {},
   "outputs": [],
   "source": [
    "search = driver.find_element(By.XPATH,'/html/body/ytd-app/div[1]/div/ytd-masthead/div[4]/div[2]/ytd-searchbox/form/div[1]/div[1]/input')\n",
    "search.send_keys(\"BB Ki Vines\")"
   ]
  },
  {
   "cell_type": "code",
   "execution_count": 5,
   "id": "209639e5",
   "metadata": {},
   "outputs": [],
   "source": [
    "button = driver.find_element(By.XPATH,'/html/body/ytd-app/div[1]/div/ytd-masthead/div[4]/div[2]/ytd-searchbox/button/yt-icon')\n",
    "button.click()"
   ]
  },
  {
   "cell_type": "code",
   "execution_count": 6,
   "id": "76b2713c",
   "metadata": {},
   "outputs": [],
   "source": [
    "title = driver.find_element(By.XPATH,'/html/body/ytd-app/div[1]/ytd-page-manager/ytd-search/div[1]/ytd-two-column-search-results-renderer/div/ytd-section-list-renderer/div[2]/ytd-item-section-renderer/div[3]/ytd-video-renderer[2]/div[1]/div/div[1]/div/h3/a/yt-formatted-string')\n",
    "title.click()"
   ]
  },
  {
   "cell_type": "code",
   "execution_count": 7,
   "id": "9a2bc7a6",
   "metadata": {},
   "outputs": [],
   "source": [
    "comments = []"
   ]
  },
  {
   "cell_type": "code",
   "execution_count": 8,
   "id": "706cd0ff",
   "metadata": {},
   "outputs": [],
   "source": [
    "open_comments = driver.find_elements(By.XPATH,'//yt-formatted-string[@class=\"style-scope ytd-comment-renderer\"]')\n",
    "for i in open_comments[0:500]:\n",
    "    comments.append(i.text)\n",
    "#//yt-formatted-string[@class=\"style-scope ytd-comment-renderer\"]"
   ]
  },
  {
   "cell_type": "code",
   "execution_count": 9,
   "id": "bab73c3c",
   "metadata": {},
   "outputs": [
    {
     "name": "stdout",
     "output_type": "stream",
     "text": [
      "500\n"
     ]
    }
   ],
   "source": [
    "print(len(comments))"
   ]
  },
  {
   "cell_type": "code",
   "execution_count": 10,
   "id": "0d7bff43",
   "metadata": {},
   "outputs": [],
   "source": [
    "commenters_name = []"
   ]
  },
  {
   "cell_type": "code",
   "execution_count": 11,
   "id": "0d3febdf",
   "metadata": {},
   "outputs": [],
   "source": [
    "cmt_up = driver.find_elements(By.XPATH,'//h3[@class=\"style-scope ytd-comment-renderer\"]')\n",
    "for m in cmt_up[0:500]:\n",
    "    commenters_name.append(m.text)\n",
    "    "
   ]
  },
  {
   "cell_type": "code",
   "execution_count": 12,
   "id": "a17ae2d6",
   "metadata": {},
   "outputs": [
    {
     "name": "stdout",
     "output_type": "stream",
     "text": [
      "500\n"
     ]
    }
   ],
   "source": [
    "print(len(commenters_name)) #yt-formatted-string"
   ]
  },
  {
   "cell_type": "code",
   "execution_count": 13,
   "id": "6fcd6039",
   "metadata": {},
   "outputs": [],
   "source": [
    "cmts_time = []"
   ]
  },
  {
   "cell_type": "code",
   "execution_count": 14,
   "id": "4f33a1a5",
   "metadata": {},
   "outputs": [],
   "source": [
    "cs_time = driver.find_elements(By.XPATH,'//div[@class=\"style-scope ytd-comment-renderer\"]/div/div/div[2]')\n",
    "for k in cs_time[0:500]:\n",
    "    cmts_time.append(k.text)"
   ]
  },
  {
   "cell_type": "code",
   "execution_count": 15,
   "id": "43632c33",
   "metadata": {},
   "outputs": [
    {
     "data": {
      "text/plain": [
       "500"
      ]
     },
     "execution_count": 15,
     "metadata": {},
     "output_type": "execute_result"
    }
   ],
   "source": [
    "len(cmts_time)"
   ]
  },
  {
   "cell_type": "code",
   "execution_count": 16,
   "id": "723d8141",
   "metadata": {},
   "outputs": [],
   "source": [
    "all_comments_time = []"
   ]
  },
  {
   "cell_type": "code",
   "execution_count": 17,
   "id": "21f63221",
   "metadata": {},
   "outputs": [],
   "source": [
    "for i in cmts_time:\n",
    "    all_comments_time.append(i.split(\"\\n\")[1])\n",
    "    \n",
    "    \n",
    "   "
   ]
  },
  {
   "cell_type": "code",
   "execution_count": 18,
   "id": "ed568b8c",
   "metadata": {},
   "outputs": [
    {
     "data": {
      "text/plain": [
       "500"
      ]
     },
     "execution_count": 18,
     "metadata": {},
     "output_type": "execute_result"
    }
   ],
   "source": [
    "len(all_comments_time)"
   ]
  },
  {
   "cell_type": "code",
   "execution_count": 19,
   "id": "f4ffacd2",
   "metadata": {},
   "outputs": [],
   "source": [
    "comment_upvote = []"
   ]
  },
  {
   "cell_type": "code",
   "execution_count": 20,
   "id": "f75e2c89",
   "metadata": {},
   "outputs": [],
   "source": [
    "upvote = driver.find_elements(By.XPATH,'//div[@class=\"style-scope ytd-comment-action-buttons-renderer\"]/span[2]')\n",
    "for likes in upvote[0:500]:\n",
    "    comment_upvote.append(likes.text)\n",
    "    "
   ]
  },
  {
   "cell_type": "code",
   "execution_count": 22,
   "id": "26c562e4",
   "metadata": {},
   "outputs": [
    {
     "data": {
      "text/plain": [
       "500"
      ]
     },
     "execution_count": 22,
     "metadata": {},
     "output_type": "execute_result"
    }
   ],
   "source": [
    "len(comment_upvote)"
   ]
  },
  {
   "cell_type": "code",
   "execution_count": 23,
   "id": "5989e788",
   "metadata": {},
   "outputs": [],
   "source": [
    "youtube = pd.DataFrame({\"Commenter name\":commenters_name, \"Comment\":comments, \"Comment Upvote\":comment_upvote, \"Comment Time\":all_comments_time })"
   ]
  },
  {
   "cell_type": "code",
   "execution_count": 24,
   "id": "e78acc8d",
   "metadata": {},
   "outputs": [
    {
     "data": {
      "text/html": [
       "<div>\n",
       "<style scoped>\n",
       "    .dataframe tbody tr th:only-of-type {\n",
       "        vertical-align: middle;\n",
       "    }\n",
       "\n",
       "    .dataframe tbody tr th {\n",
       "        vertical-align: top;\n",
       "    }\n",
       "\n",
       "    .dataframe thead th {\n",
       "        text-align: right;\n",
       "    }\n",
       "</style>\n",
       "<table border=\"1\" class=\"dataframe\">\n",
       "  <thead>\n",
       "    <tr style=\"text-align: right;\">\n",
       "      <th></th>\n",
       "      <th>Commenter name</th>\n",
       "      <th>Comment</th>\n",
       "      <th>Comment Upvote</th>\n",
       "      <th>Comment Time</th>\n",
       "    </tr>\n",
       "  </thead>\n",
       "  <tbody>\n",
       "    <tr>\n",
       "      <th>0</th>\n",
       "      <td></td>\n",
       "      <td>“UNESCO has declared Ananya Pandey as the best...</td>\n",
       "      <td>76K</td>\n",
       "      <td>3 years ago</td>\n",
       "    </tr>\n",
       "    <tr>\n",
       "      <th>1</th>\n",
       "      <td>Yoga Nandan.v</td>\n",
       "      <td>Most innocent dad of the decade goes to Bablu ...</td>\n",
       "      <td>2.2K</td>\n",
       "      <td>1 year ago</td>\n",
       "    </tr>\n",
       "    <tr>\n",
       "      <th>2</th>\n",
       "      <td>stkhlom....</td>\n",
       "      <td>Sameer is the best character would love to see...</td>\n",
       "      <td>5.5K</td>\n",
       "      <td>2 years ago</td>\n",
       "    </tr>\n",
       "    <tr>\n",
       "      <th>3</th>\n",
       "      <td>DivineAish</td>\n",
       "      <td>Already watched these episodes 20 times...... ...</td>\n",
       "      <td>947</td>\n",
       "      <td>1 year ago</td>\n",
       "    </tr>\n",
       "    <tr>\n",
       "      <th>4</th>\n",
       "      <td>Rahul Kore</td>\n",
       "      <td>This was really very smart content. Making peo...</td>\n",
       "      <td>3K</td>\n",
       "      <td>3 years ago</td>\n",
       "    </tr>\n",
       "    <tr>\n",
       "      <th>...</th>\n",
       "      <td>...</td>\n",
       "      <td>...</td>\n",
       "      <td>...</td>\n",
       "      <td>...</td>\n",
       "    </tr>\n",
       "    <tr>\n",
       "      <th>495</th>\n",
       "      <td>LUCY XD</td>\n",
       "      <td>Aalu bala BINGO ka add most irritating during ...</td>\n",
       "      <td>1</td>\n",
       "      <td>1 year ago</td>\n",
       "    </tr>\n",
       "    <tr>\n",
       "      <th>496</th>\n",
       "      <td>Sweta Singh</td>\n",
       "      <td>Bro love your work and the motive behind this ...</td>\n",
       "      <td></td>\n",
       "      <td>3 years ago</td>\n",
       "    </tr>\n",
       "    <tr>\n",
       "      <th>497</th>\n",
       "      <td>Fame gamer</td>\n",
       "      <td>0:40 in this video best part \\n</td>\n",
       "      <td></td>\n",
       "      <td>4 months ago</td>\n",
       "    </tr>\n",
       "    <tr>\n",
       "      <th>498</th>\n",
       "      <td>ritu rajwar</td>\n",
       "      <td>UNESCO has declared\"heni heni hen se majja lo\"...</td>\n",
       "      <td>127</td>\n",
       "      <td>3 years ago (edited)</td>\n",
       "    </tr>\n",
       "    <tr>\n",
       "      <th>499</th>\n",
       "      <td>Abdul Shazif</td>\n",
       "      <td>You are #7 on trending in Pakistan 🇵🇰. Lots of...</td>\n",
       "      <td></td>\n",
       "      <td>3 years ago</td>\n",
       "    </tr>\n",
       "  </tbody>\n",
       "</table>\n",
       "<p>500 rows × 4 columns</p>\n",
       "</div>"
      ],
      "text/plain": [
       "    Commenter name                                            Comment  \\\n",
       "0                   “UNESCO has declared Ananya Pandey as the best...   \n",
       "1    Yoga Nandan.v  Most innocent dad of the decade goes to Bablu ...   \n",
       "2      stkhlom....  Sameer is the best character would love to see...   \n",
       "3       DivineAish  Already watched these episodes 20 times...... ...   \n",
       "4       Rahul Kore  This was really very smart content. Making peo...   \n",
       "..             ...                                                ...   \n",
       "495        LUCY XD  Aalu bala BINGO ka add most irritating during ...   \n",
       "496    Sweta Singh  Bro love your work and the motive behind this ...   \n",
       "497     Fame gamer              0:40 in this video best part \\n         \n",
       "498    ritu rajwar  UNESCO has declared\"heni heni hen se majja lo\"...   \n",
       "499   Abdul Shazif  You are #7 on trending in Pakistan 🇵🇰. Lots of...   \n",
       "\n",
       "    Comment Upvote          Comment Time  \n",
       "0              76K           3 years ago  \n",
       "1             2.2K            1 year ago  \n",
       "2             5.5K           2 years ago  \n",
       "3              947            1 year ago  \n",
       "4               3K           3 years ago  \n",
       "..             ...                   ...  \n",
       "495              1            1 year ago  \n",
       "496                          3 years ago  \n",
       "497                         4 months ago  \n",
       "498            127  3 years ago (edited)  \n",
       "499                          3 years ago  \n",
       "\n",
       "[500 rows x 4 columns]"
      ]
     },
     "execution_count": 24,
     "metadata": {},
     "output_type": "execute_result"
    }
   ],
   "source": [
    "youtube"
   ]
  },
  {
   "cell_type": "code",
   "execution_count": null,
   "id": "3602df67",
   "metadata": {},
   "outputs": [],
   "source": []
  },
  {
   "cell_type": "markdown",
   "id": "d39c8a84",
   "metadata": {},
   "source": [
    "Write a python program to scrape a data for all available Hostels from https://www.hostelworld.com/ in “London” location. You have to scrape hostel name, distance from city centre, ratings, total reviews, overall reviews, privates from price, dorms from price, facilities and property description"
   ]
  },
  {
   "cell_type": "code",
   "execution_count": 30,
   "id": "360882c6",
   "metadata": {},
   "outputs": [],
   "source": [
    "driver = webdriver.Chrome(r'chromedriver.exe')"
   ]
  },
  {
   "cell_type": "code",
   "execution_count": 31,
   "id": "eeccd7c9",
   "metadata": {},
   "outputs": [],
   "source": [
    "driver.get(\"https://www.hostelworld.com/\")"
   ]
  },
  {
   "cell_type": "code",
   "execution_count": 34,
   "id": "cbce66e1",
   "metadata": {},
   "outputs": [],
   "source": [
    "srch = driver.find_element(By.XPATH,'/html/body/div[3]/div/div/div[2]/div[2]/div/div/div[4]/div/div[2]/div/div[1]/div/div/div/input')\n",
    "srch.send_keys('london')"
   ]
  },
  {
   "cell_type": "code",
   "execution_count": null,
   "id": "7bb13549",
   "metadata": {},
   "outputs": [],
   "source": []
  },
  {
   "cell_type": "code",
   "execution_count": 35,
   "id": "ab3f86f0",
   "metadata": {},
   "outputs": [],
   "source": [
    "srch_loc = driver.find_element(By.XPATH,'/html/body/div[3]/div/div/div[2]/div[2]/div/div/div[4]/div/div[2]/div/div[1]/div/div/ul/li[2]')\n",
    "srch_loc.click()"
   ]
  },
  {
   "cell_type": "code",
   "execution_count": 36,
   "id": "a2784d87",
   "metadata": {},
   "outputs": [],
   "source": [
    "submit = driver.find_element(By.XPATH,'/html/body/div[3]/div/div/div[2]/div[2]/div/div/div[4]/div/div[2]/div/div[5]/button')\n",
    "submit.click()"
   ]
  },
  {
   "cell_type": "code",
   "execution_count": 37,
   "id": "1c126328",
   "metadata": {},
   "outputs": [],
   "source": [
    "name = []"
   ]
  },
  {
   "cell_type": "code",
   "execution_count": 38,
   "id": "957f9ca8",
   "metadata": {},
   "outputs": [],
   "source": [
    "names = driver.find_elements(By.XPATH,'//div[@class=\"property-name\"]')\n",
    "for i in names[1:]:\n",
    "    name.append(i.text)"
   ]
  },
  {
   "cell_type": "code",
   "execution_count": 39,
   "id": "88e6fbb9",
   "metadata": {},
   "outputs": [
    {
     "name": "stdout",
     "output_type": "stream",
     "text": [
      "30\n"
     ]
    }
   ],
   "source": [
    "print(len(name))"
   ]
  },
  {
   "cell_type": "code",
   "execution_count": 40,
   "id": "e1506bcf",
   "metadata": {},
   "outputs": [],
   "source": [
    "distance = []\n",
    "\n",
    "dist = driver.find_elements(By.XPATH,'//span[@class=\"distance-description\"]')\n",
    "for i in dist:\n",
    "    distance.append(i.text)"
   ]
  },
  {
   "cell_type": "code",
   "execution_count": 41,
   "id": "a1c85de8",
   "metadata": {},
   "outputs": [
    {
     "name": "stdout",
     "output_type": "stream",
     "text": [
      "30\n"
     ]
    }
   ],
   "source": [
    "print(len(distance))"
   ]
  },
  {
   "cell_type": "code",
   "execution_count": 42,
   "id": "f261db86",
   "metadata": {},
   "outputs": [],
   "source": [
    "url = []\n",
    "urls = driver.find_elements(By.XPATH,'//a[@class=\"property-card-container horizontal\"]')\n",
    "for i in urls:\n",
    "    url.append(i.get_attribute(\"href\"))"
   ]
  },
  {
   "cell_type": "code",
   "execution_count": 43,
   "id": "95c975a9",
   "metadata": {},
   "outputs": [
    {
     "name": "stdout",
     "output_type": "stream",
     "text": [
      "30\n"
     ]
    }
   ],
   "source": [
    "print(len(url))"
   ]
  },
  {
   "cell_type": "code",
   "execution_count": 15,
   "id": "7310136a",
   "metadata": {},
   "outputs": [],
   "source": [
    "ratings = []\n",
    "for i in url:\n",
    "    driver.get(i)\n",
    "    time.sleep(3)\n",
    "    try:\n",
    "        rating = driver.find_element(By.XPATH,'/html/body/div[3]/div/div/div[2]/section/div[6]/div/div[1]/div[1]/div[1]')\n",
    "        ratings.append(rating.text)\n",
    "    except:\n",
    "        ratings.append(\"-\")\n",
    "        "
   ]
  },
  {
   "cell_type": "code",
   "execution_count": 16,
   "id": "8905ebc1",
   "metadata": {},
   "outputs": [
    {
     "name": "stdout",
     "output_type": "stream",
     "text": [
      "30\n"
     ]
    }
   ],
   "source": [
    "print(len(ratings))"
   ]
  },
  {
   "cell_type": "code",
   "execution_count": 23,
   "id": "6da154f2",
   "metadata": {},
   "outputs": [],
   "source": [
    "reviews = []\n",
    "for i in url:\n",
    "    driver.get(i)\n",
    "    time.sleep(3)\n",
    "    try:\n",
    "        rev = driver.find_element(By.XPATH,'/html/body/div[3]/div/div/div[2]/section/div[6]/div/div[1]/div[1]/div[2]/div[2]')\n",
    "        reviews.append(rev.text.split(\" \")[0])\n",
    "    except:\n",
    "        reviews.append(\"-\")"
   ]
  },
  {
   "cell_type": "code",
   "execution_count": 24,
   "id": "2ed80246",
   "metadata": {},
   "outputs": [
    {
     "data": {
      "text/plain": [
       "['4463',\n",
       " '2032',\n",
       " '770',\n",
       " '300',\n",
       " '4110',\n",
       " '337',\n",
       " '1254',\n",
       " '49',\n",
       " '1519',\n",
       " '1882',\n",
       " '12132',\n",
       " '1076',\n",
       " '189',\n",
       " '4241',\n",
       " '11',\n",
       " '393',\n",
       " '14857',\n",
       " '7486',\n",
       " '4946',\n",
       " '3346',\n",
       " '4007',\n",
       " '3710',\n",
       " '2534',\n",
       " '447',\n",
       " '-',\n",
       " '265',\n",
       " '422',\n",
       " '9',\n",
       " '128',\n",
       " '1383']"
      ]
     },
     "execution_count": 24,
     "metadata": {},
     "output_type": "execute_result"
    }
   ],
   "source": [
    "reviews"
   ]
  },
  {
   "cell_type": "code",
   "execution_count": 26,
   "id": "93cbbaf8",
   "metadata": {},
   "outputs": [],
   "source": [
    "ovr_reviews = []"
   ]
  },
  {
   "cell_type": "code",
   "execution_count": 28,
   "id": "b093c3ae",
   "metadata": {},
   "outputs": [],
   "source": [
    "for i in url:\n",
    "    driver.get(i)\n",
    "    time.sleep(3)\n",
    "    try:\n",
    "        ovr_rev = driver.find_element(By.XPATH,'/html/body/div[3]/div/div/div[2]/section/div[6]/div/div[1]/div[1]/div[2]/div[1]/span')\n",
    "        ovr_reviews.append(ovr_rev.text)\n",
    "    except:\n",
    "        ovr_reviews.append(\"-\")"
   ]
  },
  {
   "cell_type": "code",
   "execution_count": 63,
   "id": "a16ead50",
   "metadata": {},
   "outputs": [
    {
     "data": {
      "text/plain": [
       "['Very Good',\n",
       " 'Superb',\n",
       " 'Superb',\n",
       " 'Very Good',\n",
       " 'Very Good',\n",
       " 'Very Good',\n",
       " 'Very Good',\n",
       " 'Superb',\n",
       " 'Very Good',\n",
       " 'Very Good',\n",
       " 'Very Good',\n",
       " 'Very Good',\n",
       " 'Very Good',\n",
       " 'Very Good',\n",
       " 'Fabulous',\n",
       " 'Very Good',\n",
       " 'Superb',\n",
       " 'Very Good',\n",
       " 'Very Good',\n",
       " 'Very Good',\n",
       " 'Rating',\n",
       " 'Rating',\n",
       " 'Rating',\n",
       " 'Rating',\n",
       " '-',\n",
       " 'Rating',\n",
       " 'Fabulous',\n",
       " 'Good',\n",
       " 'Very Good',\n",
       " 'Superb']"
      ]
     },
     "execution_count": 63,
     "metadata": {},
     "output_type": "execute_result"
    }
   ],
   "source": [
    "ovr_reviews #/html/body/div[3]/div/div/div[2]/section/div[8]/div/div/section/div/div/div[2]/div[2]/div[1]/div[2]/div[1]/div/div[1]/div[2]/div[1]"
   ]
  },
  {
   "cell_type": "code",
   "execution_count": 67,
   "id": "edc0cc2f",
   "metadata": {},
   "outputs": [],
   "source": [
    "private = [] #/html/body/div[3]/div/div/div[2]/section/div[6]/div/div[2]/div/div/div[2]"
   ]
  },
  {
   "cell_type": "code",
   "execution_count": 68,
   "id": "2e2fb450",
   "metadata": {},
   "outputs": [],
   "source": [
    "for i in url:\n",
    "    driver.get(i)\n",
    "    time.sleep(3)\n",
    "    try:\n",
    "        pri_f = driver.find_element(By.XPATH,'/html/body/div[3]/div/div/div[2]/section/div[8]/div/div/section/div/div/div[3]/div[2]/div[1]/div[2]/div/div/div[1]/div[1]/div')\n",
    "        private.append(pri_f.text)\n",
    "    except:\n",
    "        private.append(\"-\")"
   ]
  },
  {
   "cell_type": "code",
   "execution_count": 69,
   "id": "710f22fb",
   "metadata": {},
   "outputs": [
    {
     "data": {
      "text/plain": [
       "['-20%',\n",
       " '-',\n",
       " '-',\n",
       " 'Rs16130.78',\n",
       " 'Rs3588.42',\n",
       " '-',\n",
       " '-',\n",
       " '-',\n",
       " 'Rs1722.19',\n",
       " '-',\n",
       " '-',\n",
       " 'Rs4421.54',\n",
       " '-',\n",
       " '-',\n",
       " 'Rs9408.84',\n",
       " '-',\n",
       " 'Rs2935.60',\n",
       " '-10%',\n",
       " '-',\n",
       " '-',\n",
       " 'Rs4525.16',\n",
       " 'Rs15162.95',\n",
       " 'Rs21415.48',\n",
       " 'Rs5181.08',\n",
       " '-',\n",
       " '-',\n",
       " '-',\n",
       " 'Rs10224.35',\n",
       " '-30%',\n",
       " 'Rs9809.86']"
      ]
     },
     "execution_count": 69,
     "metadata": {},
     "output_type": "execute_result"
    }
   ],
   "source": [
    "private"
   ]
  },
  {
   "cell_type": "code",
   "execution_count": 70,
   "id": "79b23610",
   "metadata": {},
   "outputs": [],
   "source": [
    "property_desc = []"
   ]
  },
  {
   "cell_type": "code",
   "execution_count": 71,
   "id": "0a7c28a5",
   "metadata": {},
   "outputs": [],
   "source": [
    "for i in url:\n",
    "    driver.get(i)\n",
    "    time.sleep(3)\n",
    "    try:\n",
    "        pro = driver.find_element(By.XPATH,'/html/body/div[3]/div/div/div[2]/section/div[8]/div/div/section/div/div/div[3]/div[2]/div[1]/div[2]/div/div/div[1]/div[1]/div')\n",
    "        property_desc.append(pro.text)\n",
    "    except:\n",
    "        property_desc.append(\"-\")"
   ]
  },
  {
   "cell_type": "code",
   "execution_count": 73,
   "id": "176609ec",
   "metadata": {},
   "outputs": [
    {
     "name": "stdout",
     "output_type": "stream",
     "text": [
      "30 30 30 30 30 30 30\n"
     ]
    }
   ],
   "source": [
    "print(len(name),len(distance),len(ratings),len(reviews),len(ovr_reviews),len(private),len(property_desc))"
   ]
  },
  {
   "cell_type": "code",
   "execution_count": 74,
   "id": "4139d47f",
   "metadata": {},
   "outputs": [],
   "source": [
    "df = pd.DataFrame({\"Nane\":name, \"Distance From City Centre\":distance, \"Ratings\":ratings, \"Total Reviews\":reviews, \"Overall Reviews\":ovr_reviews, \"Privates From Price\":private, \"Property Description\":property_desc})"
   ]
  },
  {
   "cell_type": "code",
   "execution_count": 75,
   "id": "cc00dcbf",
   "metadata": {},
   "outputs": [
    {
     "data": {
      "text/html": [
       "<div>\n",
       "<style scoped>\n",
       "    .dataframe tbody tr th:only-of-type {\n",
       "        vertical-align: middle;\n",
       "    }\n",
       "\n",
       "    .dataframe tbody tr th {\n",
       "        vertical-align: top;\n",
       "    }\n",
       "\n",
       "    .dataframe thead th {\n",
       "        text-align: right;\n",
       "    }\n",
       "</style>\n",
       "<table border=\"1\" class=\"dataframe\">\n",
       "  <thead>\n",
       "    <tr style=\"text-align: right;\">\n",
       "      <th></th>\n",
       "      <th>Nane</th>\n",
       "      <th>Distance From City Centre</th>\n",
       "      <th>Ratings</th>\n",
       "      <th>Total Reviews</th>\n",
       "      <th>Overall Reviews</th>\n",
       "      <th>Privates From Price</th>\n",
       "      <th>Property Description</th>\n",
       "    </tr>\n",
       "  </thead>\n",
       "  <tbody>\n",
       "    <tr>\n",
       "      <th>0</th>\n",
       "      <td>Wombat's City Hostel London</td>\n",
       "      <td>- 3.6km from city centre</td>\n",
       "      <td>7.8</td>\n",
       "      <td>4463</td>\n",
       "      <td>Very Good</td>\n",
       "      <td>-20%</td>\n",
       "      <td>-20%</td>\n",
       "    </tr>\n",
       "    <tr>\n",
       "      <th>1</th>\n",
       "      <td>Onefam Notting Hill by Hostel One</td>\n",
       "      <td>- 5.5km from city centre</td>\n",
       "      <td>9.6</td>\n",
       "      <td>2032</td>\n",
       "      <td>Superb</td>\n",
       "      <td>-</td>\n",
       "      <td>-</td>\n",
       "    </tr>\n",
       "    <tr>\n",
       "      <th>2</th>\n",
       "      <td>St Christopher's Village</td>\n",
       "      <td>- 1.8km from city centre</td>\n",
       "      <td>9.4</td>\n",
       "      <td>770</td>\n",
       "      <td>Superb</td>\n",
       "      <td>-</td>\n",
       "      <td>-</td>\n",
       "    </tr>\n",
       "    <tr>\n",
       "      <th>3</th>\n",
       "      <td>Urbany Hostel London</td>\n",
       "      <td>- 5.4km from city centre</td>\n",
       "      <td>7.6</td>\n",
       "      <td>300</td>\n",
       "      <td>Very Good</td>\n",
       "      <td>Rs16130.78</td>\n",
       "      <td>Rs16130.78</td>\n",
       "    </tr>\n",
       "    <tr>\n",
       "      <th>4</th>\n",
       "      <td>Generator London</td>\n",
       "      <td>- 3km from city centre</td>\n",
       "      <td>7.7</td>\n",
       "      <td>4110</td>\n",
       "      <td>Very Good</td>\n",
       "      <td>Rs3588.42</td>\n",
       "      <td>Rs3588.42</td>\n",
       "    </tr>\n",
       "    <tr>\n",
       "      <th>5</th>\n",
       "      <td>Safestay London Elephant &amp; Castle</td>\n",
       "      <td>- 1.7km from city centre</td>\n",
       "      <td>7.5</td>\n",
       "      <td>337</td>\n",
       "      <td>Very Good</td>\n",
       "      <td>-</td>\n",
       "      <td>-</td>\n",
       "    </tr>\n",
       "    <tr>\n",
       "      <th>6</th>\n",
       "      <td>Phoenix Hostel</td>\n",
       "      <td>- 4.2km from city centre</td>\n",
       "      <td>7.1</td>\n",
       "      <td>1254</td>\n",
       "      <td>Very Good</td>\n",
       "      <td>-</td>\n",
       "      <td>-</td>\n",
       "    </tr>\n",
       "    <tr>\n",
       "      <th>7</th>\n",
       "      <td>Safestay London Kensington Holland Park</td>\n",
       "      <td>- 5.8km from city centre</td>\n",
       "      <td>9.2</td>\n",
       "      <td>49</td>\n",
       "      <td>Superb</td>\n",
       "      <td>-</td>\n",
       "      <td>-</td>\n",
       "    </tr>\n",
       "    <tr>\n",
       "      <th>8</th>\n",
       "      <td>No.8 Seven Sisters</td>\n",
       "      <td>- 9km from city centre</td>\n",
       "      <td>7.1</td>\n",
       "      <td>1519</td>\n",
       "      <td>Very Good</td>\n",
       "      <td>Rs1722.19</td>\n",
       "      <td>Rs1722.19</td>\n",
       "    </tr>\n",
       "    <tr>\n",
       "      <th>9</th>\n",
       "      <td>London Backpackers</td>\n",
       "      <td>- 11.9km from city centre</td>\n",
       "      <td>7.6</td>\n",
       "      <td>1882</td>\n",
       "      <td>Very Good</td>\n",
       "      <td>-</td>\n",
       "      <td>-</td>\n",
       "    </tr>\n",
       "    <tr>\n",
       "      <th>10</th>\n",
       "      <td>St Christopher's Hammersmith</td>\n",
       "      <td>- 7.5km from city centre</td>\n",
       "      <td>7.9</td>\n",
       "      <td>12132</td>\n",
       "      <td>Very Good</td>\n",
       "      <td>-</td>\n",
       "      <td>-</td>\n",
       "    </tr>\n",
       "    <tr>\n",
       "      <th>11</th>\n",
       "      <td>PubLove @ The Steam Engine, Waterloo</td>\n",
       "      <td>- 0.5km from city centre</td>\n",
       "      <td>7.0</td>\n",
       "      <td>1076</td>\n",
       "      <td>Very Good</td>\n",
       "      <td>Rs4421.54</td>\n",
       "      <td>Rs4421.54</td>\n",
       "    </tr>\n",
       "    <tr>\n",
       "      <th>12</th>\n",
       "      <td>St Christopher's Greenwich</td>\n",
       "      <td>- 7.6km from city centre</td>\n",
       "      <td>7.5</td>\n",
       "      <td>189</td>\n",
       "      <td>Very Good</td>\n",
       "      <td>-</td>\n",
       "      <td>-</td>\n",
       "    </tr>\n",
       "    <tr>\n",
       "      <th>13</th>\n",
       "      <td>Saint James Backpackers</td>\n",
       "      <td>- 5.5km from city centre</td>\n",
       "      <td>7.6</td>\n",
       "      <td>4241</td>\n",
       "      <td>Very Good</td>\n",
       "      <td>-</td>\n",
       "      <td>-</td>\n",
       "    </tr>\n",
       "    <tr>\n",
       "      <th>14</th>\n",
       "      <td>Selina Camden</td>\n",
       "      <td>- 5.5km from city centre</td>\n",
       "      <td>8.7</td>\n",
       "      <td>11</td>\n",
       "      <td>Fabulous</td>\n",
       "      <td>Rs9408.84</td>\n",
       "      <td>Rs9408.84</td>\n",
       "    </tr>\n",
       "    <tr>\n",
       "      <th>15</th>\n",
       "      <td>Kensal Green Backpackers</td>\n",
       "      <td>- 8.2km from city centre</td>\n",
       "      <td>7.9</td>\n",
       "      <td>393</td>\n",
       "      <td>Very Good</td>\n",
       "      <td>-</td>\n",
       "      <td>-</td>\n",
       "    </tr>\n",
       "    <tr>\n",
       "      <th>16</th>\n",
       "      <td>PubLove @ The Crown, Battersea</td>\n",
       "      <td>- 4.7km from city centre</td>\n",
       "      <td>9.1</td>\n",
       "      <td>14857</td>\n",
       "      <td>Superb</td>\n",
       "      <td>Rs2935.60</td>\n",
       "      <td>Rs2935.60</td>\n",
       "    </tr>\n",
       "    <tr>\n",
       "      <th>17</th>\n",
       "      <td>Book a Bed Hostels</td>\n",
       "      <td>- 6.9km from city centre</td>\n",
       "      <td>7.6</td>\n",
       "      <td>7486</td>\n",
       "      <td>Very Good</td>\n",
       "      <td>-10%</td>\n",
       "      <td>-10%</td>\n",
       "    </tr>\n",
       "    <tr>\n",
       "      <th>18</th>\n",
       "      <td>PubLove @ The White Ferry, Victoria</td>\n",
       "      <td>- 2.4km from city centre</td>\n",
       "      <td>7.6</td>\n",
       "      <td>4946</td>\n",
       "      <td>Very Good</td>\n",
       "      <td>-</td>\n",
       "      <td>-</td>\n",
       "    </tr>\n",
       "    <tr>\n",
       "      <th>19</th>\n",
       "      <td>Hostelle London</td>\n",
       "      <td>- 5.1km from city centre</td>\n",
       "      <td>7.5</td>\n",
       "      <td>3346</td>\n",
       "      <td>Very Good</td>\n",
       "      <td>-</td>\n",
       "      <td>-</td>\n",
       "    </tr>\n",
       "    <tr>\n",
       "      <th>20</th>\n",
       "      <td>PubLove @ The Rose &amp; Crown</td>\n",
       "      <td>- 1.6km from city centre</td>\n",
       "      <td>5.8</td>\n",
       "      <td>4007</td>\n",
       "      <td>Rating</td>\n",
       "      <td>Rs4525.16</td>\n",
       "      <td>Rs4525.16</td>\n",
       "    </tr>\n",
       "    <tr>\n",
       "      <th>21</th>\n",
       "      <td>Tony's House Hotel</td>\n",
       "      <td>- 4.3km from city centre</td>\n",
       "      <td>5.6</td>\n",
       "      <td>3710</td>\n",
       "      <td>Rating</td>\n",
       "      <td>Rs15162.95</td>\n",
       "      <td>Rs15162.95</td>\n",
       "    </tr>\n",
       "    <tr>\n",
       "      <th>22</th>\n",
       "      <td>Elmwood Hotel</td>\n",
       "      <td>- 3.2km from city centre</td>\n",
       "      <td>5.3</td>\n",
       "      <td>2534</td>\n",
       "      <td>Rating</td>\n",
       "      <td>Rs21415.48</td>\n",
       "      <td>Rs21415.48</td>\n",
       "    </tr>\n",
       "    <tr>\n",
       "      <th>23</th>\n",
       "      <td>PubLove @ The Exmouth Arms, Euston</td>\n",
       "      <td>- 3.4km from city centre</td>\n",
       "      <td>5.8</td>\n",
       "      <td>447</td>\n",
       "      <td>Rating</td>\n",
       "      <td>Rs5181.08</td>\n",
       "      <td>Rs5181.08</td>\n",
       "    </tr>\n",
       "    <tr>\n",
       "      <th>24</th>\n",
       "      <td>London Waterloo Hostel</td>\n",
       "      <td>- 0.7km from city centre</td>\n",
       "      <td>No Rating\\n0 Total Reviews</td>\n",
       "      <td>-</td>\n",
       "      <td>-</td>\n",
       "      <td>-</td>\n",
       "      <td>-</td>\n",
       "    </tr>\n",
       "    <tr>\n",
       "      <th>25</th>\n",
       "      <td>PubLove @ The Green Man, Paddington</td>\n",
       "      <td>- 4.3km from city centre</td>\n",
       "      <td>4.1</td>\n",
       "      <td>265</td>\n",
       "      <td>Rating</td>\n",
       "      <td>-</td>\n",
       "      <td>-</td>\n",
       "    </tr>\n",
       "    <tr>\n",
       "      <th>26</th>\n",
       "      <td>Beaconsfield</td>\n",
       "      <td>- 8.6km from city centre</td>\n",
       "      <td>8.2</td>\n",
       "      <td>422</td>\n",
       "      <td>Fabulous</td>\n",
       "      <td>-</td>\n",
       "      <td>-</td>\n",
       "    </tr>\n",
       "    <tr>\n",
       "      <th>27</th>\n",
       "      <td>Colliers Hotel</td>\n",
       "      <td>- 2.1km from city centre</td>\n",
       "      <td>6.3</td>\n",
       "      <td>9</td>\n",
       "      <td>Good</td>\n",
       "      <td>Rs10224.35</td>\n",
       "      <td>Rs10224.35</td>\n",
       "    </tr>\n",
       "    <tr>\n",
       "      <th>28</th>\n",
       "      <td>London House Hotel</td>\n",
       "      <td>- 5.3km from city centre</td>\n",
       "      <td>7.7</td>\n",
       "      <td>128</td>\n",
       "      <td>Very Good</td>\n",
       "      <td>-30%</td>\n",
       "      <td>-30%</td>\n",
       "    </tr>\n",
       "    <tr>\n",
       "      <th>29</th>\n",
       "      <td>Litsa's Central Studios</td>\n",
       "      <td>- 4.3km from city centre</td>\n",
       "      <td>10</td>\n",
       "      <td>1383</td>\n",
       "      <td>Superb</td>\n",
       "      <td>Rs9809.86</td>\n",
       "      <td>Rs9809.86</td>\n",
       "    </tr>\n",
       "  </tbody>\n",
       "</table>\n",
       "</div>"
      ],
      "text/plain": [
       "                                       Nane  Distance From City Centre  \\\n",
       "0               Wombat's City Hostel London   - 3.6km from city centre   \n",
       "1         Onefam Notting Hill by Hostel One   - 5.5km from city centre   \n",
       "2                  St Christopher's Village   - 1.8km from city centre   \n",
       "3                      Urbany Hostel London   - 5.4km from city centre   \n",
       "4                          Generator London     - 3km from city centre   \n",
       "5         Safestay London Elephant & Castle   - 1.7km from city centre   \n",
       "6                            Phoenix Hostel   - 4.2km from city centre   \n",
       "7   Safestay London Kensington Holland Park   - 5.8km from city centre   \n",
       "8                        No.8 Seven Sisters     - 9km from city centre   \n",
       "9                        London Backpackers  - 11.9km from city centre   \n",
       "10             St Christopher's Hammersmith   - 7.5km from city centre   \n",
       "11     PubLove @ The Steam Engine, Waterloo   - 0.5km from city centre   \n",
       "12               St Christopher's Greenwich   - 7.6km from city centre   \n",
       "13                  Saint James Backpackers   - 5.5km from city centre   \n",
       "14                            Selina Camden   - 5.5km from city centre   \n",
       "15                 Kensal Green Backpackers   - 8.2km from city centre   \n",
       "16           PubLove @ The Crown, Battersea   - 4.7km from city centre   \n",
       "17                       Book a Bed Hostels   - 6.9km from city centre   \n",
       "18      PubLove @ The White Ferry, Victoria   - 2.4km from city centre   \n",
       "19                          Hostelle London   - 5.1km from city centre   \n",
       "20               PubLove @ The Rose & Crown   - 1.6km from city centre   \n",
       "21                       Tony's House Hotel   - 4.3km from city centre   \n",
       "22                            Elmwood Hotel   - 3.2km from city centre   \n",
       "23       PubLove @ The Exmouth Arms, Euston   - 3.4km from city centre   \n",
       "24                   London Waterloo Hostel   - 0.7km from city centre   \n",
       "25      PubLove @ The Green Man, Paddington   - 4.3km from city centre   \n",
       "26                             Beaconsfield   - 8.6km from city centre   \n",
       "27                           Colliers Hotel   - 2.1km from city centre   \n",
       "28                       London House Hotel   - 5.3km from city centre   \n",
       "29                  Litsa's Central Studios   - 4.3km from city centre   \n",
       "\n",
       "                       Ratings Total Reviews Overall Reviews  \\\n",
       "0                          7.8          4463       Very Good   \n",
       "1                          9.6          2032          Superb   \n",
       "2                          9.4           770          Superb   \n",
       "3                          7.6           300       Very Good   \n",
       "4                          7.7          4110       Very Good   \n",
       "5                          7.5           337       Very Good   \n",
       "6                          7.1          1254       Very Good   \n",
       "7                          9.2            49          Superb   \n",
       "8                          7.1          1519       Very Good   \n",
       "9                          7.6          1882       Very Good   \n",
       "10                         7.9         12132       Very Good   \n",
       "11                         7.0          1076       Very Good   \n",
       "12                         7.5           189       Very Good   \n",
       "13                         7.6          4241       Very Good   \n",
       "14                         8.7            11        Fabulous   \n",
       "15                         7.9           393       Very Good   \n",
       "16                         9.1         14857          Superb   \n",
       "17                         7.6          7486       Very Good   \n",
       "18                         7.6          4946       Very Good   \n",
       "19                         7.5          3346       Very Good   \n",
       "20                         5.8          4007          Rating   \n",
       "21                         5.6          3710          Rating   \n",
       "22                         5.3          2534          Rating   \n",
       "23                         5.8           447          Rating   \n",
       "24  No Rating\\n0 Total Reviews             -               -   \n",
       "25                         4.1           265          Rating   \n",
       "26                         8.2           422        Fabulous   \n",
       "27                         6.3             9            Good   \n",
       "28                         7.7           128       Very Good   \n",
       "29                          10          1383          Superb   \n",
       "\n",
       "   Privates From Price Property Description  \n",
       "0                 -20%                 -20%  \n",
       "1                    -                    -  \n",
       "2                    -                    -  \n",
       "3           Rs16130.78           Rs16130.78  \n",
       "4            Rs3588.42            Rs3588.42  \n",
       "5                    -                    -  \n",
       "6                    -                    -  \n",
       "7                    -                    -  \n",
       "8            Rs1722.19            Rs1722.19  \n",
       "9                    -                    -  \n",
       "10                   -                    -  \n",
       "11           Rs4421.54            Rs4421.54  \n",
       "12                   -                    -  \n",
       "13                   -                    -  \n",
       "14           Rs9408.84            Rs9408.84  \n",
       "15                   -                    -  \n",
       "16           Rs2935.60            Rs2935.60  \n",
       "17                -10%                 -10%  \n",
       "18                   -                    -  \n",
       "19                   -                    -  \n",
       "20           Rs4525.16            Rs4525.16  \n",
       "21          Rs15162.95           Rs15162.95  \n",
       "22          Rs21415.48           Rs21415.48  \n",
       "23           Rs5181.08            Rs5181.08  \n",
       "24                   -                    -  \n",
       "25                   -                    -  \n",
       "26                   -                    -  \n",
       "27          Rs10224.35           Rs10224.35  \n",
       "28                -30%                 -30%  \n",
       "29           Rs9809.86            Rs9809.86  "
      ]
     },
     "execution_count": 75,
     "metadata": {},
     "output_type": "execute_result"
    }
   ],
   "source": [
    "df"
   ]
  },
  {
   "cell_type": "code",
   "execution_count": null,
   "id": "28a04bdb",
   "metadata": {},
   "outputs": [],
   "source": []
  }
 ],
 "metadata": {
  "kernelspec": {
   "display_name": "Python 3 (ipykernel)",
   "language": "python",
   "name": "python3"
  },
  "language_info": {
   "codemirror_mode": {
    "name": "ipython",
    "version": 3
   },
   "file_extension": ".py",
   "mimetype": "text/x-python",
   "name": "python",
   "nbconvert_exporter": "python",
   "pygments_lexer": "ipython3",
   "version": "3.9.13"
  }
 },
 "nbformat": 4,
 "nbformat_minor": 5
}
